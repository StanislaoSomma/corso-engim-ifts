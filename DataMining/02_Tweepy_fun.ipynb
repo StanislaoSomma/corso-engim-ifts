{
 "cells": [
  {
   "cell_type": "markdown",
   "metadata": {},
   "source": [
    "## Da Twitter API a  Pandas Dataframe\n",
    "Creiamo e richiamamiamo una funzione che ci generi direttamente il nostro Pandas Dataframe\n",
    "\n",
    "### Opzionale:\n",
    "In questo Jupyter Noboot si è fatto uso di estensioni per splittare la riga.\n",
    "\n",
    "Potete leggere la dcocumentazione qui:  \n",
    "http://jupyter-contrib-nbextensions.readthedocs.io/en/latest \n",
    "\n",
    "Ed installarle in questo modo:   \n",
    "pip install jupyter_contrib_nbextension   \n",
    "jupyter-contrib nbextension install --sys-prefix   "
   ]
  },
  {
   "cell_type": "code",
   "execution_count": 1,
   "metadata": {
    "collapsed": true
   },
   "outputs": [],
   "source": [
    "import tweepy\n",
    "from textblob import TextBlob\n",
    "import csv\n",
    "\n",
    "import pandas as pd\n",
    "import matplotlib.pyplot as plt"
   ]
  },
  {
   "cell_type": "code",
   "execution_count": null,
   "metadata": {
    "collapsed": true
   },
   "outputs": [],
   "source": []
  },
  {
   "cell_type": "markdown",
   "metadata": {},
   "source": [
    "#### Salviamo i nostri dati e autentichiamoci"
   ]
  },
  {
   "cell_type": "code",
   "execution_count": 2,
   "metadata": {
    "collapsed": true
   },
   "outputs": [],
   "source": [
    "consumer_key = ' '\n",
    "consumer_secret = ' '\n",
    "\n",
    "access_token = ' '\n",
    "access_token_secret = ' '"
   ]
  },
  {
   "cell_type": "code",
   "execution_count": 3,
   "metadata": {
    "collapsed": true
   },
   "outputs": [],
   "source": [
    "auth = tweepy.OAuthHandler(consumer_key, consumer_secret)\n",
    "auth.set_access_token(access_token, access_token_secret)"
   ]
  },
  {
   "cell_type": "code",
   "execution_count": 4,
   "metadata": {
    "collapsed": true
   },
   "outputs": [],
   "source": [
    "api = tweepy.API(auth)"
   ]
  },
  {
   "cell_type": "code",
   "execution_count": null,
   "metadata": {
    "collapsed": true
   },
   "outputs": [],
   "source": []
  },
  {
   "cell_type": "markdown",
   "metadata": {},
   "source": [
    "#### Creaiamo la nostra funzione (userà il settaggio salvato in precedenza)"
   ]
  },
  {
   "cell_type": "code",
   "execution_count": 5,
   "metadata": {
    "collapsed": true
   },
   "outputs": [],
   "source": [
    "def pandas_from_hashtag(hashtag, n):\n",
    "    \"\"\"\n",
    "    This function create a DataFrame from the last n request via Twitter API for a specific hashtag\n",
    "    \n",
    "    Parameters\n",
    "    ----------\n",
    "    hashtag: str\n",
    "        The hashtag chosen to perform the API request.\n",
    "        \n",
    "    n : int\n",
    "        The numer of times the API request is performed.\n",
    "\n",
    "    Returns\n",
    "    -------\n",
    "    pandas.core.frame.DataFrame\n",
    "        The Pandas DataFrames contains the varables 'Date', 'Tweet', 'Polarity', and 'Subjectivity'. \n",
    "\n",
    "    \"\"\"\n",
    "    \n",
    "    # Twitter API requests\n",
    "    csvFile = open('result_%s.csv' %hashtag, 'a') # Open/create a file to append data to\n",
    "    csvWriter = csv.writer(csvFile) # Use csv writer\n",
    "\n",
    "    for i in range(n):\n",
    "        last_tweets = api.search('#%s' %hashtag) # Variable to store the tweets\n",
    "        for tweet in last_tweets:\n",
    "            text = TextBlob(tweet.text)\n",
    "            csvWriter.writerow([tweet.created_at, tweet.text, text.polarity, text.subjectivity])\n",
    "        \n",
    "    csvFile.close()\n",
    "    \n",
    "    # Creation of the Pandas DataFrame\n",
    "    df = pd.read_csv('result_%s.csv' %hashtag, header=None, names=['Date', 'Tweet', 'Polarity', 'Subjectivity'])\n",
    "\n",
    "    return df"
   ]
  },
  {
   "cell_type": "code",
   "execution_count": null,
   "metadata": {
    "collapsed": true
   },
   "outputs": [],
   "source": []
  },
  {
   "cell_type": "markdown",
   "metadata": {},
   "source": [
    "#### Richiamiamo la funzione per #joy"
   ]
  },
  {
   "cell_type": "code",
   "execution_count": 6,
   "metadata": {},
   "outputs": [
    {
     "data": {
      "text/html": [
       "<div>\n",
       "<style>\n",
       "    .dataframe thead tr:only-child th {\n",
       "        text-align: right;\n",
       "    }\n",
       "\n",
       "    .dataframe thead th {\n",
       "        text-align: left;\n",
       "    }\n",
       "\n",
       "    .dataframe tbody tr th {\n",
       "        vertical-align: top;\n",
       "    }\n",
       "</style>\n",
       "<table border=\"1\" class=\"dataframe\">\n",
       "  <thead>\n",
       "    <tr style=\"text-align: right;\">\n",
       "      <th></th>\n",
       "      <th>Date</th>\n",
       "      <th>Tweet</th>\n",
       "      <th>Polarity</th>\n",
       "      <th>Subjectivity</th>\n",
       "    </tr>\n",
       "  </thead>\n",
       "  <tbody>\n",
       "    <tr>\n",
       "      <th>0</th>\n",
       "      <td>2018-03-09 14:25:57</td>\n",
       "      <td>RT @SHVJOY: 💚#조이 #박수영 #JOY https://t.co/Ucpfcy...</td>\n",
       "      <td>0.8</td>\n",
       "      <td>0.2</td>\n",
       "    </tr>\n",
       "    <tr>\n",
       "      <th>1</th>\n",
       "      <td>2018-03-09 14:25:47</td>\n",
       "      <td>RT @RVsmtown: MBC 드라마 ‘#위대한유혹자’ #박수영 🌹\\n남녀노소 불...</td>\n",
       "      <td>0.8</td>\n",
       "      <td>0.2</td>\n",
       "    </tr>\n",
       "    <tr>\n",
       "      <th>2</th>\n",
       "      <td>2018-03-09 14:25:44</td>\n",
       "      <td>RT @WNCJOY: 180308 위대한유혹자 제작발표회\\n#조이 #레드벨벳 #박수...</td>\n",
       "      <td>0.8</td>\n",
       "      <td>0.2</td>\n",
       "    </tr>\n",
       "    <tr>\n",
       "      <th>3</th>\n",
       "      <td>2018-03-09 14:25:37</td>\n",
       "      <td>RT @RVsmtown: MBC 드라마 ‘#위대한유혹자’ #박수영 🌹\\n남녀노소 불...</td>\n",
       "      <td>0.8</td>\n",
       "      <td>0.2</td>\n",
       "    </tr>\n",
       "    <tr>\n",
       "      <th>4</th>\n",
       "      <td>2018-03-09 14:25:28</td>\n",
       "      <td>RT @RVsmtown: MBC 드라마 ‘#위대한유혹자’ #박수영 🌹\\n남녀노소 불...</td>\n",
       "      <td>0.8</td>\n",
       "      <td>0.2</td>\n",
       "    </tr>\n",
       "  </tbody>\n",
       "</table>\n",
       "</div>"
      ],
      "text/plain": [
       "                  Date                                              Tweet  \\\n",
       "0  2018-03-09 14:25:57  RT @SHVJOY: 💚#조이 #박수영 #JOY https://t.co/Ucpfcy...   \n",
       "1  2018-03-09 14:25:47  RT @RVsmtown: MBC 드라마 ‘#위대한유혹자’ #박수영 🌹\\n남녀노소 불...   \n",
       "2  2018-03-09 14:25:44  RT @WNCJOY: 180308 위대한유혹자 제작발표회\\n#조이 #레드벨벳 #박수...   \n",
       "3  2018-03-09 14:25:37  RT @RVsmtown: MBC 드라마 ‘#위대한유혹자’ #박수영 🌹\\n남녀노소 불...   \n",
       "4  2018-03-09 14:25:28  RT @RVsmtown: MBC 드라마 ‘#위대한유혹자’ #박수영 🌹\\n남녀노소 불...   \n",
       "\n",
       "   Polarity  Subjectivity  \n",
       "0       0.8           0.2  \n",
       "1       0.8           0.2  \n",
       "2       0.8           0.2  \n",
       "3       0.8           0.2  \n",
       "4       0.8           0.2  "
      ]
     },
     "execution_count": 6,
     "metadata": {},
     "output_type": "execute_result"
    }
   ],
   "source": [
    "df_joy = pandas_from_hashtag('joy', 10)\n",
    "df_joy.head()"
   ]
  },
  {
   "cell_type": "code",
   "execution_count": 7,
   "metadata": {},
   "outputs": [
    {
     "data": {
      "text/plain": [
       "(600, 4)"
      ]
     },
     "execution_count": 7,
     "metadata": {},
     "output_type": "execute_result"
    }
   ],
   "source": [
    "df_joy.shape"
   ]
  },
  {
   "cell_type": "code",
   "execution_count": 8,
   "metadata": {},
   "outputs": [
    {
     "name": "stdout",
     "output_type": "stream",
     "text": [
      "570 570\n"
     ]
    }
   ],
   "source": [
    "joy_pos = df_joy[df_joy['Polarity'] >= 0]\n",
    "print(joy_pos['Polarity'].count(), joy_pos['Polarity'].count())"
   ]
  },
  {
   "cell_type": "code",
   "execution_count": null,
   "metadata": {
    "collapsed": true
   },
   "outputs": [],
   "source": []
  },
  {
   "cell_type": "markdown",
   "metadata": {},
   "source": [
    "#### Richiamiamo la funzione per #hate"
   ]
  },
  {
   "cell_type": "code",
   "execution_count": 9,
   "metadata": {},
   "outputs": [
    {
     "data": {
      "text/html": [
       "<div>\n",
       "<style>\n",
       "    .dataframe thead tr:only-child th {\n",
       "        text-align: right;\n",
       "    }\n",
       "\n",
       "    .dataframe thead th {\n",
       "        text-align: left;\n",
       "    }\n",
       "\n",
       "    .dataframe tbody tr th {\n",
       "        vertical-align: top;\n",
       "    }\n",
       "</style>\n",
       "<table border=\"1\" class=\"dataframe\">\n",
       "  <thead>\n",
       "    <tr style=\"text-align: right;\">\n",
       "      <th></th>\n",
       "      <th>Date</th>\n",
       "      <th>Tweet</th>\n",
       "      <th>Polarity</th>\n",
       "      <th>Subjectivity</th>\n",
       "    </tr>\n",
       "  </thead>\n",
       "  <tbody>\n",
       "    <tr>\n",
       "      <th>0</th>\n",
       "      <td>2018-03-09 14:24:21</td>\n",
       "      <td>Blah, blah, blah, blah, blah...here’s an organ...</td>\n",
       "      <td>0.000000</td>\n",
       "      <td>1.000000</td>\n",
       "    </tr>\n",
       "    <tr>\n",
       "      <th>1</th>\n",
       "      <td>2018-03-09 14:23:26</td>\n",
       "      <td>RT @Dyke67ny: Never Ending Hate: Republicans l...</td>\n",
       "      <td>-0.800000</td>\n",
       "      <td>0.900000</td>\n",
       "    </tr>\n",
       "    <tr>\n",
       "      <th>2</th>\n",
       "      <td>2018-03-09 14:22:59</td>\n",
       "      <td>RT @CornellWBrooks: Thanks. You know the @NAAC...</td>\n",
       "      <td>-0.266667</td>\n",
       "      <td>0.400000</td>\n",
       "    </tr>\n",
       "    <tr>\n",
       "      <th>3</th>\n",
       "      <td>2018-03-09 14:15:02</td>\n",
       "      <td>CALLING ALL PEOPLE: Together, We Can Solve The...</td>\n",
       "      <td>0.000000</td>\n",
       "      <td>0.000000</td>\n",
       "    </tr>\n",
       "    <tr>\n",
       "      <th>4</th>\n",
       "      <td>2018-03-09 14:13:21</td>\n",
       "      <td>@jaketapper LOL here is your new @DNC party  #...</td>\n",
       "      <td>0.134091</td>\n",
       "      <td>0.638636</td>\n",
       "    </tr>\n",
       "  </tbody>\n",
       "</table>\n",
       "</div>"
      ],
      "text/plain": [
       "                  Date                                              Tweet  \\\n",
       "0  2018-03-09 14:24:21  Blah, blah, blah, blah, blah...here’s an organ...   \n",
       "1  2018-03-09 14:23:26  RT @Dyke67ny: Never Ending Hate: Republicans l...   \n",
       "2  2018-03-09 14:22:59  RT @CornellWBrooks: Thanks. You know the @NAAC...   \n",
       "3  2018-03-09 14:15:02  CALLING ALL PEOPLE: Together, We Can Solve The...   \n",
       "4  2018-03-09 14:13:21  @jaketapper LOL here is your new @DNC party  #...   \n",
       "\n",
       "   Polarity  Subjectivity  \n",
       "0  0.000000      1.000000  \n",
       "1 -0.800000      0.900000  \n",
       "2 -0.266667      0.400000  \n",
       "3  0.000000      0.000000  \n",
       "4  0.134091      0.638636  "
      ]
     },
     "execution_count": 9,
     "metadata": {},
     "output_type": "execute_result"
    }
   ],
   "source": [
    "df_hate = pandas_from_hashtag('hate', 10)\n",
    "df_hate.head()"
   ]
  },
  {
   "cell_type": "code",
   "execution_count": 10,
   "metadata": {},
   "outputs": [
    {
     "data": {
      "text/plain": [
       "(400, 4)"
      ]
     },
     "execution_count": 10,
     "metadata": {},
     "output_type": "execute_result"
    }
   ],
   "source": [
    "df_hate.shape"
   ]
  },
  {
   "cell_type": "code",
   "execution_count": 11,
   "metadata": {},
   "outputs": [
    {
     "data": {
      "text/plain": [
       "150"
      ]
     },
     "execution_count": 11,
     "metadata": {},
     "output_type": "execute_result"
    }
   ],
   "source": [
    "hate_pos = df_hate[df_hate['Polarity'] >= 0]\n",
    "hate_pos['Polarity'].count()"
   ]
  },
  {
   "cell_type": "code",
   "execution_count": 12,
   "metadata": {
    "cell_style": "split"
   },
   "outputs": [
    {
     "data": {
      "image/png": "[encoded data removed]",
      "text/plain": [
       "<matplotlib.figure.Figure at 0x119d48e48>"
      ]
     },
     "metadata": {},
     "output_type": "display_data"
    }
   ],
   "source": [
    "plt.scatter(df_joy['Polarity'], df_joy['Subjectivity'], alpha=0.1, color='purple')\n",
    "\n",
    "plt.title('Tweet #joy, Subjectivity on Polarity')\n",
    "plt.ylabel('Subjectivity')\n",
    "plt.xlabel('Polarity')\n",
    "\n",
    "plt.show()"
   ]
  },
  {
   "cell_type": "code",
   "execution_count": 13,
   "metadata": {
    "cell_style": "split"
   },
   "outputs": [
    {
     "data": {
      "image/png": "[encoded data removed]",
      "text/plain": [
       "<matplotlib.figure.Figure at 0x119d48d30>"
      ]
     },
     "metadata": {},
     "output_type": "display_data"
    }
   ],
   "source": [
    "plt.scatter(df_hate['Polarity'], df_hate['Subjectivity'], alpha=0.5, color='purple')\n",
    "\n",
    "plt.title('Tweet #hate, Subjectivity on Polarity')\n",
    "plt.ylabel('Subjectivity')\n",
    "plt.xlabel('Polarity')\n",
    "\n",
    "plt.show()"
   ]
  },
  {
   "cell_type": "code",
   "execution_count": 14,
   "metadata": {
    "cell_style": "split"
   },
   "outputs": [
    {
     "data": {
      "text/html": [
       "<div>\n",
       "<style>\n",
       "    .dataframe thead tr:only-child th {\n",
       "        text-align: right;\n",
       "    }\n",
       "\n",
       "    .dataframe thead th {\n",
       "        text-align: left;\n",
       "    }\n",
       "\n",
       "    .dataframe tbody tr th {\n",
       "        vertical-align: top;\n",
       "    }\n",
       "</style>\n",
       "<table border=\"1\" class=\"dataframe\">\n",
       "  <thead>\n",
       "    <tr style=\"text-align: right;\">\n",
       "      <th></th>\n",
       "      <th>Polarity</th>\n",
       "      <th>Subjectivity</th>\n",
       "    </tr>\n",
       "  </thead>\n",
       "  <tbody>\n",
       "    <tr>\n",
       "      <th>count</th>\n",
       "      <td>600.000000</td>\n",
       "      <td>600.000000</td>\n",
       "    </tr>\n",
       "    <tr>\n",
       "      <th>mean</th>\n",
       "      <td>0.628919</td>\n",
       "      <td>0.259073</td>\n",
       "    </tr>\n",
       "    <tr>\n",
       "      <th>std</th>\n",
       "      <td>0.277381</td>\n",
       "      <td>0.131029</td>\n",
       "    </tr>\n",
       "    <tr>\n",
       "      <th>min</th>\n",
       "      <td>-0.087500</td>\n",
       "      <td>0.000000</td>\n",
       "    </tr>\n",
       "    <tr>\n",
       "      <th>25%</th>\n",
       "      <td>0.473674</td>\n",
       "      <td>0.200000</td>\n",
       "    </tr>\n",
       "    <tr>\n",
       "      <th>50%</th>\n",
       "      <td>0.800000</td>\n",
       "      <td>0.200000</td>\n",
       "    </tr>\n",
       "    <tr>\n",
       "      <th>75%</th>\n",
       "      <td>0.800000</td>\n",
       "      <td>0.317045</td>\n",
       "    </tr>\n",
       "    <tr>\n",
       "      <th>max</th>\n",
       "      <td>1.000000</td>\n",
       "      <td>0.650000</td>\n",
       "    </tr>\n",
       "  </tbody>\n",
       "</table>\n",
       "</div>"
      ],
      "text/plain": [
       "         Polarity  Subjectivity\n",
       "count  600.000000    600.000000\n",
       "mean     0.628919      0.259073\n",
       "std      0.277381      0.131029\n",
       "min     -0.087500      0.000000\n",
       "25%      0.473674      0.200000\n",
       "50%      0.800000      0.200000\n",
       "75%      0.800000      0.317045\n",
       "max      1.000000      0.650000"
      ]
     },
     "execution_count": 14,
     "metadata": {},
     "output_type": "execute_result"
    }
   ],
   "source": [
    "df_joy.describe()"
   ]
  },
  {
   "cell_type": "code",
   "execution_count": 15,
   "metadata": {
    "cell_style": "split"
   },
   "outputs": [
    {
     "data": {
      "text/html": [
       "<div>\n",
       "<style>\n",
       "    .dataframe thead tr:only-child th {\n",
       "        text-align: right;\n",
       "    }\n",
       "\n",
       "    .dataframe thead th {\n",
       "        text-align: left;\n",
       "    }\n",
       "\n",
       "    .dataframe tbody tr th {\n",
       "        vertical-align: top;\n",
       "    }\n",
       "</style>\n",
       "<table border=\"1\" class=\"dataframe\">\n",
       "  <thead>\n",
       "    <tr style=\"text-align: right;\">\n",
       "      <th></th>\n",
       "      <th>Polarity</th>\n",
       "      <th>Subjectivity</th>\n",
       "    </tr>\n",
       "  </thead>\n",
       "  <tbody>\n",
       "    <tr>\n",
       "      <th>count</th>\n",
       "      <td>400.000000</td>\n",
       "      <td>400.000000</td>\n",
       "    </tr>\n",
       "    <tr>\n",
       "      <th>mean</th>\n",
       "      <td>-0.163651</td>\n",
       "      <td>0.567678</td>\n",
       "    </tr>\n",
       "    <tr>\n",
       "      <th>std</th>\n",
       "      <td>0.321485</td>\n",
       "      <td>0.249493</td>\n",
       "    </tr>\n",
       "    <tr>\n",
       "      <th>min</th>\n",
       "      <td>-0.800000</td>\n",
       "      <td>0.000000</td>\n",
       "    </tr>\n",
       "    <tr>\n",
       "      <th>25%</th>\n",
       "      <td>-0.400000</td>\n",
       "      <td>0.400000</td>\n",
       "    </tr>\n",
       "    <tr>\n",
       "      <th>50%</th>\n",
       "      <td>-0.175000</td>\n",
       "      <td>0.500000</td>\n",
       "    </tr>\n",
       "    <tr>\n",
       "      <th>75%</th>\n",
       "      <td>0.035000</td>\n",
       "      <td>0.687500</td>\n",
       "    </tr>\n",
       "    <tr>\n",
       "      <th>max</th>\n",
       "      <td>0.500000</td>\n",
       "      <td>1.000000</td>\n",
       "    </tr>\n",
       "  </tbody>\n",
       "</table>\n",
       "</div>"
      ],
      "text/plain": [
       "         Polarity  Subjectivity\n",
       "count  400.000000    400.000000\n",
       "mean    -0.163651      0.567678\n",
       "std      0.321485      0.249493\n",
       "min     -0.800000      0.000000\n",
       "25%     -0.400000      0.400000\n",
       "50%     -0.175000      0.500000\n",
       "75%      0.035000      0.687500\n",
       "max      0.500000      1.000000"
      ]
     },
     "execution_count": 15,
     "metadata": {},
     "output_type": "execute_result"
    }
   ],
   "source": [
    "df_hate.describe()"
   ]
  },
  {
   "cell_type": "code",
   "execution_count": 16,
   "metadata": {},
   "outputs": [
    {
     "data": {
      "image/png": "[encoded data removed]",
      "text/plain": [
       "<matplotlib.figure.Figure at 0x119cfc6d8>"
      ]
     },
     "metadata": {},
     "output_type": "display_data"
    }
   ],
   "source": [
    "df_joy.hist()\n",
    "plt.show()"
   ]
  },
  {
   "cell_type": "code",
   "execution_count": 17,
   "metadata": {},
   "outputs": [
    {
     "data": {
      "image/png": "[encoded data removed]",
      "text/plain": [
       "<matplotlib.figure.Figure at 0x119cb0b00>"
      ]
     },
     "metadata": {},
     "output_type": "display_data"
    }
   ],
   "source": [
    "df_hate.hist()\n",
    "plt.show()"
   ]
  },
  {
   "cell_type": "code",
   "execution_count": null,
   "metadata": {
    "collapsed": true
   },
   "outputs": [],
   "source": []
  }
 ],
 "metadata": {
  "kernelspec": {
   "display_name": "Python 3",
   "language": "python",
   "name": "python3"
  },
  "language_info": {
   "codemirror_mode": {
    "name": "ipython",
    "version": 3
   },
   "file_extension": ".py",
   "mimetype": "text/x-python",
   "name": "python",
   "nbconvert_exporter": "python",
   "pygments_lexer": "ipython3",
   "version": "3.6.3"
  }
 },
 "nbformat": 4,
 "nbformat_minor": 2
}
