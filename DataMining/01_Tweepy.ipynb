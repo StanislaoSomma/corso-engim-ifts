{
 "cells": [
  {
   "cell_type": "markdown",
   "metadata": {},
   "source": [
    "# Sentiment Analysis usando API Twitter\n",
    "\n",
    "In questa lezione andremo ad utilizzare tweet con alcuni hashtag pre fare Sentiment Analysis (tramite una libreria Python) e procedere con l'analisi dei dati con Pandas e Matplotlib.\n",
    "\n",
    "In preparazione della lezione su Twitter e API occorre che ognuno di voi segua i seguenti steps:\n",
    "\n",
    "1. Registrarsi a Twitter (se no ne si ha già uno)\n",
    "2. Accedere al proprio account e andare qui https://apps.twitter.com/\n",
    "3. Creare una nuova app\n",
    "4. Non ha importanza il nome e potete lasciare https:// nel campo del sito personele\n",
    "5. Una volta creare e selezionata la vostra app andata nella tab 'Keys and Access Tokens'\n",
    "6. Salvatevi le seguenti quattro voci che ci servieranno per la lezione:\n",
    "\n",
    "Nella sezione _Application Settings_: Consumer Key (API Key), Consumer Secret (API Secret)  \n",
    "Nella sesione _Your Access Token_: Access Token, Access Token Secret\n",
    "\n",
    "## TextBlob\n",
    "\n",
    "La libreria che utlizzeremo per il processamento del testo e Sentiment Analysis è TextBlob.  \n",
    "Praticheremo le maggiori funzioni per poi ultizzarla in seguito con i tweets acquisiti.  \n",
    "\n",
    "In psarticolare per la **Sentiment Analysis** useremo:\n",
    "* **Polarity** [-1, 1], in cui -1 significa molto negativo e +1 molto positivo\n",
    "* **Subjectivity** [0, 1], in cui 0 significa di molto oggettivo e 1 significa molto soggettivo\n",
    "* **Sentiment**, riporta insieme i valori di Polarity e Subjectivity\n",
    "\n",
    "\n",
    "Documentazione: http://textblob.readthedocs.io/en/dev  \n",
    "Link dei moduli: http://textblob.readthedocs.io/en/dev/api_reference.html#module-textblob.blob"
   ]
  },
  {
   "cell_type": "code",
   "execution_count": null,
   "metadata": {
    "collapsed": true
   },
   "outputs": [],
   "source": []
  },
  {
   "cell_type": "code",
   "execution_count": 1,
   "metadata": {
    "collapsed": true
   },
   "outputs": [],
   "source": [
    "# Per installare le librerie Tweepy e TextBlob da terminale scriviamo\n",
    "# pip install tweepy\n",
    "# pip install textblob\n",
    "\n",
    "import tweepy # libreria per accedere alle API di Twitter\n",
    "from textblob import TextBlob # libreria che useremo per fare Sentiment Analysis\n",
    "import csv # libreria che useremo per creare direttamente csv\n",
    "\n",
    "import pandas as pd\n",
    "import matplotlib.pyplot as plt"
   ]
  },
  {
   "cell_type": "code",
   "execution_count": null,
   "metadata": {
    "collapsed": true
   },
   "outputs": [],
   "source": []
  },
  {
   "cell_type": "markdown",
   "metadata": {},
   "source": [
    "### Prima di estrarre dati da Twitter esplorariamo la libreria TextBlob\n",
    "\n",
    "Iniziamo con alcuni comandi di esplorazione del testo"
   ]
  },
  {
   "cell_type": "code",
   "execution_count": 2,
   "metadata": {},
   "outputs": [
    {
     "data": {
      "text/plain": [
       "'it'"
      ]
     },
     "execution_count": 2,
     "metadata": {},
     "output_type": "execute_result"
    }
   ],
   "source": [
    "python = TextBlob(\"Python è distribuito con licenza Open-Source approvata dalla OSI.\")\n",
    "python.detect_language()"
   ]
  },
  {
   "cell_type": "code",
   "execution_count": 3,
   "metadata": {},
   "outputs": [
    {
     "data": {
      "text/plain": [
       "TextBlob(\"Semplice è meglio che complesso. Il complesso è meglio che complicato.\")"
      ]
     },
     "execution_count": 3,
     "metadata": {},
     "output_type": "execute_result"
    }
   ],
   "source": [
    "simple = TextBlob(\"Simple is better than complex. Complex is better than complicated.\")\n",
    "simple.translate(to='it')"
   ]
  },
  {
   "cell_type": "code",
   "execution_count": 4,
   "metadata": {},
   "outputs": [
    {
     "data": {
      "text/plain": [
       "'it'"
      ]
     },
     "execution_count": 4,
     "metadata": {},
     "output_type": "execute_result"
    }
   ],
   "source": [
    "testo = TextBlob(\"Il registro è sul tavolo\")\n",
    "testo.detect_language()"
   ]
  },
  {
   "cell_type": "markdown",
   "metadata": {},
   "source": [
    "### Testiamo la Sentiment Analysis della libreria TextBlob\n",
    "\n",
    "#### Notiamo la differenza di Polarity"
   ]
  },
  {
   "cell_type": "code",
   "execution_count": 5,
   "metadata": {},
   "outputs": [
    {
     "data": {
      "text/plain": [
       "Sentiment(polarity=0.5, subjectivity=0.6)"
      ]
     },
     "execution_count": 5,
     "metadata": {},
     "output_type": "execute_result"
    }
   ],
   "source": [
    "life = TextBlob(\"I love life\")\n",
    "life.sentiment"
   ]
  },
  {
   "cell_type": "code",
   "execution_count": 6,
   "metadata": {},
   "outputs": [
    {
     "data": {
      "text/plain": [
       "0.5"
      ]
     },
     "execution_count": 6,
     "metadata": {},
     "output_type": "execute_result"
    }
   ],
   "source": [
    "life.polarity"
   ]
  },
  {
   "cell_type": "code",
   "execution_count": 7,
   "metadata": {},
   "outputs": [
    {
     "data": {
      "text/plain": [
       "Sentiment(polarity=0.5, subjectivity=0.6)"
      ]
     },
     "execution_count": 7,
     "metadata": {},
     "output_type": "execute_result"
    }
   ],
   "source": [
    "humans = TextBlob(\"I love humans\")\n",
    "humans.sentiment"
   ]
  },
  {
   "cell_type": "code",
   "execution_count": 8,
   "metadata": {},
   "outputs": [
    {
     "data": {
      "text/plain": [
       "Sentiment(polarity=-0.8, subjectivity=0.9)"
      ]
     },
     "execution_count": 8,
     "metadata": {},
     "output_type": "execute_result"
    }
   ],
   "source": [
    "ananas = TextBlob(\"I hate pineapples\")\n",
    "ananas.sentiment"
   ]
  },
  {
   "cell_type": "code",
   "execution_count": null,
   "metadata": {
    "collapsed": true
   },
   "outputs": [],
   "source": []
  },
  {
   "cell_type": "markdown",
   "metadata": {},
   "source": [
    "#### Notiamo la differenza di Subjectivity"
   ]
  },
  {
   "cell_type": "code",
   "execution_count": 9,
   "metadata": {},
   "outputs": [
    {
     "data": {
      "text/plain": [
       "Sentiment(polarity=0.0, subjectivity=0.0)"
      ]
     },
     "execution_count": 9,
     "metadata": {},
     "output_type": "execute_result"
    }
   ],
   "source": [
    "sphere = TextBlob(\"The Earth is a sphere\")\n",
    "sphere.sentiment"
   ]
  },
  {
   "cell_type": "code",
   "execution_count": 10,
   "metadata": {},
   "outputs": [
    {
     "data": {
      "text/plain": [
       "0.0"
      ]
     },
     "execution_count": 10,
     "metadata": {},
     "output_type": "execute_result"
    }
   ],
   "source": [
    "sphere.subjectivity"
   ]
  },
  {
   "cell_type": "code",
   "execution_count": 11,
   "metadata": {},
   "outputs": [
    {
     "data": {
      "text/plain": [
       "Sentiment(polarity=-0.025, subjectivity=0.125)"
      ]
     },
     "execution_count": 11,
     "metadata": {},
     "output_type": "execute_result"
    }
   ],
   "source": [
    "flat = TextBlob(\"The Earth is flat\")\n",
    "flat.sentiment"
   ]
  },
  {
   "cell_type": "code",
   "execution_count": 12,
   "metadata": {},
   "outputs": [
    {
     "data": {
      "text/plain": [
       "Sentiment(polarity=0.0, subjectivity=0.1)"
      ]
     },
     "execution_count": 12,
     "metadata": {},
     "output_type": "execute_result"
    }
   ],
   "source": [
    "sky = TextBlob(\"The sky is blue\")\n",
    "sky.sentiment"
   ]
  },
  {
   "cell_type": "code",
   "execution_count": 13,
   "metadata": {},
   "outputs": [
    {
     "data": {
      "text/plain": [
       "Sentiment(polarity=0.3181818181818182, subjectivity=0.55)"
      ]
     },
     "execution_count": 13,
     "metadata": {},
     "output_type": "execute_result"
    }
   ],
   "source": [
    "my_town = TextBlob(\"I love my town, I live in Lisbon\")\n",
    "my_town.sentiment"
   ]
  },
  {
   "cell_type": "code",
   "execution_count": null,
   "metadata": {
    "collapsed": true
   },
   "outputs": [],
   "source": []
  },
  {
   "cell_type": "markdown",
   "metadata": {},
   "source": [
    "#### Con che oggetti abbiamo a che fare?"
   ]
  },
  {
   "cell_type": "code",
   "execution_count": 14,
   "metadata": {},
   "outputs": [
    {
     "data": {
      "text/plain": [
       "textblob.en.sentiments.Sentiment"
      ]
     },
     "execution_count": 14,
     "metadata": {},
     "output_type": "execute_result"
    }
   ],
   "source": [
    "type(my_town.sentiment)"
   ]
  },
  {
   "cell_type": "code",
   "execution_count": 15,
   "metadata": {},
   "outputs": [
    {
     "data": {
      "text/plain": [
       "float"
      ]
     },
     "execution_count": 15,
     "metadata": {},
     "output_type": "execute_result"
    }
   ],
   "source": [
    "type(my_town.sentiment.polarity)"
   ]
  },
  {
   "cell_type": "code",
   "execution_count": 16,
   "metadata": {},
   "outputs": [
    {
     "data": {
      "text/plain": [
       "float"
      ]
     },
     "execution_count": 16,
     "metadata": {},
     "output_type": "execute_result"
    }
   ],
   "source": [
    "type(my_town.polarity)"
   ]
  },
  {
   "cell_type": "code",
   "execution_count": null,
   "metadata": {
    "collapsed": true
   },
   "outputs": [],
   "source": []
  },
  {
   "cell_type": "markdown",
   "metadata": {},
   "source": [
    "## Ora passiamo all'acquisizione dei tweets da Twitter"
   ]
  },
  {
   "cell_type": "markdown",
   "metadata": {},
   "source": [
    "#### Salviamo i Consumer Key e Access token"
   ]
  },
  {
   "cell_type": "code",
   "execution_count": 17,
   "metadata": {
    "collapsed": true
   },
   "outputs": [],
   "source": [
    "consumer_key = ' '\n",
    "consumer_secret = ' '\n",
    "\n",
    "access_token = ' '\n",
    "access_token_secret = ' '"
   ]
  },
  {
   "cell_type": "markdown",
   "metadata": {},
   "source": [
    "#### Autentichiamoci in Twitter"
   ]
  },
  {
   "cell_type": "code",
   "execution_count": 18,
   "metadata": {
    "collapsed": true
   },
   "outputs": [],
   "source": [
    "auth = tweepy.OAuthHandler(consumer_key, consumer_secret)\n",
    "auth.set_access_token(access_token, access_token_secret)\n",
    "\n",
    "api = tweepy.API(auth)"
   ]
  },
  {
   "cell_type": "code",
   "execution_count": null,
   "metadata": {
    "collapsed": true
   },
   "outputs": [],
   "source": [
    " "
   ]
  },
  {
   "cell_type": "markdown",
   "metadata": {},
   "source": [
    "#### Visualizziamo gli ultimi tweet pubblici salvandoli in un .csv\n",
    "\n",
    "Usiamo la libreria Python **open** e **csv**.\n",
    "\n",
    "Potete leggere questa documentazione per approfondire i modi di apertura disponibili olatre ad **'a'**:  \n",
    "https://docs.python.org/3.1/library/functions.html#open"
   ]
  },
  {
   "cell_type": "code",
   "execution_count": 19,
   "metadata": {},
   "outputs": [
    {
     "name": "stdout",
     "output_type": "stream",
     "text": [
      "RT @bluzzofficial: Couple Gets Engaged Just Hours Before They Become Heroes At a Liquor Store -- https://t.co/ZhODf2cbMS #viral #news #brea… Sentiment(polarity=0.0, subjectivity=0.0)\n",
      " \n",
      "==== TWEET AT: 2018-03-09 16:28:16 ====\n",
      "RT @TrainingMindful: \"Kindness in words creates confidence. Kindness in thinking creates profoundness. #Kindness in giving creates love.\" L… Sentiment(polarity=0.5, subjectivity=0.6)\n",
      " \n",
      "==== TWEET AT: 2018-03-09 16:28:14 ====\n",
      "RT @bluzzofficial: A Young Grocery Store Cashier's Act Of Kindness -- https://t.co/Iojk2XoLWL #viral #news #breaking #inspirational #Trendi… Sentiment(polarity=0.3, subjectivity=0.7)\n",
      " \n",
      "==== TWEET AT: 2018-03-09 16:28:13 ====\n",
      "Embracing #kindness as a catalyst for change.    https://t.co/WQrouWMiKC Sentiment(polarity=0.0, subjectivity=0.0)\n",
      " \n",
      "==== TWEET AT: 2018-03-09 16:27:00 ====\n",
      "We have our weekend goals ready! What are yours? #WeekendGoals #WeekendVibes #Goals #Kindness #Consideration… https://t.co/grb1uv7LRu Sentiment(polarity=0.25, subjectivity=0.5)\n",
      " \n",
      "==== TWEET AT: 2018-03-09 16:26:32 ====\n",
      "RT @kelly_clarkson: To all the women that have touched my life, I count my blessings for all the knowledge, resilience, beauty, grace, &amp; dr… Sentiment(polarity=0.0, subjectivity=0.0)\n",
      " \n",
      "==== TWEET AT: 2018-03-09 16:26:09 ====\n",
      "RT @bluzzofficial: Bambi On Ice: Watch Firefighter Nudge Trapped Deer to Safety -- https://t.co/kq7fAnWEeu #viral #news #breaking #inspirat… Sentiment(polarity=-0.2, subjectivity=0.0)\n",
      " \n",
      "==== TWEET AT: 2018-03-09 16:26:01 ====\n",
      "RT @TrainingMindful: \"Kindness in words creates confidence. Kindness in thinking creates profoundness. #Kindness in giving creates love.\" L… Sentiment(polarity=0.5, subjectivity=0.6)\n",
      " \n",
      "==== TWEET AT: 2018-03-09 16:25:52 ====\n",
      "RT @bluzzofficial: The Golden Cup -- https://t.co/3RBn4hFkkc #viral #news #breaking #inspirational #TrendingNow  #bluzz #love #goodnews #fu… Sentiment(polarity=0.43333333333333335, subjectivity=0.7000000000000001)\n",
      " \n",
      "==== TWEET AT: 2018-03-09 16:25:42 ====\n",
      "\"Sometime in life you've got to be unkind to be kind.\" 😎😎\n",
      "#Kindness\n",
      "#gratitude #kind #unkind Sentiment(polarity=0.6, subjectivity=0.9)\n",
      " \n",
      "==== TWEET AT: 2018-03-09 16:25:15 ====\n"
     ]
    }
   ],
   "source": [
    "csvFile = open('results_kindess.csv', 'a') \n",
    "csvWriter = csv.writer(csvFile)\n",
    "\n",
    "last_tweets = api.search('#kindness')\n",
    "\n",
    "for tweet in last_tweets:\n",
    "    text = TextBlob(tweet.text)\n",
    "    print(tweet.text, text.sentiment)\n",
    "    print(' ')\n",
    "    print('==== TWEET AT: %s ====' %str(tweet.created_at))\n",
    "    csvWriter.writerow([tweet.created_at, tweet.text, text.polarity, text.subjectivity])\n",
    "        \n",
    "csvFile.close()"
   ]
  },
  {
   "cell_type": "code",
   "execution_count": null,
   "metadata": {
    "collapsed": true
   },
   "outputs": [],
   "source": []
  },
  {
   "cell_type": "markdown",
   "metadata": {},
   "source": [
    "### Creiamo un dataset più corposo da analizzare ripetendo l'operazione 10 volte"
   ]
  },
  {
   "cell_type": "code",
   "execution_count": 20,
   "metadata": {
    "collapsed": true
   },
   "outputs": [],
   "source": [
    "csvFile = open('results_elections.csv', 'a') \n",
    "csvWriter = csv.writer(csvFile)\n",
    "\n",
    "\n",
    "for i in range(18):\n",
    "    last_tweets = api.search('#Election2018')    \n",
    "    for tweet in last_tweets:\n",
    "        text = TextBlob(tweet.text)\n",
    "        csvWriter.writerow([tweet.created_at, tweet.text, text.polarity, text.subjectivity])\n",
    "\n",
    "csvFile.close()"
   ]
  },
  {
   "cell_type": "markdown",
   "metadata": {},
   "source": [
    "### Importiamo i tweet dal .csv al Pandss Dataframe ed esploriamoli"
   ]
  },
  {
   "cell_type": "code",
   "execution_count": 21,
   "metadata": {
    "collapsed": true
   },
   "outputs": [],
   "source": [
    "df_elect = pd.read_csv('results_elections.csv', header=None, names=['Date', 'Tweet', 'Polarity', 'Subjectivity'])"
   ]
  },
  {
   "cell_type": "code",
   "execution_count": 22,
   "metadata": {},
   "outputs": [
    {
     "data": {
      "text/plain": [
       "pandas.core.frame.DataFrame"
      ]
     },
     "execution_count": 22,
     "metadata": {},
     "output_type": "execute_result"
    }
   ],
   "source": [
    "type(df_elect)"
   ]
  },
  {
   "cell_type": "code",
   "execution_count": 23,
   "metadata": {},
   "outputs": [
    {
     "data": {
      "text/plain": [
       "(810, 4)"
      ]
     },
     "execution_count": 23,
     "metadata": {},
     "output_type": "execute_result"
    }
   ],
   "source": [
    "df_elect.shape"
   ]
  },
  {
   "cell_type": "code",
   "execution_count": 24,
   "metadata": {},
   "outputs": [
    {
     "data": {
      "text/html": [
       "<div>\n",
       "<style>\n",
       "    .dataframe thead tr:only-child th {\n",
       "        text-align: right;\n",
       "    }\n",
       "\n",
       "    .dataframe thead th {\n",
       "        text-align: left;\n",
       "    }\n",
       "\n",
       "    .dataframe tbody tr th {\n",
       "        vertical-align: top;\n",
       "    }\n",
       "</style>\n",
       "<table border=\"1\" class=\"dataframe\">\n",
       "  <thead>\n",
       "    <tr style=\"text-align: right;\">\n",
       "      <th></th>\n",
       "      <th>Date</th>\n",
       "      <th>Tweet</th>\n",
       "      <th>Polarity</th>\n",
       "      <th>Subjectivity</th>\n",
       "    </tr>\n",
       "  </thead>\n",
       "  <tbody>\n",
       "    <tr>\n",
       "      <th>0</th>\n",
       "      <td>2018-03-09 16:09:54</td>\n",
       "      <td>RT @WestForCongress: Volunteers are needed to ...</td>\n",
       "      <td>0.25000</td>\n",
       "      <td>0.3000</td>\n",
       "    </tr>\n",
       "    <tr>\n",
       "      <th>1</th>\n",
       "      <td>2018-03-09 16:09:39</td>\n",
       "      <td>RT @MAGOProject: Messing with Texas, Yet Again...</td>\n",
       "      <td>0.00000</td>\n",
       "      <td>0.0000</td>\n",
       "    </tr>\n",
       "    <tr>\n",
       "      <th>2</th>\n",
       "      <td>2018-03-09 16:09:12</td>\n",
       "      <td>RT @didikins4life: Today marks the beginning o...</td>\n",
       "      <td>1.00000</td>\n",
       "      <td>1.0000</td>\n",
       "    </tr>\n",
       "    <tr>\n",
       "      <th>3</th>\n",
       "      <td>2018-03-09 16:07:49</td>\n",
       "      <td>RT @didikins4life: Today marks the beginning o...</td>\n",
       "      <td>1.00000</td>\n",
       "      <td>1.0000</td>\n",
       "    </tr>\n",
       "    <tr>\n",
       "      <th>4</th>\n",
       "      <td>2018-03-09 16:07:33</td>\n",
       "      <td>RT @DJKatie888: If the \"Dreamers know no other...</td>\n",
       "      <td>0.03125</td>\n",
       "      <td>0.1875</td>\n",
       "    </tr>\n",
       "  </tbody>\n",
       "</table>\n",
       "</div>"
      ],
      "text/plain": [
       "                  Date                                              Tweet  \\\n",
       "0  2018-03-09 16:09:54  RT @WestForCongress: Volunteers are needed to ...   \n",
       "1  2018-03-09 16:09:39  RT @MAGOProject: Messing with Texas, Yet Again...   \n",
       "2  2018-03-09 16:09:12  RT @didikins4life: Today marks the beginning o...   \n",
       "3  2018-03-09 16:07:49  RT @didikins4life: Today marks the beginning o...   \n",
       "4  2018-03-09 16:07:33  RT @DJKatie888: If the \"Dreamers know no other...   \n",
       "\n",
       "   Polarity  Subjectivity  \n",
       "0   0.25000        0.3000  \n",
       "1   0.00000        0.0000  \n",
       "2   1.00000        1.0000  \n",
       "3   1.00000        1.0000  \n",
       "4   0.03125        0.1875  "
      ]
     },
     "execution_count": 24,
     "metadata": {},
     "output_type": "execute_result"
    }
   ],
   "source": [
    "df_elect.head()"
   ]
  },
  {
   "cell_type": "code",
   "execution_count": 25,
   "metadata": {
    "scrolled": false
   },
   "outputs": [
    {
     "name": "stdout",
     "output_type": "stream",
     "text": [
      "<class 'pandas.core.frame.DataFrame'>\n",
      "RangeIndex: 810 entries, 0 to 809\n",
      "Data columns (total 4 columns):\n",
      "Date            810 non-null object\n",
      "Tweet           810 non-null object\n",
      "Polarity        810 non-null float64\n",
      "Subjectivity    810 non-null float64\n",
      "dtypes: float64(2), object(2)\n",
      "memory usage: 25.4+ KB\n"
     ]
    }
   ],
   "source": [
    "df_elect.info()"
   ]
  },
  {
   "cell_type": "code",
   "execution_count": 26,
   "metadata": {},
   "outputs": [
    {
     "data": {
      "image/png": "[encoded data removed]",
      "text/plain": [
       "<matplotlib.figure.Figure at 0x1a0cb0e7f0>"
      ]
     },
     "metadata": {},
     "output_type": "display_data"
    }
   ],
   "source": [
    "plt.hist(df_elect['Polarity'], bins=15)\n",
    "plt.title('Tweet #Election2018')\n",
    "plt.show()"
   ]
  },
  {
   "cell_type": "code",
   "execution_count": 27,
   "metadata": {},
   "outputs": [
    {
     "data": {
      "image/png": "[encoded data removed]",
      "text/plain": [
       "<matplotlib.figure.Figure at 0x1a0cad4b38>"
      ]
     },
     "metadata": {},
     "output_type": "display_data"
    }
   ],
   "source": [
    "plt.scatter(df_elect['Polarity'], df_elect['Subjectivity'], alpha=0.5, color='darkred')\n",
    "\n",
    "plt.title('Tweet #Election2018, Subjectivity on Polarity')\n",
    "plt.ylabel('Subjectivity')\n",
    "plt.xlabel('Polarity')\n",
    "\n",
    "plt.show()"
   ]
  },
  {
   "cell_type": "code",
   "execution_count": 28,
   "metadata": {},
   "outputs": [
    {
     "data": {
      "text/plain": [
       "Date            792\n",
       "Tweet           792\n",
       "Polarity        792\n",
       "Subjectivity    792\n",
       "dtype: int64"
      ]
     },
     "execution_count": 28,
     "metadata": {},
     "output_type": "execute_result"
    }
   ],
   "source": [
    "e_pos = df_elect[df_elect['Polarity'] >= 0]\n",
    "e_pos.count()"
   ]
  },
  {
   "cell_type": "code",
   "execution_count": 29,
   "metadata": {},
   "outputs": [
    {
     "data": {
      "image/png": "[encoded data removed]",
      "text/plain": [
       "<matplotlib.figure.Figure at 0x1a0caa5cc0>"
      ]
     },
     "metadata": {},
     "output_type": "display_data"
    }
   ],
   "source": [
    "plt.scatter(e_pos['Polarity'], e_pos['Subjectivity'], alpha=0.3, color='purple')\n",
    "\n",
    "plt.title('Positive tweets #Election2018, Subjectivity on Polarity')\n",
    "plt.ylabel('Subjectivity')\n",
    "plt.xlabel('Polarity')\n",
    "\n",
    "plt.show()"
   ]
  },
  {
   "cell_type": "code",
   "execution_count": 30,
   "metadata": {},
   "outputs": [
    {
     "data": {
      "text/plain": [
       "(18, 4)"
      ]
     },
     "execution_count": 30,
     "metadata": {},
     "output_type": "execute_result"
    }
   ],
   "source": [
    "e_neg = df_elect[df_elect['Polarity'] < 0]\n",
    "e_neg.shape"
   ]
  },
  {
   "cell_type": "code",
   "execution_count": 31,
   "metadata": {},
   "outputs": [
    {
     "data": {
      "image/png": "[encoded data removed]",
      "text/plain": [
       "<matplotlib.figure.Figure at 0x1a0ca9e390>"
      ]
     },
     "metadata": {},
     "output_type": "display_data"
    }
   ],
   "source": [
    "plt.scatter(e_neg['Polarity'], e_neg['Subjectivity'], alpha=0.3, color='green')\n",
    "\n",
    "plt.title('Negative tweets #Election2018, Subjectivity on Polarity')\n",
    "plt.ylabel('Subjectivity')\n",
    "plt.xlabel('Polarity')\n",
    "\n",
    "\n",
    "plt.show()"
   ]
  },
  {
   "cell_type": "code",
   "execution_count": null,
   "metadata": {
    "collapsed": true
   },
   "outputs": [],
   "source": []
  },
  {
   "cell_type": "code",
   "execution_count": null,
   "metadata": {
    "collapsed": true
   },
   "outputs": [],
   "source": []
  }
 ],
 "metadata": {
  "kernelspec": {
   "display_name": "Python 3",
   "language": "python",
   "name": "python3"
  },
  "language_info": {
   "codemirror_mode": {
    "name": "ipython",
    "version": 3
   },
   "file_extension": ".py",
   "mimetype": "text/x-python",
   "name": "python",
   "nbconvert_exporter": "python",
   "pygments_lexer": "ipython3",
   "version": "3.6.3"
  }
 },
 "nbformat": 4,
 "nbformat_minor": 2
}
