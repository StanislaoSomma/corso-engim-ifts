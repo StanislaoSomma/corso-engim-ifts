{
 "cells": [
  {
   "cell_type": "markdown",
   "metadata": {},
   "source": [
    "# Esploriamo dati ARPA\n",
    "\n",
    "Dati metereologici delle centraline di Alessandria.  \n",
    "Sorgente: http://www.arpa.piemonte.gov.it/rischinaturali/accesso-ai-dati/opendata/elenco_meteo.html?delta=0\n",
    "\n",
    "### Dati\n",
    "\n",
    "DATA\n",
    "ORA: espressa nel sistema UTC                            \n",
    "ID_RETE_MONIT: Identificativo della Rete di Monitoraggio  \n",
    "CODICE_ISTAT_COMUNE: Identificativo della stazione secondo codifica ISTAT   \n",
    "PROGR_PUNTO_COM.: Numerazione progressiva delle stazioni con medesimo codice ISTAT  \n",
    "VELV: Velocita' del vento  \n",
    "DIRV: Direzione del vento  \n",
    "DEVST: Deviazione standard della velocita' trasversale  \n",
    "BARO: Pressione atmosferica  \n",
    "TERMA: Temperatura dell'aria  \n",
    "IGRO: Umidita' relativa  \n",
    "RADD: Radiazione solare diretta  \n",
    "RADR: Radiazione solare riflessa  \n",
    "PLUV: Precipitazione  \n",
    "\n",
    "### Tabella codici ISTAT\n",
    "\n",
    "Se scaricate altri .csv dal link menzionato ricordatevi che questi sono i codici ISTAT dei comuni monitorati.  \n",
    "Nel codice a seguire prenderemo in cosiderazione la stazione del comune di Alessandria.\n",
    "\n",
    "|comune_stat | stazione_istat | comune|\n",
    "|------- |------- | ------- |\n",
    "|006003\t| 900\t| ALESSANDRIA LOBBI|\n",
    "|002012\t| 900\t| OROPA|\n",
    "|004028\t| 900\t| BOVES|\n",
    "|003032\t| 900\t| CAMERI|\n",
    "|001272\t| 907\t| TORINO GIARDINI REALI|\n",
    "|001272\t| 908\t| TORINO ALENIA|\n",
    "|003156\t| 900\t| PALLANZA|\n",
    "|002158\t| 900\t| VERCELLI|\n",
    "|005074\t| 900\t| MONTALDO SCARAMPI|"
   ]
  },
  {
   "cell_type": "code",
   "execution_count": 1,
   "metadata": {
    "collapsed": true
   },
   "outputs": [],
   "source": [
    "import pandas as pd\n",
    "import matplotlib.pyplot as plt"
   ]
  },
  {
   "cell_type": "markdown",
   "metadata": {},
   "source": [
    "### Specifichiamo i nomi delle colonne"
   ]
  },
  {
   "cell_type": "markdown",
   "metadata": {},
   "source": [
    "#### Importiamo il .csv \n",
    "I file .csv messi a disposizione non contengono nomi per le colonne/variabili: lo indichiamo durante l'importazione con **`header=None`** \n",
    "\n",
    "Per aggiungere manualmente i nomi per le colonne/variabili definiamo prima una lista che passiamo con l'argomento **`names`** "
   ]
  },
  {
   "cell_type": "code",
   "execution_count": 2,
   "metadata": {
    "collapsed": true
   },
   "outputs": [],
   "source": [
    "meteo_col = ['data', 'ora', 'id_rete_monit', 'comune_istat', 'stazione_istat', 'vento_vel', 'vento_dir', 'std_velt', \n",
    "             'baro', 'terma', 'igro', 'rad_dir', 'rad_rif', 'pluv']"
   ]
  },
  {
   "cell_type": "code",
   "execution_count": 3,
   "metadata": {
    "collapsed": true
   },
   "outputs": [],
   "source": [
    "meteo = pd.read_csv(\"data/AL/MonthElb_012001_006003900.csv\", header=None, names=meteo_col)"
   ]
  },
  {
   "cell_type": "code",
   "execution_count": 4,
   "metadata": {},
   "outputs": [
    {
     "data": {
      "text/html": [
       "<div>\n",
       "<style>\n",
       "    .dataframe thead tr:only-child th {\n",
       "        text-align: right;\n",
       "    }\n",
       "\n",
       "    .dataframe thead th {\n",
       "        text-align: left;\n",
       "    }\n",
       "\n",
       "    .dataframe tbody tr th {\n",
       "        vertical-align: top;\n",
       "    }\n",
       "</style>\n",
       "<table border=\"1\" class=\"dataframe\">\n",
       "  <thead>\n",
       "    <tr style=\"text-align: right;\">\n",
       "      <th></th>\n",
       "      <th>data</th>\n",
       "      <th>ora</th>\n",
       "      <th>id_rete_monit</th>\n",
       "      <th>comune_istat</th>\n",
       "      <th>stazione_istat</th>\n",
       "      <th>vento_vel</th>\n",
       "      <th>vento_dir</th>\n",
       "      <th>std_velt</th>\n",
       "      <th>baro</th>\n",
       "      <th>terma</th>\n",
       "      <th>igro</th>\n",
       "      <th>rad_dir</th>\n",
       "      <th>rad_rif</th>\n",
       "      <th>pluv</th>\n",
       "    </tr>\n",
       "  </thead>\n",
       "  <tbody>\n",
       "    <tr>\n",
       "      <th>0</th>\n",
       "      <td>01-01-2001</td>\n",
       "      <td>00:00</td>\n",
       "      <td>17</td>\n",
       "      <td>6003</td>\n",
       "      <td>900</td>\n",
       "      <td>1.8</td>\n",
       "      <td>189.1</td>\n",
       "      <td>9999.9</td>\n",
       "      <td>1012.0</td>\n",
       "      <td>-1.9</td>\n",
       "      <td>87.0</td>\n",
       "      <td>0.0</td>\n",
       "      <td>9999.9</td>\n",
       "      <td>0.0</td>\n",
       "    </tr>\n",
       "    <tr>\n",
       "      <th>1</th>\n",
       "      <td>01-01-2001</td>\n",
       "      <td>01:00</td>\n",
       "      <td>17</td>\n",
       "      <td>6003</td>\n",
       "      <td>900</td>\n",
       "      <td>1.6</td>\n",
       "      <td>223.9</td>\n",
       "      <td>9999.9</td>\n",
       "      <td>1012.0</td>\n",
       "      <td>-2.4</td>\n",
       "      <td>90.0</td>\n",
       "      <td>0.0</td>\n",
       "      <td>9999.9</td>\n",
       "      <td>0.0</td>\n",
       "    </tr>\n",
       "    <tr>\n",
       "      <th>2</th>\n",
       "      <td>01-01-2001</td>\n",
       "      <td>02:00</td>\n",
       "      <td>17</td>\n",
       "      <td>6003</td>\n",
       "      <td>900</td>\n",
       "      <td>2.6</td>\n",
       "      <td>238.7</td>\n",
       "      <td>9999.9</td>\n",
       "      <td>1012.0</td>\n",
       "      <td>-2.3</td>\n",
       "      <td>90.0</td>\n",
       "      <td>0.0</td>\n",
       "      <td>9999.9</td>\n",
       "      <td>0.0</td>\n",
       "    </tr>\n",
       "    <tr>\n",
       "      <th>3</th>\n",
       "      <td>01-01-2001</td>\n",
       "      <td>03:00</td>\n",
       "      <td>17</td>\n",
       "      <td>6003</td>\n",
       "      <td>900</td>\n",
       "      <td>1.6</td>\n",
       "      <td>196.9</td>\n",
       "      <td>9999.9</td>\n",
       "      <td>1012.0</td>\n",
       "      <td>-2.6</td>\n",
       "      <td>90.0</td>\n",
       "      <td>0.0</td>\n",
       "      <td>9999.9</td>\n",
       "      <td>0.0</td>\n",
       "    </tr>\n",
       "    <tr>\n",
       "      <th>4</th>\n",
       "      <td>01-01-2001</td>\n",
       "      <td>04:00</td>\n",
       "      <td>17</td>\n",
       "      <td>6003</td>\n",
       "      <td>900</td>\n",
       "      <td>1.1</td>\n",
       "      <td>204.7</td>\n",
       "      <td>9999.9</td>\n",
       "      <td>1012.0</td>\n",
       "      <td>-3.2</td>\n",
       "      <td>91.0</td>\n",
       "      <td>0.0</td>\n",
       "      <td>9999.9</td>\n",
       "      <td>0.0</td>\n",
       "    </tr>\n",
       "  </tbody>\n",
       "</table>\n",
       "</div>"
      ],
      "text/plain": [
       "         data    ora  id_rete_monit  comune_istat  stazione_istat  vento_vel  \\\n",
       "0  01-01-2001  00:00             17          6003             900        1.8   \n",
       "1  01-01-2001  01:00             17          6003             900        1.6   \n",
       "2  01-01-2001  02:00             17          6003             900        2.6   \n",
       "3  01-01-2001  03:00             17          6003             900        1.6   \n",
       "4  01-01-2001  04:00             17          6003             900        1.1   \n",
       "\n",
       "   vento_dir  std_velt    baro  terma  igro  rad_dir  rad_rif  pluv  \n",
       "0      189.1    9999.9  1012.0   -1.9  87.0      0.0   9999.9   0.0  \n",
       "1      223.9    9999.9  1012.0   -2.4  90.0      0.0   9999.9   0.0  \n",
       "2      238.7    9999.9  1012.0   -2.3  90.0      0.0   9999.9   0.0  \n",
       "3      196.9    9999.9  1012.0   -2.6  90.0      0.0   9999.9   0.0  \n",
       "4      204.7    9999.9  1012.0   -3.2  91.0      0.0   9999.9   0.0  "
      ]
     },
     "execution_count": 4,
     "metadata": {},
     "output_type": "execute_result"
    }
   ],
   "source": [
    "meteo.head()"
   ]
  },
  {
   "cell_type": "code",
   "execution_count": 5,
   "metadata": {},
   "outputs": [
    {
     "data": {
      "text/plain": [
       "(8760, 14)"
      ]
     },
     "execution_count": 5,
     "metadata": {},
     "output_type": "execute_result"
    }
   ],
   "source": [
    "meteo.shape"
   ]
  },
  {
   "cell_type": "code",
   "execution_count": 6,
   "metadata": {},
   "outputs": [
    {
     "name": "stdout",
     "output_type": "stream",
     "text": [
      "<class 'pandas.core.frame.DataFrame'>\n",
      "RangeIndex: 8760 entries, 0 to 8759\n",
      "Data columns (total 14 columns):\n",
      "data              8760 non-null object\n",
      "ora               8760 non-null object\n",
      "id_rete_monit     8760 non-null int64\n",
      "comune_istat      8760 non-null int64\n",
      "stazione_istat    8760 non-null int64\n",
      "vento_vel         8760 non-null float64\n",
      "vento_dir         8760 non-null float64\n",
      "std_velt          8760 non-null float64\n",
      "baro              8760 non-null float64\n",
      "terma             8760 non-null float64\n",
      "igro              8760 non-null float64\n",
      "rad_dir           8760 non-null float64\n",
      "rad_rif           8760 non-null float64\n",
      "pluv              8760 non-null float64\n",
      "dtypes: float64(9), int64(3), object(2)\n",
      "memory usage: 958.2+ KB\n"
     ]
    }
   ],
   "source": [
    "meteo.info()"
   ]
  },
  {
   "cell_type": "code",
   "execution_count": 7,
   "metadata": {},
   "outputs": [
    {
     "data": {
      "text/html": [
       "<div>\n",
       "<style>\n",
       "    .dataframe thead tr:only-child th {\n",
       "        text-align: right;\n",
       "    }\n",
       "\n",
       "    .dataframe thead th {\n",
       "        text-align: left;\n",
       "    }\n",
       "\n",
       "    .dataframe tbody tr th {\n",
       "        vertical-align: top;\n",
       "    }\n",
       "</style>\n",
       "<table border=\"1\" class=\"dataframe\">\n",
       "  <thead>\n",
       "    <tr style=\"text-align: right;\">\n",
       "      <th></th>\n",
       "      <th>id_rete_monit</th>\n",
       "      <th>comune_istat</th>\n",
       "      <th>stazione_istat</th>\n",
       "      <th>vento_vel</th>\n",
       "      <th>vento_dir</th>\n",
       "      <th>std_velt</th>\n",
       "      <th>baro</th>\n",
       "      <th>terma</th>\n",
       "      <th>igro</th>\n",
       "      <th>rad_dir</th>\n",
       "      <th>rad_rif</th>\n",
       "      <th>pluv</th>\n",
       "    </tr>\n",
       "  </thead>\n",
       "  <tbody>\n",
       "    <tr>\n",
       "      <th>count</th>\n",
       "      <td>8760.0</td>\n",
       "      <td>8760.0</td>\n",
       "      <td>8760.0</td>\n",
       "      <td>8760.000000</td>\n",
       "      <td>8760.000000</td>\n",
       "      <td>8.760000e+03</td>\n",
       "      <td>8760.000000</td>\n",
       "      <td>8760.000000</td>\n",
       "      <td>8760.000000</td>\n",
       "      <td>8760.000000</td>\n",
       "      <td>8.760000e+03</td>\n",
       "      <td>8760.000000</td>\n",
       "    </tr>\n",
       "    <tr>\n",
       "      <th>mean</th>\n",
       "      <td>17.0</td>\n",
       "      <td>6003.0</td>\n",
       "      <td>900.0</td>\n",
       "      <td>3.026313</td>\n",
       "      <td>1269.768699</td>\n",
       "      <td>9.999900e+03</td>\n",
       "      <td>1009.523847</td>\n",
       "      <td>13.588573</td>\n",
       "      <td>76.515982</td>\n",
       "      <td>154.540183</td>\n",
       "      <td>9.999900e+03</td>\n",
       "      <td>0.051461</td>\n",
       "    </tr>\n",
       "    <tr>\n",
       "      <th>std</th>\n",
       "      <td>0.0</td>\n",
       "      <td>0.0</td>\n",
       "      <td>0.0</td>\n",
       "      <td>106.833160</td>\n",
       "      <td>3105.404057</td>\n",
       "      <td>5.893862e-10</td>\n",
       "      <td>96.384523</td>\n",
       "      <td>107.113841</td>\n",
       "      <td>20.456168</td>\n",
       "      <td>248.762794</td>\n",
       "      <td>5.893862e-10</td>\n",
       "      <td>0.398994</td>\n",
       "    </tr>\n",
       "    <tr>\n",
       "      <th>min</th>\n",
       "      <td>17.0</td>\n",
       "      <td>6003.0</td>\n",
       "      <td>900.0</td>\n",
       "      <td>0.000000</td>\n",
       "      <td>0.000000</td>\n",
       "      <td>9.999900e+03</td>\n",
       "      <td>986.000000</td>\n",
       "      <td>-9.700000</td>\n",
       "      <td>15.000000</td>\n",
       "      <td>0.000000</td>\n",
       "      <td>9.999900e+03</td>\n",
       "      <td>0.000000</td>\n",
       "    </tr>\n",
       "    <tr>\n",
       "      <th>25%</th>\n",
       "      <td>17.0</td>\n",
       "      <td>6003.0</td>\n",
       "      <td>900.0</td>\n",
       "      <td>0.800000</td>\n",
       "      <td>57.175000</td>\n",
       "      <td>9.999900e+03</td>\n",
       "      <td>1004.000000</td>\n",
       "      <td>4.900000</td>\n",
       "      <td>62.000000</td>\n",
       "      <td>0.000000</td>\n",
       "      <td>9.999900e+03</td>\n",
       "      <td>0.000000</td>\n",
       "    </tr>\n",
       "    <tr>\n",
       "      <th>50%</th>\n",
       "      <td>17.0</td>\n",
       "      <td>6003.0</td>\n",
       "      <td>900.0</td>\n",
       "      <td>1.700000</td>\n",
       "      <td>219.400000</td>\n",
       "      <td>9.999900e+03</td>\n",
       "      <td>1008.000000</td>\n",
       "      <td>12.200000</td>\n",
       "      <td>82.000000</td>\n",
       "      <td>0.000000</td>\n",
       "      <td>9.999900e+03</td>\n",
       "      <td>0.000000</td>\n",
       "    </tr>\n",
       "    <tr>\n",
       "      <th>75%</th>\n",
       "      <td>17.0</td>\n",
       "      <td>6003.0</td>\n",
       "      <td>900.0</td>\n",
       "      <td>2.600000</td>\n",
       "      <td>250.400000</td>\n",
       "      <td>9.999900e+03</td>\n",
       "      <td>1013.000000</td>\n",
       "      <td>18.900000</td>\n",
       "      <td>94.000000</td>\n",
       "      <td>232.000000</td>\n",
       "      <td>9.999900e+03</td>\n",
       "      <td>0.000000</td>\n",
       "    </tr>\n",
       "    <tr>\n",
       "      <th>max</th>\n",
       "      <td>17.0</td>\n",
       "      <td>6003.0</td>\n",
       "      <td>900.0</td>\n",
       "      <td>9999.900000</td>\n",
       "      <td>9999.900000</td>\n",
       "      <td>9.999900e+03</td>\n",
       "      <td>9999.900000</td>\n",
       "      <td>9999.900000</td>\n",
       "      <td>100.000000</td>\n",
       "      <td>1063.000000</td>\n",
       "      <td>9.999900e+03</td>\n",
       "      <td>12.600000</td>\n",
       "    </tr>\n",
       "  </tbody>\n",
       "</table>\n",
       "</div>"
      ],
      "text/plain": [
       "       id_rete_monit  comune_istat  stazione_istat    vento_vel    vento_dir  \\\n",
       "count         8760.0        8760.0          8760.0  8760.000000  8760.000000   \n",
       "mean            17.0        6003.0           900.0     3.026313  1269.768699   \n",
       "std              0.0           0.0             0.0   106.833160  3105.404057   \n",
       "min             17.0        6003.0           900.0     0.000000     0.000000   \n",
       "25%             17.0        6003.0           900.0     0.800000    57.175000   \n",
       "50%             17.0        6003.0           900.0     1.700000   219.400000   \n",
       "75%             17.0        6003.0           900.0     2.600000   250.400000   \n",
       "max             17.0        6003.0           900.0  9999.900000  9999.900000   \n",
       "\n",
       "           std_velt         baro        terma         igro      rad_dir  \\\n",
       "count  8.760000e+03  8760.000000  8760.000000  8760.000000  8760.000000   \n",
       "mean   9.999900e+03  1009.523847    13.588573    76.515982   154.540183   \n",
       "std    5.893862e-10    96.384523   107.113841    20.456168   248.762794   \n",
       "min    9.999900e+03   986.000000    -9.700000    15.000000     0.000000   \n",
       "25%    9.999900e+03  1004.000000     4.900000    62.000000     0.000000   \n",
       "50%    9.999900e+03  1008.000000    12.200000    82.000000     0.000000   \n",
       "75%    9.999900e+03  1013.000000    18.900000    94.000000   232.000000   \n",
       "max    9.999900e+03  9999.900000  9999.900000   100.000000  1063.000000   \n",
       "\n",
       "            rad_rif         pluv  \n",
       "count  8.760000e+03  8760.000000  \n",
       "mean   9.999900e+03     0.051461  \n",
       "std    5.893862e-10     0.398994  \n",
       "min    9.999900e+03     0.000000  \n",
       "25%    9.999900e+03     0.000000  \n",
       "50%    9.999900e+03     0.000000  \n",
       "75%    9.999900e+03     0.000000  \n",
       "max    9.999900e+03    12.600000  "
      ]
     },
     "execution_count": 7,
     "metadata": {},
     "output_type": "execute_result"
    }
   ],
   "source": [
    "meteo.describe()"
   ]
  },
  {
   "cell_type": "markdown",
   "metadata": {},
   "source": [
    "#### Osserrvazioni\n",
    "Notiamo che **id_rete_monit**, **comune_istat** e **stazione_istat** contengono sempre gli stessi valori identificativi della stazione di monitoraggio di Alessandria, quindi possiamo eliminarle per ridurre le dimensioni del nostro dataframe.  \n",
    "\n",
    "\n",
    "Inoltre guardando i minimi e massimi possiamo notare come alcuni sensori non fossero del tutto funzionanti sostituendo valori molto alti nel momento in cui la misurazione non era andata a buon fine.\n",
    "\n",
    "Possiamo trattarli specificatamente uno alla volta come esercizio di pulitura ed esplorazione."
   ]
  },
  {
   "cell_type": "code",
   "execution_count": 8,
   "metadata": {
    "collapsed": true
   },
   "outputs": [],
   "source": [
    "meteo_al = meteo.drop(['id_rete_monit', 'comune_istat', 'stazione_istat'], axis=1)"
   ]
  },
  {
   "cell_type": "code",
   "execution_count": 9,
   "metadata": {},
   "outputs": [
    {
     "data": {
      "text/html": [
       "<div>\n",
       "<style>\n",
       "    .dataframe thead tr:only-child th {\n",
       "        text-align: right;\n",
       "    }\n",
       "\n",
       "    .dataframe thead th {\n",
       "        text-align: left;\n",
       "    }\n",
       "\n",
       "    .dataframe tbody tr th {\n",
       "        vertical-align: top;\n",
       "    }\n",
       "</style>\n",
       "<table border=\"1\" class=\"dataframe\">\n",
       "  <thead>\n",
       "    <tr style=\"text-align: right;\">\n",
       "      <th></th>\n",
       "      <th>data</th>\n",
       "      <th>ora</th>\n",
       "      <th>vento_vel</th>\n",
       "      <th>vento_dir</th>\n",
       "      <th>std_velt</th>\n",
       "      <th>baro</th>\n",
       "      <th>terma</th>\n",
       "      <th>igro</th>\n",
       "      <th>rad_dir</th>\n",
       "      <th>rad_rif</th>\n",
       "      <th>pluv</th>\n",
       "    </tr>\n",
       "  </thead>\n",
       "  <tbody>\n",
       "    <tr>\n",
       "      <th>0</th>\n",
       "      <td>01-01-2001</td>\n",
       "      <td>00:00</td>\n",
       "      <td>1.8</td>\n",
       "      <td>189.1</td>\n",
       "      <td>9999.9</td>\n",
       "      <td>1012.0</td>\n",
       "      <td>-1.9</td>\n",
       "      <td>87.0</td>\n",
       "      <td>0.0</td>\n",
       "      <td>9999.9</td>\n",
       "      <td>0.0</td>\n",
       "    </tr>\n",
       "    <tr>\n",
       "      <th>1</th>\n",
       "      <td>01-01-2001</td>\n",
       "      <td>01:00</td>\n",
       "      <td>1.6</td>\n",
       "      <td>223.9</td>\n",
       "      <td>9999.9</td>\n",
       "      <td>1012.0</td>\n",
       "      <td>-2.4</td>\n",
       "      <td>90.0</td>\n",
       "      <td>0.0</td>\n",
       "      <td>9999.9</td>\n",
       "      <td>0.0</td>\n",
       "    </tr>\n",
       "    <tr>\n",
       "      <th>2</th>\n",
       "      <td>01-01-2001</td>\n",
       "      <td>02:00</td>\n",
       "      <td>2.6</td>\n",
       "      <td>238.7</td>\n",
       "      <td>9999.9</td>\n",
       "      <td>1012.0</td>\n",
       "      <td>-2.3</td>\n",
       "      <td>90.0</td>\n",
       "      <td>0.0</td>\n",
       "      <td>9999.9</td>\n",
       "      <td>0.0</td>\n",
       "    </tr>\n",
       "    <tr>\n",
       "      <th>3</th>\n",
       "      <td>01-01-2001</td>\n",
       "      <td>03:00</td>\n",
       "      <td>1.6</td>\n",
       "      <td>196.9</td>\n",
       "      <td>9999.9</td>\n",
       "      <td>1012.0</td>\n",
       "      <td>-2.6</td>\n",
       "      <td>90.0</td>\n",
       "      <td>0.0</td>\n",
       "      <td>9999.9</td>\n",
       "      <td>0.0</td>\n",
       "    </tr>\n",
       "    <tr>\n",
       "      <th>4</th>\n",
       "      <td>01-01-2001</td>\n",
       "      <td>04:00</td>\n",
       "      <td>1.1</td>\n",
       "      <td>204.7</td>\n",
       "      <td>9999.9</td>\n",
       "      <td>1012.0</td>\n",
       "      <td>-3.2</td>\n",
       "      <td>91.0</td>\n",
       "      <td>0.0</td>\n",
       "      <td>9999.9</td>\n",
       "      <td>0.0</td>\n",
       "    </tr>\n",
       "  </tbody>\n",
       "</table>\n",
       "</div>"
      ],
      "text/plain": [
       "         data    ora  vento_vel  vento_dir  std_velt    baro  terma  igro  \\\n",
       "0  01-01-2001  00:00        1.8      189.1    9999.9  1012.0   -1.9  87.0   \n",
       "1  01-01-2001  01:00        1.6      223.9    9999.9  1012.0   -2.4  90.0   \n",
       "2  01-01-2001  02:00        2.6      238.7    9999.9  1012.0   -2.3  90.0   \n",
       "3  01-01-2001  03:00        1.6      196.9    9999.9  1012.0   -2.6  90.0   \n",
       "4  01-01-2001  04:00        1.1      204.7    9999.9  1012.0   -3.2  91.0   \n",
       "\n",
       "   rad_dir  rad_rif  pluv  \n",
       "0      0.0   9999.9   0.0  \n",
       "1      0.0   9999.9   0.0  \n",
       "2      0.0   9999.9   0.0  \n",
       "3      0.0   9999.9   0.0  \n",
       "4      0.0   9999.9   0.0  "
      ]
     },
     "execution_count": 9,
     "metadata": {},
     "output_type": "execute_result"
    }
   ],
   "source": [
    "meteo_al.head()"
   ]
  },
  {
   "cell_type": "code",
   "execution_count": 10,
   "metadata": {},
   "outputs": [
    {
     "data": {
      "text/html": [
       "<div>\n",
       "<style>\n",
       "    .dataframe thead tr:only-child th {\n",
       "        text-align: right;\n",
       "    }\n",
       "\n",
       "    .dataframe thead th {\n",
       "        text-align: left;\n",
       "    }\n",
       "\n",
       "    .dataframe tbody tr th {\n",
       "        vertical-align: top;\n",
       "    }\n",
       "</style>\n",
       "<table border=\"1\" class=\"dataframe\">\n",
       "  <thead>\n",
       "    <tr style=\"text-align: right;\">\n",
       "      <th></th>\n",
       "      <th>data</th>\n",
       "      <th>ora</th>\n",
       "      <th>vento_vel</th>\n",
       "      <th>vento_dir</th>\n",
       "      <th>std_velt</th>\n",
       "      <th>baro</th>\n",
       "      <th>terma</th>\n",
       "      <th>igro</th>\n",
       "      <th>rad_dir</th>\n",
       "      <th>rad_rif</th>\n",
       "      <th>pluv</th>\n",
       "    </tr>\n",
       "  </thead>\n",
       "  <tbody>\n",
       "    <tr>\n",
       "      <th>8755</th>\n",
       "      <td>31-12-2001</td>\n",
       "      <td>19:00</td>\n",
       "      <td>5.9</td>\n",
       "      <td>5.3</td>\n",
       "      <td>9999.9</td>\n",
       "      <td>1019.0</td>\n",
       "      <td>3.3</td>\n",
       "      <td>22.0</td>\n",
       "      <td>0.0</td>\n",
       "      <td>9999.9</td>\n",
       "      <td>0.0</td>\n",
       "    </tr>\n",
       "    <tr>\n",
       "      <th>8756</th>\n",
       "      <td>31-12-2001</td>\n",
       "      <td>20:00</td>\n",
       "      <td>3.1</td>\n",
       "      <td>12.9</td>\n",
       "      <td>9999.9</td>\n",
       "      <td>1020.0</td>\n",
       "      <td>0.9</td>\n",
       "      <td>29.0</td>\n",
       "      <td>0.0</td>\n",
       "      <td>9999.9</td>\n",
       "      <td>0.0</td>\n",
       "    </tr>\n",
       "    <tr>\n",
       "      <th>8757</th>\n",
       "      <td>31-12-2001</td>\n",
       "      <td>21:00</td>\n",
       "      <td>2.6</td>\n",
       "      <td>89.3</td>\n",
       "      <td>9999.9</td>\n",
       "      <td>1021.0</td>\n",
       "      <td>-1.1</td>\n",
       "      <td>38.0</td>\n",
       "      <td>0.0</td>\n",
       "      <td>9999.9</td>\n",
       "      <td>0.0</td>\n",
       "    </tr>\n",
       "    <tr>\n",
       "      <th>8758</th>\n",
       "      <td>31-12-2001</td>\n",
       "      <td>22:00</td>\n",
       "      <td>0.3</td>\n",
       "      <td>150.2</td>\n",
       "      <td>9999.9</td>\n",
       "      <td>1022.0</td>\n",
       "      <td>-2.3</td>\n",
       "      <td>42.0</td>\n",
       "      <td>0.0</td>\n",
       "      <td>9999.9</td>\n",
       "      <td>0.0</td>\n",
       "    </tr>\n",
       "    <tr>\n",
       "      <th>8759</th>\n",
       "      <td>31-12-2001</td>\n",
       "      <td>23:00</td>\n",
       "      <td>2.5</td>\n",
       "      <td>256.3</td>\n",
       "      <td>9999.9</td>\n",
       "      <td>1023.0</td>\n",
       "      <td>-4.4</td>\n",
       "      <td>52.0</td>\n",
       "      <td>0.0</td>\n",
       "      <td>9999.9</td>\n",
       "      <td>0.0</td>\n",
       "    </tr>\n",
       "  </tbody>\n",
       "</table>\n",
       "</div>"
      ],
      "text/plain": [
       "            data    ora  vento_vel  vento_dir  std_velt    baro  terma  igro  \\\n",
       "8755  31-12-2001  19:00        5.9        5.3    9999.9  1019.0    3.3  22.0   \n",
       "8756  31-12-2001  20:00        3.1       12.9    9999.9  1020.0    0.9  29.0   \n",
       "8757  31-12-2001  21:00        2.6       89.3    9999.9  1021.0   -1.1  38.0   \n",
       "8758  31-12-2001  22:00        0.3      150.2    9999.9  1022.0   -2.3  42.0   \n",
       "8759  31-12-2001  23:00        2.5      256.3    9999.9  1023.0   -4.4  52.0   \n",
       "\n",
       "      rad_dir  rad_rif  pluv  \n",
       "8755      0.0   9999.9   0.0  \n",
       "8756      0.0   9999.9   0.0  \n",
       "8757      0.0   9999.9   0.0  \n",
       "8758      0.0   9999.9   0.0  \n",
       "8759      0.0   9999.9   0.0  "
      ]
     },
     "execution_count": 10,
     "metadata": {},
     "output_type": "execute_result"
    }
   ],
   "source": [
    "meteo_al.tail()"
   ]
  },
  {
   "cell_type": "markdown",
   "metadata": {},
   "source": [
    "#### Aggiunta colonna mese\n",
    "Al fine di verificare l'andamento anche del corso dei mesi in successive analisi per semplicità aggiungiamo una colonna mese elaborando la data già presente fra i nostri dati.\n",
    "\n",
    "Nota: esistono librerie standard inerenti all'elaborazione e manipolazione di date ed ore."
   ]
  },
  {
   "cell_type": "code",
   "execution_count": 11,
   "metadata": {
    "collapsed": true
   },
   "outputs": [],
   "source": [
    "meteo_al['mese'] = meteo_al['data'].apply(lambda mese: mese.split('-')[1])"
   ]
  },
  {
   "cell_type": "code",
   "execution_count": 12,
   "metadata": {},
   "outputs": [
    {
     "data": {
      "text/html": [
       "<div>\n",
       "<style>\n",
       "    .dataframe thead tr:only-child th {\n",
       "        text-align: right;\n",
       "    }\n",
       "\n",
       "    .dataframe thead th {\n",
       "        text-align: left;\n",
       "    }\n",
       "\n",
       "    .dataframe tbody tr th {\n",
       "        vertical-align: top;\n",
       "    }\n",
       "</style>\n",
       "<table border=\"1\" class=\"dataframe\">\n",
       "  <thead>\n",
       "    <tr style=\"text-align: right;\">\n",
       "      <th></th>\n",
       "      <th>data</th>\n",
       "      <th>ora</th>\n",
       "      <th>vento_vel</th>\n",
       "      <th>vento_dir</th>\n",
       "      <th>std_velt</th>\n",
       "      <th>baro</th>\n",
       "      <th>terma</th>\n",
       "      <th>igro</th>\n",
       "      <th>rad_dir</th>\n",
       "      <th>rad_rif</th>\n",
       "      <th>pluv</th>\n",
       "      <th>mese</th>\n",
       "    </tr>\n",
       "  </thead>\n",
       "  <tbody>\n",
       "    <tr>\n",
       "      <th>0</th>\n",
       "      <td>01-01-2001</td>\n",
       "      <td>00:00</td>\n",
       "      <td>1.8</td>\n",
       "      <td>189.1</td>\n",
       "      <td>9999.9</td>\n",
       "      <td>1012.0</td>\n",
       "      <td>-1.9</td>\n",
       "      <td>87.0</td>\n",
       "      <td>0.0</td>\n",
       "      <td>9999.9</td>\n",
       "      <td>0.0</td>\n",
       "      <td>01</td>\n",
       "    </tr>\n",
       "    <tr>\n",
       "      <th>1</th>\n",
       "      <td>01-01-2001</td>\n",
       "      <td>01:00</td>\n",
       "      <td>1.6</td>\n",
       "      <td>223.9</td>\n",
       "      <td>9999.9</td>\n",
       "      <td>1012.0</td>\n",
       "      <td>-2.4</td>\n",
       "      <td>90.0</td>\n",
       "      <td>0.0</td>\n",
       "      <td>9999.9</td>\n",
       "      <td>0.0</td>\n",
       "      <td>01</td>\n",
       "    </tr>\n",
       "    <tr>\n",
       "      <th>2</th>\n",
       "      <td>01-01-2001</td>\n",
       "      <td>02:00</td>\n",
       "      <td>2.6</td>\n",
       "      <td>238.7</td>\n",
       "      <td>9999.9</td>\n",
       "      <td>1012.0</td>\n",
       "      <td>-2.3</td>\n",
       "      <td>90.0</td>\n",
       "      <td>0.0</td>\n",
       "      <td>9999.9</td>\n",
       "      <td>0.0</td>\n",
       "      <td>01</td>\n",
       "    </tr>\n",
       "    <tr>\n",
       "      <th>3</th>\n",
       "      <td>01-01-2001</td>\n",
       "      <td>03:00</td>\n",
       "      <td>1.6</td>\n",
       "      <td>196.9</td>\n",
       "      <td>9999.9</td>\n",
       "      <td>1012.0</td>\n",
       "      <td>-2.6</td>\n",
       "      <td>90.0</td>\n",
       "      <td>0.0</td>\n",
       "      <td>9999.9</td>\n",
       "      <td>0.0</td>\n",
       "      <td>01</td>\n",
       "    </tr>\n",
       "    <tr>\n",
       "      <th>4</th>\n",
       "      <td>01-01-2001</td>\n",
       "      <td>04:00</td>\n",
       "      <td>1.1</td>\n",
       "      <td>204.7</td>\n",
       "      <td>9999.9</td>\n",
       "      <td>1012.0</td>\n",
       "      <td>-3.2</td>\n",
       "      <td>91.0</td>\n",
       "      <td>0.0</td>\n",
       "      <td>9999.9</td>\n",
       "      <td>0.0</td>\n",
       "      <td>01</td>\n",
       "    </tr>\n",
       "  </tbody>\n",
       "</table>\n",
       "</div>"
      ],
      "text/plain": [
       "         data    ora  vento_vel  vento_dir  std_velt    baro  terma  igro  \\\n",
       "0  01-01-2001  00:00        1.8      189.1    9999.9  1012.0   -1.9  87.0   \n",
       "1  01-01-2001  01:00        1.6      223.9    9999.9  1012.0   -2.4  90.0   \n",
       "2  01-01-2001  02:00        2.6      238.7    9999.9  1012.0   -2.3  90.0   \n",
       "3  01-01-2001  03:00        1.6      196.9    9999.9  1012.0   -2.6  90.0   \n",
       "4  01-01-2001  04:00        1.1      204.7    9999.9  1012.0   -3.2  91.0   \n",
       "\n",
       "   rad_dir  rad_rif  pluv mese  \n",
       "0      0.0   9999.9   0.0   01  \n",
       "1      0.0   9999.9   0.0   01  \n",
       "2      0.0   9999.9   0.0   01  \n",
       "3      0.0   9999.9   0.0   01  \n",
       "4      0.0   9999.9   0.0   01  "
      ]
     },
     "execution_count": 12,
     "metadata": {},
     "output_type": "execute_result"
    }
   ],
   "source": [
    "meteo_al.head()"
   ]
  },
  {
   "cell_type": "code",
   "execution_count": null,
   "metadata": {
    "collapsed": true
   },
   "outputs": [],
   "source": []
  },
  {
   "cell_type": "markdown",
   "metadata": {},
   "source": [
    "#### Decidiamo che vogliamo trattare la velocità del vento.  \n",
    "Quanti sono i valori anomali riscontrati?  \n",
    "Analizziamo i valori statistici per decidere una soglia oltre la quale i valori non hanno senso e togliamo tali valori."
   ]
  },
  {
   "cell_type": "code",
   "execution_count": 13,
   "metadata": {},
   "outputs": [
    {
     "data": {
      "text/html": [
       "<div>\n",
       "<style>\n",
       "    .dataframe thead tr:only-child th {\n",
       "        text-align: right;\n",
       "    }\n",
       "\n",
       "    .dataframe thead th {\n",
       "        text-align: left;\n",
       "    }\n",
       "\n",
       "    .dataframe tbody tr th {\n",
       "        vertical-align: top;\n",
       "    }\n",
       "</style>\n",
       "<table border=\"1\" class=\"dataframe\">\n",
       "  <thead>\n",
       "    <tr style=\"text-align: right;\">\n",
       "      <th></th>\n",
       "      <th>vento_vel</th>\n",
       "      <th>vento_dir</th>\n",
       "      <th>std_velt</th>\n",
       "      <th>baro</th>\n",
       "      <th>terma</th>\n",
       "      <th>igro</th>\n",
       "      <th>rad_dir</th>\n",
       "      <th>rad_rif</th>\n",
       "      <th>pluv</th>\n",
       "    </tr>\n",
       "  </thead>\n",
       "  <tbody>\n",
       "    <tr>\n",
       "      <th>count</th>\n",
       "      <td>8760.000000</td>\n",
       "      <td>8760.000000</td>\n",
       "      <td>8.760000e+03</td>\n",
       "      <td>8760.000000</td>\n",
       "      <td>8760.000000</td>\n",
       "      <td>8760.000000</td>\n",
       "      <td>8760.000000</td>\n",
       "      <td>8.760000e+03</td>\n",
       "      <td>8760.000000</td>\n",
       "    </tr>\n",
       "    <tr>\n",
       "      <th>mean</th>\n",
       "      <td>3.026313</td>\n",
       "      <td>1269.768699</td>\n",
       "      <td>9.999900e+03</td>\n",
       "      <td>1009.523847</td>\n",
       "      <td>13.588573</td>\n",
       "      <td>76.515982</td>\n",
       "      <td>154.540183</td>\n",
       "      <td>9.999900e+03</td>\n",
       "      <td>0.051461</td>\n",
       "    </tr>\n",
       "    <tr>\n",
       "      <th>std</th>\n",
       "      <td>106.833160</td>\n",
       "      <td>3105.404057</td>\n",
       "      <td>5.893862e-10</td>\n",
       "      <td>96.384523</td>\n",
       "      <td>107.113841</td>\n",
       "      <td>20.456168</td>\n",
       "      <td>248.762794</td>\n",
       "      <td>5.893862e-10</td>\n",
       "      <td>0.398994</td>\n",
       "    </tr>\n",
       "    <tr>\n",
       "      <th>min</th>\n",
       "      <td>0.000000</td>\n",
       "      <td>0.000000</td>\n",
       "      <td>9.999900e+03</td>\n",
       "      <td>986.000000</td>\n",
       "      <td>-9.700000</td>\n",
       "      <td>15.000000</td>\n",
       "      <td>0.000000</td>\n",
       "      <td>9.999900e+03</td>\n",
       "      <td>0.000000</td>\n",
       "    </tr>\n",
       "    <tr>\n",
       "      <th>25%</th>\n",
       "      <td>0.800000</td>\n",
       "      <td>57.175000</td>\n",
       "      <td>9.999900e+03</td>\n",
       "      <td>1004.000000</td>\n",
       "      <td>4.900000</td>\n",
       "      <td>62.000000</td>\n",
       "      <td>0.000000</td>\n",
       "      <td>9.999900e+03</td>\n",
       "      <td>0.000000</td>\n",
       "    </tr>\n",
       "    <tr>\n",
       "      <th>50%</th>\n",
       "      <td>1.700000</td>\n",
       "      <td>219.400000</td>\n",
       "      <td>9.999900e+03</td>\n",
       "      <td>1008.000000</td>\n",
       "      <td>12.200000</td>\n",
       "      <td>82.000000</td>\n",
       "      <td>0.000000</td>\n",
       "      <td>9.999900e+03</td>\n",
       "      <td>0.000000</td>\n",
       "    </tr>\n",
       "    <tr>\n",
       "      <th>75%</th>\n",
       "      <td>2.600000</td>\n",
       "      <td>250.400000</td>\n",
       "      <td>9.999900e+03</td>\n",
       "      <td>1013.000000</td>\n",
       "      <td>18.900000</td>\n",
       "      <td>94.000000</td>\n",
       "      <td>232.000000</td>\n",
       "      <td>9.999900e+03</td>\n",
       "      <td>0.000000</td>\n",
       "    </tr>\n",
       "    <tr>\n",
       "      <th>max</th>\n",
       "      <td>9999.900000</td>\n",
       "      <td>9999.900000</td>\n",
       "      <td>9.999900e+03</td>\n",
       "      <td>9999.900000</td>\n",
       "      <td>9999.900000</td>\n",
       "      <td>100.000000</td>\n",
       "      <td>1063.000000</td>\n",
       "      <td>9.999900e+03</td>\n",
       "      <td>12.600000</td>\n",
       "    </tr>\n",
       "  </tbody>\n",
       "</table>\n",
       "</div>"
      ],
      "text/plain": [
       "         vento_vel    vento_dir      std_velt         baro        terma  \\\n",
       "count  8760.000000  8760.000000  8.760000e+03  8760.000000  8760.000000   \n",
       "mean      3.026313  1269.768699  9.999900e+03  1009.523847    13.588573   \n",
       "std     106.833160  3105.404057  5.893862e-10    96.384523   107.113841   \n",
       "min       0.000000     0.000000  9.999900e+03   986.000000    -9.700000   \n",
       "25%       0.800000    57.175000  9.999900e+03  1004.000000     4.900000   \n",
       "50%       1.700000   219.400000  9.999900e+03  1008.000000    12.200000   \n",
       "75%       2.600000   250.400000  9.999900e+03  1013.000000    18.900000   \n",
       "max    9999.900000  9999.900000  9.999900e+03  9999.900000  9999.900000   \n",
       "\n",
       "              igro      rad_dir       rad_rif         pluv  \n",
       "count  8760.000000  8760.000000  8.760000e+03  8760.000000  \n",
       "mean     76.515982   154.540183  9.999900e+03     0.051461  \n",
       "std      20.456168   248.762794  5.893862e-10     0.398994  \n",
       "min      15.000000     0.000000  9.999900e+03     0.000000  \n",
       "25%      62.000000     0.000000  9.999900e+03     0.000000  \n",
       "50%      82.000000     0.000000  9.999900e+03     0.000000  \n",
       "75%      94.000000   232.000000  9.999900e+03     0.000000  \n",
       "max     100.000000  1063.000000  9.999900e+03    12.600000  "
      ]
     },
     "execution_count": 13,
     "metadata": {},
     "output_type": "execute_result"
    }
   ],
   "source": [
    "meteo_al.describe()"
   ]
  },
  {
   "cell_type": "code",
   "execution_count": 14,
   "metadata": {},
   "outputs": [
    {
     "data": {
      "text/html": [
       "<div>\n",
       "<style>\n",
       "    .dataframe thead tr:only-child th {\n",
       "        text-align: right;\n",
       "    }\n",
       "\n",
       "    .dataframe thead th {\n",
       "        text-align: left;\n",
       "    }\n",
       "\n",
       "    .dataframe tbody tr th {\n",
       "        vertical-align: top;\n",
       "    }\n",
       "</style>\n",
       "<table border=\"1\" class=\"dataframe\">\n",
       "  <thead>\n",
       "    <tr style=\"text-align: right;\">\n",
       "      <th></th>\n",
       "      <th>data</th>\n",
       "      <th>ora</th>\n",
       "      <th>vento_vel</th>\n",
       "      <th>vento_dir</th>\n",
       "      <th>std_velt</th>\n",
       "      <th>baro</th>\n",
       "      <th>terma</th>\n",
       "      <th>igro</th>\n",
       "      <th>rad_dir</th>\n",
       "      <th>rad_rif</th>\n",
       "      <th>pluv</th>\n",
       "      <th>mese</th>\n",
       "    </tr>\n",
       "  </thead>\n",
       "  <tbody>\n",
       "    <tr>\n",
       "      <th>6417</th>\n",
       "      <td>25-09-2001</td>\n",
       "      <td>09:00</td>\n",
       "      <td>9999.9</td>\n",
       "      <td>9999.9</td>\n",
       "      <td>9999.9</td>\n",
       "      <td>1006.0</td>\n",
       "      <td>16.4</td>\n",
       "      <td>99.0</td>\n",
       "      <td>266.0</td>\n",
       "      <td>9999.9</td>\n",
       "      <td>0.0</td>\n",
       "      <td>09</td>\n",
       "    </tr>\n",
       "  </tbody>\n",
       "</table>\n",
       "</div>"
      ],
      "text/plain": [
       "            data    ora  vento_vel  vento_dir  std_velt    baro  terma  igro  \\\n",
       "6417  25-09-2001  09:00     9999.9     9999.9    9999.9  1006.0   16.4  99.0   \n",
       "\n",
       "      rad_dir  rad_rif  pluv mese  \n",
       "6417    266.0   9999.9   0.0   09  "
      ]
     },
     "execution_count": 14,
     "metadata": {},
     "output_type": "execute_result"
    }
   ],
   "source": [
    "meteo_al[meteo_al['vento_vel'] > 50]"
   ]
  },
  {
   "cell_type": "code",
   "execution_count": 15,
   "metadata": {
    "collapsed": true
   },
   "outputs": [],
   "source": [
    "al = meteo_al.drop(6417)"
   ]
  },
  {
   "cell_type": "code",
   "execution_count": 16,
   "metadata": {},
   "outputs": [
    {
     "data": {
      "image/png": "[encoded data removed]",
      "text/plain": [
       "<matplotlib.figure.Figure at 0x10ba97f60>"
      ]
     },
     "metadata": {},
     "output_type": "display_data"
    }
   ],
   "source": [
    "plt.plot(al['pluv'], al['vento_vel'], marker='.', linestyle='', alpha=0.5, c='pink')\n",
    "plt.show()"
   ]
  },
  {
   "cell_type": "code",
   "execution_count": null,
   "metadata": {
    "collapsed": true
   },
   "outputs": [],
   "source": []
  },
  {
   "cell_type": "markdown",
   "metadata": {},
   "source": [
    "#### Giorni più piovosi\n",
    "Sempre analizzando i dati statistici andiamo a stabilire una soglia per valutare i giorni più piovosi.  \n",
    "Giochiamo un po' con questi parametri per notare come cambiamo i risultati."
   ]
  },
  {
   "cell_type": "code",
   "execution_count": 17,
   "metadata": {},
   "outputs": [
    {
     "data": {
      "text/plain": [
       "(121, 12)"
      ]
     },
     "execution_count": 17,
     "metadata": {},
     "output_type": "execute_result"
    }
   ],
   "source": [
    "piovoso = meteo_al[meteo_al['pluv'] > 1]\n",
    "piovoso.shape"
   ]
  },
  {
   "cell_type": "code",
   "execution_count": 18,
   "metadata": {},
   "outputs": [
    {
     "data": {
      "text/html": [
       "<div>\n",
       "<style>\n",
       "    .dataframe thead tr:only-child th {\n",
       "        text-align: right;\n",
       "    }\n",
       "\n",
       "    .dataframe thead th {\n",
       "        text-align: left;\n",
       "    }\n",
       "\n",
       "    .dataframe tbody tr th {\n",
       "        vertical-align: top;\n",
       "    }\n",
       "</style>\n",
       "<table border=\"1\" class=\"dataframe\">\n",
       "  <thead>\n",
       "    <tr style=\"text-align: right;\">\n",
       "      <th></th>\n",
       "      <th>data</th>\n",
       "      <th>ora</th>\n",
       "      <th>vento_vel</th>\n",
       "      <th>vento_dir</th>\n",
       "      <th>std_velt</th>\n",
       "      <th>baro</th>\n",
       "      <th>terma</th>\n",
       "      <th>igro</th>\n",
       "      <th>rad_dir</th>\n",
       "      <th>rad_rif</th>\n",
       "      <th>pluv</th>\n",
       "      <th>mese</th>\n",
       "    </tr>\n",
       "  </thead>\n",
       "  <tbody>\n",
       "    <tr>\n",
       "      <th>39</th>\n",
       "      <td>02-01-2001</td>\n",
       "      <td>15:00</td>\n",
       "      <td>0.0</td>\n",
       "      <td>9999.9</td>\n",
       "      <td>9999.9</td>\n",
       "      <td>1007.0</td>\n",
       "      <td>0.3</td>\n",
       "      <td>98.0</td>\n",
       "      <td>0.0</td>\n",
       "      <td>9999.9</td>\n",
       "      <td>2.2</td>\n",
       "      <td>01</td>\n",
       "    </tr>\n",
       "    <tr>\n",
       "      <th>40</th>\n",
       "      <td>02-01-2001</td>\n",
       "      <td>16:00</td>\n",
       "      <td>0.0</td>\n",
       "      <td>9999.9</td>\n",
       "      <td>9999.9</td>\n",
       "      <td>1006.0</td>\n",
       "      <td>0.1</td>\n",
       "      <td>98.0</td>\n",
       "      <td>0.0</td>\n",
       "      <td>9999.9</td>\n",
       "      <td>2.6</td>\n",
       "      <td>01</td>\n",
       "    </tr>\n",
       "    <tr>\n",
       "      <th>41</th>\n",
       "      <td>02-01-2001</td>\n",
       "      <td>17:00</td>\n",
       "      <td>0.3</td>\n",
       "      <td>286.4</td>\n",
       "      <td>9999.9</td>\n",
       "      <td>1007.0</td>\n",
       "      <td>0.0</td>\n",
       "      <td>98.0</td>\n",
       "      <td>0.0</td>\n",
       "      <td>9999.9</td>\n",
       "      <td>3.4</td>\n",
       "      <td>01</td>\n",
       "    </tr>\n",
       "    <tr>\n",
       "      <th>42</th>\n",
       "      <td>02-01-2001</td>\n",
       "      <td>18:00</td>\n",
       "      <td>0.6</td>\n",
       "      <td>228.5</td>\n",
       "      <td>9999.9</td>\n",
       "      <td>1007.0</td>\n",
       "      <td>0.0</td>\n",
       "      <td>98.0</td>\n",
       "      <td>0.0</td>\n",
       "      <td>9999.9</td>\n",
       "      <td>2.2</td>\n",
       "      <td>01</td>\n",
       "    </tr>\n",
       "    <tr>\n",
       "      <th>44</th>\n",
       "      <td>02-01-2001</td>\n",
       "      <td>20:00</td>\n",
       "      <td>1.4</td>\n",
       "      <td>248.2</td>\n",
       "      <td>9999.9</td>\n",
       "      <td>1007.0</td>\n",
       "      <td>-0.1</td>\n",
       "      <td>98.0</td>\n",
       "      <td>0.0</td>\n",
       "      <td>9999.9</td>\n",
       "      <td>2.0</td>\n",
       "      <td>01</td>\n",
       "    </tr>\n",
       "  </tbody>\n",
       "</table>\n",
       "</div>"
      ],
      "text/plain": [
       "          data    ora  vento_vel  vento_dir  std_velt    baro  terma  igro  \\\n",
       "39  02-01-2001  15:00        0.0     9999.9    9999.9  1007.0    0.3  98.0   \n",
       "40  02-01-2001  16:00        0.0     9999.9    9999.9  1006.0    0.1  98.0   \n",
       "41  02-01-2001  17:00        0.3      286.4    9999.9  1007.0    0.0  98.0   \n",
       "42  02-01-2001  18:00        0.6      228.5    9999.9  1007.0    0.0  98.0   \n",
       "44  02-01-2001  20:00        1.4      248.2    9999.9  1007.0   -0.1  98.0   \n",
       "\n",
       "    rad_dir  rad_rif  pluv mese  \n",
       "39      0.0   9999.9   2.2   01  \n",
       "40      0.0   9999.9   2.6   01  \n",
       "41      0.0   9999.9   3.4   01  \n",
       "42      0.0   9999.9   2.2   01  \n",
       "44      0.0   9999.9   2.0   01  "
      ]
     },
     "execution_count": 18,
     "metadata": {},
     "output_type": "execute_result"
    }
   ],
   "source": [
    "piovoso.head()"
   ]
  },
  {
   "cell_type": "code",
   "execution_count": 19,
   "metadata": {},
   "outputs": [
    {
     "data": {
      "image/png": "[encoded data removed]",
      "text/plain": [
       "<matplotlib.figure.Figure at 0x1123acda0>"
      ]
     },
     "metadata": {},
     "output_type": "display_data"
    }
   ],
   "source": [
    "plt.plot(piovoso['pluv'], piovoso['vento_vel'], marker='.', linestyle='', alpha=1, c='skyblue')\n",
    "plt.show()"
   ]
  },
  {
   "cell_type": "code",
   "execution_count": 20,
   "metadata": {},
   "outputs": [
    {
     "data": {
      "image/png": "[encoded data removed]",
      "text/plain": [
       "<matplotlib.figure.Figure at 0x116486278>"
      ]
     },
     "metadata": {},
     "output_type": "display_data"
    }
   ],
   "source": [
    "plt.plot(piovoso['pluv'], piovoso['baro'], marker='.', linestyle='', alpha=1, c='skyblue')\n",
    "plt.show()"
   ]
  },
  {
   "cell_type": "code",
   "execution_count": 21,
   "metadata": {},
   "outputs": [
    {
     "data": {
      "image/png": "[encoded data removed]",
      "text/plain": [
       "<matplotlib.figure.Figure at 0x11660d160>"
      ]
     },
     "metadata": {},
     "output_type": "display_data"
    }
   ],
   "source": [
    "plt.plot(piovoso['vento_vel'], piovoso['baro'], marker='.', linestyle='', alpha=1, c='skyblue')\n",
    "plt.show()"
   ]
  },
  {
   "cell_type": "code",
   "execution_count": 22,
   "metadata": {},
   "outputs": [
    {
     "data": {
      "image/png": "[encoded data removed]",
      "text/plain": [
       "<matplotlib.figure.Figure at 0x1166d7550>"
      ]
     },
     "metadata": {},
     "output_type": "display_data"
    }
   ],
   "source": [
    "piovoso.hist('pluv')\n",
    "plt.show()"
   ]
  },
  {
   "cell_type": "code",
   "execution_count": 23,
   "metadata": {},
   "outputs": [
    {
     "data": {
      "image/png": "[encoded data removed]",
      "text/plain": [
       "<matplotlib.figure.Figure at 0x1167616d8>"
      ]
     },
     "metadata": {},
     "output_type": "display_data"
    }
   ],
   "source": [
    "piovoso.boxplot('pluv')\n",
    "plt.show()"
   ]
  },
  {
   "cell_type": "code",
   "execution_count": null,
   "metadata": {
    "collapsed": true
   },
   "outputs": [],
   "source": []
  },
  {
   "cell_type": "markdown",
   "metadata": {},
   "source": [
    "#### Analiziamo il sensore del vento\n",
    "Osservando i dati statistici questa volta selezioniamo i dati decidendo un limite superiore.  \n",
    "Usiamo diversi grafici statistici per trarre conclusioni."
   ]
  },
  {
   "cell_type": "code",
   "execution_count": 24,
   "metadata": {
    "collapsed": true
   },
   "outputs": [],
   "source": [
    "vento = meteo_al[meteo_al['vento_dir'] < 300]"
   ]
  },
  {
   "cell_type": "code",
   "execution_count": 25,
   "metadata": {},
   "outputs": [
    {
     "data": {
      "image/png": "[encoded data removed]",
      "text/plain": [
       "<matplotlib.figure.Figure at 0x11685e128>"
      ]
     },
     "metadata": {},
     "output_type": "display_data"
    }
   ],
   "source": [
    "vento.hist()\n",
    "plt.show()"
   ]
  },
  {
   "cell_type": "code",
   "execution_count": 26,
   "metadata": {},
   "outputs": [
    {
     "data": {
      "image/png": "[encoded data removed]",
      "text/plain": [
       "<matplotlib.figure.Figure at 0x11b0a87b8>"
      ]
     },
     "metadata": {},
     "output_type": "display_data"
    }
   ],
   "source": [
    "vento['vento_dir'].hist()\n",
    "plt.show()"
   ]
  },
  {
   "cell_type": "code",
   "execution_count": 27,
   "metadata": {},
   "outputs": [
    {
     "data": {
      "image/png": "[encoded data removed]",
      "text/plain": [
       "<matplotlib.figure.Figure at 0x116739518>"
      ]
     },
     "metadata": {},
     "output_type": "display_data"
    }
   ],
   "source": [
    "vento['igro'].hist()\n",
    "plt.show()"
   ]
  },
  {
   "cell_type": "code",
   "execution_count": 28,
   "metadata": {},
   "outputs": [
    {
     "name": "stderr",
     "output_type": "stream",
     "text": [
      "/Users/stefania/anaconda3/lib/python3.6/site-packages/numpy/core/fromnumeric.py:57: FutureWarning: reshape is deprecated and will raise in a subsequent release. Please use .values.reshape(...) instead\n",
      "  return getattr(obj, method)(*args, **kwds)\n"
     ]
    },
    {
     "data": {
      "image/png": "[encoded data removed]",
      "text/plain": [
       "<matplotlib.figure.Figure at 0x1165b9c50>"
      ]
     },
     "metadata": {},
     "output_type": "display_data"
    }
   ],
   "source": [
    "vento[['vento_vel', 'mese']].boxplot(by='mese')\n",
    "plt.show()"
   ]
  },
  {
   "cell_type": "markdown",
   "metadata": {},
   "source": [
    "#### Quali conclusioni puoi trarre da queste prime analisi?"
   ]
  },
  {
   "cell_type": "code",
   "execution_count": null,
   "metadata": {
    "collapsed": true
   },
   "outputs": [],
   "source": []
  },
  {
   "cell_type": "code",
   "execution_count": null,
   "metadata": {
    "collapsed": true
   },
   "outputs": [],
   "source": []
  },
  {
   "cell_type": "code",
   "execution_count": null,
   "metadata": {
    "collapsed": true
   },
   "outputs": [],
   "source": []
  },
  {
   "cell_type": "markdown",
   "metadata": {},
   "source": [
    "## Let's play\n",
    "In questo Jupyter Notebook abbiamo trattato i dati del 2001, puoi iniziare facendo analisi simili e confrontare i dati con gli altri anni includendo gli altri sensori non trattati insieme.\n",
    "\n",
    "In seguito dal link menzionato sopra o dall'intero data base ARPA scarica altri .csv in un'apposita sotto cartella, e analizza l'andamento dei vari sensori. Ricorda che come abbiamo visto ci sono più modi per trattare i dati e creare i grafici, sperimenta applicando tutto ciò che abbiamo imparato insieme ed espandendoti leggendo documentazione o utilizzando `help()`.\n",
    "\n",
    "\n",
    "Buona esplorazione!"
   ]
  },
  {
   "cell_type": "code",
   "execution_count": null,
   "metadata": {
    "collapsed": true
   },
   "outputs": [],
   "source": []
  },
  {
   "cell_type": "code",
   "execution_count": null,
   "metadata": {
    "collapsed": true
   },
   "outputs": [],
   "source": []
  },
  {
   "cell_type": "code",
   "execution_count": null,
   "metadata": {
    "collapsed": true
   },
   "outputs": [],
   "source": []
  }
 ],
 "metadata": {
  "kernelspec": {
   "display_name": "Python 3",
   "language": "python",
   "name": "python3"
  },
  "language_info": {
   "codemirror_mode": {
    "name": "ipython",
    "version": 3
   },
   "file_extension": ".py",
   "mimetype": "text/x-python",
   "name": "python",
   "nbconvert_exporter": "python",
   "pygments_lexer": "ipython3",
   "version": "3.6.3"
  }
 },
 "nbformat": 4,
 "nbformat_minor": 2
}
