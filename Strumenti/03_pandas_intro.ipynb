{
 "cells": [
  {
   "cell_type": "markdown",
   "metadata": {},
   "source": [
    "# Pandas\n",
    "\n",
    "Pandas è una libreria per gestire dataset espressi in diversi formati convertendoli in Pandas dataframe.\n",
    "\n",
    "Sito ufficiale https://pandas.pydata.org"
   ]
  },
  {
   "cell_type": "code",
   "execution_count": 1,
   "metadata": {
    "collapsed": true
   },
   "outputs": [],
   "source": [
    "import pandas as pd"
   ]
  },
  {
   "cell_type": "markdown",
   "metadata": {},
   "source": [
    "## Creiamo un dizionario e trasformiamolo in un Pandas dataframe\n",
    "\n",
    "Puoi aggiungerne altre per esercizio:\n",
    "https://en.wikipedia.org/wiki/List_of_government_space_agencies"
   ]
  },
  {
   "cell_type": "code",
   "execution_count": 2,
   "metadata": {
    "collapsed": true
   },
   "outputs": [],
   "source": [
    "# Da dizionario a dataframe\n",
    "spazio_dict = {'agency_code': ['ASI', 'ESA', 'NASA', 'ROSCOSMOS', 'ISRO', 'ISA', 'JAXA'],\n",
    "          'agency_name': ['Agenzia Spaziale Italiana', \n",
    "                          'European Space Agency',\n",
    "                          'National Aeronautics and Space Administration', \n",
    "                          'Russian Federal Space Agency',\n",
    "                          'Indian Space Research Organisation',\n",
    "                          'Israeli Space Agency', 'Japan Aerospace Exploration Agency'], \n",
    "          'country': ['Italy', 'Europe', 'United States', 'Russia', 'India', 'Israel', 'Japan'],\n",
    "          'year_founded': [1988, 1975, 1958, 1992, 1969, 1983, 2003]}"
   ]
  },
  {
   "cell_type": "markdown",
   "metadata": {},
   "source": [
    "I Pandas datarfame sono strutture dati 2D indicizzati sia sulle colonne che sulle righe.  \n",
    "\n",
    "Chiameremo le colonne **variabili** e le righe **osservazioni**."
   ]
  },
  {
   "cell_type": "code",
   "execution_count": 3,
   "metadata": {
    "scrolled": true
   },
   "outputs": [
    {
     "data": {
      "text/html": [
       "<div>\n",
       "<style>\n",
       "    .dataframe thead tr:only-child th {\n",
       "        text-align: right;\n",
       "    }\n",
       "\n",
       "    .dataframe thead th {\n",
       "        text-align: left;\n",
       "    }\n",
       "\n",
       "    .dataframe tbody tr th {\n",
       "        vertical-align: top;\n",
       "    }\n",
       "</style>\n",
       "<table border=\"1\" class=\"dataframe\">\n",
       "  <thead>\n",
       "    <tr style=\"text-align: right;\">\n",
       "      <th></th>\n",
       "      <th>agency_code</th>\n",
       "      <th>agency_name</th>\n",
       "      <th>country</th>\n",
       "      <th>year_founded</th>\n",
       "    </tr>\n",
       "  </thead>\n",
       "  <tbody>\n",
       "    <tr>\n",
       "      <th>0</th>\n",
       "      <td>ASI</td>\n",
       "      <td>Agenzia Spaziale Italiana</td>\n",
       "      <td>Italy</td>\n",
       "      <td>1988</td>\n",
       "    </tr>\n",
       "    <tr>\n",
       "      <th>1</th>\n",
       "      <td>ESA</td>\n",
       "      <td>European Space Agency</td>\n",
       "      <td>Europe</td>\n",
       "      <td>1975</td>\n",
       "    </tr>\n",
       "    <tr>\n",
       "      <th>2</th>\n",
       "      <td>NASA</td>\n",
       "      <td>National Aeronautics and Space Administration</td>\n",
       "      <td>United States</td>\n",
       "      <td>1958</td>\n",
       "    </tr>\n",
       "    <tr>\n",
       "      <th>3</th>\n",
       "      <td>ROSCOSMOS</td>\n",
       "      <td>Russian Federal Space Agency</td>\n",
       "      <td>Russia</td>\n",
       "      <td>1992</td>\n",
       "    </tr>\n",
       "    <tr>\n",
       "      <th>4</th>\n",
       "      <td>ISRO</td>\n",
       "      <td>Indian Space Research Organisation</td>\n",
       "      <td>India</td>\n",
       "      <td>1969</td>\n",
       "    </tr>\n",
       "    <tr>\n",
       "      <th>5</th>\n",
       "      <td>ISA</td>\n",
       "      <td>Israeli Space Agency</td>\n",
       "      <td>Israel</td>\n",
       "      <td>1983</td>\n",
       "    </tr>\n",
       "    <tr>\n",
       "      <th>6</th>\n",
       "      <td>JAXA</td>\n",
       "      <td>Japan Aerospace Exploration Agency</td>\n",
       "      <td>Japan</td>\n",
       "      <td>2003</td>\n",
       "    </tr>\n",
       "  </tbody>\n",
       "</table>\n",
       "</div>"
      ],
      "text/plain": [
       "  agency_code                                    agency_name        country  \\\n",
       "0         ASI                      Agenzia Spaziale Italiana          Italy   \n",
       "1         ESA                          European Space Agency         Europe   \n",
       "2        NASA  National Aeronautics and Space Administration  United States   \n",
       "3   ROSCOSMOS                   Russian Federal Space Agency         Russia   \n",
       "4        ISRO             Indian Space Research Organisation          India   \n",
       "5         ISA                           Israeli Space Agency         Israel   \n",
       "6        JAXA             Japan Aerospace Exploration Agency          Japan   \n",
       "\n",
       "   year_founded  \n",
       "0          1988  \n",
       "1          1975  \n",
       "2          1958  \n",
       "3          1992  \n",
       "4          1969  \n",
       "5          1983  \n",
       "6          2003  "
      ]
     },
     "execution_count": 3,
     "metadata": {},
     "output_type": "execute_result"
    }
   ],
   "source": [
    "spazio_df = pd.DataFrame(spazio_dict)\n",
    "spazio_df"
   ]
  },
  {
   "cell_type": "code",
   "execution_count": null,
   "metadata": {
    "collapsed": true
   },
   "outputs": [],
   "source": []
  },
  {
   "cell_type": "markdown",
   "metadata": {},
   "source": [
    "## Esplorazione del nostro dataset"
   ]
  },
  {
   "cell_type": "code",
   "execution_count": 4,
   "metadata": {},
   "outputs": [
    {
     "data": {
      "text/html": [
       "<div>\n",
       "<style>\n",
       "    .dataframe thead tr:only-child th {\n",
       "        text-align: right;\n",
       "    }\n",
       "\n",
       "    .dataframe thead th {\n",
       "        text-align: left;\n",
       "    }\n",
       "\n",
       "    .dataframe tbody tr th {\n",
       "        vertical-align: top;\n",
       "    }\n",
       "</style>\n",
       "<table border=\"1\" class=\"dataframe\">\n",
       "  <thead>\n",
       "    <tr style=\"text-align: right;\">\n",
       "      <th></th>\n",
       "      <th>agency_code</th>\n",
       "      <th>agency_name</th>\n",
       "      <th>country</th>\n",
       "      <th>year_founded</th>\n",
       "    </tr>\n",
       "  </thead>\n",
       "  <tbody>\n",
       "    <tr>\n",
       "      <th>0</th>\n",
       "      <td>ASI</td>\n",
       "      <td>Agenzia Spaziale Italiana</td>\n",
       "      <td>Italy</td>\n",
       "      <td>1988</td>\n",
       "    </tr>\n",
       "    <tr>\n",
       "      <th>1</th>\n",
       "      <td>ESA</td>\n",
       "      <td>European Space Agency</td>\n",
       "      <td>Europe</td>\n",
       "      <td>1975</td>\n",
       "    </tr>\n",
       "  </tbody>\n",
       "</table>\n",
       "</div>"
      ],
      "text/plain": [
       "  agency_code                agency_name country  year_founded\n",
       "0         ASI  Agenzia Spaziale Italiana   Italy          1988\n",
       "1         ESA      European Space Agency  Europe          1975"
      ]
     },
     "execution_count": 4,
     "metadata": {},
     "output_type": "execute_result"
    }
   ],
   "source": [
    "spazio_df.head(2) # mostra i primi due valori, di default (senza alcun argomento) ne mostra 5"
   ]
  },
  {
   "cell_type": "code",
   "execution_count": 5,
   "metadata": {},
   "outputs": [
    {
     "data": {
      "text/html": [
       "<div>\n",
       "<style>\n",
       "    .dataframe thead tr:only-child th {\n",
       "        text-align: right;\n",
       "    }\n",
       "\n",
       "    .dataframe thead th {\n",
       "        text-align: left;\n",
       "    }\n",
       "\n",
       "    .dataframe tbody tr th {\n",
       "        vertical-align: top;\n",
       "    }\n",
       "</style>\n",
       "<table border=\"1\" class=\"dataframe\">\n",
       "  <thead>\n",
       "    <tr style=\"text-align: right;\">\n",
       "      <th></th>\n",
       "      <th>agency_code</th>\n",
       "      <th>agency_name</th>\n",
       "      <th>country</th>\n",
       "      <th>year_founded</th>\n",
       "    </tr>\n",
       "  </thead>\n",
       "  <tbody>\n",
       "    <tr>\n",
       "      <th>4</th>\n",
       "      <td>ISRO</td>\n",
       "      <td>Indian Space Research Organisation</td>\n",
       "      <td>India</td>\n",
       "      <td>1969</td>\n",
       "    </tr>\n",
       "    <tr>\n",
       "      <th>5</th>\n",
       "      <td>ISA</td>\n",
       "      <td>Israeli Space Agency</td>\n",
       "      <td>Israel</td>\n",
       "      <td>1983</td>\n",
       "    </tr>\n",
       "    <tr>\n",
       "      <th>6</th>\n",
       "      <td>JAXA</td>\n",
       "      <td>Japan Aerospace Exploration Agency</td>\n",
       "      <td>Japan</td>\n",
       "      <td>2003</td>\n",
       "    </tr>\n",
       "  </tbody>\n",
       "</table>\n",
       "</div>"
      ],
      "text/plain": [
       "  agency_code                         agency_name country  year_founded\n",
       "4        ISRO  Indian Space Research Organisation   India          1969\n",
       "5         ISA                Israeli Space Agency  Israel          1983\n",
       "6        JAXA  Japan Aerospace Exploration Agency   Japan          2003"
      ]
     },
     "execution_count": 5,
     "metadata": {},
     "output_type": "execute_result"
    }
   ],
   "source": [
    "spazio_df.tail(3) # mostra gli ultimi 3 valori, di default (senza alcun argomento) ne mostra 5"
   ]
  },
  {
   "cell_type": "code",
   "execution_count": 6,
   "metadata": {},
   "outputs": [
    {
     "data": {
      "text/plain": [
       "(7, 4)"
      ]
     },
     "execution_count": 6,
     "metadata": {},
     "output_type": "execute_result"
    }
   ],
   "source": [
    "spazio_df.shape # mostra il numero di osservazioni e variabili"
   ]
  },
  {
   "cell_type": "code",
   "execution_count": 7,
   "metadata": {},
   "outputs": [
    {
     "data": {
      "text/plain": [
       "Index(['agency_code', 'agency_name', 'country', 'year_founded'], dtype='object')"
      ]
     },
     "execution_count": 7,
     "metadata": {},
     "output_type": "execute_result"
    }
   ],
   "source": [
    "spazio_df.columns # mostra i nomi delle colonne"
   ]
  },
  {
   "cell_type": "code",
   "execution_count": 8,
   "metadata": {},
   "outputs": [
    {
     "data": {
      "text/plain": [
       "RangeIndex(start=0, stop=7, step=1)"
      ]
     },
     "execution_count": 8,
     "metadata": {},
     "output_type": "execute_result"
    }
   ],
   "source": [
    "spazio_df.index # mostra l'index delle variabli"
   ]
  },
  {
   "cell_type": "code",
   "execution_count": 9,
   "metadata": {},
   "outputs": [
    {
     "name": "stdout",
     "output_type": "stream",
     "text": [
      "<class 'pandas.core.frame.DataFrame'>\n",
      "RangeIndex: 7 entries, 0 to 6\n",
      "Data columns (total 4 columns):\n",
      "agency_code     7 non-null object\n",
      "agency_name     7 non-null object\n",
      "country         7 non-null object\n",
      "year_founded    7 non-null int64\n",
      "dtypes: int64(1), object(3)\n",
      "memory usage: 304.0+ bytes\n"
     ]
    }
   ],
   "source": [
    "spazio_df.info() # mostra il tipo delle variabili"
   ]
  },
  {
   "cell_type": "code",
   "execution_count": 10,
   "metadata": {},
   "outputs": [
    {
     "data": {
      "text/html": [
       "<div>\n",
       "<style>\n",
       "    .dataframe thead tr:only-child th {\n",
       "        text-align: right;\n",
       "    }\n",
       "\n",
       "    .dataframe thead th {\n",
       "        text-align: left;\n",
       "    }\n",
       "\n",
       "    .dataframe tbody tr th {\n",
       "        vertical-align: top;\n",
       "    }\n",
       "</style>\n",
       "<table border=\"1\" class=\"dataframe\">\n",
       "  <thead>\n",
       "    <tr style=\"text-align: right;\">\n",
       "      <th></th>\n",
       "      <th>year_founded</th>\n",
       "    </tr>\n",
       "  </thead>\n",
       "  <tbody>\n",
       "    <tr>\n",
       "      <th>count</th>\n",
       "      <td>7.000000</td>\n",
       "    </tr>\n",
       "    <tr>\n",
       "      <th>mean</th>\n",
       "      <td>1981.142857</td>\n",
       "    </tr>\n",
       "    <tr>\n",
       "      <th>std</th>\n",
       "      <td>15.093360</td>\n",
       "    </tr>\n",
       "    <tr>\n",
       "      <th>min</th>\n",
       "      <td>1958.000000</td>\n",
       "    </tr>\n",
       "    <tr>\n",
       "      <th>25%</th>\n",
       "      <td>1972.000000</td>\n",
       "    </tr>\n",
       "    <tr>\n",
       "      <th>50%</th>\n",
       "      <td>1983.000000</td>\n",
       "    </tr>\n",
       "    <tr>\n",
       "      <th>75%</th>\n",
       "      <td>1990.000000</td>\n",
       "    </tr>\n",
       "    <tr>\n",
       "      <th>max</th>\n",
       "      <td>2003.000000</td>\n",
       "    </tr>\n",
       "  </tbody>\n",
       "</table>\n",
       "</div>"
      ],
      "text/plain": [
       "       year_founded\n",
       "count      7.000000\n",
       "mean    1981.142857\n",
       "std       15.093360\n",
       "min     1958.000000\n",
       "25%     1972.000000\n",
       "50%     1983.000000\n",
       "75%     1990.000000\n",
       "max     2003.000000"
      ]
     },
     "execution_count": 10,
     "metadata": {},
     "output_type": "execute_result"
    }
   ],
   "source": [
    "spazio_df.describe() # riporta analisi statistiche per variabili numeriche"
   ]
  },
  {
   "cell_type": "code",
   "execution_count": null,
   "metadata": {
    "collapsed": true
   },
   "outputs": [],
   "source": []
  },
  {
   "cell_type": "markdown",
   "metadata": {},
   "source": [
    "## Selezionare colonne e parte del dataframe"
   ]
  },
  {
   "cell_type": "code",
   "execution_count": 11,
   "metadata": {},
   "outputs": [
    {
     "data": {
      "text/plain": [
       "0    1988\n",
       "1    1975\n",
       "2    1958\n",
       "3    1992\n",
       "4    1969\n",
       "5    1983\n",
       "6    2003\n",
       "Name: year_founded, dtype: int64"
      ]
     },
     "execution_count": 11,
     "metadata": {},
     "output_type": "execute_result"
    }
   ],
   "source": [
    "spazio_df['year_founded'] # selezioniamo una variabile, una colonna"
   ]
  },
  {
   "cell_type": "code",
   "execution_count": 12,
   "metadata": {},
   "outputs": [
    {
     "data": {
      "text/html": [
       "<div>\n",
       "<style>\n",
       "    .dataframe thead tr:only-child th {\n",
       "        text-align: right;\n",
       "    }\n",
       "\n",
       "    .dataframe thead th {\n",
       "        text-align: left;\n",
       "    }\n",
       "\n",
       "    .dataframe tbody tr th {\n",
       "        vertical-align: top;\n",
       "    }\n",
       "</style>\n",
       "<table border=\"1\" class=\"dataframe\">\n",
       "  <thead>\n",
       "    <tr style=\"text-align: right;\">\n",
       "      <th></th>\n",
       "      <th>agency_code</th>\n",
       "      <th>agency_name</th>\n",
       "      <th>country</th>\n",
       "      <th>year_founded</th>\n",
       "    </tr>\n",
       "  </thead>\n",
       "  <tbody>\n",
       "    <tr>\n",
       "      <th>0</th>\n",
       "      <td>ASI</td>\n",
       "      <td>Agenzia Spaziale Italiana</td>\n",
       "      <td>Italy</td>\n",
       "      <td>1988</td>\n",
       "    </tr>\n",
       "    <tr>\n",
       "      <th>1</th>\n",
       "      <td>ESA</td>\n",
       "      <td>European Space Agency</td>\n",
       "      <td>Europe</td>\n",
       "      <td>1975</td>\n",
       "    </tr>\n",
       "    <tr>\n",
       "      <th>3</th>\n",
       "      <td>ROSCOSMOS</td>\n",
       "      <td>Russian Federal Space Agency</td>\n",
       "      <td>Russia</td>\n",
       "      <td>1992</td>\n",
       "    </tr>\n",
       "    <tr>\n",
       "      <th>4</th>\n",
       "      <td>ISRO</td>\n",
       "      <td>Indian Space Research Organisation</td>\n",
       "      <td>India</td>\n",
       "      <td>1969</td>\n",
       "    </tr>\n",
       "    <tr>\n",
       "      <th>5</th>\n",
       "      <td>ISA</td>\n",
       "      <td>Israeli Space Agency</td>\n",
       "      <td>Israel</td>\n",
       "      <td>1983</td>\n",
       "    </tr>\n",
       "    <tr>\n",
       "      <th>6</th>\n",
       "      <td>JAXA</td>\n",
       "      <td>Japan Aerospace Exploration Agency</td>\n",
       "      <td>Japan</td>\n",
       "      <td>2003</td>\n",
       "    </tr>\n",
       "  </tbody>\n",
       "</table>\n",
       "</div>"
      ],
      "text/plain": [
       "  agency_code                         agency_name country  year_founded\n",
       "0         ASI           Agenzia Spaziale Italiana   Italy          1988\n",
       "1         ESA               European Space Agency  Europe          1975\n",
       "3   ROSCOSMOS        Russian Federal Space Agency  Russia          1992\n",
       "4        ISRO  Indian Space Research Organisation   India          1969\n",
       "5         ISA                Israeli Space Agency  Israel          1983\n",
       "6        JAXA  Japan Aerospace Exploration Agency   Japan          2003"
      ]
     },
     "execution_count": 12,
     "metadata": {},
     "output_type": "execute_result"
    }
   ],
   "source": [
    "spazio_df[spazio_df.year_founded > 1960] # aggiungiamo una condizione alla selezione"
   ]
  },
  {
   "cell_type": "code",
   "execution_count": 13,
   "metadata": {},
   "outputs": [
    {
     "data": {
      "text/html": [
       "<div>\n",
       "<style>\n",
       "    .dataframe thead tr:only-child th {\n",
       "        text-align: right;\n",
       "    }\n",
       "\n",
       "    .dataframe thead th {\n",
       "        text-align: left;\n",
       "    }\n",
       "\n",
       "    .dataframe tbody tr th {\n",
       "        vertical-align: top;\n",
       "    }\n",
       "</style>\n",
       "<table border=\"1\" class=\"dataframe\">\n",
       "  <thead>\n",
       "    <tr style=\"text-align: right;\">\n",
       "      <th></th>\n",
       "      <th>agency_code</th>\n",
       "      <th>agency_name</th>\n",
       "      <th>country</th>\n",
       "      <th>year_founded</th>\n",
       "    </tr>\n",
       "  </thead>\n",
       "  <tbody>\n",
       "    <tr>\n",
       "      <th>0</th>\n",
       "      <td>ASI</td>\n",
       "      <td>Agenzia Spaziale Italiana</td>\n",
       "      <td>Italy</td>\n",
       "      <td>1988</td>\n",
       "    </tr>\n",
       "  </tbody>\n",
       "</table>\n",
       "</div>"
      ],
      "text/plain": [
       "  agency_code                agency_name country  year_founded\n",
       "0         ASI  Agenzia Spaziale Italiana   Italy          1988"
      ]
     },
     "execution_count": 13,
     "metadata": {},
     "output_type": "execute_result"
    }
   ],
   "source": [
    "asi = spazio_df[spazio_df['agency_code'] == 'ASI'] # salviamo un nuovo dataframe dalla selezione\n",
    "asi"
   ]
  },
  {
   "cell_type": "code",
   "execution_count": 14,
   "metadata": {},
   "outputs": [
    {
     "data": {
      "text/plain": [
       "pandas.core.frame.DataFrame"
      ]
     },
     "execution_count": 14,
     "metadata": {},
     "output_type": "execute_result"
    }
   ],
   "source": [
    "type(asi)"
   ]
  },
  {
   "cell_type": "markdown",
   "metadata": {},
   "source": [
    "Usiamo **.loc[ ]** per selezionare i nomi, e **.iloc[ ]** per selezionare tramite l'index."
   ]
  },
  {
   "cell_type": "code",
   "execution_count": 15,
   "metadata": {},
   "outputs": [
    {
     "data": {
      "text/plain": [
       "0          ASI\n",
       "1          ESA\n",
       "2         NASA\n",
       "3    ROSCOSMOS\n",
       "4         ISRO\n",
       "5          ISA\n",
       "6         JAXA\n",
       "Name: agency_code, dtype: object"
      ]
     },
     "execution_count": 15,
     "metadata": {},
     "output_type": "execute_result"
    }
   ],
   "source": [
    "spazio_df.loc[:,'agency_code']"
   ]
  },
  {
   "cell_type": "code",
   "execution_count": 16,
   "metadata": {},
   "outputs": [
    {
     "data": {
      "text/html": [
       "<div>\n",
       "<style>\n",
       "    .dataframe thead tr:only-child th {\n",
       "        text-align: right;\n",
       "    }\n",
       "\n",
       "    .dataframe thead th {\n",
       "        text-align: left;\n",
       "    }\n",
       "\n",
       "    .dataframe tbody tr th {\n",
       "        vertical-align: top;\n",
       "    }\n",
       "</style>\n",
       "<table border=\"1\" class=\"dataframe\">\n",
       "  <thead>\n",
       "    <tr style=\"text-align: right;\">\n",
       "      <th></th>\n",
       "      <th>agency_code</th>\n",
       "      <th>agency_name</th>\n",
       "      <th>country</th>\n",
       "      <th>year_founded</th>\n",
       "    </tr>\n",
       "  </thead>\n",
       "  <tbody>\n",
       "    <tr>\n",
       "      <th>1</th>\n",
       "      <td>ESA</td>\n",
       "      <td>European Space Agency</td>\n",
       "      <td>Europe</td>\n",
       "      <td>1975</td>\n",
       "    </tr>\n",
       "    <tr>\n",
       "      <th>2</th>\n",
       "      <td>NASA</td>\n",
       "      <td>National Aeronautics and Space Administration</td>\n",
       "      <td>United States</td>\n",
       "      <td>1958</td>\n",
       "    </tr>\n",
       "    <tr>\n",
       "      <th>3</th>\n",
       "      <td>ROSCOSMOS</td>\n",
       "      <td>Russian Federal Space Agency</td>\n",
       "      <td>Russia</td>\n",
       "      <td>1992</td>\n",
       "    </tr>\n",
       "    <tr>\n",
       "      <th>4</th>\n",
       "      <td>ISRO</td>\n",
       "      <td>Indian Space Research Organisation</td>\n",
       "      <td>India</td>\n",
       "      <td>1969</td>\n",
       "    </tr>\n",
       "    <tr>\n",
       "      <th>5</th>\n",
       "      <td>ISA</td>\n",
       "      <td>Israeli Space Agency</td>\n",
       "      <td>Israel</td>\n",
       "      <td>1983</td>\n",
       "    </tr>\n",
       "    <tr>\n",
       "      <th>6</th>\n",
       "      <td>JAXA</td>\n",
       "      <td>Japan Aerospace Exploration Agency</td>\n",
       "      <td>Japan</td>\n",
       "      <td>2003</td>\n",
       "    </tr>\n",
       "  </tbody>\n",
       "</table>\n",
       "</div>"
      ],
      "text/plain": [
       "  agency_code                                    agency_name        country  \\\n",
       "1         ESA                          European Space Agency         Europe   \n",
       "2        NASA  National Aeronautics and Space Administration  United States   \n",
       "3   ROSCOSMOS                   Russian Federal Space Agency         Russia   \n",
       "4        ISRO             Indian Space Research Organisation          India   \n",
       "5         ISA                           Israeli Space Agency         Israel   \n",
       "6        JAXA             Japan Aerospace Exploration Agency          Japan   \n",
       "\n",
       "   year_founded  \n",
       "1          1975  \n",
       "2          1958  \n",
       "3          1992  \n",
       "4          1969  \n",
       "5          1983  \n",
       "6          2003  "
      ]
     },
     "execution_count": 16,
     "metadata": {},
     "output_type": "execute_result"
    }
   ],
   "source": [
    "spazio_df.loc[1:,:]"
   ]
  },
  {
   "cell_type": "code",
   "execution_count": 17,
   "metadata": {},
   "outputs": [
    {
     "data": {
      "text/html": [
       "<div>\n",
       "<style>\n",
       "    .dataframe thead tr:only-child th {\n",
       "        text-align: right;\n",
       "    }\n",
       "\n",
       "    .dataframe thead th {\n",
       "        text-align: left;\n",
       "    }\n",
       "\n",
       "    .dataframe tbody tr th {\n",
       "        vertical-align: top;\n",
       "    }\n",
       "</style>\n",
       "<table border=\"1\" class=\"dataframe\">\n",
       "  <thead>\n",
       "    <tr style=\"text-align: right;\">\n",
       "      <th></th>\n",
       "      <th>agency_name</th>\n",
       "      <th>country</th>\n",
       "      <th>year_founded</th>\n",
       "    </tr>\n",
       "  </thead>\n",
       "  <tbody>\n",
       "    <tr>\n",
       "      <th>0</th>\n",
       "      <td>Agenzia Spaziale Italiana</td>\n",
       "      <td>Italy</td>\n",
       "      <td>1988</td>\n",
       "    </tr>\n",
       "    <tr>\n",
       "      <th>1</th>\n",
       "      <td>European Space Agency</td>\n",
       "      <td>Europe</td>\n",
       "      <td>1975</td>\n",
       "    </tr>\n",
       "  </tbody>\n",
       "</table>\n",
       "</div>"
      ],
      "text/plain": [
       "                 agency_name country  year_founded\n",
       "0  Agenzia Spaziale Italiana   Italy          1988\n",
       "1      European Space Agency  Europe          1975"
      ]
     },
     "execution_count": 17,
     "metadata": {},
     "output_type": "execute_result"
    }
   ],
   "source": [
    "spazio_df.iloc[:2,1:]"
   ]
  },
  {
   "cell_type": "code",
   "execution_count": null,
   "metadata": {
    "collapsed": true
   },
   "outputs": [],
   "source": []
  },
  {
   "cell_type": "markdown",
   "metadata": {},
   "source": [
    "## Creare una nuova colonna a partire da un'altra\n",
    "\n",
    "Applichiamo una funzione lambda per crearci i nuovi valori usando **.apply( )**"
   ]
  },
  {
   "cell_type": "code",
   "execution_count": 18,
   "metadata": {},
   "outputs": [
    {
     "data": {
      "text/html": [
       "<div>\n",
       "<style>\n",
       "    .dataframe thead tr:only-child th {\n",
       "        text-align: right;\n",
       "    }\n",
       "\n",
       "    .dataframe thead th {\n",
       "        text-align: left;\n",
       "    }\n",
       "\n",
       "    .dataframe tbody tr th {\n",
       "        vertical-align: top;\n",
       "    }\n",
       "</style>\n",
       "<table border=\"1\" class=\"dataframe\">\n",
       "  <thead>\n",
       "    <tr style=\"text-align: right;\">\n",
       "      <th></th>\n",
       "      <th>agency_code</th>\n",
       "      <th>agency_name</th>\n",
       "      <th>country</th>\n",
       "      <th>year_founded</th>\n",
       "      <th>years</th>\n",
       "    </tr>\n",
       "  </thead>\n",
       "  <tbody>\n",
       "    <tr>\n",
       "      <th>0</th>\n",
       "      <td>ASI</td>\n",
       "      <td>Agenzia Spaziale Italiana</td>\n",
       "      <td>Italy</td>\n",
       "      <td>1988</td>\n",
       "      <td>30</td>\n",
       "    </tr>\n",
       "    <tr>\n",
       "      <th>1</th>\n",
       "      <td>ESA</td>\n",
       "      <td>European Space Agency</td>\n",
       "      <td>Europe</td>\n",
       "      <td>1975</td>\n",
       "      <td>43</td>\n",
       "    </tr>\n",
       "    <tr>\n",
       "      <th>2</th>\n",
       "      <td>NASA</td>\n",
       "      <td>National Aeronautics and Space Administration</td>\n",
       "      <td>United States</td>\n",
       "      <td>1958</td>\n",
       "      <td>60</td>\n",
       "    </tr>\n",
       "    <tr>\n",
       "      <th>3</th>\n",
       "      <td>ROSCOSMOS</td>\n",
       "      <td>Russian Federal Space Agency</td>\n",
       "      <td>Russia</td>\n",
       "      <td>1992</td>\n",
       "      <td>26</td>\n",
       "    </tr>\n",
       "    <tr>\n",
       "      <th>4</th>\n",
       "      <td>ISRO</td>\n",
       "      <td>Indian Space Research Organisation</td>\n",
       "      <td>India</td>\n",
       "      <td>1969</td>\n",
       "      <td>49</td>\n",
       "    </tr>\n",
       "    <tr>\n",
       "      <th>5</th>\n",
       "      <td>ISA</td>\n",
       "      <td>Israeli Space Agency</td>\n",
       "      <td>Israel</td>\n",
       "      <td>1983</td>\n",
       "      <td>35</td>\n",
       "    </tr>\n",
       "    <tr>\n",
       "      <th>6</th>\n",
       "      <td>JAXA</td>\n",
       "      <td>Japan Aerospace Exploration Agency</td>\n",
       "      <td>Japan</td>\n",
       "      <td>2003</td>\n",
       "      <td>15</td>\n",
       "    </tr>\n",
       "  </tbody>\n",
       "</table>\n",
       "</div>"
      ],
      "text/plain": [
       "  agency_code                                    agency_name        country  \\\n",
       "0         ASI                      Agenzia Spaziale Italiana          Italy   \n",
       "1         ESA                          European Space Agency         Europe   \n",
       "2        NASA  National Aeronautics and Space Administration  United States   \n",
       "3   ROSCOSMOS                   Russian Federal Space Agency         Russia   \n",
       "4        ISRO             Indian Space Research Organisation          India   \n",
       "5         ISA                           Israeli Space Agency         Israel   \n",
       "6        JAXA             Japan Aerospace Exploration Agency          Japan   \n",
       "\n",
       "   year_founded  years  \n",
       "0          1988     30  \n",
       "1          1975     43  \n",
       "2          1958     60  \n",
       "3          1992     26  \n",
       "4          1969     49  \n",
       "5          1983     35  \n",
       "6          2003     15  "
      ]
     },
     "execution_count": 18,
     "metadata": {},
     "output_type": "execute_result"
    }
   ],
   "source": [
    "spazio_df['years'] = spazio_df['year_founded'].apply(lambda year: 2018 - year)\n",
    "spazio_df"
   ]
  },
  {
   "cell_type": "code",
   "execution_count": null,
   "metadata": {
    "collapsed": true
   },
   "outputs": [],
   "source": []
  },
  {
   "cell_type": "markdown",
   "metadata": {},
   "source": [
    "## Riordinare il dataset partendo da una colonna"
   ]
  },
  {
   "cell_type": "code",
   "execution_count": 19,
   "metadata": {},
   "outputs": [
    {
     "data": {
      "text/html": [
       "<div>\n",
       "<style>\n",
       "    .dataframe thead tr:only-child th {\n",
       "        text-align: right;\n",
       "    }\n",
       "\n",
       "    .dataframe thead th {\n",
       "        text-align: left;\n",
       "    }\n",
       "\n",
       "    .dataframe tbody tr th {\n",
       "        vertical-align: top;\n",
       "    }\n",
       "</style>\n",
       "<table border=\"1\" class=\"dataframe\">\n",
       "  <thead>\n",
       "    <tr style=\"text-align: right;\">\n",
       "      <th></th>\n",
       "      <th>agency_code</th>\n",
       "      <th>agency_name</th>\n",
       "      <th>country</th>\n",
       "      <th>year_founded</th>\n",
       "      <th>years</th>\n",
       "    </tr>\n",
       "  </thead>\n",
       "  <tbody>\n",
       "    <tr>\n",
       "      <th>6</th>\n",
       "      <td>JAXA</td>\n",
       "      <td>Japan Aerospace Exploration Agency</td>\n",
       "      <td>Japan</td>\n",
       "      <td>2003</td>\n",
       "      <td>15</td>\n",
       "    </tr>\n",
       "    <tr>\n",
       "      <th>3</th>\n",
       "      <td>ROSCOSMOS</td>\n",
       "      <td>Russian Federal Space Agency</td>\n",
       "      <td>Russia</td>\n",
       "      <td>1992</td>\n",
       "      <td>26</td>\n",
       "    </tr>\n",
       "    <tr>\n",
       "      <th>0</th>\n",
       "      <td>ASI</td>\n",
       "      <td>Agenzia Spaziale Italiana</td>\n",
       "      <td>Italy</td>\n",
       "      <td>1988</td>\n",
       "      <td>30</td>\n",
       "    </tr>\n",
       "    <tr>\n",
       "      <th>5</th>\n",
       "      <td>ISA</td>\n",
       "      <td>Israeli Space Agency</td>\n",
       "      <td>Israel</td>\n",
       "      <td>1983</td>\n",
       "      <td>35</td>\n",
       "    </tr>\n",
       "    <tr>\n",
       "      <th>1</th>\n",
       "      <td>ESA</td>\n",
       "      <td>European Space Agency</td>\n",
       "      <td>Europe</td>\n",
       "      <td>1975</td>\n",
       "      <td>43</td>\n",
       "    </tr>\n",
       "    <tr>\n",
       "      <th>4</th>\n",
       "      <td>ISRO</td>\n",
       "      <td>Indian Space Research Organisation</td>\n",
       "      <td>India</td>\n",
       "      <td>1969</td>\n",
       "      <td>49</td>\n",
       "    </tr>\n",
       "    <tr>\n",
       "      <th>2</th>\n",
       "      <td>NASA</td>\n",
       "      <td>National Aeronautics and Space Administration</td>\n",
       "      <td>United States</td>\n",
       "      <td>1958</td>\n",
       "      <td>60</td>\n",
       "    </tr>\n",
       "  </tbody>\n",
       "</table>\n",
       "</div>"
      ],
      "text/plain": [
       "  agency_code                                    agency_name        country  \\\n",
       "6        JAXA             Japan Aerospace Exploration Agency          Japan   \n",
       "3   ROSCOSMOS                   Russian Federal Space Agency         Russia   \n",
       "0         ASI                      Agenzia Spaziale Italiana          Italy   \n",
       "5         ISA                           Israeli Space Agency         Israel   \n",
       "1         ESA                          European Space Agency         Europe   \n",
       "4        ISRO             Indian Space Research Organisation          India   \n",
       "2        NASA  National Aeronautics and Space Administration  United States   \n",
       "\n",
       "   year_founded  years  \n",
       "6          2003     15  \n",
       "3          1992     26  \n",
       "0          1988     30  \n",
       "5          1983     35  \n",
       "1          1975     43  \n",
       "4          1969     49  \n",
       "2          1958     60  "
      ]
     },
     "execution_count": 19,
     "metadata": {},
     "output_type": "execute_result"
    }
   ],
   "source": [
    "spazio_df.sort_values('years') # Richiamiamo il nome della variabile su cui vogliamo riordinare"
   ]
  },
  {
   "cell_type": "code",
   "execution_count": null,
   "metadata": {
    "collapsed": true
   },
   "outputs": [],
   "source": []
  }
 ],
 "metadata": {
  "kernelspec": {
   "display_name": "Python 3",
   "language": "python",
   "name": "python3"
  },
  "language_info": {
   "codemirror_mode": {
    "name": "ipython",
    "version": 3
   },
   "file_extension": ".py",
   "mimetype": "text/x-python",
   "name": "python",
   "nbconvert_exporter": "python",
   "pygments_lexer": "ipython3",
   "version": "3.6.3"
  }
 },
 "nbformat": 4,
 "nbformat_minor": 2
}
