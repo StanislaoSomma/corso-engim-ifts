{
 "cells": [
  {
   "cell_type": "markdown",
   "metadata": {},
   "source": [
    "# Pandas per analisi esplorative su dataset"
   ]
  },
  {
   "cell_type": "markdown",
   "metadata": {
    "collapsed": true
   },
   "source": [
    "Esempi di fonti per trovare dataset:  \n",
    "https://www.kaggle.com  \n",
    "http://mlr.cs.umass.edu/ml/datasets.html  \n",
    "\n",
    "Questo dataset riguarda informazioni demografiche sul personale.  \n",
    "Fonte: https://www.ibm.com/communities/analytics/watson-analytics-blog/american-time-use-survey/"
   ]
  },
  {
   "cell_type": "code",
   "execution_count": 1,
   "metadata": {
    "collapsed": true
   },
   "outputs": [],
   "source": [
    "import pandas as pd"
   ]
  },
  {
   "cell_type": "markdown",
   "metadata": {},
   "source": [
    "### Importare ed esportare file a e da un Pandas dataframe\n",
    "\n",
    "Per importare **csv** usiamo **pd.read_csv()**  \n",
    "Per importare **excel** usiamo **pd.read_excel()**  \n",
    "Per importare **JSON** usiamo **pd.read_json()**  \n",
    "...  \n",
    "\n",
    "Per esportare **csv** a partire da un Pandas dataframe modifichiamo usiamo  \n",
    "nome_dataframe**.to_csv(**nome_nuovofile**)**\n",
    "\n",
    "Puoi richiamare **help(**pd.DataFrame.to_csv**)** per esplorare tutte le opzioni di esportazione.\n",
    "\n",
    "Ricordiamo che utilizziamo **pd** per come abbiamo importato la libreria **pandas** all'inizio"
   ]
  },
  {
   "cell_type": "code",
   "execution_count": 2,
   "metadata": {
    "collapsed": true
   },
   "outputs": [],
   "source": [
    "# Controlliamo di aver salvato il file csv dentro la sottocatella data\n",
    "survey = pd.read_csv('data/WA_American-Time-Use-Survey-lite.csv')"
   ]
  },
  {
   "cell_type": "code",
   "execution_count": 3,
   "metadata": {},
   "outputs": [
    {
     "data": {
      "text/html": [
       "<div>\n",
       "<style>\n",
       "    .dataframe thead tr:only-child th {\n",
       "        text-align: right;\n",
       "    }\n",
       "\n",
       "    .dataframe thead th {\n",
       "        text-align: left;\n",
       "    }\n",
       "\n",
       "    .dataframe tbody tr th {\n",
       "        vertical-align: top;\n",
       "    }\n",
       "</style>\n",
       "<table border=\"1\" class=\"dataframe\">\n",
       "  <thead>\n",
       "    <tr style=\"text-align: right;\">\n",
       "      <th></th>\n",
       "      <th>Education Level</th>\n",
       "      <th>Age</th>\n",
       "      <th>Age Range</th>\n",
       "      <th>Employment Status</th>\n",
       "      <th>Gender</th>\n",
       "      <th>Children</th>\n",
       "      <th>Weekly Earnings</th>\n",
       "      <th>Year</th>\n",
       "      <th>Weekly Hours Worked</th>\n",
       "      <th>Sleeping</th>\n",
       "      <th>...</th>\n",
       "      <th>Caring for Children</th>\n",
       "      <th>Playing with Children</th>\n",
       "      <th>Job Searching</th>\n",
       "      <th>Shopping</th>\n",
       "      <th>Eating and Drinking</th>\n",
       "      <th>Socializing &amp; Relaxing</th>\n",
       "      <th>Television</th>\n",
       "      <th>Golfing</th>\n",
       "      <th>Running</th>\n",
       "      <th>Volunteering</th>\n",
       "    </tr>\n",
       "  </thead>\n",
       "  <tbody>\n",
       "    <tr>\n",
       "      <th>0</th>\n",
       "      <td>High School</td>\n",
       "      <td>51</td>\n",
       "      <td>50-59</td>\n",
       "      <td>Unemployed</td>\n",
       "      <td>Female</td>\n",
       "      <td>0</td>\n",
       "      <td>0</td>\n",
       "      <td>2005</td>\n",
       "      <td>0</td>\n",
       "      <td>825</td>\n",
       "      <td>...</td>\n",
       "      <td>0</td>\n",
       "      <td>0</td>\n",
       "      <td>0</td>\n",
       "      <td>0</td>\n",
       "      <td>40</td>\n",
       "      <td>180</td>\n",
       "      <td>120</td>\n",
       "      <td>0</td>\n",
       "      <td>0</td>\n",
       "      <td>0</td>\n",
       "    </tr>\n",
       "    <tr>\n",
       "      <th>1</th>\n",
       "      <td>Bachelor</td>\n",
       "      <td>42</td>\n",
       "      <td>40-49</td>\n",
       "      <td>Employed</td>\n",
       "      <td>Female</td>\n",
       "      <td>2</td>\n",
       "      <td>1480</td>\n",
       "      <td>2005</td>\n",
       "      <td>40</td>\n",
       "      <td>500</td>\n",
       "      <td>...</td>\n",
       "      <td>365</td>\n",
       "      <td>20</td>\n",
       "      <td>0</td>\n",
       "      <td>120</td>\n",
       "      <td>40</td>\n",
       "      <td>15</td>\n",
       "      <td>15</td>\n",
       "      <td>0</td>\n",
       "      <td>0</td>\n",
       "      <td>0</td>\n",
       "    </tr>\n",
       "    <tr>\n",
       "      <th>2</th>\n",
       "      <td>Master</td>\n",
       "      <td>47</td>\n",
       "      <td>40-49</td>\n",
       "      <td>Employed</td>\n",
       "      <td>Male</td>\n",
       "      <td>0</td>\n",
       "      <td>904</td>\n",
       "      <td>2005</td>\n",
       "      <td>40</td>\n",
       "      <td>480</td>\n",
       "      <td>...</td>\n",
       "      <td>0</td>\n",
       "      <td>0</td>\n",
       "      <td>0</td>\n",
       "      <td>15</td>\n",
       "      <td>85</td>\n",
       "      <td>214</td>\n",
       "      <td>199</td>\n",
       "      <td>0</td>\n",
       "      <td>0</td>\n",
       "      <td>0</td>\n",
       "    </tr>\n",
       "    <tr>\n",
       "      <th>3</th>\n",
       "      <td>Some College</td>\n",
       "      <td>21</td>\n",
       "      <td>20-29</td>\n",
       "      <td>Employed</td>\n",
       "      <td>Female</td>\n",
       "      <td>0</td>\n",
       "      <td>320</td>\n",
       "      <td>2005</td>\n",
       "      <td>40</td>\n",
       "      <td>705</td>\n",
       "      <td>...</td>\n",
       "      <td>0</td>\n",
       "      <td>0</td>\n",
       "      <td>0</td>\n",
       "      <td>105</td>\n",
       "      <td>30</td>\n",
       "      <td>240</td>\n",
       "      <td>240</td>\n",
       "      <td>0</td>\n",
       "      <td>0</td>\n",
       "      <td>0</td>\n",
       "    </tr>\n",
       "    <tr>\n",
       "      <th>4</th>\n",
       "      <td>High School</td>\n",
       "      <td>49</td>\n",
       "      <td>40-49</td>\n",
       "      <td>Not in labor force</td>\n",
       "      <td>Female</td>\n",
       "      <td>0</td>\n",
       "      <td>0</td>\n",
       "      <td>2005</td>\n",
       "      <td>0</td>\n",
       "      <td>470</td>\n",
       "      <td>...</td>\n",
       "      <td>0</td>\n",
       "      <td>0</td>\n",
       "      <td>0</td>\n",
       "      <td>0</td>\n",
       "      <td>35</td>\n",
       "      <td>600</td>\n",
       "      <td>40</td>\n",
       "      <td>0</td>\n",
       "      <td>0</td>\n",
       "      <td>0</td>\n",
       "    </tr>\n",
       "  </tbody>\n",
       "</table>\n",
       "<p>5 rows × 23 columns</p>\n",
       "</div>"
      ],
      "text/plain": [
       "  Education Level  Age Age Range   Employment Status  Gender  Children  \\\n",
       "0     High School   51     50-59          Unemployed  Female         0   \n",
       "1        Bachelor   42     40-49            Employed  Female         2   \n",
       "2          Master   47     40-49            Employed    Male         0   \n",
       "3    Some College   21     20-29            Employed  Female         0   \n",
       "4     High School   49     40-49  Not in labor force  Female         0   \n",
       "\n",
       "   Weekly Earnings  Year  Weekly Hours Worked  Sleeping      ...       \\\n",
       "0                0  2005                    0       825      ...        \n",
       "1             1480  2005                   40       500      ...        \n",
       "2              904  2005                   40       480      ...        \n",
       "3              320  2005                   40       705      ...        \n",
       "4                0  2005                    0       470      ...        \n",
       "\n",
       "   Caring for Children  Playing with Children  Job Searching  Shopping  \\\n",
       "0                    0                      0              0         0   \n",
       "1                  365                     20              0       120   \n",
       "2                    0                      0              0        15   \n",
       "3                    0                      0              0       105   \n",
       "4                    0                      0              0         0   \n",
       "\n",
       "   Eating and Drinking  Socializing & Relaxing  Television  Golfing  Running  \\\n",
       "0                   40                     180         120        0        0   \n",
       "1                   40                      15          15        0        0   \n",
       "2                   85                     214         199        0        0   \n",
       "3                   30                     240         240        0        0   \n",
       "4                   35                     600          40        0        0   \n",
       "\n",
       "   Volunteering  \n",
       "0             0  \n",
       "1             0  \n",
       "2             0  \n",
       "3             0  \n",
       "4             0  \n",
       "\n",
       "[5 rows x 23 columns]"
      ]
     },
     "execution_count": 3,
     "metadata": {},
     "output_type": "execute_result"
    }
   ],
   "source": [
    "survey.head()"
   ]
  },
  {
   "cell_type": "code",
   "execution_count": null,
   "metadata": {
    "collapsed": true
   },
   "outputs": [],
   "source": []
  },
  {
   "cell_type": "markdown",
   "metadata": {},
   "source": [
    "## Utilizza tutti i comandi visti insieme per esplorare il dataset importato\n",
    "\n",
    "Il miglior modo per esplorare un dataset è partire dalla tua curiosità, inizia a porti domande e trova il modo per risponderti. :)"
   ]
  },
  {
   "cell_type": "code",
   "execution_count": null,
   "metadata": {
    "collapsed": true
   },
   "outputs": [],
   "source": []
  },
  {
   "cell_type": "code",
   "execution_count": null,
   "metadata": {
    "collapsed": true
   },
   "outputs": [],
   "source": []
  },
  {
   "cell_type": "code",
   "execution_count": null,
   "metadata": {
    "collapsed": true
   },
   "outputs": [],
   "source": []
  },
  {
   "cell_type": "markdown",
   "metadata": {
    "collapsed": true
   },
   "source": [
    "## Appendice: importare csv senza la libreria Pandas\n",
    "\n",
    "Per completezza accenniamo alla possibilità di usare la funzione **open()** dalla libreria standard di Python con una **list comprehension** per andare ad importarci il nostro csv come una lista di stringhe.\n",
    "\n",
    "Per maggiori infomazioni: https://docs.python.org/3/library/functions.html#open"
   ]
  },
  {
   "cell_type": "code",
   "execution_count": 4,
   "metadata": {
    "collapsed": true
   },
   "outputs": [],
   "source": [
    "path = 'data/WA_American-Time-Use-Survey-lite.csv'"
   ]
  },
  {
   "cell_type": "markdown",
   "metadata": {},
   "source": [
    "Utilizziamo **strip()** per togliere il simbolo a fine di ogni osservazione '\\n', e **split(',')** (attenzione a verificare che non ci siamo valori con contengano la virgola, nel  caso si dovranno utilizzare altre strade)."
   ]
  },
  {
   "cell_type": "code",
   "execution_count": 5,
   "metadata": {},
   "outputs": [],
   "source": [
    "dataset = [line.strip().split(',') for line in open(path)]"
   ]
  },
  {
   "cell_type": "code",
   "execution_count": 6,
   "metadata": {},
   "outputs": [
    {
     "data": {
      "text/plain": [
       "list"
      ]
     },
     "execution_count": 6,
     "metadata": {},
     "output_type": "execute_result"
    }
   ],
   "source": [
    "type(dataset)"
   ]
  },
  {
   "cell_type": "code",
   "execution_count": 7,
   "metadata": {},
   "outputs": [
    {
     "data": {
      "text/plain": [
       "['Education Level',\n",
       " 'Age',\n",
       " 'Age Range',\n",
       " 'Employment Status',\n",
       " 'Gender',\n",
       " 'Children',\n",
       " 'Weekly Earnings',\n",
       " 'Year',\n",
       " 'Weekly Hours Worked',\n",
       " 'Sleeping',\n",
       " 'Grooming',\n",
       " 'Housework',\n",
       " 'Food & Drink Prep',\n",
       " 'Caring for Children',\n",
       " 'Playing with Children',\n",
       " 'Job Searching',\n",
       " 'Shopping',\n",
       " 'Eating and Drinking',\n",
       " 'Socializing & Relaxing',\n",
       " 'Television',\n",
       " 'Golfing',\n",
       " 'Running',\n",
       " 'Volunteering']"
      ]
     },
     "execution_count": 7,
     "metadata": {},
     "output_type": "execute_result"
    }
   ],
   "source": [
    "dataset[0]"
   ]
  },
  {
   "cell_type": "code",
   "execution_count": 8,
   "metadata": {},
   "outputs": [
    {
     "data": {
      "text/plain": [
       "['High School',\n",
       " '51',\n",
       " '50-59',\n",
       " 'Unemployed',\n",
       " 'Female',\n",
       " '0',\n",
       " '0',\n",
       " '2005',\n",
       " '0',\n",
       " '825',\n",
       " '80',\n",
       " '150',\n",
       " '45',\n",
       " '0',\n",
       " '0',\n",
       " '0',\n",
       " '0',\n",
       " '40',\n",
       " '180',\n",
       " '120',\n",
       " '0',\n",
       " '0',\n",
       " '0']"
      ]
     },
     "execution_count": 8,
     "metadata": {},
     "output_type": "execute_result"
    }
   ],
   "source": [
    "dataset[1]"
   ]
  },
  {
   "cell_type": "markdown",
   "metadata": {},
   "source": [
    "Ci sono diverse strade che si possono prendere per importare file ed elaborarli (ad esempio il modulo dedicato **csv**), nel corso delle nostre lezioni continueremo ad utilizzare **Pandas**."
   ]
  },
  {
   "cell_type": "code",
   "execution_count": null,
   "metadata": {
    "collapsed": true
   },
   "outputs": [],
   "source": []
  }
 ],
 "metadata": {
  "kernelspec": {
   "display_name": "Python 3",
   "language": "python",
   "name": "python3"
  },
  "language_info": {
   "codemirror_mode": {
    "name": "ipython",
    "version": 3
   },
   "file_extension": ".py",
   "mimetype": "text/x-python",
   "name": "python",
   "nbconvert_exporter": "python",
   "pygments_lexer": "ipython3",
   "version": "3.6.3"
  }
 },
 "nbformat": 4,
 "nbformat_minor": 2
}
