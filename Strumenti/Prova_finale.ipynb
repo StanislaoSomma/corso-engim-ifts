{
  "cells": [
    {
      "cell_type": "markdown",
      "source": [
        "# Prova finale di Strumenti del 23 febbraio 2018"
      ],
      "metadata": {}
    },
    {
      "cell_type": "markdown",
      "source": [
        "### Nome e cognome"
      ],
      "metadata": {}
    },
    {
      "cell_type": "markdown",
      "source": [
        "### Indirizzo email: "
      ],
      "metadata": {}
    },
    {
      "cell_type": "markdown",
      "source": [
        "#### 1. Quali sono i più conosciuti indici di posizione? Indicane almeno tre"
      ],
      "metadata": {}
    },
    {
      "cell_type": "markdown",
      "source": [
        "1. \n",
        "2. \n",
        "3. "
      ],
      "metadata": {}
    },
    {
      "cell_type": "markdown",
      "source": [
        "#### 2. Indica almeno tre rappresentazioni grafiche usate in statistica"
      ],
      "metadata": {}
    },
    {
      "cell_type": "markdown",
      "source": [
        "1. \n",
        "2. \n",
        "3. "
      ],
      "metadata": {}
    },
    {
      "cell_type": "markdown",
      "source": [
        "#### 3. Definisci un outlier"
      ],
      "metadata": {}
    },
    {
      "cell_type": "markdown",
      "source": [
        "Un outlier è..."
      ],
      "metadata": {}
    },
    {
      "cell_type": "markdown",
      "source": [
        "#### 4. Importa la libreria `numpy`con l'alias `np`"
      ],
      "metadata": {}
    },
    {
      "cell_type": "code",
      "source": [],
      "outputs": [],
      "execution_count": null,
      "metadata": {
        "collapsed": true
      }
    },
    {
      "cell_type": "markdown",
      "source": [
        "#### 5. Dichiara un Numpy array contenente i numeri 0, 3, 4, 5.6, 7 "
      ],
      "metadata": {}
    },
    {
      "cell_type": "code",
      "source": [],
      "outputs": [],
      "execution_count": null,
      "metadata": {}
    },
    {
      "cell_type": "markdown",
      "source": [
        "#### 6. Stampa il valore del Numpy array creato moltiplicato per due"
      ],
      "metadata": {}
    },
    {
      "cell_type": "code",
      "source": [],
      "outputs": [],
      "execution_count": null,
      "metadata": {}
    },
    {
      "cell_type": "markdown",
      "source": [
        "#### 7. Che risultato darebbe una lista contenente gli stessi valori (0, 3, 4, 5.6, 7) moltiplicata per due?"
      ],
      "metadata": {}
    },
    {
      "cell_type": "code",
      "source": [],
      "outputs": [],
      "execution_count": null,
      "metadata": {}
    },
    {
      "cell_type": "code",
      "source": [],
      "outputs": [],
      "execution_count": null,
      "metadata": {
        "collapsed": true
      }
    },
    {
      "cell_type": "markdown",
      "source": [
        "#### 8. Importa la libreria `pandas` con l'alias `pd`"
      ],
      "metadata": {}
    },
    {
      "cell_type": "code",
      "source": [],
      "outputs": [],
      "execution_count": null,
      "metadata": {
        "collapsed": true
      }
    },
    {
      "cell_type": "markdown",
      "source": [
        "#### 9. Importa il file MonthElb_012010_006003900.csv con l'opportuno modulo della libreria pandas Pandas\n",
        "1. Nomina il dataframe col **`arpa`**\n",
        "2. setta argomento `header`in modo da non prendere la prima riga come nome colonna\n",
        "3. Setta l'argomento `names` con la lista **`arpa_col`** definita di seguito (ricorda di eseguire la cella)"
      ],
      "metadata": {}
    },
    {
      "cell_type": "code",
      "source": [
        "arpa_col = ['data', 'ora', 'id_rete_monit', 'comune_istat', 'stazione_istat', 'vento_vel', 'vento_dir', 'std_velt', \n",
        "             'baro', 'terma', 'igro', 'rad_dir', 'rad_rif', 'pluv']"
      ],
      "outputs": [],
      "execution_count": null,
      "metadata": {
        "collapsed": true
      }
    },
    {
      "cell_type": "code",
      "source": [],
      "outputs": [],
      "execution_count": null,
      "metadata": {
        "collapsed": true
      }
    },
    {
      "cell_type": "markdown",
      "source": [
        "#### 10. Visualizza le prime tre osservazioni"
      ],
      "metadata": {}
    },
    {
      "cell_type": "code",
      "source": [],
      "outputs": [],
      "execution_count": null,
      "metadata": {}
    },
    {
      "cell_type": "markdown",
      "source": [
        "#### 11. Quante osservazioni e colonne sono presenti del dataframe **`arpa`**?"
      ],
      "metadata": {}
    },
    {
      "cell_type": "code",
      "source": [],
      "outputs": [],
      "execution_count": null,
      "metadata": {}
    },
    {
      "cell_type": "markdown",
      "source": [
        "#### 12. Usa un solo comando per visualizzare il numero di osservazioni (righe) e variabili (colonne) sono presenti in **`arpa`**"
      ],
      "metadata": {}
    },
    {
      "cell_type": "code",
      "source": [],
      "outputs": [],
      "execution_count": null,
      "metadata": {}
    },
    {
      "cell_type": "markdown",
      "source": [
        "#### 13. Seleziona colonna della variabile `vento_dir` e salvata col nome `arpa_vento`"
      ],
      "metadata": {}
    },
    {
      "cell_type": "code",
      "source": [],
      "outputs": [],
      "execution_count": null,
      "metadata": {
        "collapsed": true
      }
    },
    {
      "cell_type": "markdown",
      "source": [
        "#### 14. Visualizza le ultime quattro osservazioni di `arpa_vento`"
      ],
      "metadata": {}
    },
    {
      "cell_type": "code",
      "source": [],
      "outputs": [],
      "execution_count": null,
      "metadata": {}
    },
    {
      "cell_type": "markdown",
      "source": [
        "#### 15. Torniamo al dataframe `arpa`: \n",
        "Visualizza solo le osservazioni dalla 33 alla 44 comprese delle sole colonne `baro`, `terma`, `igro` usando propriamente i metodi .iloc o .loc "
      ],
      "metadata": {}
    },
    {
      "cell_type": "code",
      "source": [],
      "outputs": [],
      "execution_count": null,
      "metadata": {}
    },
    {
      "cell_type": "code",
      "source": [],
      "outputs": [],
      "execution_count": null,
      "metadata": {}
    },
    {
      "cell_type": "markdown",
      "source": [
        "#### 16. Visualizza gli indici di posizione del dataframe `arpa` richiamando un solo modulo sul dataframe"
      ],
      "metadata": {}
    },
    {
      "cell_type": "code",
      "source": [],
      "outputs": [],
      "execution_count": null,
      "metadata": {}
    },
    {
      "cell_type": "markdown",
      "source": [
        "#### 17. Aggiungi la colonna `vento_triplo` al dataframe `arpa`\n",
        "1. Per ciascuna riga il valore della nuova colonna **`vento_triplo`** è il valore della colonna **`vento_vel`** moltiplicato per tre.\n",
        "2. Visualizza le prime quattro righe del dataframe `arpa` con la nuova colonna"
      ],
      "metadata": {}
    },
    {
      "cell_type": "code",
      "source": [
        "#1\n"
      ],
      "outputs": [],
      "execution_count": null,
      "metadata": {
        "collapsed": true
      }
    },
    {
      "cell_type": "code",
      "source": [
        "#2\n"
      ],
      "outputs": [],
      "execution_count": null,
      "metadata": {}
    },
    {
      "cell_type": "markdown",
      "source": [
        "#### 18. Importa la libreria `matplotlib.pyplot` con l'alias `plt`"
      ],
      "metadata": {}
    },
    {
      "cell_type": "code",
      "source": [],
      "outputs": [],
      "execution_count": null,
      "metadata": {
        "collapsed": true
      }
    },
    {
      "cell_type": "markdown",
      "source": [
        "#### 19. Crea un grafico a dispersione fra le variabili `baro` e `vento_dir`\n",
        "Setta il paramentro `alpha` a 0.03, e il colore `c` come 'blue'"
      ],
      "metadata": {
        "collapsed": true
      }
    },
    {
      "cell_type": "code",
      "source": [],
      "outputs": [],
      "execution_count": null,
      "metadata": {}
    },
    {
      "cell_type": "markdown",
      "source": [
        "#### 20. Crea e visualizza un grafico a dispersione fra le variabili `baro` e `vento_vel`\n",
        "Setta il paramentro `alpha` a 0.1, e il colore `c` come 'purple'"
      ],
      "metadata": {}
    },
    {
      "cell_type": "code",
      "source": [],
      "outputs": [],
      "execution_count": null,
      "metadata": {}
    },
    {
      "cell_type": "markdown",
      "source": [
        "#### 21. Crea e visualizza un grafico boxplot per la variabile `baro`"
      ],
      "metadata": {}
    },
    {
      "cell_type": "code",
      "source": [],
      "outputs": [],
      "execution_count": null,
      "metadata": {}
    },
    {
      "cell_type": "markdown",
      "source": [
        "#### 22. Crea e visualizza un grafico istogramma della variabile `vento_vel`\n",
        "Setta il parametro `bins` uguale a 50"
      ],
      "metadata": {}
    },
    {
      "cell_type": "code",
      "source": [],
      "outputs": [],
      "execution_count": null,
      "metadata": {}
    },
    {
      "cell_type": "code",
      "source": [],
      "outputs": [],
      "execution_count": null,
      "metadata": {
        "collapsed": true
      }
    }
  ],
  "metadata": {
    "kernelspec": {
      "name": "python3",
      "language": "python",
      "display_name": "Python 3"
    },
    "language_info": {
      "name": "python",
      "version": "3.6.3",
      "mimetype": "text/x-python",
      "codemirror_mode": {
        "name": "ipython",
        "version": 3
      },
      "pygments_lexer": "ipython3",
      "nbconvert_exporter": "python",
      "file_extension": ".py"
    },
    "kernel_info": {
      "name": "python3"
    },
    "nteract": {
      "version": "0.7.1"
    }
  },
  "nbformat": 4,
  "nbformat_minor": 2
}