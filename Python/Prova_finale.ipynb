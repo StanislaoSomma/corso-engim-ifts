{
 "cells": [
  {
   "cell_type": "markdown",
   "metadata": {},
   "source": [
    "# Prova finale di Python\n",
    "\n",
    "\n",
    "## Mandare via email \n",
    "# sara.lapietra@engimtorino.net \n",
    "# stefania.delprete@top-ix.org"
   ]
  },
  {
   "cell_type": "markdown",
   "metadata": {},
   "source": [
    "### Nome e cognome: "
   ]
  },
  {
   "cell_type": "markdown",
   "metadata": {},
   "source": [
    "### Indirizzo email: "
   ]
  },
  {
   "cell_type": "markdown",
   "metadata": {},
   "source": [
    "#### 1. Elenca almeno tre caratteristiche fondamentali di Python\n",
    "\n",
    "1. \n",
    "2. \n",
    "3. "
   ]
  },
  {
   "cell_type": "code",
   "execution_count": null,
   "metadata": {
    "collapsed": true
   },
   "outputs": [],
   "source": []
  },
  {
   "cell_type": "markdown",
   "metadata": {},
   "source": [
    "#### 2. Quali due comandi puoi usare per avere informazioni di oggetti e funzioni definite? \n",
    "1.  \n",
    "2.  "
   ]
  },
  {
   "cell_type": "code",
   "execution_count": null,
   "metadata": {
    "collapsed": true
   },
   "outputs": [],
   "source": []
  },
  {
   "cell_type": "markdown",
   "metadata": {},
   "source": [
    "#### 3. Elenca meno due tipi di oggetti built-in immutabili\n",
    "1.  \n",
    "2. "
   ]
  },
  {
   "cell_type": "code",
   "execution_count": null,
   "metadata": {
    "collapsed": true
   },
   "outputs": [],
   "source": []
  },
  {
   "cell_type": "markdown",
   "metadata": {},
   "source": [
    "#### 4. Elenca almeno due tipi di oggetti built-in mutabili\n",
    "1.  \n",
    "2. "
   ]
  },
  {
   "cell_type": "code",
   "execution_count": null,
   "metadata": {
    "collapsed": true
   },
   "outputs": [],
   "source": []
  },
  {
   "cell_type": "markdown",
   "metadata": {},
   "source": [
    "#### 5. Stampa con operatore %\n",
    "1. Dichiara una varibiabile di nome `pi` e valore `3.1415`\n",
    "2. Stampa una stringa richiamando `pi` con soli due decimali in modo che l'output sia:  \n",
    "\"Il valore approssimato di pi è: 3.14.\""
   ]
  },
  {
   "cell_type": "code",
   "execution_count": null,
   "metadata": {
    "collapsed": true
   },
   "outputs": [],
   "source": []
  },
  {
   "cell_type": "markdown",
   "metadata": {},
   "source": [
    "#### 6. Crea e manipola una lista\n",
    "1. Dichiara una lista di nome `lettere` e valori le prima 5 lettere dell'alfabeto.\n",
    "2. Stampa la lunghezza della lista `lettere` con l'apposito modulo\n",
    "3. Stampa le seconda lettera\n",
    "4. Aggiungi la sesta lettera dell'alfabeto a fine `lettere`\n",
    "5. Stampa una selezione di `lettere` dalla terza lettera fino all'ultima della lista"
   ]
  },
  {
   "cell_type": "code",
   "execution_count": null,
   "metadata": {
    "collapsed": true
   },
   "outputs": [],
   "source": []
  },
  {
   "cell_type": "markdown",
   "metadata": {},
   "source": [
    "#### 7. Crea e manipola un dizionario\n",
    "1. Dichiara un dizionario col nome `fonetico` con cinque copie chiavi valori:   \n",
    "    * A \tAlfa\n",
    "    * B \tBravo\n",
    "    * C \tCharlie\n",
    "    * D \tDelta \n",
    "    * E \tEcho\n",
    "\n",
    "    \n",
    "    \n",
    "2. Stampa il valore corrispondendente alla chiave `C`\n",
    "3. Aggiungi la coppia chiave valore F Foxtrot"
   ]
  },
  {
   "cell_type": "code",
   "execution_count": null,
   "metadata": {
    "collapsed": true
   },
   "outputs": [],
   "source": []
  },
  {
   "cell_type": "markdown",
   "metadata": {},
   "source": [
    "#### 8. Crea un if tale che:\n",
    "1. Data una distanza dalla terra di 100 km assegnata alla variabile `dist_km`\n",
    "2. Stampi la seguenti stringhe:\n",
    "    * \"Sei nella troposfera\" se `dist_km` è compresa fra i 0 e 10 km\n",
    "    * \"Sei nella stratosfera\" se `dist_km` è compresa fra i 11 e 50 km\n",
    "    * \"Sei nella mesosfera\" se `dist_km` è compresa fra i 51 e 80 km\n",
    "    * \"Sei nella termosfera\" se `dist_km` è compresa fra i 81 e 500 km\n",
    "    * \"Sei nell'esosfera\" se `dist_km` è compresa fra i 501 e 10000 km\n",
    "    * \"Non so dove sei!\" in tutti gli altri casi"
   ]
  },
  {
   "cell_type": "code",
   "execution_count": null,
   "metadata": {
    "collapsed": true
   },
   "outputs": [],
   "source": []
  },
  {
   "cell_type": "markdown",
   "metadata": {},
   "source": [
    "#### 9. Crea un ciclo for\n",
    "1. Per ogni elementi del dizionario `fonetico` dichiarato sopra mi stampi la stringa del tipo\n",
    "\"A è alpha.\""
   ]
  },
  {
   "cell_type": "code",
   "execution_count": null,
   "metadata": {
    "collapsed": true
   },
   "outputs": [],
   "source": []
  },
  {
   "cell_type": "markdown",
   "metadata": {},
   "source": [
    "#### 10. Crea e stampa una list comprehension\n",
    "1. Dichiara la lista col nome `quattro`\n",
    "2. Crea una lista di tutti i numeri divisibili per 4 da 0 a 52 compreso\n",
    "3. Stampa la lista creata"
   ]
  },
  {
   "cell_type": "code",
   "execution_count": null,
   "metadata": {
    "collapsed": true
   },
   "outputs": [],
   "source": []
  },
  {
   "cell_type": "markdown",
   "metadata": {},
   "source": [
    "#### 11. Crea e richiama una funzione\n",
    "1. Crea una funzione tale che prenda come input una stringa con più parole...\n",
    "2. ... e che restituisca il numero di parole separate da uno spazio\n",
    "3. La funzione deve essere completa di descrizione al suo interno\n",
    "4. Richiamare la funzione per \"Guido van Rossum\"\n",
    "5. Richiamare la funzione per \"Monty Python references appear frequently in Python code and culture\""
   ]
  },
  {
   "cell_type": "code",
   "execution_count": null,
   "metadata": {
    "collapsed": true
   },
   "outputs": [],
   "source": []
  },
  {
   "cell_type": "markdown",
   "metadata": {},
   "source": [
    "#### 12. Funzione in linea usando `lambda`\n",
    "1. Crea una funzione in linea `lambda` che mi conti tutte le lettere B (minuscole o maiuscole di una stringa)\n",
    "2. Richiama la funzione per \"Peter Norvig\"\n",
    "3. Richiama la funzione per \"Buon giorno, benvenuto, good bye\"\n",
    "4. Richiama la funzione per \"Is Ben Ng Andrew the Ng's brother?\""
   ]
  },
  {
   "cell_type": "code",
   "execution_count": null,
   "metadata": {
    "collapsed": true
   },
   "outputs": [],
   "source": []
  }
 ],
 "metadata": {
  "kernelspec": {
   "display_name": "Python 3",
   "language": "python",
   "name": "python3"
  },
  "language_info": {
   "codemirror_mode": {
    "name": "ipython",
    "version": 3
   },
   "file_extension": ".py",
   "mimetype": "text/x-python",
   "name": "python",
   "nbconvert_exporter": "python",
   "pygments_lexer": "ipython3",
   "version": "3.6.3"
  }
 },
 "nbformat": 4,
 "nbformat_minor": 2
}
