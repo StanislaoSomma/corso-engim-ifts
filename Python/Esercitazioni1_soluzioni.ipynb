{
 "cells": [
  {
   "cell_type": "markdown",
   "metadata": {},
   "source": [
    "# Esercitazione di Python con soluzioni\n",
    "\n",
    "Ricordiamo che possiamo usare help( ) e dir( ) per accedere a documentazione e metodi disponibili.\n",
    "Ad esempio help(len) e dir([1,2,3])"
   ]
  },
  {
   "cell_type": "markdown",
   "metadata": {},
   "source": [
    "## Esercizio 1\n",
    "1. Dichiata un variabile x del valore 23.45\n",
    "2. Richiamala con print e l'operatore %"
   ]
  },
  {
   "cell_type": "code",
   "execution_count": 1,
   "metadata": {},
   "outputs": [
    {
     "name": "stdout",
     "output_type": "stream",
     "text": [
      "La x vale 23.450000\n"
     ]
    }
   ],
   "source": [
    "x = 23.45\n",
    "print('La x vale %f' %x)"
   ]
  },
  {
   "cell_type": "markdown",
   "metadata": {},
   "source": [
    "## Esercizio 2\n",
    "1. Chiedo all'utente la sua età con input()\n",
    "2. Trovo la data di nascita \n",
    "3. Stampo la data di nascita (output esempio \"Il tuo anno di nascita è il 1990\")"
   ]
  },
  {
   "cell_type": "code",
   "execution_count": 2,
   "metadata": {},
   "outputs": [
    {
     "name": "stdout",
     "output_type": "stream",
     "text": [
      "Quanti anni hai?: 20\n",
      "Il tuo anno di nascita è il 1998\n"
     ]
    }
   ],
   "source": [
    "# Soluzione accettabile\n",
    "\n",
    "eta = int(input(\"Quanti anni hai?: \"))\n",
    "anno_nascita = 2018 - eta\n",
    "\n",
    "print(\"Il tuo anno di nascita è il %d\" %anno_nascita)"
   ]
  },
  {
   "cell_type": "code",
   "execution_count": 3,
   "metadata": {},
   "outputs": [
    {
     "name": "stdout",
     "output_type": "stream",
     "text": [
      "Quanti anni hai? Inserisci il numero dei tuoi anni: 20\n",
      "Li hai già compiuti quest'anno? Rispondi S/N: N\n",
      "Il tuo anno di nascita è il 1997\n"
     ]
    }
   ],
   "source": [
    "# Soluzione accurata\n",
    "\n",
    "eta = int(input(\"Quanti anni hai? Inserisci il numero dei tuoi anni: \"))\n",
    "compiuti = input(\"Li hai già compiuti quest'anno? Rispondi S/N: \")\n",
    "\n",
    "if compiuti == 'S':\n",
    "    anno_nascita = 2018 - eta\n",
    "elif compiuti == 'N':\n",
    "    anno_nascita = 2018 - eta - 1\n",
    "else:\n",
    "    print(\"Risposta non valida\")\n",
    "\n",
    "print(\"Il tuo anno di nascita è il %d\" %anno_nascita)"
   ]
  },
  {
   "cell_type": "markdown",
   "metadata": {},
   "source": [
    "# Liste"
   ]
  },
  {
   "cell_type": "markdown",
   "metadata": {},
   "source": [
    "## Esercizio 3\n",
    "1. Dichiaro la lista di valori 62, 90, 24, 35, 35, 90, 56\n",
    "2. Seleziono solo il 24, 35, 35, 90 (operazione di slicing)"
   ]
  },
  {
   "cell_type": "code",
   "execution_count": 4,
   "metadata": {},
   "outputs": [
    {
     "data": {
      "text/plain": [
       "[24, 35, 35, 90]"
      ]
     },
     "execution_count": 4,
     "metadata": {},
     "output_type": "execute_result"
    }
   ],
   "source": [
    "anni = [62, 90, 24, 35, 35, 90, 56]\n",
    "anni[2:-1]"
   ]
  },
  {
   "cell_type": "markdown",
   "metadata": {
    "collapsed": true
   },
   "source": [
    "## Esercizio 4\n",
    "\n",
    "### Qual è la differenza fra oggetti tipo *list* e oggetti tipo *tuple*?  \n",
    "Risposta: *list* sono mutabili mentre *tuple* sono immutabili"
   ]
  },
  {
   "cell_type": "markdown",
   "metadata": {},
   "source": [
    "## Esercizio 5\n",
    "\n",
    "### Data lista = [1.2.3], qual è la differenza fra i metodi lista.append([4,5,6]) e lista.extend([4,5,6])?  \n",
    "\n",
    "Risposta: lista.append([4,5,6]) aggiunge un quarto elemento con l'intera lista, \n",
    "mentre lista.append([4,5,6]) aggiunge i tre elementi. "
   ]
  },
  {
   "cell_type": "markdown",
   "metadata": {},
   "source": [
    "## Esercizio 6\n",
    "\n",
    "1. Crea una lista di stringhe\n",
    "2. Aggiungi un elemento alla fine della lista\n",
    "3. Stampa la nuova lista"
   ]
  },
  {
   "cell_type": "code",
   "execution_count": 6,
   "metadata": {},
   "outputs": [],
   "source": [
    "computer_scientists = [\"Charles Babbage\", \"Ada Lovelace\", \"Tim Berners-Lee\", \"George Boole\"]\n",
    "computer_scientists.append(\"Vint Cerf\")"
   ]
  },
  {
   "cell_type": "code",
   "execution_count": 7,
   "metadata": {},
   "outputs": [
    {
     "name": "stdout",
     "output_type": "stream",
     "text": [
      "['Charles Babbage', 'Ada Lovelace', 'Tim Berners-Lee', 'George Boole', 'Vint Cerf']\n"
     ]
    }
   ],
   "source": [
    "print(computer_scientists)"
   ]
  },
  {
   "cell_type": "markdown",
   "metadata": {},
   "source": [
    "# Dizionari"
   ]
  },
  {
   "cell_type": "markdown",
   "metadata": {
    "collapsed": true
   },
   "source": [
    "## Esercizio 7\n",
    "1. Creo un dizionario che associ la chiave 1 al valore Physical, 2 a Data link, 3 a Network, 4 a Transport, 5 a Session, 6 a Presentation, 7 a Application\n",
    "2. Selezione solo gli elementi con indice 1, 2, e 3\n",
    "3. Stampa il dizionario rimanente\n",
    "\n",
    "Maggiori informazioni su OSI Model: https://en.wikipedia.org/wiki/OSI_model"
   ]
  },
  {
   "cell_type": "code",
   "execution_count": 8,
   "metadata": {},
   "outputs": [
    {
     "data": {
      "text/plain": [
       "{1: 'Physical',\n",
       " 2: 'Data link',\n",
       " 3: 'Network',\n",
       " 4: 'Transport',\n",
       " 5: 'Session',\n",
       " 6: 'Presentation',\n",
       " 7: 'Application'}"
      ]
     },
     "execution_count": 8,
     "metadata": {},
     "output_type": "execute_result"
    }
   ],
   "source": [
    "osi_model = {1: 'Physical', \n",
    "             2: 'Data link', \n",
    "             3: 'Network', \n",
    "             4: 'Transport',\n",
    "             5: 'Session', \n",
    "             6: 'Presentation', \n",
    "             7: 'Application'}\n",
    "\n",
    "osi_model"
   ]
  },
  {
   "cell_type": "code",
   "execution_count": 9,
   "metadata": {
    "collapsed": true
   },
   "outputs": [],
   "source": [
    "# 3 Elimina l'elemento con chiave 7\n",
    "del osi_model[7]"
   ]
  },
  {
   "cell_type": "code",
   "execution_count": 10,
   "metadata": {},
   "outputs": [
    {
     "data": {
      "text/plain": [
       "{1: 'Physical',\n",
       " 2: 'Data link',\n",
       " 3: 'Network',\n",
       " 4: 'Transport',\n",
       " 5: 'Session',\n",
       " 6: 'Presentation'}"
      ]
     },
     "execution_count": 10,
     "metadata": {},
     "output_type": "execute_result"
    }
   ],
   "source": [
    "osi_model"
   ]
  },
  {
   "cell_type": "code",
   "execution_count": null,
   "metadata": {
    "collapsed": true
   },
   "outputs": [],
   "source": []
  },
  {
   "cell_type": "markdown",
   "metadata": {},
   "source": [
    "# Cicli e funzioni"
   ]
  },
  {
   "cell_type": "markdown",
   "metadata": {
    "collapsed": true
   },
   "source": [
    "# Esercizio 8\n",
    "\n",
    "1. Creare una funzione *pari(n)* che abbia come input un intero *n* e che stampi solo i numeri pari da 0 a *n* (n compreso se pari)\n",
    "2. Richiamare la funzione per n=10\n",
    "3. Richiamare la funzione per n=30"
   ]
  },
  {
   "cell_type": "code",
   "execution_count": 11,
   "metadata": {
    "collapsed": true
   },
   "outputs": [],
   "source": [
    "def pari(n):\n",
    "    '''Stampo i numeri pari da 0 ad n compreso. n: int'''\n",
    "    for pari in range(0,n+1,2):\n",
    "        print(pari)"
   ]
  },
  {
   "cell_type": "code",
   "execution_count": 12,
   "metadata": {},
   "outputs": [
    {
     "name": "stdout",
     "output_type": "stream",
     "text": [
      "0\n",
      "2\n",
      "4\n",
      "6\n",
      "8\n",
      "10\n"
     ]
    }
   ],
   "source": [
    "pari(10)"
   ]
  },
  {
   "cell_type": "code",
   "execution_count": 13,
   "metadata": {},
   "outputs": [
    {
     "name": "stdout",
     "output_type": "stream",
     "text": [
      "0\n",
      "2\n",
      "4\n",
      "6\n",
      "8\n",
      "10\n",
      "12\n",
      "14\n",
      "16\n",
      "18\n",
      "20\n",
      "22\n",
      "24\n",
      "26\n",
      "28\n",
      "30\n"
     ]
    }
   ],
   "source": [
    "pari(30)"
   ]
  },
  {
   "cell_type": "markdown",
   "metadata": {},
   "source": [
    "# Esercizio 9\n",
    "\n",
    "1. Salva la funzione di prima in un file numeri.py\n",
    "2. Importa numeri in un nuovo file \n",
    "3. In questo nuovo file richiama pari(n)"
   ]
  },
  {
   "cell_type": "code",
   "execution_count": null,
   "metadata": {
    "collapsed": true
   },
   "outputs": [],
   "source": [
    "# Primo file numeri.py\n",
    "def pari(n):\n",
    "    '''Stampo i numeri pari da 0 ad n compreso. n: int'''\n",
    "    for pari in range(0,n+1,2):\n",
    "        print(pari)"
   ]
  },
  {
   "cell_type": "code",
   "execution_count": null,
   "metadata": {
    "scrolled": true
   },
   "outputs": [],
   "source": [
    "# Secondo file, ad esempio pari.py\n",
    "# Attenzione: funzionerà richiamando da terminale python3 pari.py e non da Jupyter Notebook\n",
    "\n",
    "from numeri import pari\n",
    "\n",
    "pari(10)\n",
    "pari(30)"
   ]
  },
  {
   "cell_type": "markdown",
   "metadata": {},
   "source": [
    "# Esercizio 10\n",
    "\n",
    "1. Creare una funzione, \n",
    "  * con docstring che descriva che la funzione inidichi se la luce è nel visibile o meno data la lunghezza d'onda in nm,  \n",
    "  * che passi un argomento l_nm con una condizione if che mi stampi: \n",
    "     * 'Luce ultravioletta' se l_nm < 400, \n",
    "     * 'Luce visibile' se l_nm è comepresa fra 400 e 700 compresi,\n",
    "     * 'Luce infrarossa' se l_nm > 700\n",
    "2. Richiama la funzione per l_nm = 350\n",
    "3. Richiama la funzione per l_nm = 500\n",
    "4. Richiama la funzione per l_nm =  750"
   ]
  },
  {
   "cell_type": "code",
   "execution_count": 14,
   "metadata": {},
   "outputs": [],
   "source": [
    "def visibile(l_nm):\n",
    "    '''Questa funzione ci dice se la luce è visibilie\n",
    "       l_nm: è la lunghezza d\\'onda in nm'''\n",
    "    if l_nm <400:\n",
    "        print('Luce ultravioletta')\n",
    "    elif l_nm >=400 and l_nm <=700:\n",
    "        print('Luce visibile')\n",
    "    else:\n",
    "        print('Luce infrarossa')"
   ]
  },
  {
   "cell_type": "code",
   "execution_count": 15,
   "metadata": {},
   "outputs": [
    {
     "name": "stdout",
     "output_type": "stream",
     "text": [
      "Luce ultravioletta\n"
     ]
    }
   ],
   "source": [
    "visibile(350)"
   ]
  },
  {
   "cell_type": "code",
   "execution_count": 16,
   "metadata": {},
   "outputs": [
    {
     "name": "stdout",
     "output_type": "stream",
     "text": [
      "Luce visibile\n"
     ]
    }
   ],
   "source": [
    "visibile(500)"
   ]
  },
  {
   "cell_type": "code",
   "execution_count": 17,
   "metadata": {},
   "outputs": [
    {
     "name": "stdout",
     "output_type": "stream",
     "text": [
      "Luce infrarossa\n"
     ]
    }
   ],
   "source": [
    "visibile(750)"
   ]
  }
 ],
 "metadata": {
  "kernelspec": {
   "display_name": "Python 3",
   "language": "python",
   "name": "python3"
  },
  "language_info": {
   "codemirror_mode": {
    "name": "ipython",
    "version": 3
   },
   "file_extension": ".py",
   "mimetype": "text/x-python",
   "name": "python",
   "nbconvert_exporter": "python",
   "pygments_lexer": "ipython3",
   "version": "3.6.3"
  }
 },
 "nbformat": 4,
 "nbformat_minor": 2
}
