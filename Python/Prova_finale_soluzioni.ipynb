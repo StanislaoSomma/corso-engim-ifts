{
 "cells": [
  {
   "cell_type": "markdown",
   "metadata": {},
   "source": [
    "# Prova finale di Python"
   ]
  },
  {
   "cell_type": "markdown",
   "metadata": {},
   "source": [
    "#### 1. Elenca almeno tre caratteristiche fondamentali di Python\n",
    "\n",
    "1. Interpretato\n",
    "2. Alto livello\n",
    "3. Multi-paradigama (comprende programmazione ad oggetti)"
   ]
  },
  {
   "cell_type": "code",
   "execution_count": null,
   "metadata": {
    "collapsed": true
   },
   "outputs": [],
   "source": []
  },
  {
   "cell_type": "markdown",
   "metadata": {},
   "source": [
    "#### 2. Quali due comandi puoi usare per avere informazioni di oggetti e funzioni definite? \n",
    "1. `help()`\n",
    "2. `dir()`"
   ]
  },
  {
   "cell_type": "code",
   "execution_count": null,
   "metadata": {
    "collapsed": true
   },
   "outputs": [],
   "source": []
  },
  {
   "cell_type": "markdown",
   "metadata": {},
   "source": [
    "#### 3. Elenca meno due tipi di oggetti built-in immutabili\n",
    "1.  int\n",
    "2.  tuple"
   ]
  },
  {
   "cell_type": "code",
   "execution_count": null,
   "metadata": {
    "collapsed": true
   },
   "outputs": [],
   "source": []
  },
  {
   "cell_type": "markdown",
   "metadata": {},
   "source": [
    "#### 4. Elenca almeno due tipi di oggetti built-in mutabili\n",
    "1. list\n",
    "2. dictionary"
   ]
  },
  {
   "cell_type": "code",
   "execution_count": null,
   "metadata": {
    "collapsed": true
   },
   "outputs": [],
   "source": []
  },
  {
   "cell_type": "markdown",
   "metadata": {},
   "source": [
    "#### 5. Stampa con operatore %\n",
    "1. Dichiara una varibiabile di nome `pi` e valore `3.1415`\n",
    "2. Stampa una stringa richiamando `pi` con soli due decimali in modo che l'output sia:  \n",
    "\"Il valore approssimato di pi è: 3.14.\""
   ]
  },
  {
   "cell_type": "code",
   "execution_count": 1,
   "metadata": {},
   "outputs": [
    {
     "name": "stdout",
     "output_type": "stream",
     "text": [
      "Il valore approssimato di pi è: 3.14.\n"
     ]
    }
   ],
   "source": [
    "pi = 3.1415\n",
    "print(\"Il valore approssimato di pi è: %.2f.\" %pi)"
   ]
  },
  {
   "cell_type": "code",
   "execution_count": null,
   "metadata": {
    "collapsed": true
   },
   "outputs": [],
   "source": []
  },
  {
   "cell_type": "markdown",
   "metadata": {},
   "source": [
    "#### 6. Crea e manipola una lista\n",
    "1. Dichiara una lista di nome `lettere` e valori le prima 5 lettere dell'alfabeto.\n",
    "2. Stampa la lunghezza della di `lettere` con l'apposito modulo\n",
    "3. Stampa le seconda lettera\n",
    "4. Aggiungi la sesta lettera dell'alfabeto a fine `lettere`\n",
    "5. Stampa una selezione di `lettere` dalla terza lettera compresa fino all'ultima della lista"
   ]
  },
  {
   "cell_type": "code",
   "execution_count": 2,
   "metadata": {
    "collapsed": true
   },
   "outputs": [],
   "source": [
    "#1\n",
    "lettere = ['a', 'b', 'c', 'd', 'e']"
   ]
  },
  {
   "cell_type": "code",
   "execution_count": 3,
   "metadata": {},
   "outputs": [
    {
     "name": "stdout",
     "output_type": "stream",
     "text": [
      "5\n"
     ]
    }
   ],
   "source": [
    "#2\n",
    "print(len(lettere))"
   ]
  },
  {
   "cell_type": "code",
   "execution_count": 4,
   "metadata": {},
   "outputs": [
    {
     "name": "stdout",
     "output_type": "stream",
     "text": [
      "b\n"
     ]
    }
   ],
   "source": [
    "#3\n",
    "print(lettere[1])"
   ]
  },
  {
   "cell_type": "code",
   "execution_count": 5,
   "metadata": {
    "collapsed": true
   },
   "outputs": [],
   "source": [
    "#4\n",
    "lettere.append('f')"
   ]
  },
  {
   "cell_type": "code",
   "execution_count": 6,
   "metadata": {},
   "outputs": [
    {
     "name": "stdout",
     "output_type": "stream",
     "text": [
      "['c', 'd', 'e', 'f']\n"
     ]
    }
   ],
   "source": [
    "#5\n",
    "print(lettere[2:])"
   ]
  },
  {
   "cell_type": "code",
   "execution_count": null,
   "metadata": {
    "collapsed": true
   },
   "outputs": [],
   "source": []
  },
  {
   "cell_type": "markdown",
   "metadata": {},
   "source": [
    "#### 7. Crea e manipola un dizionario\n",
    "1. Dichiara un dizionario col nome `fonetico` con cinque copie chiavi valori:   \n",
    "    * A \tAlfa\n",
    "    * B \tBravo\n",
    "    * C \tCharlie\n",
    "    * D \tDelta \n",
    "    * E \tEcho\n",
    "\n",
    "    \n",
    "    \n",
    "2. Stampa il valore corrispondendente alla chiave `'C'`\n",
    "3. Aggiungi la coppia chiave valore F Foxtrot"
   ]
  },
  {
   "cell_type": "code",
   "execution_count": 7,
   "metadata": {
    "collapsed": true
   },
   "outputs": [],
   "source": [
    "#1\n",
    "fonetico = {'A': 'Alpha', 'B': 'Bravo', 'C': 'Charlie', 'D': 'Delta', 'E': 'Echo'}"
   ]
  },
  {
   "cell_type": "code",
   "execution_count": 8,
   "metadata": {},
   "outputs": [
    {
     "name": "stdout",
     "output_type": "stream",
     "text": [
      "Charlie\n"
     ]
    }
   ],
   "source": [
    "#2\n",
    "print(fonetico['C'])"
   ]
  },
  {
   "cell_type": "code",
   "execution_count": 9,
   "metadata": {
    "collapsed": true
   },
   "outputs": [],
   "source": [
    "fonetico['F'] = 'Foxtrot'"
   ]
  },
  {
   "cell_type": "code",
   "execution_count": null,
   "metadata": {
    "collapsed": true
   },
   "outputs": [],
   "source": []
  },
  {
   "cell_type": "markdown",
   "metadata": {},
   "source": [
    "#### 8. Crea un if tale che:\n",
    "1. Data una distanza dalla terra di 100 km assegnata alla variabile `dist_km`\n",
    "2. Stampi la seguenti stringhe:\n",
    "    * \"Sei nella troposfera\" se `dist_km` è compresa fra i 0 e 10 km\n",
    "    * \"Sei nella stratosfera\" se `dist_km` è compresa fra i 11 e 50 km\n",
    "    * \"Sei nella mesosfera\" se `dist_km` è compresa fra i 51 e 80 km\n",
    "    * \"Sei nella termosfera\" se `dist_km` è compresa fra i 81 e 500 km\n",
    "    * \"Sei nell'esosfera\" se `dist_km` è compresa fra i 501 e 10000 km\n",
    "    * \"Non dove sei!\" in tutti gli altri casi"
   ]
  },
  {
   "cell_type": "code",
   "execution_count": 10,
   "metadata": {
    "collapsed": true
   },
   "outputs": [],
   "source": [
    "#1\n",
    "dist_km = 100"
   ]
  },
  {
   "cell_type": "code",
   "execution_count": 11,
   "metadata": {},
   "outputs": [
    {
     "name": "stdout",
     "output_type": "stream",
     "text": [
      "Sei nella termosfera\n"
     ]
    }
   ],
   "source": [
    "#2\n",
    "if dist_km >= 0 and dist_km <=10:\n",
    "    print(\"Sei nella troposfera\")\n",
    "elif dist_km >= 11 and dist_km <=50:\n",
    "    print(\"Sei nella stratosfera\")\n",
    "elif dist_km >= 51 and dist_km <=80:\n",
    "    print(\"Sei nella mesosfera\")\n",
    "elif dist_km >= 81 and dist_km <=500:\n",
    "    print(\"Sei nella termosfera\")\n",
    "elif dist_km >= 501 and dist_km <=10000:\n",
    "    print(\"Sei nell'eosfera\")\n",
    "else:\n",
    "    print(\"Non so dove sei!\")"
   ]
  },
  {
   "cell_type": "code",
   "execution_count": null,
   "metadata": {
    "collapsed": true
   },
   "outputs": [],
   "source": []
  },
  {
   "cell_type": "markdown",
   "metadata": {},
   "source": [
    "#### 9. Crea un ciclo for\n",
    "1. Per ogni elementi del dizionario `fonetico` dichiarato sopra mi stampi la stringa del tipo\n",
    "\"A è alpha.\""
   ]
  },
  {
   "cell_type": "code",
   "execution_count": 12,
   "metadata": {},
   "outputs": [
    {
     "name": "stdout",
     "output_type": "stream",
     "text": [
      "A é alpha.\n",
      "B é bravo.\n",
      "C é charlie.\n",
      "D é delta.\n",
      "E é echo.\n",
      "F é foxtrot.\n"
     ]
    }
   ],
   "source": [
    "for key, value in fonetico.items():\n",
    "    print(\"%s é %s.\" %(key, value.lower()))"
   ]
  },
  {
   "cell_type": "code",
   "execution_count": null,
   "metadata": {
    "collapsed": true
   },
   "outputs": [],
   "source": []
  },
  {
   "cell_type": "markdown",
   "metadata": {},
   "source": [
    "#### 10. Crea e stampa una list comprehension\n",
    "1. Dichiara la lista col nome `quattro`\n",
    "2. Crea una lista di tutti i numeri divisibili per 4 da 0 a 52 compreso\n",
    "3. Stampa la lista creata"
   ]
  },
  {
   "cell_type": "code",
   "execution_count": 13,
   "metadata": {
    "collapsed": true
   },
   "outputs": [],
   "source": [
    "#1, 2\n",
    "quattro = [x for x in range(53) if x % 4 == 0]"
   ]
  },
  {
   "cell_type": "code",
   "execution_count": 14,
   "metadata": {},
   "outputs": [
    {
     "name": "stdout",
     "output_type": "stream",
     "text": [
      "[0, 4, 8, 12, 16, 20, 24, 28, 32, 36, 40, 44, 48, 52]\n"
     ]
    }
   ],
   "source": [
    "#3\n",
    "print(quattro)"
   ]
  },
  {
   "cell_type": "code",
   "execution_count": null,
   "metadata": {
    "collapsed": true
   },
   "outputs": [],
   "source": []
  },
  {
   "cell_type": "markdown",
   "metadata": {},
   "source": [
    "#### 11. Crea e richiama una funzione\n",
    "1. Crea una funzione tale che prenda come input una stringa con più parole...\n",
    "2. ... e che restituisca il numero di parole separate da uno spazio\n",
    "3. La funzione deve essere completa di descrizione al suo interno\n",
    "4. Richiamare la funzione per \"Guido van Rossum\"\n",
    "5. Richiamare la funzione per \"Monty Python references appear frequently in Python code and culture\""
   ]
  },
  {
   "cell_type": "code",
   "execution_count": 2,
   "metadata": {
    "collapsed": true
   },
   "outputs": [],
   "source": [
    "# 1, 2, 3\n",
    "def conta_parole(parole):\n",
    "    ''' Coount the words in a string separated by a \n",
    "    parole: str\n",
    "    '''\n",
    "    numero_parole = len(parole.split())\n",
    "    return numero_parole"
   ]
  },
  {
   "cell_type": "code",
   "execution_count": 4,
   "metadata": {},
   "outputs": [],
   "source": [
    "#4\n",
    "numero_parole_guido = conta_parole(\"Guido van Rossum\")"
   ]
  },
  {
   "cell_type": "code",
   "execution_count": 5,
   "metadata": {},
   "outputs": [
    {
     "data": {
      "text/plain": [
       "3"
      ]
     },
     "execution_count": 5,
     "metadata": {},
     "output_type": "execute_result"
    }
   ],
   "source": [
    "numero_parole_guido"
   ]
  },
  {
   "cell_type": "code",
   "execution_count": 17,
   "metadata": {},
   "outputs": [
    {
     "data": {
      "text/plain": [
       "10"
      ]
     },
     "execution_count": 17,
     "metadata": {},
     "output_type": "execute_result"
    }
   ],
   "source": [
    "#5\n",
    "conta_parole(\"Monty Python references appear frequently in Python code and culture\")"
   ]
  },
  {
   "cell_type": "code",
   "execution_count": null,
   "metadata": {
    "collapsed": true
   },
   "outputs": [],
   "source": []
  },
  {
   "cell_type": "markdown",
   "metadata": {},
   "source": [
    "#### 12. Funzione in linea usando `lambda`\n",
    "1. Crea una funzione in linea `lambda` che mi conti tutte le lettere B (minuscole o maiuscole di una stringa)\n",
    "2. Richiama la funzione per \"Peter Norvig\"\n",
    "3. Richiama la funzione per \"Buon giorno, benvenuto, good bye\"\n",
    "4. Richiama la funzione per \"Is Ben Ng Andrew the Ng's brother?\""
   ]
  },
  {
   "cell_type": "code",
   "execution_count": 18,
   "metadata": {
    "collapsed": true
   },
   "outputs": [],
   "source": [
    "#1\n",
    "conta_b = lambda parole: parole.lower().count('b')"
   ]
  },
  {
   "cell_type": "code",
   "execution_count": 19,
   "metadata": {},
   "outputs": [
    {
     "data": {
      "text/plain": [
       "0"
      ]
     },
     "execution_count": 19,
     "metadata": {},
     "output_type": "execute_result"
    }
   ],
   "source": [
    "#2\n",
    "conta_b(\"Peter Norvig\")"
   ]
  },
  {
   "cell_type": "code",
   "execution_count": 20,
   "metadata": {},
   "outputs": [
    {
     "data": {
      "text/plain": [
       "3"
      ]
     },
     "execution_count": 20,
     "metadata": {},
     "output_type": "execute_result"
    }
   ],
   "source": [
    "#3\n",
    "conta_b(\"Buon giorno, benvenuto, good bye\")"
   ]
  },
  {
   "cell_type": "code",
   "execution_count": 21,
   "metadata": {},
   "outputs": [
    {
     "data": {
      "text/plain": [
       "2"
      ]
     },
     "execution_count": 21,
     "metadata": {},
     "output_type": "execute_result"
    }
   ],
   "source": [
    "#4\n",
    "conta_b(\"Is Ben Ng Andrew the Ng's brother?\")"
   ]
  },
  {
   "cell_type": "code",
   "execution_count": null,
   "metadata": {
    "collapsed": true
   },
   "outputs": [],
   "source": []
  }
 ],
 "metadata": {
  "kernelspec": {
   "display_name": "Python 3",
   "language": "python",
   "name": "python3"
  },
  "language_info": {
   "codemirror_mode": {
    "name": "ipython",
    "version": 3
   },
   "file_extension": ".py",
   "mimetype": "text/x-python",
   "name": "python",
   "nbconvert_exporter": "python",
   "pygments_lexer": "ipython3",
   "version": "3.6.3"
  }
 },
 "nbformat": 4,
 "nbformat_minor": 2
}
