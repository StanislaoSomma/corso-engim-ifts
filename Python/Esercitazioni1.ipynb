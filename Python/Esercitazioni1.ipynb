{
 "cells": [
  {
   "cell_type": "markdown",
   "metadata": {},
   "source": [
    "# Esercitazione di Python\n",
    "\n",
    "Ricordiamo che possiamo usare help( ) e dir( ) per accedere a documentazione e metodi disponibili.  \n",
    "\n",
    "Ad esempio `help(len)`, `help(str.split)`, o `dir([1,2,3])`."
   ]
  },
  {
   "cell_type": "markdown",
   "metadata": {},
   "source": [
    "## Esercizio 1\n",
    "1. Dichiara un variabile x del valore 23.45\n",
    "2. Richiamala con print e l'operatore %"
   ]
  },
  {
   "cell_type": "code",
   "execution_count": null,
   "metadata": {
    "collapsed": true
   },
   "outputs": [],
   "source": []
  },
  {
   "cell_type": "markdown",
   "metadata": {},
   "source": [
    "## Esercizio 2\n",
    "1. Chiedi all'utente la sua età con input()\n",
    "2. Trova la data di nascita \n",
    "3. Stampa la data di nascita (output esempio \"La tua data di nascita è il 1990\")"
   ]
  },
  {
   "cell_type": "code",
   "execution_count": null,
   "metadata": {
    "collapsed": true
   },
   "outputs": [],
   "source": []
  },
  {
   "cell_type": "markdown",
   "metadata": {},
   "source": [
    "# Liste"
   ]
  },
  {
   "cell_type": "markdown",
   "metadata": {},
   "source": [
    "## Esercizio 3\n",
    "1. Dichiara la lista di valori 62, 90, 24, 35, 35, 90, 56\n",
    "2. Seleziona solo il 24, 35, 35, 90 (operazione di slicing)"
   ]
  },
  {
   "cell_type": "code",
   "execution_count": null,
   "metadata": {
    "collapsed": true
   },
   "outputs": [],
   "source": []
  },
  {
   "cell_type": "markdown",
   "metadata": {
    "collapsed": true
   },
   "source": [
    "## Esercizio 4\n",
    "\n",
    "### Qual è la differenza fra oggetti tipo *list* e oggetti tipo *tuple*?  "
   ]
  },
  {
   "cell_type": "code",
   "execution_count": null,
   "metadata": {
    "collapsed": true
   },
   "outputs": [],
   "source": []
  },
  {
   "cell_type": "markdown",
   "metadata": {},
   "source": [
    "## Esercizio 5\n",
    "\n",
    "### Data lista = [1.2.3], qual è la differenza fra i metodi lista.append([4,5,6]) e lista.extend([4,5,6])?  "
   ]
  },
  {
   "cell_type": "code",
   "execution_count": null,
   "metadata": {
    "collapsed": true
   },
   "outputs": [],
   "source": []
  },
  {
   "cell_type": "markdown",
   "metadata": {},
   "source": [
    "## Esercizio 6\n",
    "\n",
    "1. Crea una lista di stringhe\n",
    "2. Aggiungi un elemento alla fine della lista\n",
    "3. Stampa la nuova lista"
   ]
  },
  {
   "cell_type": "code",
   "execution_count": null,
   "metadata": {
    "collapsed": true
   },
   "outputs": [],
   "source": []
  },
  {
   "cell_type": "markdown",
   "metadata": {},
   "source": [
    "# Dizionari"
   ]
  },
  {
   "cell_type": "markdown",
   "metadata": {
    "collapsed": true
   },
   "source": [
    "## Esercizio 7\n",
    "1. Crea un dizionario **osi_model** che associ la chiave 1 al valore Physical, 2 a Data link, 3 a Network, 4 a Transport, 5 a Session, 6 a Presentation, 7 a Application\n",
    "2. Seleziona solo gli elementi con indice 1, 2, e 3\n",
    "3. Stampa il dizionario rimanente\n",
    "\n",
    "https://en.wikipedia.org/wiki/OSI_model"
   ]
  },
  {
   "cell_type": "code",
   "execution_count": null,
   "metadata": {
    "collapsed": true
   },
   "outputs": [],
   "source": []
  },
  {
   "cell_type": "markdown",
   "metadata": {},
   "source": [
    "# Cicli e funzioni"
   ]
  },
  {
   "cell_type": "markdown",
   "metadata": {
    "collapsed": true
   },
   "source": [
    "# Esercizio 8\n",
    "\n",
    "1. Crea una funzione *pari(n)* che abbia come input un intero *n* e come output solo i numeri pari da 0 a *n* (con n compreso se pari)\n",
    "2. Richiama la funzione per n=11\n",
    "3. Richiama la funzione per n=30"
   ]
  },
  {
   "cell_type": "code",
   "execution_count": null,
   "metadata": {
    "collapsed": true
   },
   "outputs": [],
   "source": []
  },
  {
   "cell_type": "markdown",
   "metadata": {},
   "source": [
    "# Esercizio 9\n",
    "\n",
    "1. Salva la funzione di prima in un file numeri.py\n",
    "2. Importa **numeri** in un nuovo file \n",
    "3. In questo nuovo file richiama pari(n)"
   ]
  },
  {
   "cell_type": "code",
   "execution_count": null,
   "metadata": {
    "collapsed": true
   },
   "outputs": [],
   "source": []
  },
  {
   "cell_type": "markdown",
   "metadata": {},
   "source": [
    "# Esercizio 10\n",
    "\n",
    "1. Crea una funzione \n",
    "  * con docstring che descriva che la funzione (la luce è nel visibile o meno) e con l_nm come la lunghezza d'onda,  \n",
    "  * che passi un argomento l_nm con una condizione if che mi stampi: \n",
    "     * 'Luce ultravioletta' se l_nm < 400, \n",
    "     * 'Luce visibile' se l_nm è comepresa fra 400 e 700 compresi,\n",
    "     * 'Luce infrarossa' se l_nm > 700\n",
    "2. Richiama la funzione per l_nm = 350\n",
    "3. Richiama la funzione per l_nm = 500\n",
    "4. Richiama la funzione per l_nm =  750"
   ]
  },
  {
   "cell_type": "code",
   "execution_count": null,
   "metadata": {
    "collapsed": true
   },
   "outputs": [],
   "source": []
  },
  {
   "cell_type": "markdown",
   "metadata": {},
   "source": [
    "## Esercizio 11\n",
    "Procedi creando almeno 10 funzioni con nuovi cicli, if statement e funzioni ripassando tutti i precedenti Jupyter Notebook, di cui almeno usando try/except.\n",
    "\n",
    "Abituati a scrivere sempre la docstring in **inglese** usando buone convezioni :)  \n",
    "https://www.python.org/dev/peps/pep-0257/\n",
    "\n",
    "Sperimenta anche salvando script .py e richiamandoli in altri."
   ]
  },
  {
   "cell_type": "code",
   "execution_count": null,
   "metadata": {
    "collapsed": true
   },
   "outputs": [],
   "source": []
  },
  {
   "cell_type": "code",
   "execution_count": null,
   "metadata": {
    "collapsed": true
   },
   "outputs": [],
   "source": []
  },
  {
   "cell_type": "code",
   "execution_count": null,
   "metadata": {
    "collapsed": true
   },
   "outputs": [],
   "source": []
  },
  {
   "cell_type": "code",
   "execution_count": null,
   "metadata": {
    "collapsed": true
   },
   "outputs": [],
   "source": []
  },
  {
   "cell_type": "code",
   "execution_count": null,
   "metadata": {
    "collapsed": true
   },
   "outputs": [],
   "source": []
  },
  {
   "cell_type": "code",
   "execution_count": null,
   "metadata": {
    "collapsed": true
   },
   "outputs": [],
   "source": []
  },
  {
   "cell_type": "code",
   "execution_count": null,
   "metadata": {
    "collapsed": true
   },
   "outputs": [],
   "source": []
  },
  {
   "cell_type": "code",
   "execution_count": null,
   "metadata": {
    "collapsed": true
   },
   "outputs": [],
   "source": []
  },
  {
   "cell_type": "code",
   "execution_count": null,
   "metadata": {
    "collapsed": true
   },
   "outputs": [],
   "source": []
  },
  {
   "cell_type": "code",
   "execution_count": null,
   "metadata": {
    "collapsed": true
   },
   "outputs": [],
   "source": []
  }
 ],
 "metadata": {
  "kernelspec": {
   "display_name": "Python 3",
   "language": "python",
   "name": "python3"
  },
  "language_info": {
   "codemirror_mode": {
    "name": "ipython",
    "version": 3
   },
   "file_extension": ".py",
   "mimetype": "text/x-python",
   "name": "python",
   "nbconvert_exporter": "python",
   "pygments_lexer": "ipython3",
   "version": "3.6.3"
  }
 },
 "nbformat": 4,
 "nbformat_minor": 2
}
