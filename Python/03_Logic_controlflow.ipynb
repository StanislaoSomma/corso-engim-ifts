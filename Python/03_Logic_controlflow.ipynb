{
 "cells": [
  {
   "cell_type": "markdown",
   "metadata": {},
   "source": [
    "# Logica, control flow e loop\n",
    "Documentazione: https://docs.python.org/3/tutorial/controlflow.html  \n",
    "Risorsa per comparare codice fra Java e Python: https://anh.cs.luc.edu/331/notes/JavaVsPython.html  \n",
    "\n",
    "## Espressioni booleane\n",
    "Partiamo dal ricordare un po' di espressioni booleane"
   ]
  },
  {
   "cell_type": "code",
   "execution_count": 1,
   "metadata": {},
   "outputs": [
    {
     "data": {
      "text/plain": [
       "True"
      ]
     },
     "execution_count": 1,
     "metadata": {},
     "output_type": "execute_result"
    }
   ],
   "source": [
    "(3 + 5) >= 8 and 6 == int('6')"
   ]
  },
  {
   "cell_type": "code",
   "execution_count": 2,
   "metadata": {},
   "outputs": [
    {
     "data": {
      "text/plain": [
       "False"
      ]
     },
     "execution_count": 2,
     "metadata": {},
     "output_type": "execute_result"
    }
   ],
   "source": [
    "(3 + 5) > 8 and 6 == int('6')"
   ]
  },
  {
   "cell_type": "code",
   "execution_count": 3,
   "metadata": {},
   "outputs": [
    {
     "data": {
      "text/plain": [
       "True"
      ]
     },
     "execution_count": 3,
     "metadata": {},
     "output_type": "execute_result"
    }
   ],
   "source": [
    "(3 + 5) > 8 or 6 == int('6')"
   ]
  },
  {
   "cell_type": "code",
   "execution_count": 4,
   "metadata": {},
   "outputs": [
    {
     "data": {
      "text/plain": [
       "False"
      ]
     },
     "execution_count": 4,
     "metadata": {},
     "output_type": "execute_result"
    }
   ],
   "source": [
    "(3 + 5) > 8 or 6 != int('6')"
   ]
  },
  {
   "cell_type": "code",
   "execution_count": 5,
   "metadata": {
    "collapsed": true
   },
   "outputs": [],
   "source": [
    "lista_fisici = ['Bohm', 'Feynman', 'Einstein']\n",
    "lista_cognomi = ['Bara', 'Dealmedia', 'Bohm', 'Einstein']"
   ]
  },
  {
   "cell_type": "code",
   "execution_count": 6,
   "metadata": {},
   "outputs": [
    {
     "data": {
      "text/plain": [
       "True"
      ]
     },
     "execution_count": 6,
     "metadata": {},
     "output_type": "execute_result"
    }
   ],
   "source": [
    "lista_fisici[0] == lista_cognomi[2]"
   ]
  },
  {
   "cell_type": "code",
   "execution_count": 7,
   "metadata": {},
   "outputs": [
    {
     "data": {
      "text/plain": [
       "False"
      ]
     },
     "execution_count": 7,
     "metadata": {},
     "output_type": "execute_result"
    }
   ],
   "source": [
    "'Einstein' in lista_fisici and 'Maxwell' in lista_cognomi"
   ]
  },
  {
   "cell_type": "code",
   "execution_count": 8,
   "metadata": {},
   "outputs": [
    {
     "data": {
      "text/plain": [
       "True"
      ]
     },
     "execution_count": 8,
     "metadata": {},
     "output_type": "execute_result"
    }
   ],
   "source": [
    "numero = 5\n",
    "\n",
    "numero > 3 and numero < 6"
   ]
  },
  {
   "cell_type": "code",
   "execution_count": 9,
   "metadata": {},
   "outputs": [
    {
     "data": {
      "text/plain": [
       "True"
      ]
     },
     "execution_count": 9,
     "metadata": {},
     "output_type": "execute_result"
    }
   ],
   "source": [
    "True"
   ]
  },
  {
   "cell_type": "code",
   "execution_count": 10,
   "metadata": {},
   "outputs": [
    {
     "data": {
      "text/plain": [
       "(int, True)"
      ]
     },
     "execution_count": 10,
     "metadata": {},
     "output_type": "execute_result"
    }
   ],
   "source": [
    "# Ricordiamo che tutto ciò che è 0, nullo o vuoto è False, il resto è True\n",
    "\n",
    "casa= 500\n",
    "type(casa), bool(casa)"
   ]
  },
  {
   "cell_type": "code",
   "execution_count": 11,
   "metadata": {},
   "outputs": [
    {
     "data": {
      "text/plain": [
       "bool"
      ]
     },
     "execution_count": 11,
     "metadata": {},
     "output_type": "execute_result"
    }
   ],
   "source": [
    "bool_500 = bool(500)\n",
    "type(bool_500)"
   ]
  },
  {
   "cell_type": "code",
   "execution_count": null,
   "metadata": {
    "collapsed": true
   },
   "outputs": [],
   "source": []
  },
  {
   "cell_type": "code",
   "execution_count": null,
   "metadata": {
    "collapsed": true
   },
   "outputs": [],
   "source": []
  },
  {
   "cell_type": "code",
   "execution_count": null,
   "metadata": {
    "collapsed": true
   },
   "outputs": [],
   "source": []
  },
  {
   "cell_type": "markdown",
   "metadata": {
    "collapsed": true
   },
   "source": [
    "## Condizione if\n",
    "\n",
    "`if <condizione>:  \n",
    "    <statement>\n",
    "elif <condizione>: \n",
    "    <statement>\n",
    "else:\n",
    "    <statement>`\n",
    "\n",
    "La **condizione** è un'espressione booleana che puà anche essere salvata in una variabile e poi richiamata"
   ]
  },
  {
   "cell_type": "code",
   "execution_count": 12,
   "metadata": {
    "collapsed": true
   },
   "outputs": [],
   "source": [
    "if 3 < 2:\n",
    "    print(\"La condizione è vera\")    "
   ]
  },
  {
   "cell_type": "code",
   "execution_count": 13,
   "metadata": {},
   "outputs": [
    {
     "name": "stdout",
     "output_type": "stream",
     "text": [
      "L'affitto sarà alto\n"
     ]
    }
   ],
   "source": [
    "metratura = 500\n",
    "casa_grande = metratura > 400\n",
    "\n",
    "if casa_grande:\n",
    "    print(\"L'affitto sarà alto\")"
   ]
  },
  {
   "cell_type": "code",
   "execution_count": 14,
   "metadata": {},
   "outputs": [
    {
     "data": {
      "text/plain": [
       "True"
      ]
     },
     "execution_count": 14,
     "metadata": {},
     "output_type": "execute_result"
    }
   ],
   "source": [
    "# Verifichiamo che la condizione del precedente if è vera per metratura = 500\n",
    "casa_grande "
   ]
  },
  {
   "cell_type": "markdown",
   "metadata": {},
   "source": [
    "#### Domanda durante il corso:\n",
    "\"Cosa succede se mettiamo solo l'int casa (=500) come condizinone?\""
   ]
  },
  {
   "cell_type": "code",
   "execution_count": 15,
   "metadata": {},
   "outputs": [
    {
     "data": {
      "text/plain": [
       "(int, True)"
      ]
     },
     "execution_count": 15,
     "metadata": {},
     "output_type": "execute_result"
    }
   ],
   "source": [
    "casa = 500\n",
    "type(casa), bool(casa)"
   ]
  },
  {
   "cell_type": "code",
   "execution_count": 16,
   "metadata": {},
   "outputs": [
    {
     "name": "stdout",
     "output_type": "stream",
     "text": [
      "L'affitto sarà alto\n"
     ]
    }
   ],
   "source": [
    "if casa:\n",
    "    print(\"L'affitto sarà alto\")"
   ]
  },
  {
   "cell_type": "code",
   "execution_count": null,
   "metadata": {
    "collapsed": true
   },
   "outputs": [],
   "source": []
  },
  {
   "cell_type": "markdown",
   "metadata": {},
   "source": [
    "#### Esempio usando `if`, `elif`, ed `else` insieme"
   ]
  },
  {
   "cell_type": "code",
   "execution_count": 17,
   "metadata": {},
   "outputs": [
    {
     "name": "stdout",
     "output_type": "stream",
     "text": [
      "il tuo nome ha fra le 5 e le 10 lettere. * * * * * * * *\n"
     ]
    }
   ],
   "source": [
    "nome = 'Leonardo'\n",
    "secret = ' *' * len(nome)\n",
    "\n",
    "if len(nome) < 5:\n",
    "    print('Il tuo nome ha meno di 5 lettere: ' + secret)\n",
    "\n",
    "# omettiamo l'identazione dentro al primo if per procede con elif\n",
    "elif len(nome) >= 5 and len(nome) <= 10: \n",
    "    print('il tuo nome ha fra le 5 e le 10 lettere.' + secret)\n",
    "else:\n",
    "    print('Wow, il tuo nome ha più d 10 lettere!' + secret)"
   ]
  },
  {
   "cell_type": "code",
   "execution_count": null,
   "metadata": {
    "collapsed": true
   },
   "outputs": [],
   "source": []
  },
  {
   "cell_type": "code",
   "execution_count": null,
   "metadata": {
    "collapsed": true
   },
   "outputs": [],
   "source": []
  },
  {
   "cell_type": "markdown",
   "metadata": {},
   "source": [
    "## Crea la tua condizione if\n",
    "\n",
    "Crea una condizione if che stampi:\n",
    "* 'Sei a (numero) km dalla destinazione' se numero km è minore di 10\n",
    "* 'Sei arrivato a destinazione' se numero km è uguale a 10\n",
    "* 'Sei andato oltre la destinazione' se numero km è maggiore di 10. "
   ]
  },
  {
   "cell_type": "code",
   "execution_count": 18,
   "metadata": {},
   "outputs": [
    {
     "name": "stdout",
     "output_type": "stream",
     "text": [
      "Questo è un 5!\n"
     ]
    }
   ],
   "source": [
    "# Ricordiamo come stampare interi la composizione di stringhe...\n",
    "numero = 5\n",
    "print(\"Questo è un \" + str(numero) + \"!\")"
   ]
  },
  {
   "cell_type": "code",
   "execution_count": 19,
   "metadata": {},
   "outputs": [
    {
     "name": "stdout",
     "output_type": "stream",
     "text": [
      "Questo è un 3.70! >>> Bye!\n"
     ]
    }
   ],
   "source": [
    "# ...o stampare con l'operatore %\n",
    "numero = 3.7\n",
    "ciao = 'Bye!'\n",
    "print(\"Questo è un %.2f! >>> %s\" %(numero, ciao))"
   ]
  },
  {
   "cell_type": "code",
   "execution_count": 20,
   "metadata": {},
   "outputs": [
    {
     "name": "stdout",
     "output_type": "stream",
     "text": [
      "Ti mancano ancora 24.20 km da casa\n"
     ]
    }
   ],
   "source": [
    "distanza = 25.8\n",
    "posizione_casa = 50\n",
    "\n",
    "if distanza < posizione_casa:\n",
    "    print('Ti mancano ancora %.2f km da casa' %(posizione_casa-distanza))\n",
    "elif distanza == posizione_casa:\n",
    "    print('Sei arrivato/a!')\n",
    "else:\n",
    "    print('Sei andato/a oltre!')"
   ]
  },
  {
   "cell_type": "code",
   "execution_count": null,
   "metadata": {
    "collapsed": true
   },
   "outputs": [],
   "source": []
  },
  {
   "cell_type": "code",
   "execution_count": null,
   "metadata": {
    "collapsed": true
   },
   "outputs": [],
   "source": []
  },
  {
   "cell_type": "markdown",
   "metadata": {},
   "source": [
    "## Ciclo while\n",
    "\n",
    "`while <condizione>: \n",
    "    <statement>` \n",
    "   \n",
    "**Attenzione**: Per fermare un ciclo **while** possiamo definire fuori dal ciclo un contatore che aggiorniamo nel ciclo, oppure possiamo usare **break**"
   ]
  },
  {
   "cell_type": "code",
   "execution_count": 21,
   "metadata": {},
   "outputs": [
    {
     "name": "stdout",
     "output_type": "stream",
     "text": [
      "Benvenuto a bordo!\n",
      "Benvenuto a bordo!\n",
      "Benvenuto a bordo!\n",
      "Benvenuto a bordo!\n",
      "Benvenuto a bordo!\n"
     ]
    }
   ],
   "source": [
    "passeggeri = 5\n",
    "\n",
    "while passeggeri != 0:\n",
    "    print('Benvenuto a bordo!')\n",
    "    passeggeri -= 1"
   ]
  },
  {
   "cell_type": "code",
   "execution_count": 22,
   "metadata": {},
   "outputs": [
    {
     "name": "stdout",
     "output_type": "stream",
     "text": [
      "Una volta sola\n",
      "e poi si ferma\n"
     ]
    }
   ],
   "source": [
    "while True:\n",
    "    print('Una volta sola')\n",
    "    if True:\n",
    "        print('e poi si ferma')\n",
    "        break   "
   ]
  },
  {
   "cell_type": "markdown",
   "metadata": {},
   "source": [
    "#### Successione di Fibonacci\n",
    "https://it.wikipedia.org/wiki/Successione_di_Fibonacci"
   ]
  },
  {
   "cell_type": "code",
   "execution_count": 23,
   "metadata": {},
   "outputs": [
    {
     "name": "stdout",
     "output_type": "stream",
     "text": [
      "Successione di Fibonacci: \n",
      "1\n",
      "1\n",
      "2\n",
      "3\n",
      "5\n",
      "8\n",
      "13\n",
      "21\n",
      "34\n",
      "55\n",
      "89\n",
      "144\n",
      "233\n",
      "377\n",
      "610\n",
      "987\n"
     ]
    }
   ],
   "source": [
    "n1, n2 = 1, 1\n",
    "\n",
    "print('Successione di Fibonacci: ')\n",
    "print(n1)\n",
    "\n",
    "while n2 < 1000:\n",
    "    print(n2)\n",
    "    n1, n2 = n2, n1 + n2"
   ]
  },
  {
   "cell_type": "code",
   "execution_count": 24,
   "metadata": {},
   "outputs": [
    {
     "name": "stdout",
     "output_type": "stream",
     "text": [
      "Successione di Fibonacci: \n",
      "[1, 1, 2, 3, 5, 8, 13, 21, 34, 55, 89, 144, 233, 377, 610, 987]\n"
     ]
    }
   ],
   "source": [
    "# Vogliamo generare una lista dei valori della successione di Fibonacci\n",
    "\n",
    "print('Successione di Fibonacci: ')\n",
    "\n",
    "# Possiamo defire più variabili sulla stessa riga: var1, var2 = valore_var1, valore_var2\n",
    "n1, n2 = 1, 1\n",
    "fibonacci = [n1]\n",
    "\n",
    "while n2 < 1000:\n",
    "    fibonacci.append(n2)\n",
    "    n1, n2 = n2, n1 + n2\n",
    "    \n",
    "print(fibonacci)"
   ]
  },
  {
   "cell_type": "code",
   "execution_count": 25,
   "metadata": {},
   "outputs": [
    {
     "name": "stdout",
     "output_type": "stream",
     "text": [
      "0\n",
      "4\n",
      "6\n",
      "7\n",
      "9\n"
     ]
    }
   ],
   "source": [
    "# Vogliamo stampare i valori non appatenenti alla successione di Fibonacci \n",
    "# Attenzione: usiamo la lista generata nella cella precedente\n",
    "\n",
    "notFibonacci = 0\n",
    "\n",
    "while notFibonacci < 10:\n",
    "    if notFibonacci not in fibonacci:\n",
    "        print(notFibonacci)\n",
    "    notFibonacci += 1"
   ]
  },
  {
   "cell_type": "code",
   "execution_count": null,
   "metadata": {
    "collapsed": true
   },
   "outputs": [],
   "source": []
  },
  {
   "cell_type": "code",
   "execution_count": null,
   "metadata": {
    "collapsed": true
   },
   "outputs": [],
   "source": []
  },
  {
   "cell_type": "code",
   "execution_count": null,
   "metadata": {
    "collapsed": true
   },
   "outputs": [],
   "source": []
  },
  {
   "cell_type": "markdown",
   "metadata": {},
   "source": [
    "## Ciclo for\n",
    "\n",
    "`for <variabile iterante> in <sequenza>: \n",
    "    <statement>`\n",
    "\n",
    "Differenza fra Java e Python:  \n",
    "\n",
    "| Java                                       || Python                   |\n",
    "|--------------------------------------------||--------------------------|\n",
    "|`for (int count = 1; count < 5); count++){` || `for count in range(5):` |\n",
    "|    `System.out.println(count);`            || `    print(count)`       |\n",
    "|`}`                                         ||                          |   "
   ]
  },
  {
   "cell_type": "code",
   "execution_count": 26,
   "metadata": {},
   "outputs": [
    {
     "data": {
      "text/plain": [
       "range(0, 5)"
      ]
     },
     "execution_count": 26,
     "metadata": {},
     "output_type": "execute_result"
    }
   ],
   "source": [
    "range(5) # range(5) ci genera un intervallo da 0 a 5 non compreso"
   ]
  },
  {
   "cell_type": "code",
   "execution_count": 27,
   "metadata": {
    "scrolled": true
   },
   "outputs": [
    {
     "name": "stdout",
     "output_type": "stream",
     "text": [
      "0\n",
      "1\n",
      "2\n",
      "3\n",
      "4\n"
     ]
    }
   ],
   "source": [
    "# for <variabile> in <sequenza>, la variabile var è definita all'interno del for\n",
    "\n",
    "for var in range(5): \n",
    "    \n",
    "    # var prende i valori di range(5): \n",
    "    # al primo giro vale 0, al secondo 1, ..., fino all'ultimo giro in cui vale 4\n",
    "    \n",
    "    print(var) # <statement>"
   ]
  },
  {
   "cell_type": "code",
   "execution_count": 28,
   "metadata": {},
   "outputs": [
    {
     "name": "stdout",
     "output_type": "stream",
     "text": [
      "1: ciao\n",
      "2: ciao\n",
      "3: ciao\n",
      "4: ciao\n",
      "5: ciao\n",
      "5\n"
     ]
    }
   ],
   "source": [
    "for count in range(1, 6): # range(1,6) va da 1 a 6 non compreso (quindi fino a 5)\n",
    "    print('%d: ciao' %count)\n",
    "    \n",
    "print(count) "
   ]
  },
  {
   "cell_type": "markdown",
   "metadata": {},
   "source": [
    "#### Domanda durante il corso:\n",
    "\"Cosa succede se una variale con lo stesso nome di quella nel ciclo for viene inizializzata prima?\""
   ]
  },
  {
   "cell_type": "code",
   "execution_count": 29,
   "metadata": {},
   "outputs": [
    {
     "name": "stdout",
     "output_type": "stream",
     "text": [
      "2\n",
      "0: ciao\n",
      "1: ciao\n",
      "2: ciao\n",
      "3: ciao\n",
      "4: ciao\n",
      "5: ciao\n",
      "5\n"
     ]
    }
   ],
   "source": [
    "index = 2 # inizializiamo index a 2\n",
    "print(index)\n",
    "\n",
    "for index in range(6): # se unilizziamo index nel ciclo for verrà sovrascritta\n",
    "    print('%d: ciao' %index)\n",
    "    \n",
    "print(index) # fuori dal ciclo acquisirà l'ultimo valore acquisito"
   ]
  },
  {
   "cell_type": "markdown",
   "metadata": {},
   "source": [
    "### Altri esempi"
   ]
  },
  {
   "cell_type": "code",
   "execution_count": 30,
   "metadata": {},
   "outputs": [
    {
     "name": "stdout",
     "output_type": "stream",
     "text": [
      "m\n",
      "a\n",
      "r\n",
      "e\n"
     ]
    }
   ],
   "source": [
    "luogo = 'mare'\n",
    "\n",
    "for lettera in luogo:\n",
    "    print(lettera)"
   ]
  },
  {
   "cell_type": "code",
   "execution_count": 31,
   "metadata": {},
   "outputs": [
    {
     "name": "stdout",
     "output_type": "stream",
     "text": [
      "170\n",
      "130\n",
      "150\n"
     ]
    }
   ],
   "source": [
    "altezze = [170, 130, 150]\n",
    "\n",
    "for altezza in altezze:\n",
    "    print(altezza)"
   ]
  },
  {
   "cell_type": "code",
   "execution_count": 32,
   "metadata": {},
   "outputs": [
    {
     "name": "stdout",
     "output_type": "stream",
     "text": [
      "1 apple\n",
      "2 banana\n",
      "3 grapes\n",
      "4 pear\n"
     ]
    }
   ],
   "source": [
    "fruits = ['apple', 'banana', 'grapes', 'pear']\n",
    "for n, fruit in enumerate(fruits, 1):\n",
    "# enumerate(cosa conta, da che numero parte)\n",
    "    print(n, fruit)"
   ]
  },
  {
   "cell_type": "code",
   "execution_count": 33,
   "metadata": {
    "collapsed": true
   },
   "outputs": [],
   "source": [
    "# Creiamo un dizionario\n",
    "datascience = {'np': 'numpy',\n",
    "               'pd': 'pandas',\n",
    "               'plt': 'matplotlib.pyplot',\n",
    "               'sns': 'seaborn'}"
   ]
  },
  {
   "cell_type": "code",
   "execution_count": 34,
   "metadata": {},
   "outputs": [
    {
     "data": {
      "text/plain": [
       "'seaborn'"
      ]
     },
     "execution_count": 34,
     "metadata": {},
     "output_type": "execute_result"
    }
   ],
   "source": [
    "datascience['sns']"
   ]
  },
  {
   "cell_type": "code",
   "execution_count": 35,
   "metadata": {},
   "outputs": [
    {
     "name": "stdout",
     "output_type": "stream",
     "text": [
      "np\n",
      "pd\n",
      "plt\n",
      "sns\n"
     ]
    }
   ],
   "source": [
    "# la variabile 'chiave' prende il valore delle chiavi di ciascun elemento del dizionario\n",
    "for chiave in datascience: \n",
    "    print(chiave)"
   ]
  },
  {
   "cell_type": "code",
   "execution_count": 36,
   "metadata": {},
   "outputs": [
    {
     "name": "stdout",
     "output_type": "stream",
     "text": [
      "numpy\n",
      "pandas\n",
      "matplotlib.pyplot\n",
      "seaborn\n"
     ]
    }
   ],
   "source": [
    "for chiave in datascience:\n",
    "    # uso la chiave per richiamare il valore di ciascun elemento del dizionario\n",
    "    print(datascience[chiave]) "
   ]
  },
  {
   "cell_type": "code",
   "execution_count": 37,
   "metadata": {},
   "outputs": [
    {
     "name": "stdout",
     "output_type": "stream",
     "text": [
      "import numpy as np\n",
      "import pandas as pd\n",
      "import matplotlib.pyplot as plt\n",
      "import seaborn as sns\n"
     ]
    }
   ],
   "source": [
    "for chiave in datascience:\n",
    "    print('import ' + datascience[chiave] + ' as ' + chiave)"
   ]
  },
  {
   "cell_type": "code",
   "execution_count": 38,
   "metadata": {},
   "outputs": [
    {
     "data": {
      "text/plain": [
       "{'np': 'numpy', 'pd': 'pandas', 'plt': 'matplotlib.pyplot', 'sns': 'seaborn'}"
      ]
     },
     "execution_count": 38,
     "metadata": {},
     "output_type": "execute_result"
    }
   ],
   "source": [
    "datascience"
   ]
  },
  {
   "cell_type": "code",
   "execution_count": 39,
   "metadata": {},
   "outputs": [
    {
     "data": {
      "text/plain": [
       "dict_items([('np', 'numpy'), ('pd', 'pandas'), ('plt', 'matplotlib.pyplot'), ('sns', 'seaborn')])"
      ]
     },
     "execution_count": 39,
     "metadata": {},
     "output_type": "execute_result"
    }
   ],
   "source": [
    "# Ricordiamo che .items salva una coppia di variabili chiave e valore\n",
    "datascience.items() "
   ]
  },
  {
   "cell_type": "code",
   "execution_count": 40,
   "metadata": {},
   "outputs": [
    {
     "name": "stdout",
     "output_type": "stream",
     "text": [
      "np <-- numpy\n",
      "pd <-- pandas\n",
      "plt <-- matplotlib.pyplot\n",
      "sns <-- seaborn\n"
     ]
    }
   ],
   "source": [
    "# Andiamo a pescare sia la chiave che il valore da datascience.items() \n",
    "for key, value in datascience.items(): \n",
    "    print(key + \" <-- \" + value)"
   ]
  },
  {
   "cell_type": "markdown",
   "metadata": {},
   "source": [
    "## Crea il tuo ciclo for\n",
    "\n",
    "Trai spunti dagli esempi precedenti o inventatene uno nuovo!"
   ]
  },
  {
   "cell_type": "code",
   "execution_count": null,
   "metadata": {
    "collapsed": true
   },
   "outputs": [],
   "source": []
  },
  {
   "cell_type": "code",
   "execution_count": null,
   "metadata": {
    "collapsed": true
   },
   "outputs": [],
   "source": []
  },
  {
   "cell_type": "code",
   "execution_count": null,
   "metadata": {
    "collapsed": true
   },
   "outputs": [],
   "source": []
  },
  {
   "cell_type": "markdown",
   "metadata": {},
   "source": [
    "## List comprehesion\n",
    "\n",
    "Creiamo liste usando i loop e condizioni if apprese.\n",
    "\n",
    "Fra quadtre mettiamo in **cosa voglio fare** espresso con variabile a scelta seguito da **su cosa voglio farlo** usando la variabile scelta come variabile iterante. Aggiungiamo alla fine eventuali condizioni aggiuntive."
   ]
  },
  {
   "cell_type": "code",
   "execution_count": 41,
   "metadata": {},
   "outputs": [
    {
     "data": {
      "text/plain": [
       "[12081.55, 24163.1, 36244.65, 0.24, 60407.75, 1208155.0]"
      ]
     },
     "execution_count": 41,
     "metadata": {},
     "output_type": "execute_result"
    }
   ],
   "source": [
    "bitcoins = [1,2,3,0.00002, 5, 100]\n",
    "# [cosa fare + su cosa farlo\n",
    "euros = [round(btc * 12081.55, 2) for btc in bitcoins]\n",
    "\n",
    "euros"
   ]
  },
  {
   "cell_type": "code",
   "execution_count": 42,
   "metadata": {},
   "outputs": [
    {
     "data": {
      "text/plain": [
       "[36244.65, 60407.75, 1208155.0]"
      ]
     },
     "execution_count": 42,
     "metadata": {},
     "output_type": "execute_result"
    }
   ],
   "source": [
    "fortune_euros = [round(bitcoin * 12081.55, 2) for bitcoin in bitcoins if bitcoin > 2]\n",
    "fortune_euros"
   ]
  },
  {
   "cell_type": "code",
   "execution_count": 43,
   "metadata": {},
   "outputs": [
    {
     "data": {
      "text/plain": [
       "['Considerate',\n",
       " 'la',\n",
       " 'vostra',\n",
       " 'semenza:',\n",
       " 'fatti',\n",
       " 'non',\n",
       " 'foste',\n",
       " 'a',\n",
       " 'viver',\n",
       " 'come',\n",
       " 'bruti',\n",
       " 'ma',\n",
       " 'per',\n",
       " 'seguir',\n",
       " 'virtute',\n",
       " 'e',\n",
       " 'canoscenza']"
      ]
     },
     "execution_count": 43,
     "metadata": {},
     "output_type": "execute_result"
    }
   ],
   "source": [
    "ulisse = \"Considerate la vostra semenza: fatti non foste a viver come bruti ma per seguir virtute e canoscenza\"\n",
    "ulisse_list = ulisse.split()\n",
    "\n",
    "ulisse_list"
   ]
  },
  {
   "cell_type": "code",
   "execution_count": 44,
   "metadata": {},
   "outputs": [
    {
     "data": {
      "text/plain": [
       "[11, 2, 6, 8, 5, 3, 5, 1, 5, 4, 5, 2, 3, 6, 7, 1, 10]"
      ]
     },
     "execution_count": 44,
     "metadata": {},
     "output_type": "execute_result"
    }
   ],
   "source": [
    "words_len = [len(parola) for parola in ulisse_list]\n",
    "words_len"
   ]
  },
  {
   "cell_type": "code",
   "execution_count": null,
   "metadata": {
    "collapsed": true
   },
   "outputs": [],
   "source": []
  },
  {
   "cell_type": "code",
   "execution_count": null,
   "metadata": {
    "collapsed": true
   },
   "outputs": [],
   "source": []
  },
  {
   "cell_type": "code",
   "execution_count": null,
   "metadata": {
    "collapsed": true
   },
   "outputs": [],
   "source": []
  },
  {
   "cell_type": "markdown",
   "metadata": {
    "collapsed": true
   },
   "source": [
    "## Dictionaries comprehesion"
   ]
  },
  {
   "cell_type": "markdown",
   "metadata": {
    "collapsed": true
   },
   "source": [
    "Creiamo un dizionario a partire dall'alfabeto NATO  \n",
    "https://en.wikipedia.org/wiki/NATO_phonetic_alphabet\n",
    "\n",
    "In questo caso useremo le graffe e i due punti **:** per creae un dizionario formato da elementi **chiave: valore**. "
   ]
  },
  {
   "cell_type": "code",
   "execution_count": 45,
   "metadata": {
    "collapsed": true
   },
   "outputs": [],
   "source": [
    "nato_list = ['alpha', 'bravo', 'charlie', 'delta', 'echo']\n",
    "\n",
    "# Genero un dizionario dalla list con una dictionary comprehension\n",
    "nato_dict = {parola[0].capitalize(): parola for parola in nato_list}"
   ]
  },
  {
   "cell_type": "code",
   "execution_count": 46,
   "metadata": {},
   "outputs": [
    {
     "data": {
      "text/plain": [
       "{'A': 'alpha', 'B': 'bravo', 'C': 'charlie', 'D': 'delta', 'E': 'echo'}"
      ]
     },
     "execution_count": 46,
     "metadata": {},
     "output_type": "execute_result"
    }
   ],
   "source": [
    "nato_dict"
   ]
  },
  {
   "cell_type": "code",
   "execution_count": 47,
   "metadata": {
    "collapsed": true
   },
   "outputs": [],
   "source": [
    "ulisse = \"Fatti non foste a viver come bruti ma per seguir virtute e canoscenza\"\n",
    "ulisse_list = ulisse.split()\n",
    "\n",
    "ulisse_dict = {parola.lower(): len(parola) for parola in ulisse_list}"
   ]
  },
  {
   "cell_type": "code",
   "execution_count": 48,
   "metadata": {},
   "outputs": [
    {
     "data": {
      "text/plain": [
       "{'a': 1,\n",
       " 'bruti': 5,\n",
       " 'canoscenza': 10,\n",
       " 'come': 4,\n",
       " 'e': 1,\n",
       " 'fatti': 5,\n",
       " 'foste': 5,\n",
       " 'ma': 2,\n",
       " 'non': 3,\n",
       " 'per': 3,\n",
       " 'seguir': 6,\n",
       " 'virtute': 7,\n",
       " 'viver': 5}"
      ]
     },
     "execution_count": 48,
     "metadata": {},
     "output_type": "execute_result"
    }
   ],
   "source": [
    "ulisse_dict # notiamo che il dizionario riordina le chiavi in ordine alfabetico"
   ]
  },
  {
   "cell_type": "code",
   "execution_count": null,
   "metadata": {
    "collapsed": true
   },
   "outputs": [],
   "source": []
  },
  {
   "cell_type": "code",
   "execution_count": null,
   "metadata": {
    "collapsed": true
   },
   "outputs": [],
   "source": []
  },
  {
   "cell_type": "code",
   "execution_count": null,
   "metadata": {
    "collapsed": true
   },
   "outputs": [],
   "source": []
  }
 ],
 "metadata": {
  "kernelspec": {
   "display_name": "Python 3",
   "language": "python",
   "name": "python3"
  },
  "language_info": {
   "codemirror_mode": {
    "name": "ipython",
    "version": 3
   },
   "file_extension": ".py",
   "mimetype": "text/x-python",
   "name": "python",
   "nbconvert_exporter": "python",
   "pygments_lexer": "ipython3",
   "version": "3.6.3"
  }
 },
 "nbformat": 4,
 "nbformat_minor": 2
}
