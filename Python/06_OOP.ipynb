{
 "cells": [
  {
   "cell_type": "markdown",
   "metadata": {},
   "source": [
    "# Object Oriented Programming\n",
    "\n",
    "Object Oriented Programming (OOP) è un paradigma di programmazione basato sulla definizione di oggetti, e loro metodi, interagenti fra loro. \n",
    "\n",
    "Python da la possibilità di sviluppare software in OOP. In questo Jupyter Notebook vedremo un'introduzione ed esposizione ai concetti fondamentali. \n",
    "\n",
    "Alla fine passeremo a Spyder per ristrutturare il nostro codice in file diversi.\n",
    "\n",
    "Potete trovare qui più informazioni sui data scientist citati:  \n",
    "https://www.analyticsvidhya.com/blog/2015/09/ultimate-data-scientists-world-today/"
   ]
  },
  {
   "cell_type": "markdown",
   "metadata": {},
   "source": [
    "## Classe\n",
    "\n",
    "Una classe è un gruppo logico di funzioni e dati, le funzioni di una classe vengono detti **moduli**, ossia le azioni che possiamo fare su quella classe.\n",
    "\n",
    "### Definizione di una classe\n",
    "`class NomeClasse(argomenti):\n",
    "    def nome_metodo(argomenti):\n",
    "    ...`"
   ]
  },
  {
   "cell_type": "markdown",
   "metadata": {},
   "source": [
    "Possiamo definire la più semplice delle classe senza passare alcun metodo con la keyword **`pass`**."
   ]
  },
  {
   "cell_type": "code",
   "execution_count": 1,
   "metadata": {
    "collapsed": true
   },
   "outputs": [],
   "source": [
    "class DataScientist:\n",
    "    pass"
   ]
  },
  {
   "cell_type": "markdown",
   "metadata": {},
   "source": [
    "### Oggetto: istanza di una classe\n",
    "Creiamo un oggetto richiamando la classe e gli eventuali argomenti.\n",
    "Due istanze della stessa classe sono indipendenti l'una dall'altra."
   ]
  },
  {
   "cell_type": "code",
   "execution_count": 2,
   "metadata": {},
   "outputs": [],
   "source": [
    "mario = DataScientist()"
   ]
  },
  {
   "cell_type": "code",
   "execution_count": 3,
   "metadata": {},
   "outputs": [
    {
     "name": "stdout",
     "output_type": "stream",
     "text": [
      "<__main__.DataScientist object at 0x10e677128>\n"
     ]
    }
   ],
   "source": [
    "print(mario)"
   ]
  },
  {
   "cell_type": "code",
   "execution_count": 4,
   "metadata": {
    "collapsed": true
   },
   "outputs": [],
   "source": [
    "luigi = DataScientist()"
   ]
  },
  {
   "cell_type": "code",
   "execution_count": 5,
   "metadata": {},
   "outputs": [
    {
     "name": "stdout",
     "output_type": "stream",
     "text": [
      "<__main__.DataScientist object at 0x10e677208>\n"
     ]
    }
   ],
   "source": [
    "print(luigi)"
   ]
  },
  {
   "cell_type": "code",
   "execution_count": null,
   "metadata": {
    "collapsed": true
   },
   "outputs": [],
   "source": []
  },
  {
   "cell_type": "markdown",
   "metadata": {},
   "source": [
    "### Creiamo moduli per la nostra classe\n",
    "Iniziamo ad introdurre anche **self** come primo parametro nella nostra classe, vedremo fra poco il suo utilizzo."
   ]
  },
  {
   "cell_type": "code",
   "execution_count": 6,
   "metadata": {
    "collapsed": true
   },
   "outputs": [],
   "source": [
    "data_scientists = []\n",
    "\n",
    "class DataScientist:\n",
    "    def add_data_scientist(self, name, skill='DS'):\n",
    "        \"\"\"\n",
    "        Add a data scientist to the list\n",
    "        \n",
    "        name: str, name of the data scientist\n",
    "        skill: str, main skill of the data scientist\n",
    "        \"\"\"\n",
    "        data_scientist = {\"name\":name, \"skill\":skill}\n",
    "        data_scientists.append(data_scientist)"
   ]
  },
  {
   "cell_type": "code",
   "execution_count": 7,
   "metadata": {},
   "outputs": [],
   "source": [
    "ds = DataScientist()\n",
    "ds.add_data_scientist(\"Geoffrey Hinton\")"
   ]
  },
  {
   "cell_type": "code",
   "execution_count": 8,
   "metadata": {},
   "outputs": [
    {
     "name": "stdout",
     "output_type": "stream",
     "text": [
      "[{'name': 'Geoffrey Hinton', 'skill': 'DS'}]\n"
     ]
    }
   ],
   "source": [
    "print(data_scientists) "
   ]
  },
  {
   "cell_type": "code",
   "execution_count": 9,
   "metadata": {},
   "outputs": [
    {
     "name": "stdout",
     "output_type": "stream",
     "text": [
      "[{'name': 'Geoffrey Hinton', 'skill': 'DS'}, {'name': 'Geoffrey Hinton', 'skill': 'Back Propagation'}]\n"
     ]
    }
   ],
   "source": [
    "ds2 = DataScientist()\n",
    "ds2.add_data_scientist(\"Geoffrey Hinton\", \"Back Propagation\")\n",
    "print(data_scientists) "
   ]
  },
  {
   "cell_type": "code",
   "execution_count": null,
   "metadata": {
    "collapsed": true
   },
   "outputs": [],
   "source": []
  },
  {
   "cell_type": "markdown",
   "metadata": {},
   "source": [
    "## Costruttore, constructor method\n",
    "Viene eseguito ogni volta che si crea una nuova istanza di una classe.\n",
    "`__init__` metodo speciale circondato da un doppio underscore, lo si può pensare come un inizializzatore."
   ]
  },
  {
   "cell_type": "code",
   "execution_count": 10,
   "metadata": {
    "collapsed": true
   },
   "outputs": [],
   "source": [
    "data_scientists = []\n",
    "\n",
    "class DataScientist:\n",
    "    def __init__(self, name, skill='DS'):\n",
    "        data_scientist = {\"name\":name, \"skill\":skill}\n",
    "        data_scientists.append(data_scientist)"
   ]
  },
  {
   "cell_type": "code",
   "execution_count": 11,
   "metadata": {
    "collapsed": true
   },
   "outputs": [],
   "source": [
    "yann = DataScientist(\"Yann Lecun\")"
   ]
  },
  {
   "cell_type": "code",
   "execution_count": 12,
   "metadata": {},
   "outputs": [
    {
     "name": "stdout",
     "output_type": "stream",
     "text": [
      "[{'name': 'Yann Lecun', 'skill': 'DS'}]\n"
     ]
    }
   ],
   "source": [
    "print(data_scientists)"
   ]
  },
  {
   "cell_type": "code",
   "execution_count": null,
   "metadata": {
    "collapsed": true
   },
   "outputs": [],
   "source": []
  },
  {
   "cell_type": "markdown",
   "metadata": {},
   "source": [
    "## Metodo __str__\n",
    "`__str__` è un altro metodo speciale che ci permette di esprimere il nostro oggetto con una stringa.\n",
    "Quando forniamo tale medoto esso va a sovrascrive il comportamento della funzione `str` di Python"
   ]
  },
  {
   "cell_type": "code",
   "execution_count": 13,
   "metadata": {
    "collapsed": true
   },
   "outputs": [],
   "source": [
    "data_scientists = []\n",
    "\n",
    "class DataScientist:\n",
    "    def __init__(self, name, skill='DS'):\n",
    "        data_scientist = {\"name\":name, \"skill\":skill}\n",
    "        data_scientists.append(data_scientist)\n",
    "        \n",
    "    def __str__(self):\n",
    "        return \"Data Scientist\""
   ]
  },
  {
   "cell_type": "code",
   "execution_count": 14,
   "metadata": {},
   "outputs": [
    {
     "name": "stdout",
     "output_type": "stream",
     "text": [
      "Data Scientist\n"
     ]
    }
   ],
   "source": [
    "yoshua = DataScientist(\"Yoshua Bengio\")\n",
    "print(yoshua)"
   ]
  },
  {
   "cell_type": "code",
   "execution_count": null,
   "metadata": {
    "collapsed": true
   },
   "outputs": [],
   "source": []
  },
  {
   "cell_type": "markdown",
   "metadata": {},
   "source": [
    "## Attributi di classi e sue istanze\n",
    "\n",
    "Abbiamo già visto e richiamato attributi su diversi tipi di oggetti e librerie.  \n",
    "Sono informazioni instrinseche ai dati stessi che vengono esposti all'occorrenza.\n",
    "\n",
    "Vediamo come costruirli usando finalmente **`self`**."
   ]
  },
  {
   "cell_type": "code",
   "execution_count": 15,
   "metadata": {
    "collapsed": true
   },
   "outputs": [],
   "source": [
    "data_scientists = []\n",
    "\n",
    "class DataScientist:\n",
    "    def __init__(self, name, skill='DS'):\n",
    "        # Così queste variabili saranno utilizzabili dagli altri metodi\n",
    "        self.name = name\n",
    "        self.skill = skill\n",
    "        data_scientists.append(self)\n",
    "        \n",
    "    def __str__(self):\n",
    "        return \"Data Scientist\"\n",
    "    \n",
    "    def get_name_capitalize(self):\n",
    "        # Utilizzo uno delle variabili salvate con self\n",
    "        return self.name.title() # .title() mette la maiuscola su ogni parola della stringa"
   ]
  },
  {
   "cell_type": "code",
   "execution_count": 16,
   "metadata": {},
   "outputs": [
    {
     "name": "stdout",
     "output_type": "stream",
     "text": [
      "Data Scientist\n"
     ]
    }
   ],
   "source": [
    "jurgen = DataScientist(\"jurgen schmidhuber\")\n",
    "print(jurgen)"
   ]
  },
  {
   "cell_type": "code",
   "execution_count": 17,
   "metadata": {},
   "outputs": [
    {
     "name": "stdout",
     "output_type": "stream",
     "text": [
      "Jurgen Schmidhuber\n"
     ]
    }
   ],
   "source": [
    "print(jurgen.get_name_capitalize())"
   ]
  },
  {
   "cell_type": "markdown",
   "metadata": {},
   "source": [
    "#### Utilizziamo `self` anche il altri metodi"
   ]
  },
  {
   "cell_type": "code",
   "execution_count": 18,
   "metadata": {
    "collapsed": true
   },
   "outputs": [],
   "source": [
    "data_scientists = []\n",
    "\n",
    "class DataScientist:\n",
    "    def __init__(self, name, skill='DS'):\n",
    "        self.name = name\n",
    "        self.skill = skill\n",
    "        data_scientists.append(self)\n",
    "        \n",
    "    def __str__(self):\n",
    "        # richiamo self.name in questo modulo\n",
    "        return self.name + \" is a Data Scientist\"\n",
    "    \n",
    "    def get_name_capitalize(self):\n",
    "        return self.name.title()"
   ]
  },
  {
   "cell_type": "code",
   "execution_count": 19,
   "metadata": {},
   "outputs": [
    {
     "name": "stdout",
     "output_type": "stream",
     "text": [
      "Peter Norvig is a Data Scientist\n"
     ]
    }
   ],
   "source": [
    "peter = DataScientist(\"Peter Norvig\")\n",
    "print(peter)"
   ]
  },
  {
   "cell_type": "markdown",
   "metadata": {},
   "source": [
    "Gli attributi delle classi sono molto simili a quelli delle istanze, sono statiche, non cambiano in funzione di nuove istanze."
   ]
  },
  {
   "cell_type": "code",
   "execution_count": 20,
   "metadata": {
    "collapsed": true
   },
   "outputs": [],
   "source": [
    "data_scientists = []\n",
    "\n",
    "class DataScientist:\n",
    "    \n",
    "    kind = \"General\"\n",
    "    \n",
    "    def __init__(self, name, skill='DS'):\n",
    "        self.name = name\n",
    "        self.skill = skill\n",
    "        data_scientists.append(self)\n",
    "        \n",
    "    def __str__(self):\n",
    "        # richiamo self.name in questo modulo\n",
    "        return self.name + \"is a Data Scientist\"\n",
    "    \n",
    "    def get_name_capitalize(self):\n",
    "        return self.name.title()"
   ]
  },
  {
   "cell_type": "markdown",
   "metadata": {},
   "source": [
    "Essendo un attributo della classe e non dell'istanza possiamo richiamarla direttamente."
   ]
  },
  {
   "cell_type": "code",
   "execution_count": 21,
   "metadata": {},
   "outputs": [
    {
     "name": "stdout",
     "output_type": "stream",
     "text": [
      "General\n"
     ]
    }
   ],
   "source": [
    "print(DataScientist.kind)"
   ]
  },
  {
   "cell_type": "code",
   "execution_count": null,
   "metadata": {
    "collapsed": true
   },
   "outputs": [],
   "source": []
  },
  {
   "cell_type": "markdown",
   "metadata": {},
   "source": [
    "## Ereditarietà (inheritance) e polymorphism\n",
    "Possiamo ereditare i medodi già scritti in una classe per crearne una nuova con simili comportamenti.\n",
    "\n",
    "`class NomeNuovaClasse(NomeClasseDaCuiEredito):\n",
    "    def ... `\n",
    "    \n",
    "Definendo metodi con lo stesso nome della vecchia classe posso sovrascriverli nel caso in cui debbano essere più personalizzati per la nuova classe."
   ]
  },
  {
   "cell_type": "code",
   "execution_count": 22,
   "metadata": {
    "collapsed": true
   },
   "outputs": [],
   "source": [
    "class SeniorDataScientist(DataScientist):\n",
    "    \n",
    "    kind = \"Senior\"\n",
    "    \n",
    "    def get_kind(name):\n",
    "        return \"Senior Data Scientist\""
   ]
  },
  {
   "cell_type": "code",
   "execution_count": 23,
   "metadata": {
    "collapsed": true
   },
   "outputs": [],
   "source": [
    "corinna = SeniorDataScientist(\"corinna cortes\")"
   ]
  },
  {
   "cell_type": "code",
   "execution_count": 24,
   "metadata": {},
   "outputs": [
    {
     "data": {
      "text/plain": [
       "'Corinna Cortes'"
      ]
     },
     "execution_count": 24,
     "metadata": {},
     "output_type": "execute_result"
    }
   ],
   "source": [
    "corinna.get_name_capitalize()"
   ]
  },
  {
   "cell_type": "code",
   "execution_count": 25,
   "metadata": {},
   "outputs": [
    {
     "data": {
      "text/plain": [
       "'Senior Data Scientist'"
      ]
     },
     "execution_count": 25,
     "metadata": {},
     "output_type": "execute_result"
    }
   ],
   "source": [
    "corinna.get_kind()"
   ]
  },
  {
   "cell_type": "code",
   "execution_count": null,
   "metadata": {
    "collapsed": true
   },
   "outputs": [],
   "source": []
  },
  {
   "cell_type": "markdown",
   "metadata": {},
   "source": [
    "### super( )\n",
    "Usiamo `super()` per richiamare un metodo dalla classe da cui ereditiamo."
   ]
  },
  {
   "cell_type": "code",
   "execution_count": 26,
   "metadata": {
    "collapsed": true
   },
   "outputs": [],
   "source": [
    "class SeniorDataScientist(DataScientist):\n",
    "    \n",
    "    kind = \"Senior\"\n",
    "    \n",
    "    def get_kind(name):\n",
    "        return \"Senior Data Scientist\"\n",
    "\n",
    "    def get_name_capitalize(self):\n",
    "        original_name = super().get_name_capitalize()\n",
    "        return original_name + \", Senior\""
   ]
  },
  {
   "cell_type": "code",
   "execution_count": 27,
   "metadata": {
    "collapsed": true
   },
   "outputs": [],
   "source": [
    "andrew = SeniorDataScientist(\"andrew Ng\")"
   ]
  },
  {
   "cell_type": "code",
   "execution_count": 28,
   "metadata": {},
   "outputs": [
    {
     "name": "stdout",
     "output_type": "stream",
     "text": [
      "Andrew Ng, Senior\n"
     ]
    }
   ],
   "source": [
    "print(andrew.get_name_capitalize())"
   ]
  },
  {
   "cell_type": "code",
   "execution_count": null,
   "metadata": {
    "collapsed": true
   },
   "outputs": [],
   "source": []
  },
  {
   "cell_type": "markdown",
   "metadata": {},
   "source": [
    "### Nota\n",
    "In Pyhton tutti i metodi sono pubblici, non c'è public, private o protected. Alcuni programmatori mettono _ davanti a metodi che non dovrebbero essere sovrascritti."
   ]
  },
  {
   "cell_type": "code",
   "execution_count": null,
   "metadata": {
    "collapsed": true
   },
   "outputs": [],
   "source": []
  },
  {
   "cell_type": "markdown",
   "metadata": {},
   "source": [
    "## Ristrutturiamo il nostro codice su Spyder\n",
    "Dividiamo in notro codice in più files importando classi e funzioni create da noi!\n",
    "\n",
    "Andremo a creare un nuovo file per ogni classe e poi le richiameremo in un file **main.py**"
   ]
  },
  {
   "cell_type": "markdown",
   "metadata": {},
   "source": [
    "## Documentazione\n",
    "Come sempre ricordiamo che è buona norma documentare anche all'inizio del file utilizzando la stessa docstring (fra triplo apice o triplo doppio apice) come facciamo per documentare funzioni.\n",
    "\n",
    "`\"\"\"Descrizione generale\n",
    "Usage: ...\n",
    "\"\"\"`"
   ]
  },
  {
   "cell_type": "markdown",
   "metadata": {},
   "source": [
    "### Shebang\n",
    "Leggendo codice potete notate che alcuni file iniziano con **`#!`**.  \n",
    "Questa combinaizone di simboli della shebang precedere l'url del l'interprete che è consigliato usare per eseguire correttamente il programma.\n",
    "\n",
    "Ad esempio: `#!/usr/bin/env python3`"
   ]
  },
  {
   "cell_type": "code",
   "execution_count": null,
   "metadata": {
    "collapsed": true
   },
   "outputs": [],
   "source": []
  },
  {
   "cell_type": "code",
   "execution_count": null,
   "metadata": {
    "collapsed": true
   },
   "outputs": [],
   "source": []
  }
 ],
 "metadata": {
  "kernelspec": {
   "display_name": "Python 3",
   "language": "python",
   "name": "python3"
  },
  "language_info": {
   "codemirror_mode": {
    "name": "ipython",
    "version": 3
   },
   "file_extension": ".py",
   "mimetype": "text/x-python",
   "name": "python",
   "nbconvert_exporter": "python",
   "pygments_lexer": "ipython3",
   "version": "3.6.3"
  }
 },
 "nbformat": 4,
 "nbformat_minor": 2
}
