{
  "cells": [
    {
      "cell_type": "markdown",
      "source": [
        "# Esercitazione finale di Python"
      ],
      "metadata": {}
    },
    {
      "cell_type": "markdown",
      "source": [
        "## Domande generiche "
      ],
      "metadata": {}
    },
    {
      "cell_type": "markdown",
      "source": [
        "#### Quale comando uso per vedere tutti gli attributi e moduli richiamabili su un preciso oggetto?"
      ],
      "metadata": {}
    },
    {
      "cell_type": "code",
      "source": [],
      "outputs": [],
      "execution_count": null,
      "metadata": {
        "collapsed": true
      }
    },
    {
      "cell_type": "markdown",
      "source": [
        "#### Quale comando uso per avere più informazione di un particolare modulo?"
      ],
      "metadata": {}
    },
    {
      "cell_type": "code",
      "source": [],
      "outputs": [],
      "execution_count": null,
      "metadata": {}
    },
    {
      "cell_type": "markdown",
      "source": [
        "#### Elenca almeno tre caratteristiche fondamentali del linguaggio Python"
      ],
      "metadata": {}
    },
    {
      "cell_type": "code",
      "source": [],
      "outputs": [],
      "execution_count": null,
      "metadata": {
        "collapsed": true
      }
    },
    {
      "cell_type": "markdown",
      "source": [
        "#### Quali grandi organizzazioni. e aziente stanno usando Python in questo momento?"
      ],
      "metadata": {}
    },
    {
      "cell_type": "code",
      "source": [],
      "outputs": [],
      "execution_count": null,
      "metadata": {
        "collapsed": true
      }
    },
    {
      "cell_type": "markdown",
      "source": [
        "#### Cosa significa PEP? Quale contiene le linee guida e convenzioni per scrivere in Python?"
      ],
      "metadata": {}
    },
    {
      "cell_type": "code",
      "source": [],
      "outputs": [],
      "execution_count": null,
      "metadata": {
        "collapsed": true
      }
    },
    {
      "cell_type": "markdown",
      "source": [
        "## Tipi di variabili"
      ],
      "metadata": {}
    },
    {
      "cell_type": "markdown",
      "source": [
        "#### Elenca almeno tre tipi di oggetti immutabili, fai un esempio per ciascuno e stampa il loro tipo per conferma"
      ],
      "metadata": {}
    },
    {
      "cell_type": "code",
      "source": [],
      "outputs": [],
      "execution_count": null,
      "metadata": {}
    },
    {
      "cell_type": "markdown",
      "source": [
        "#### Elenca tre tipi di oggetti mutabili, fai un esempio per ciascuno e stampa il loro tipo per conferma"
      ],
      "metadata": {}
    },
    {
      "cell_type": "code",
      "source": [],
      "outputs": [],
      "execution_count": null,
      "metadata": {
        "collapsed": true
      }
    },
    {
      "cell_type": "markdown",
      "source": [
        "#### Stampa una stringa con un float a due decimali all'interno utilizzando %"
      ],
      "metadata": {}
    },
    {
      "cell_type": "code",
      "source": [],
      "outputs": [],
      "execution_count": null,
      "metadata": {
        "collapsed": true
      }
    },
    {
      "cell_type": "markdown",
      "source": [
        "## Metodi su variabili"
      ],
      "metadata": {}
    },
    {
      "cell_type": "markdown",
      "source": [
        "#### Trasforma una stringa in una lista dividendola ogni volta che compare una virgola e uno spazio"
      ],
      "metadata": {}
    },
    {
      "cell_type": "code",
      "source": [
        "semi = \"Come, quando, fuori, piove\""
      ],
      "outputs": [],
      "execution_count": 1,
      "metadata": {
        "collapsed": true
      }
    },
    {
      "cell_type": "code",
      "source": [],
      "outputs": [],
      "execution_count": null,
      "metadata": {
        "collapsed": true
      }
    },
    {
      "cell_type": "markdown",
      "source": [
        "#### Crea una lista di 5 elementi e stampa la sua lunghezza"
      ],
      "metadata": {}
    },
    {
      "cell_type": "code",
      "source": [],
      "outputs": [],
      "execution_count": null,
      "metadata": {}
    },
    {
      "cell_type": "markdown",
      "source": [
        "#### Elimina l'ultimo elemento e stampa la lunghezza della lista (attenzione ad eseguire il comando una volta sola)"
      ],
      "metadata": {}
    },
    {
      "cell_type": "code",
      "source": [],
      "outputs": [],
      "execution_count": null,
      "metadata": {
        "scrolled": true
      }
    },
    {
      "cell_type": "markdown",
      "source": [
        "#### Aggiungi un elemento e stampa nuovamente la lunghezza della lista (attenzione ad eseguire il comando una volta sola)"
      ],
      "metadata": {}
    },
    {
      "cell_type": "code",
      "source": [],
      "outputs": [],
      "execution_count": null,
      "metadata": {
        "collapsed": true
      }
    },
    {
      "cell_type": "markdown",
      "source": [
        "## Condizioni e cicli"
      ],
      "metadata": {}
    },
    {
      "cell_type": "markdown",
      "source": [
        "#### Condizione if\n",
        "\n",
        "Dato `nome = 'Guido van Rossum'` \n",
        "Crea una condizione if tale che stampi:\n",
        "* 'Questa stringa non contiente spazi' se non ha spazi,\n",
        "* 'Questa stringa ha due parole' se ne ha due parole,\n",
        "* 'Questa stringa ha tre parole' se ne ha tre.\n",
        "* Se non rientra in nessuno dei casi precedenti contrario stampa 'Questa stringa ha molte parole'."
      ],
      "metadata": {}
    },
    {
      "cell_type": "markdown",
      "source": [
        "#### Ritesta per stringhe con una o più parole"
      ],
      "metadata": {}
    },
    {
      "cell_type": "code",
      "source": [
        "nome = 'Python is an interpreted high-level programming language for general-purpose programmin'"
      ],
      "outputs": [],
      "execution_count": 2,
      "metadata": {}
    },
    {
      "cell_type": "code",
      "source": [],
      "outputs": [],
      "execution_count": null,
      "metadata": {
        "collapsed": true
      }
    },
    {
      "cell_type": "markdown",
      "source": [
        "#### Creo un ciclo che mi stampi una stringa fra chiave e valore per ogni elemento del dizionario con la prima lettera maiuscola"
      ],
      "metadata": {}
    },
    {
      "cell_type": "code",
      "source": [
        "dict_alpha = {'A': 'aplha', 'B': 'bravo', 'C': 'charlie', 'D': 'delta', 'E': 'Echo'}"
      ],
      "outputs": [],
      "execution_count": 3,
      "metadata": {
        "collapsed": true
      }
    },
    {
      "cell_type": "code",
      "source": [],
      "outputs": [],
      "execution_count": null,
      "metadata": {
        "collapsed": true
      }
    },
    {
      "cell_type": "markdown",
      "source": [
        "## List comprehention"
      ],
      "metadata": {}
    },
    {
      "cell_type": "code",
      "source": [
        "alpha = 'abcdfeghilmnopqrstuvz'"
      ],
      "outputs": [],
      "execution_count": 4,
      "metadata": {
        "collapsed": true
      }
    },
    {
      "cell_type": "markdown",
      "source": [
        "#### Selezione e stampa il terzo, quarto e quinto carattere della stringa"
      ],
      "metadata": {}
    },
    {
      "cell_type": "code",
      "source": [],
      "outputs": [],
      "execution_count": null,
      "metadata": {}
    },
    {
      "cell_type": "markdown",
      "source": [
        "#### Trasforma la stringa data in lista di lettere usando `in range()` e l'index. E stampa la lista"
      ],
      "metadata": {}
    },
    {
      "cell_type": "code",
      "source": [],
      "outputs": [],
      "execution_count": null,
      "metadata": {
        "collapsed": true
      }
    },
    {
      "cell_type": "markdown",
      "source": [
        "#### Dalla stringa precedente crea una lista delle sole lettere dispari"
      ],
      "metadata": {}
    },
    {
      "cell_type": "code",
      "source": [],
      "outputs": [],
      "execution_count": null,
      "metadata": {
        "collapsed": true
      }
    },
    {
      "cell_type": "markdown",
      "source": [
        "## Funzioni (20 punti)"
      ],
      "metadata": {}
    },
    {
      "cell_type": "markdown",
      "source": [
        "#### Cosa fa questa funzione?"
      ],
      "metadata": {}
    },
    {
      "cell_type": "code",
      "source": [
        "def conta(a, b): \n",
        "    pass"
      ],
      "outputs": [],
      "execution_count": 5,
      "metadata": {
        "collapsed": true
      }
    },
    {
      "cell_type": "code",
      "source": [
        "conta(5,4)"
      ],
      "outputs": [],
      "execution_count": 6,
      "metadata": {
        "collapsed": true
      }
    },
    {
      "cell_type": "markdown",
      "source": [],
      "metadata": {}
    },
    {
      "cell_type": "markdown",
      "source": [
        "#### Crea una funzione che mi restituisca il numero delle a (maiuscole o minuscole che siano, senza usare il modulo per stringhe `.count()`"
      ],
      "metadata": {}
    },
    {
      "cell_type": "code",
      "source": [],
      "outputs": [],
      "execution_count": null,
      "metadata": {
        "collapsed": true
      }
    },
    {
      "cell_type": "markdown",
      "source": [
        "#### Stampa il risultato della funzione richiamata per 'Maria' e 'Alice'"
      ],
      "metadata": {}
    },
    {
      "cell_type": "code",
      "source": [],
      "outputs": [],
      "execution_count": null,
      "metadata": {
        "collapsed": true
      }
    },
    {
      "cell_type": "markdown",
      "source": [
        "#### Crea una funzione che mi restituisca il numero delle a, usando una funzione `lambda ` e il modulo per stringhe `.count()`"
      ],
      "metadata": {}
    },
    {
      "cell_type": "code",
      "source": [],
      "outputs": [],
      "execution_count": null,
      "metadata": {
        "collapsed": true
      }
    },
    {
      "cell_type": "code",
      "source": [],
      "outputs": [],
      "execution_count": null,
      "metadata": {
        "collapsed": true
      }
    }
  ],
  "metadata": {
    "kernelspec": {
      "name": "python3",
      "language": "python",
      "display_name": "Python 3"
    },
    "language_info": {
      "name": "python",
      "version": "3.6.3",
      "mimetype": "text/x-python",
      "codemirror_mode": {
        "name": "ipython",
        "version": 3
      },
      "pygments_lexer": "ipython3",
      "nbconvert_exporter": "python",
      "file_extension": ".py"
    },
    "kernel_info": {
      "name": "python3"
    },
    "nteract": {
      "version": "0.7.1"
    }
  },
  "nbformat": 4,
  "nbformat_minor": 2
}