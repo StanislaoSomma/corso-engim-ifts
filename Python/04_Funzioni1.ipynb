{
 "cells": [
  {
   "cell_type": "markdown",
   "metadata": {},
   "source": [
    "# Funzioni (prima parte)\n",
    "\n",
    "Una funzione è un blocco di istruzioni che compiono azioni costruito in modo da essere utilizzato richiamandolo.\n",
    "Possono dipendere da argomenti che verranno indicati fra parentesi."
   ]
  },
  {
   "cell_type": "markdown",
   "metadata": {},
   "source": [
    "## Funzioni built-in\n",
    "Ci sono diverse funzioni già comprese nella liberia standard di Python  \n",
    "https://docs.python.org/3/library/functions.html\n",
    "\n",
    "Vediamo alcuni esempi, puoi usare `help(nome_funzione)` per avere più informazioni. Ad esempio `help(len)`"
   ]
  },
  {
   "cell_type": "code",
   "execution_count": 1,
   "metadata": {},
   "outputs": [
    {
     "name": "stdout",
     "output_type": "stream",
     "text": [
      "print è una funzione built-in\n"
     ]
    }
   ],
   "source": [
    "print('print è una funzione built-in')"
   ]
  },
  {
   "cell_type": "code",
   "execution_count": 2,
   "metadata": {
    "scrolled": true
   },
   "outputs": [
    {
     "data": {
      "text/plain": [
       "37"
      ]
     },
     "execution_count": 2,
     "metadata": {},
     "output_type": "execute_result"
    }
   ],
   "source": [
    "int('37') "
   ]
  },
  {
   "cell_type": "code",
   "execution_count": 3,
   "metadata": {},
   "outputs": [
    {
     "data": {
      "text/plain": [
       "7"
      ]
     },
     "execution_count": 3,
     "metadata": {},
     "output_type": "execute_result"
    }
   ],
   "source": [
    "# len() è una funzione built-in che restiuisce il numero di caratteri di una stringa...\n",
    "len('Gustavo') "
   ]
  },
  {
   "cell_type": "code",
   "execution_count": 4,
   "metadata": {},
   "outputs": [
    {
     "data": {
      "text/plain": [
       "4"
      ]
     },
     "execution_count": 4,
     "metadata": {},
     "output_type": "execute_result"
    }
   ],
   "source": [
    "# o il numero di elementi di una lista...\n",
    "len([1,2,3,4])"
   ]
  },
  {
   "cell_type": "code",
   "execution_count": 5,
   "metadata": {},
   "outputs": [
    {
     "data": {
      "text/plain": [
       "10"
      ]
     },
     "execution_count": 5,
     "metadata": {},
     "output_type": "execute_result"
    }
   ],
   "source": [
    "# sum() somma gli elementi di una lista\n",
    "sum([1,2,3,4]) "
   ]
  },
  {
   "cell_type": "code",
   "execution_count": null,
   "metadata": {
    "collapsed": true
   },
   "outputs": [],
   "source": []
  },
  {
   "cell_type": "markdown",
   "metadata": {},
   "source": [
    "**complex( )** genera un numero complesso "
   ]
  },
  {
   "cell_type": "code",
   "execution_count": 6,
   "metadata": {
    "collapsed": true
   },
   "outputs": [],
   "source": [
    "i = complex(3, 5) # numero complesso con parte reale 3 e parte immmaginara 5"
   ]
  },
  {
   "cell_type": "code",
   "execution_count": 7,
   "metadata": {},
   "outputs": [
    {
     "data": {
      "text/plain": [
       "3.0"
      ]
     },
     "execution_count": 7,
     "metadata": {},
     "output_type": "execute_result"
    }
   ],
   "source": [
    "i.real # attributo del numero complesso i che stampa la parte reale"
   ]
  },
  {
   "cell_type": "code",
   "execution_count": 8,
   "metadata": {},
   "outputs": [
    {
     "data": {
      "text/plain": [
       "5.0"
      ]
     },
     "execution_count": 8,
     "metadata": {},
     "output_type": "execute_result"
    }
   ],
   "source": [
    "i.imag # attributo del numero complesso i che stampa la parte immaginaria"
   ]
  },
  {
   "cell_type": "code",
   "execution_count": 9,
   "metadata": {},
   "outputs": [
    {
     "data": {
      "text/plain": [
       "(2+0j)"
      ]
     },
     "execution_count": 9,
     "metadata": {},
     "output_type": "execute_result"
    }
   ],
   "source": [
    "complex(2)"
   ]
  },
  {
   "cell_type": "code",
   "execution_count": null,
   "metadata": {
    "collapsed": true
   },
   "outputs": [],
   "source": []
  },
  {
   "cell_type": "markdown",
   "metadata": {},
   "source": [
    "**range( )** genera una sequenza immutabile di integer  \n",
    "https://docs.python.org/3/library/functions.html#func-range"
   ]
  },
  {
   "cell_type": "code",
   "execution_count": 10,
   "metadata": {},
   "outputs": [
    {
     "data": {
      "text/plain": [
       "range"
      ]
     },
     "execution_count": 10,
     "metadata": {},
     "output_type": "execute_result"
    }
   ],
   "source": [
    "type(range(16))"
   ]
  },
  {
   "cell_type": "code",
   "execution_count": 11,
   "metadata": {},
   "outputs": [
    {
     "data": {
      "text/plain": [
       "range(0, 16)"
      ]
     },
     "execution_count": 11,
     "metadata": {},
     "output_type": "execute_result"
    }
   ],
   "source": [
    "range(16) # va da 0 a 15"
   ]
  },
  {
   "cell_type": "code",
   "execution_count": 12,
   "metadata": {},
   "outputs": [
    {
     "data": {
      "text/plain": [
       "range(2, 16)"
      ]
     },
     "execution_count": 12,
     "metadata": {},
     "output_type": "execute_result"
    }
   ],
   "source": [
    "range(2, 16) # va da 2 a 15"
   ]
  },
  {
   "cell_type": "code",
   "execution_count": 13,
   "metadata": {
    "scrolled": true
   },
   "outputs": [
    {
     "data": {
      "text/plain": [
       "range(2, 11, 2)"
      ]
     },
     "execution_count": 13,
     "metadata": {},
     "output_type": "execute_result"
    }
   ],
   "source": [
    "range(2,11,2) # va da 2 a 10 a salti di due"
   ]
  },
  {
   "cell_type": "code",
   "execution_count": 14,
   "metadata": {},
   "outputs": [
    {
     "data": {
      "text/plain": [
       "[2, 4, 6, 8, 10]"
      ]
     },
     "execution_count": 14,
     "metadata": {},
     "output_type": "execute_result"
    }
   ],
   "source": [
    "due = list(range(2,11,2)) # convertiamo in una lista\n",
    "due"
   ]
  },
  {
   "cell_type": "code",
   "execution_count": 15,
   "metadata": {},
   "outputs": [
    {
     "data": {
      "text/plain": [
       "[8, 12, 16, 20, 24, 28, 32, 36, 40, 44]"
      ]
     },
     "execution_count": 15,
     "metadata": {},
     "output_type": "execute_result"
    }
   ],
   "source": [
    "# range con start=8, stop=45, e step=4, parte da 8 e arriva a 44 a salti di 4\n",
    "# (ricordiamo che in range() non si può esplicitare la variabile nell'argomento)\n",
    "\n",
    "quattro = range(8,45,4)\n",
    "list(quattro)"
   ]
  },
  {
   "cell_type": "markdown",
   "metadata": {},
   "source": [
    ".start, .stop, .step sono **attributi di range()** che stampano l'inizio, la fine e lo step"
   ]
  },
  {
   "cell_type": "code",
   "execution_count": 16,
   "metadata": {},
   "outputs": [
    {
     "data": {
      "text/plain": [
       "4"
      ]
     },
     "execution_count": 16,
     "metadata": {},
     "output_type": "execute_result"
    }
   ],
   "source": [
    "quattro.step"
   ]
  },
  {
   "cell_type": "code",
   "execution_count": 17,
   "metadata": {},
   "outputs": [
    {
     "name": "stdout",
     "output_type": "stream",
     "text": [
      "'Quattro' rappresenta l'intervallo da 8 a 45 (non compreso) a salti di 4\n"
     ]
    }
   ],
   "source": [
    "print('\\'Quattro\\' rappresenta l\\'intervallo da %d a %d (non compreso) a salti di %d' \n",
    "      %(quattro.start, quattro.stop, quattro.step))"
   ]
  },
  {
   "cell_type": "code",
   "execution_count": null,
   "metadata": {
    "collapsed": true
   },
   "outputs": [],
   "source": []
  },
  {
   "cell_type": "markdown",
   "metadata": {},
   "source": [
    "#### enumerate( )"
   ]
  },
  {
   "cell_type": "code",
   "execution_count": 18,
   "metadata": {
    "collapsed": true
   },
   "outputs": [],
   "source": [
    "lista = ['ciao', 'goodbye', 'hola']"
   ]
  },
  {
   "cell_type": "code",
   "execution_count": 19,
   "metadata": {},
   "outputs": [
    {
     "data": {
      "text/plain": [
       "enumerate"
      ]
     },
     "execution_count": 19,
     "metadata": {},
     "output_type": "execute_result"
    }
   ],
   "source": [
    "type(enumerate(lista, start=1))"
   ]
  },
  {
   "cell_type": "code",
   "execution_count": 20,
   "metadata": {},
   "outputs": [
    {
     "data": {
      "text/plain": [
       "<enumerate at 0x1030707e0>"
      ]
     },
     "execution_count": 20,
     "metadata": {},
     "output_type": "execute_result"
    }
   ],
   "source": [
    "enumerate(lista, start=1)"
   ]
  },
  {
   "cell_type": "code",
   "execution_count": 21,
   "metadata": {},
   "outputs": [
    {
     "name": "stdout",
     "output_type": "stream",
     "text": [
      "Help on class enumerate in module builtins:\n",
      "\n",
      "class enumerate(object)\n",
      " |  enumerate(iterable[, start]) -> iterator for index, value of iterable\n",
      " |  \n",
      " |  Return an enumerate object.  iterable must be another object that supports\n",
      " |  iteration.  The enumerate object yields pairs containing a count (from\n",
      " |  start, which defaults to zero) and a value yielded by the iterable argument.\n",
      " |  enumerate is useful for obtaining an indexed list:\n",
      " |      (0, seq[0]), (1, seq[1]), (2, seq[2]), ...\n",
      " |  \n",
      " |  Methods defined here:\n",
      " |  \n",
      " |  __getattribute__(self, name, /)\n",
      " |      Return getattr(self, name).\n",
      " |  \n",
      " |  __iter__(self, /)\n",
      " |      Implement iter(self).\n",
      " |  \n",
      " |  __new__(*args, **kwargs) from builtins.type\n",
      " |      Create and return a new object.  See help(type) for accurate signature.\n",
      " |  \n",
      " |  __next__(self, /)\n",
      " |      Implement next(self).\n",
      " |  \n",
      " |  __reduce__(...)\n",
      " |      Return state information for pickling.\n",
      "\n"
     ]
    }
   ],
   "source": [
    "help(enumerate)"
   ]
  },
  {
   "cell_type": "code",
   "execution_count": 22,
   "metadata": {},
   "outputs": [
    {
     "data": {
      "text/plain": [
       "[(1, 'ciao'), (2, 'goodbye'), (3, 'hola')]"
      ]
     },
     "execution_count": 22,
     "metadata": {},
     "output_type": "execute_result"
    }
   ],
   "source": [
    "list(enumerate(lista, start=1))"
   ]
  },
  {
   "cell_type": "code",
   "execution_count": 23,
   "metadata": {},
   "outputs": [
    {
     "data": {
      "text/plain": [
       "[(4, 'ciao'), (5, 'goodbye'), (6, 'hola')]"
      ]
     },
     "execution_count": 23,
     "metadata": {},
     "output_type": "execute_result"
    }
   ],
   "source": [
    "list(enumerate(lista, start=4))"
   ]
  },
  {
   "cell_type": "code",
   "execution_count": null,
   "metadata": {
    "collapsed": true
   },
   "outputs": [],
   "source": []
  },
  {
   "cell_type": "markdown",
   "metadata": {},
   "source": [
    "## Metodi \n",
    "\n",
    "I metodi sono funzioni presenti nella classe dell'oggetto interessato. \n",
    "Quello che ci serve sapere in questo momento è che queste funzioni dette metodi possono quindi agire solo su certi oggetti.\n",
    "\n",
    "Usiamo dir per vedere l'elenco di tutti i metodi (e anche attributi) associati all'istanza dell'oggetto indicato.  \n",
    "Ad esempio **`dir('ciao')`** "
   ]
  },
  {
   "cell_type": "code",
   "execution_count": 24,
   "metadata": {},
   "outputs": [
    {
     "data": {
      "text/plain": [
       "['buon', 'giorno']"
      ]
     },
     "execution_count": 24,
     "metadata": {},
     "output_type": "execute_result"
    }
   ],
   "source": [
    "bg = 'buon giorno'.split()\n",
    "bg"
   ]
  },
  {
   "cell_type": "code",
   "execution_count": 25,
   "metadata": {
    "scrolled": true
   },
   "outputs": [
    {
     "name": "stdout",
     "output_type": "stream",
     "text": [
      "Help on built-in function dir in module builtins:\n",
      "\n",
      "dir(...)\n",
      "    dir([object]) -> list of strings\n",
      "    \n",
      "    If called without an argument, return the names in the current scope.\n",
      "    Else, return an alphabetized list of names comprising (some of) the attributes\n",
      "    of the given object, and of attributes reachable from it.\n",
      "    If the object supplies a method named __dir__, it will be used; otherwise\n",
      "    the default dir() logic is used and returns:\n",
      "      for a module object: the module's attributes.\n",
      "      for a class object:  its attributes, and recursively the attributes\n",
      "        of its bases.\n",
      "      for any other object: its attributes, its class's attributes, and\n",
      "        recursively the attributes of its class's base classes.\n",
      "\n"
     ]
    }
   ],
   "source": [
    "help(dir)"
   ]
  },
  {
   "cell_type": "markdown",
   "metadata": {},
   "source": [
    "### Documentazione dei metodi\n",
    "\n",
    "Per richiamare la documentazione di un metodo ricordiamoci di scrivere prima il tipo di oggetto e poi il nome del metodo senza parentesi.\n",
    "\n",
    "Ad esempio per il metodo split(), questa è da documentazione su web   \n",
    "https://docs.python.org/3/library/stdtypes.html#str.split\n",
    "\n",
    "Mentre possiamo richiamare la documentazione del metodo con **`help(str.spli)`**"
   ]
  },
  {
   "cell_type": "code",
   "execution_count": 26,
   "metadata": {},
   "outputs": [
    {
     "name": "stdout",
     "output_type": "stream",
     "text": [
      "Help on method_descriptor:\n",
      "\n",
      "split(...)\n",
      "    S.split(sep=None, maxsplit=-1) -> list of strings\n",
      "    \n",
      "    Return a list of the words in S, using sep as the\n",
      "    delimiter string.  If maxsplit is given, at most maxsplit\n",
      "    splits are done. If sep is not specified or is None, any\n",
      "    whitespace string is a separator and empty strings are\n",
      "    removed from the result.\n",
      "\n"
     ]
    }
   ],
   "source": [
    "help(str.split)"
   ]
  },
  {
   "cell_type": "markdown",
   "metadata": {},
   "source": [
    "## Creiamo la nostra funzione!\n",
    "\n",
    "`def <nome_funzione>(<argomenti>): \n",
    "    ''' docstring: descrizione dellla funzione '''\n",
    "    <istruzioni>`\n",
    "    \n",
    "Attenzione ad utilizzare sempre l'**identazione** correttamente (quattro spazi per convenzione)"
   ]
  },
  {
   "cell_type": "markdown",
   "metadata": {},
   "source": [
    "### Definiamo e richiamiamo una funzione vuota"
   ]
  },
  {
   "cell_type": "code",
   "execution_count": 27,
   "metadata": {
    "collapsed": true
   },
   "outputs": [],
   "source": [
    "def non_faccio_nulla():\n",
    "    pass"
   ]
  },
  {
   "cell_type": "code",
   "execution_count": 28,
   "metadata": {
    "collapsed": true
   },
   "outputs": [],
   "source": [
    "non_faccio_nulla()"
   ]
  },
  {
   "cell_type": "markdown",
   "metadata": {},
   "source": [
    "### Definiamo e richiamiamo una funzione con istruzioni e un argomento"
   ]
  },
  {
   "cell_type": "code",
   "execution_count": 29,
   "metadata": {
    "collapsed": true
   },
   "outputs": [],
   "source": [
    "def buonanno(nome):\n",
    "    '''Auguriamo buon anno all\\'utente che ha\n",
    "    inerito il nome\n",
    "    \n",
    "    nome: deve essere una stringa, è obbligatorio inserirlo'''\n",
    "    print('Buon anno, ' + nome.capitalize() + '!')"
   ]
  },
  {
   "cell_type": "code",
   "execution_count": 30,
   "metadata": {},
   "outputs": [
    {
     "name": "stdout",
     "output_type": "stream",
     "text": [
      "Buon anno, Cinzia!\n"
     ]
    }
   ],
   "source": [
    "buonanno('Cinzia') # richiamiamo la funzione con l'argomento 'cinzia'"
   ]
  },
  {
   "cell_type": "code",
   "execution_count": 31,
   "metadata": {},
   "outputs": [
    {
     "name": "stdout",
     "output_type": "stream",
     "text": [
      "Buon anno, Julia!\n"
     ]
    }
   ],
   "source": [
    "buonanno(nome='julia') # possiamo anche esplicitare il nome della variabile "
   ]
  },
  {
   "cell_type": "markdown",
   "metadata": {},
   "source": [
    "#### Verifichiamo la documentazione fatta con la docstring creata"
   ]
  },
  {
   "cell_type": "code",
   "execution_count": 32,
   "metadata": {
    "scrolled": true
   },
   "outputs": [
    {
     "name": "stdout",
     "output_type": "stream",
     "text": [
      "Help on function buonanno in module __main__:\n",
      "\n",
      "buonanno(nome)\n",
      "    Auguriamo buon anno all'utente che ha\n",
      "    inerito il nome\n",
      "    \n",
      "    nome: deve essere una stringa, è obbligatorio inserirlo\n",
      "\n"
     ]
    }
   ],
   "source": [
    "help(buonanno)"
   ]
  },
  {
   "cell_type": "markdown",
   "metadata": {},
   "source": [
    "### Definiamo e richiamiamo una funzione con istruzioni e senza argomento"
   ]
  },
  {
   "cell_type": "code",
   "execution_count": 33,
   "metadata": {
    "collapsed": true
   },
   "outputs": [],
   "source": [
    "def buonanno_input():\n",
    "    '''Auguriamo buon anno all\\'utente che ha\n",
    "    inerito il nome'''\n",
    "    nome = input('Scrivi il tuo nome: ')\n",
    "    print('Buon anno, ' + nome.capitalize() + '!')"
   ]
  },
  {
   "cell_type": "code",
   "execution_count": 34,
   "metadata": {},
   "outputs": [
    {
     "name": "stdout",
     "output_type": "stream",
     "text": [
      "Scrivi il tuo nome: cinzia\n",
      "Buon anno, Cinzia!\n"
     ]
    }
   ],
   "source": [
    "buonanno_input()"
   ]
  },
  {
   "cell_type": "code",
   "execution_count": null,
   "metadata": {
    "collapsed": true
   },
   "outputs": [],
   "source": []
  },
  {
   "cell_type": "code",
   "execution_count": null,
   "metadata": {
    "collapsed": true
   },
   "outputs": [],
   "source": []
  },
  {
   "cell_type": "code",
   "execution_count": null,
   "metadata": {
    "collapsed": true
   },
   "outputs": [],
   "source": []
  },
  {
   "cell_type": "markdown",
   "metadata": {},
   "source": [
    "## Esercitiamoci a scrivere funzioni contententi gli argomenti svolti"
   ]
  },
  {
   "cell_type": "code",
   "execution_count": 35,
   "metadata": {
    "collapsed": true
   },
   "outputs": [],
   "source": [
    "def stampa_altezze(lista_altezze):\n",
    "    '''Stampa le singole altezza a partire da una lista\n",
    "    lista_altezze: list'''\n",
    "    for altezza in lista_altezze:\n",
    "        print(\"Altezza \" + str(altezza))"
   ]
  },
  {
   "cell_type": "code",
   "execution_count": 36,
   "metadata": {},
   "outputs": [
    {
     "name": "stdout",
     "output_type": "stream",
     "text": [
      "Help on function stampa_altezze in module __main__:\n",
      "\n",
      "stampa_altezze(lista_altezze)\n",
      "    Stampa le singole altezza a partire da una lista\n",
      "    lista_altezze: list\n",
      "\n"
     ]
    }
   ],
   "source": [
    "help(stampa_altezze)"
   ]
  },
  {
   "cell_type": "code",
   "execution_count": 37,
   "metadata": {},
   "outputs": [
    {
     "name": "stdout",
     "output_type": "stream",
     "text": [
      "Altezza 170, 180, 190, 150\n"
     ]
    }
   ],
   "source": [
    "stampa_altezze(['170, 180, 190, 150'])"
   ]
  },
  {
   "cell_type": "code",
   "execution_count": null,
   "metadata": {
    "collapsed": true
   },
   "outputs": [],
   "source": []
  },
  {
   "cell_type": "code",
   "execution_count": 38,
   "metadata": {
    "collapsed": true
   },
   "outputs": [],
   "source": [
    "def stampa_conta_saluto(saluto, n):\n",
    "    '''Stampiamo il saluto n volte indicando un contatore\n",
    "    saluto: str\n",
    "    n: int'''\n",
    "    for count in range(1,n+1):\n",
    "        print(str(count) + '. ' + saluto)"
   ]
  },
  {
   "cell_type": "code",
   "execution_count": 39,
   "metadata": {},
   "outputs": [
    {
     "name": "stdout",
     "output_type": "stream",
     "text": [
      "1. aloha\n",
      "2. aloha\n",
      "3. aloha\n",
      "4. aloha\n",
      "5. aloha\n"
     ]
    }
   ],
   "source": [
    "stampa_conta_saluto('aloha', 5)"
   ]
  },
  {
   "cell_type": "code",
   "execution_count": 40,
   "metadata": {},
   "outputs": [
    {
     "name": "stdout",
     "output_type": "stream",
     "text": [
      "1. Miao\n",
      "2. Miao\n",
      "3. Miao\n",
      "4. Miao\n",
      "5. Miao\n",
      "6. Miao\n",
      "7. Miao\n"
     ]
    }
   ],
   "source": [
    "stampa_conta_saluto('Miao', 7)"
   ]
  },
  {
   "cell_type": "code",
   "execution_count": null,
   "metadata": {
    "collapsed": true
   },
   "outputs": [],
   "source": []
  },
  {
   "cell_type": "markdown",
   "metadata": {},
   "source": [
    "### Definiamo una funzione che richiedere una libreria esterna\n",
    "\n",
    "In questo caso è dovrà essere importata esternamente alla funzione"
   ]
  },
  {
   "cell_type": "code",
   "execution_count": 41,
   "metadata": {
    "collapsed": true
   },
   "outputs": [],
   "source": [
    "import math\n",
    "\n",
    "def stampa_pi_precisione(n_decimali):\n",
    "    '''Per questa funzione serve la libreria math\n",
    "    n_decimali: int'''\n",
    "    print('Il pi greco vale ' + str(round(math.pi,n_decimali)))"
   ]
  },
  {
   "cell_type": "code",
   "execution_count": 42,
   "metadata": {},
   "outputs": [
    {
     "name": "stdout",
     "output_type": "stream",
     "text": [
      "Il pi greco vale 3.142\n"
     ]
    }
   ],
   "source": [
    "stampa_pi_precisione(3)"
   ]
  },
  {
   "cell_type": "code",
   "execution_count": 43,
   "metadata": {},
   "outputs": [
    {
     "name": "stdout",
     "output_type": "stream",
     "text": [
      "Il pi greco vale 3.1416\n"
     ]
    }
   ],
   "source": [
    "stampa_pi_precisione(4)"
   ]
  },
  {
   "cell_type": "code",
   "execution_count": null,
   "metadata": {
    "collapsed": true
   },
   "outputs": [],
   "source": []
  },
  {
   "cell_type": "code",
   "execution_count": null,
   "metadata": {
    "collapsed": true
   },
   "outputs": [],
   "source": []
  },
  {
   "cell_type": "markdown",
   "metadata": {},
   "source": [
    "## Docstring e convenzioni\n",
    "\n",
    "Nelle prossime esercitazioni abituiamoci pian piano a scrivere sempre la docstring in **inglese**.\n",
    "\n",
    "Ecco dove trovare le convenzioni (buone abitudini) usate:  \n",
    "https://www.python.org/dev/peps/pep-0257/"
   ]
  },
  {
   "cell_type": "code",
   "execution_count": null,
   "metadata": {
    "collapsed": true
   },
   "outputs": [],
   "source": []
  },
  {
   "cell_type": "code",
   "execution_count": null,
   "metadata": {
    "collapsed": true
   },
   "outputs": [],
   "source": [
    " "
   ]
  },
  {
   "cell_type": "markdown",
   "metadata": {},
   "source": [
    "## Appendice:  gestione degli errori (prima parte)\n",
    "\n",
    "`try:\n",
    "    <istruzione da provare>\n",
    "except:\n",
    "    <istruzione nel caso la prova non riesca>\n",
    "else: \n",
    "    <istruzione nel caso la prova riesca>\n",
    "finally:\n",
    "    <istruzione finale sia che la prova riesca o meno>`\n",
    "\n",
    "\n",
    "Vedremo di più la prossima volta intanto puoi notare i diversi tipi di errore e approfondire qui  \n",
    "https://docs.python.org/3/tutorial/errors.html"
   ]
  },
  {
   "cell_type": "code",
   "execution_count": 44,
   "metadata": {},
   "outputs": [
    {
     "name": "stdout",
     "output_type": "stream",
     "text": [
      "['math', 'numpy', 'pandas']\n",
      "Fine\n"
     ]
    }
   ],
   "source": [
    "try: \n",
    "    librerie = 'math, numpy, pandas'.split(\", \")\n",
    "except:\n",
    "    print('Errore!')\n",
    "else:\n",
    "    print(librerie)\n",
    "finally:\n",
    "    print('Fine')"
   ]
  },
  {
   "cell_type": "code",
   "execution_count": 45,
   "metadata": {},
   "outputs": [
    {
     "name": "stdout",
     "output_type": "stream",
     "text": [
      "Errore!\n",
      "Fine\n"
     ]
    }
   ],
   "source": [
    "try:\n",
    "    librerie, n = 'math, numpy, pandas'.split(\", \") \n",
    "except:\n",
    "    print('Errore!')\n",
    "else:\n",
    "    print(librerie)\n",
    "finally:\n",
    "    print('Fine')"
   ]
  },
  {
   "cell_type": "markdown",
   "metadata": {},
   "source": [
    "In particolare che tipo di errore genera **librerie, n = 'math, numpy, pandas'.split(\", \")**?\n",
    "\n",
    "Sperimenta iniziando ad osservare i diversi errori che ti compaiono studiando."
   ]
  },
  {
   "cell_type": "code",
   "execution_count": null,
   "metadata": {
    "collapsed": true
   },
   "outputs": [],
   "source": []
  },
  {
   "cell_type": "code",
   "execution_count": null,
   "metadata": {
    "collapsed": true
   },
   "outputs": [],
   "source": []
  },
  {
   "cell_type": "code",
   "execution_count": null,
   "metadata": {
    "collapsed": true
   },
   "outputs": [],
   "source": []
  }
 ],
 "metadata": {
  "kernelspec": {
   "display_name": "Python 3",
   "language": "python",
   "name": "python3"
  },
  "language_info": {
   "codemirror_mode": {
    "name": "ipython",
    "version": 3
   },
   "file_extension": ".py",
   "mimetype": "text/x-python",
   "name": "python",
   "nbconvert_exporter": "python",
   "pygments_lexer": "ipython3",
   "version": "3.6.3"
  }
 },
 "nbformat": 4,
 "nbformat_minor": 2
}
