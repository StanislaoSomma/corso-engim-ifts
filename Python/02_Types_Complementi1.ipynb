{
 "cells": [
  {
   "cell_type": "markdown",
   "metadata": {},
   "source": [
    "## Accesso a Jupyter Notebook da ENGIM\n",
    "\n",
    "1. Aprire il terminale\n",
    "2. Spostarsi sulla Scrivania  \n",
    "   `cd scrivania`\n",
    "3. Lanciare Jupyter Notebook con indirizzo relativo  \n",
    "   `../anaconda3/bin/jupyter-notebook`"
   ]
  },
  {
   "cell_type": "markdown",
   "metadata": {},
   "source": [
    "## Print e manipolazione di stringhe\n",
    "\n",
    "#### Escape Characters `\\n, \\\"`"
   ]
  },
  {
   "cell_type": "code",
   "execution_count": 1,
   "metadata": {},
   "outputs": [
    {
     "name": "stdout",
     "output_type": "stream",
     "text": [
      "\"O Deep Thought computer,\" he said, \"the task we have designed you to perform is this. We want you to tell us....\" he paused, \"The Answer.\"\n"
     ]
    }
   ],
   "source": [
    "answer = \"\\\"O Deep Thought computer,\\\" he said, \\\"the task we have designed you to perform is this. We want you to tell us....\\\" he paused, \\\"The Answer.\\\"\"\n",
    "print(answer)"
   ]
  },
  {
   "cell_type": "code",
   "execution_count": 2,
   "metadata": {},
   "outputs": [
    {
     "name": "stdout",
     "output_type": "stream",
     "text": [
      "Sempre caro mi fu quest'ermo colle, \n",
      "E questa siepe, che da tanta parte \n",
      "Dell'ultimo orizzonte il guardo esclude.\n"
     ]
    }
   ],
   "source": [
    "infinito = \"Sempre caro mi fu quest'ermo colle, \\nE questa siepe, che da tanta parte \\nDell'ultimo orizzonte il guardo esclude.\"\n",
    "print(infinito)"
   ]
  },
  {
   "cell_type": "code",
   "execution_count": null,
   "metadata": {
    "collapsed": true
   },
   "outputs": [],
   "source": []
  },
  {
   "cell_type": "markdown",
   "metadata": {},
   "source": [
    "#### String Special Operators: `+,  *, [  ], in, not in`"
   ]
  },
  {
   "cell_type": "code",
   "execution_count": 3,
   "metadata": {},
   "outputs": [
    {
     "name": "stdout",
     "output_type": "stream",
     "text": [
      "1. Testaecoda\n",
      "2. Ciao tante volte! Ciao tante volte! Ciao tante volte!\n"
     ]
    }
   ],
   "source": [
    "print('1. Testa' + 'e' + 'coda')\n",
    "print('2.' + ' Ciao tante volte!' * 3)"
   ]
  },
  {
   "cell_type": "code",
   "execution_count": 4,
   "metadata": {},
   "outputs": [
    {
     "data": {
      "text/plain": [
       "\"Sempre caro mi fu quest'ermo colle, \\nE q\""
      ]
     },
     "execution_count": 4,
     "metadata": {},
     "output_type": "execute_result"
    }
   ],
   "source": [
    "infinito[:40]"
   ]
  },
  {
   "cell_type": "code",
   "execution_count": 5,
   "metadata": {},
   "outputs": [
    {
     "data": {
      "text/plain": [
       "\"uesta siepe, che da tanta parte \\nDell'ultimo orizzonte il guardo esclude.\""
      ]
     },
     "execution_count": 5,
     "metadata": {},
     "output_type": "execute_result"
    }
   ],
   "source": [
    "infinito[40:]"
   ]
  },
  {
   "cell_type": "code",
   "execution_count": 6,
   "metadata": {},
   "outputs": [
    {
     "data": {
      "text/plain": [
       "True"
      ]
     },
     "execution_count": 6,
     "metadata": {},
     "output_type": "execute_result"
    }
   ],
   "source": [
    "'siepe' in infinito"
   ]
  },
  {
   "cell_type": "code",
   "execution_count": 7,
   "metadata": {},
   "outputs": [
    {
     "data": {
      "text/plain": [
       "False"
      ]
     },
     "execution_count": 7,
     "metadata": {},
     "output_type": "execute_result"
    }
   ],
   "source": [
    "'bosco' in infinito"
   ]
  },
  {
   "cell_type": "code",
   "execution_count": null,
   "metadata": {
    "collapsed": true
   },
   "outputs": [],
   "source": []
  },
  {
   "cell_type": "markdown",
   "metadata": {},
   "source": [
    "#### String Formatting Operator %"
   ]
  },
  {
   "cell_type": "code",
   "execution_count": 8,
   "metadata": {},
   "outputs": [
    {
     "name": "stdout",
     "output_type": "stream",
     "text": [
      "In the Python community, Guido van Rossum is known as a \"Benevolent Dictator For Life\" (BDFL).\n"
     ]
    }
   ],
   "source": [
    "guido = 'Guido van Rossum'\n",
    "language = 'Python'\n",
    "print(\"In the %s community, %s is known as a \\\"Benevolent Dictator For Life\\\" (BDFL).\" %(language, guido))"
   ]
  },
  {
   "cell_type": "code",
   "execution_count": 9,
   "metadata": {},
   "outputs": [
    {
     "name": "stdout",
     "output_type": "stream",
     "text": [
      "Jupyter has at least 69 moons, including the four large Galilean moons discovered by Galileo Galilei in 1610\n"
     ]
    }
   ],
   "source": [
    "planet = 'Jupyter'\n",
    "moons = 69\n",
    "scientist = 'Galileo Galilei'\n",
    "year = 1610\n",
    "\n",
    "print(\"%s has at least %d moons, including the four large Galilean moons discovered by %s in %d\" \n",
    "      %(planet,moons,scientist,year))"
   ]
  },
  {
   "cell_type": "code",
   "execution_count": null,
   "metadata": {
    "collapsed": true
   },
   "outputs": [],
   "source": []
  },
  {
   "cell_type": "markdown",
   "metadata": {},
   "source": [
    "## Manipolazione di liste\n",
    "\n",
    "Slicing, eliminare, aggiungere, estendere liste"
   ]
  },
  {
   "cell_type": "code",
   "execution_count": 10,
   "metadata": {},
   "outputs": [
    {
     "data": {
      "text/plain": [
       "['bonjour', 'hola', 'hallo']"
      ]
     },
     "execution_count": 10,
     "metadata": {},
     "output_type": "execute_result"
    }
   ],
   "source": [
    "saluti = ['bonjour', 'hola', 'hallo']\n",
    "saluti"
   ]
  },
  {
   "cell_type": "code",
   "execution_count": 11,
   "metadata": {},
   "outputs": [
    {
     "data": {
      "text/plain": [
       "['bonjour', 'hola', 'hallo', 'Hi']"
      ]
     },
     "execution_count": 11,
     "metadata": {},
     "output_type": "execute_result"
    }
   ],
   "source": [
    "saluti.append('Hi')\n",
    "saluti"
   ]
  },
  {
   "cell_type": "code",
   "execution_count": 12,
   "metadata": {},
   "outputs": [
    {
     "data": {
      "text/plain": [
       "['bonjour', 'hola', 'hallo']"
      ]
     },
     "execution_count": 12,
     "metadata": {},
     "output_type": "execute_result"
    }
   ],
   "source": [
    "saluti.pop()\n",
    "saluti"
   ]
  },
  {
   "cell_type": "code",
   "execution_count": 13,
   "metadata": {},
   "outputs": [
    {
     "data": {
      "text/plain": [
       "['bonjour', 'hola', 'hallo', 'ciao', 'salve', 'buondì']"
      ]
     },
     "execution_count": 13,
     "metadata": {},
     "output_type": "execute_result"
    }
   ],
   "source": [
    "saluti.extend(['ciao', 'salve', 'buondì'])\n",
    "saluti"
   ]
  },
  {
   "cell_type": "code",
   "execution_count": 14,
   "metadata": {},
   "outputs": [
    {
     "data": {
      "text/plain": [
       "['hola', 'hallo']"
      ]
     },
     "execution_count": 14,
     "metadata": {},
     "output_type": "execute_result"
    }
   ],
   "source": [
    "saluti[1:3]"
   ]
  },
  {
   "cell_type": "code",
   "execution_count": 15,
   "metadata": {},
   "outputs": [
    {
     "data": {
      "text/plain": [
       "['hallo', 'ciao']"
      ]
     },
     "execution_count": 15,
     "metadata": {},
     "output_type": "execute_result"
    }
   ],
   "source": [
    "saluti[2:-2]"
   ]
  },
  {
   "cell_type": "code",
   "execution_count": 16,
   "metadata": {},
   "outputs": [
    {
     "data": {
      "text/plain": [
       "['bonjour', 'hola', 'hallo', 'namaste', 'ciao', 'salve', 'buondì']"
      ]
     },
     "execution_count": 16,
     "metadata": {},
     "output_type": "execute_result"
    }
   ],
   "source": [
    "saluti.insert(3,'namaste')\n",
    "saluti"
   ]
  },
  {
   "cell_type": "code",
   "execution_count": 17,
   "metadata": {},
   "outputs": [
    {
     "data": {
      "text/plain": [
       "['bonjour', 'namaste', 'buondì']"
      ]
     },
     "execution_count": 17,
     "metadata": {},
     "output_type": "execute_result"
    }
   ],
   "source": [
    "saluti[::3] # partendo dal primo a salti di 3"
   ]
  },
  {
   "cell_type": "code",
   "execution_count": 18,
   "metadata": {},
   "outputs": [
    {
     "data": {
      "text/plain": [
       "['bonjour', 'hola', 'hallo', 'namaste', 'ciao', 'buondì']"
      ]
     },
     "execution_count": 18,
     "metadata": {},
     "output_type": "execute_result"
    }
   ],
   "source": [
    "del saluti[5] # elimino 'salve'\n",
    "saluti"
   ]
  },
  {
   "cell_type": "code",
   "execution_count": null,
   "metadata": {
    "collapsed": true
   },
   "outputs": [],
   "source": []
  },
  {
   "cell_type": "markdown",
   "metadata": {},
   "source": [
    "#### Chiedere un input all'utente"
   ]
  },
  {
   "cell_type": "code",
   "execution_count": 19,
   "metadata": {},
   "outputs": [
    {
     "name": "stdout",
     "output_type": "stream",
     "text": [
      "Inserisci il tuo nome: Lisa Simpson\n",
      "Inserisci la tua età: 10\n"
     ]
    }
   ],
   "source": [
    "nome = input(\"Inserisci il tuo nome: \")\n",
    "eta = input(\"Inserisci la tua età: \")"
   ]
  },
  {
   "cell_type": "code",
   "execution_count": 20,
   "metadata": {},
   "outputs": [
    {
     "data": {
      "text/plain": [
       "(str, str)"
      ]
     },
     "execution_count": 20,
     "metadata": {},
     "output_type": "execute_result"
    }
   ],
   "source": [
    "type(nome), type(eta) # di default gli imput sono sempre salvati come stringhe"
   ]
  },
  {
   "cell_type": "code",
   "execution_count": 21,
   "metadata": {},
   "outputs": [
    {
     "name": "stdout",
     "output_type": "stream",
     "text": [
      "Lisa Simpson è nata nel 2008\n"
     ]
    }
   ],
   "source": [
    "eta_int = int(eta) # trasformo in integer\n",
    "anno_nscita = 2018 - eta_int \n",
    "\n",
    "print(\"%s è nata nel %d\" %(nome, anno_nscita))"
   ]
  },
  {
   "cell_type": "code",
   "execution_count": null,
   "metadata": {
    "collapsed": true
   },
   "outputs": [],
   "source": []
  }
 ],
 "metadata": {
  "kernelspec": {
   "display_name": "Python 3",
   "language": "python",
   "name": "python3"
  },
  "language_info": {
   "codemirror_mode": {
    "name": "ipython",
    "version": 3
   },
   "file_extension": ".py",
   "mimetype": "text/x-python",
   "name": "python",
   "nbconvert_exporter": "python",
   "pygments_lexer": "ipython3",
   "version": "3.6.3"
  }
 },
 "nbformat": 4,
 "nbformat_minor": 2
}
