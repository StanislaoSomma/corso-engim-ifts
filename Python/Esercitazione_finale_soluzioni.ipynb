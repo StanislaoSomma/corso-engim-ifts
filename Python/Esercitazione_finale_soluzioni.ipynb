{
  "cells": [
    {
      "cell_type": "markdown",
      "source": [
        "# Esercitazione finale di Python"
      ],
      "metadata": {}
    },
    {
      "cell_type": "markdown",
      "source": [
        "## Domande generiche "
      ],
      "metadata": {}
    },
    {
      "cell_type": "markdown",
      "source": [
        "#### Quale comando uso per vedere tutti gli attributi e moduli richiamabili su un preciso oggetto?"
      ],
      "metadata": {}
    },
    {
      "cell_type": "code",
      "source": [
        "# dir(str)"
      ],
      "outputs": [],
      "execution_count": 1,
      "metadata": {}
    },
    {
      "cell_type": "markdown",
      "source": [
        "#### Quale comando uso per avere più informazione di un particolare modulo?"
      ],
      "metadata": {}
    },
    {
      "cell_type": "code",
      "source": [
        "help(str.split)"
      ],
      "outputs": [
        {
          "output_type": "stream",
          "name": "stdout",
          "text": [
            "Help on method_descriptor:\n",
            "\n",
            "split(...)\n",
            "    S.split(sep=None, maxsplit=-1) -> list of strings\n",
            "    \n",
            "    Return a list of the words in S, using sep as the\n",
            "    delimiter string.  If maxsplit is given, at most maxsplit\n",
            "    splits are done. If sep is not specified or is None, any\n",
            "    whitespace string is a separator and empty strings are\n",
            "    removed from the result.\n",
            "\n"
          ]
        }
      ],
      "execution_count": 2,
      "metadata": {}
    },
    {
      "cell_type": "markdown",
      "source": [
        "#### Elenca almeno tre caratteristiche fondamentali del linguaggio Python\n",
        "\n",
        "1. Interpretato\n",
        "2. Alto livello\n",
        "3. General purpose\n",
        "4. Multiparadigma (comprende programmazione ad oggetti)\n",
        "5. Open source"
      ],
      "metadata": {}
    },
    {
      "cell_type": "markdown",
      "source": [
        "#### Quali grandi organizzazioni. e aziente stanno usando Python in questo momento?\n",
        "NASA; CERN, Mozilla, Facebook, Google, Instagram...\n",
        "\nhttps://www.python.org/about/success"
      ],
      "metadata": {}
    },
    {
      "cell_type": "markdown",
      "source": [
        "#### Cosa significa PEP? Quale contiene le linee guida e convenzioni per scrivere in Python?\n",
        "Python Enhancement Proposal.\n",
        "\n",
        "PEP 8 https://www.python.org/dev/peps/pep-0008/\n",
        "\n"
      ],
      "metadata": {}
    },
    {
      "cell_type": "code",
      "source": [],
      "outputs": [],
      "execution_count": null,
      "metadata": {
        "collapsed": true
      }
    },
    {
      "cell_type": "markdown",
      "source": [
        "## Tipi di variabili"
      ],
      "metadata": {}
    },
    {
      "cell_type": "markdown",
      "source": [
        "#### Elenca almeno tre tipi di oggetti immutabili, fai un esempio per ciascuno e stampa il loro tipo per conferma\n",
        "int, float, bool, str, tuple"
      ],
      "metadata": {}
    },
    {
      "cell_type": "code",
      "source": [
        "intero = 5\n",
        "decimale = 4.5\n",
        "vero = True\n",
        "tupla = (2,8)\n",
        "\nprint(type(intero), type(decimale), type(vero), type(tupla))"
      ],
      "outputs": [
        {
          "output_type": "stream",
          "name": "stdout",
          "text": [
            "<class 'int'> <class 'float'> <class 'bool'> <class 'tuple'>\n"
          ]
        }
      ],
      "execution_count": 3,
      "metadata": {}
    },
    {
      "cell_type": "markdown",
      "source": [
        "#### Elenca tre tipi di oggetti mutabili, fai un esempio per ciascuno e stampa il loro tipo per conferma\n",
        "list, disctionary, set"
      ],
      "metadata": {}
    },
    {
      "cell_type": "code",
      "source": [
        "lista = [1,2,3]\n",
        "dizionario = {'1': 'uno', '2': 'due', '3':'tre'}\n",
        "insieme = {4,5,6,7,8}\n",
        "\nprint(type(lista), type(dizionario), type(insieme))"
      ],
      "outputs": [
        {
          "output_type": "stream",
          "name": "stdout",
          "text": [
            "<class 'list'> <class 'dict'> <class 'set'>\n"
          ]
        }
      ],
      "execution_count": 4,
      "metadata": {}
    },
    {
      "cell_type": "code",
      "source": [],
      "outputs": [],
      "execution_count": null,
      "metadata": {
        "collapsed": true
      }
    },
    {
      "cell_type": "markdown",
      "source": [
        "#### Stampa una stringa con un float a due decimali all'interno utilizzando %"
      ],
      "metadata": {}
    },
    {
      "cell_type": "code",
      "source": [
        "pi = 3.1415\n",
        "val = 'valore'\n",
        "print(\"Il %s di pi greco è %.2f (approssimato).\" %(val, pi))"
      ],
      "outputs": [
        {
          "output_type": "stream",
          "name": "stdout",
          "text": [
            "Il valore di pi greco è 3.14 (approssimato).\n"
          ]
        }
      ],
      "execution_count": 5,
      "metadata": {}
    },
    {
      "cell_type": "code",
      "source": [],
      "outputs": [],
      "execution_count": null,
      "metadata": {
        "collapsed": true
      }
    },
    {
      "cell_type": "markdown",
      "source": [
        "## Metodi su variabili"
      ],
      "metadata": {}
    },
    {
      "cell_type": "markdown",
      "source": [
        "#### Trasforma una stringa in una lista dividendola ogni volta che compare una virgola e uno spazio"
      ],
      "metadata": {}
    },
    {
      "cell_type": "code",
      "source": [
        "semi = \"Come, quando, fuori, piove\""
      ],
      "outputs": [],
      "execution_count": 6,
      "metadata": {
        "collapsed": true
      }
    },
    {
      "cell_type": "code",
      "source": [
        "semi_list = semi.split(', ')"
      ],
      "outputs": [],
      "execution_count": 7,
      "metadata": {}
    },
    {
      "cell_type": "code",
      "source": [
        "print(semi_list)"
      ],
      "outputs": [
        {
          "output_type": "stream",
          "name": "stdout",
          "text": [
            "['Come', 'quando', 'fuori', 'piove']\n"
          ]
        }
      ],
      "execution_count": 8,
      "metadata": {}
    },
    {
      "cell_type": "code",
      "source": [],
      "outputs": [],
      "execution_count": null,
      "metadata": {
        "collapsed": true
      }
    },
    {
      "cell_type": "markdown",
      "source": [
        "#### Crea una lista di 5 elementi e stampa la sua lunghezza"
      ],
      "metadata": {}
    },
    {
      "cell_type": "code",
      "source": [
        "elementi = [5, 'nine', 'Big Bang', 3.14, True]\n",
        "print(len(elementi))"
      ],
      "outputs": [
        {
          "output_type": "stream",
          "name": "stdout",
          "text": [
            "5\n"
          ]
        }
      ],
      "execution_count": 9,
      "metadata": {}
    },
    {
      "cell_type": "markdown",
      "source": [
        "#### Elimina l'ultimo elemento e stampa la lunghezza della lista (attenzione ad eseguire il comando una volta sola)"
      ],
      "metadata": {}
    },
    {
      "cell_type": "code",
      "source": [
        "elementi.pop()\n",
        "print(len(elementi))"
      ],
      "outputs": [
        {
          "output_type": "stream",
          "name": "stdout",
          "text": [
            "4\n"
          ]
        }
      ],
      "execution_count": 10,
      "metadata": {
        "scrolled": true
      }
    },
    {
      "cell_type": "markdown",
      "source": [
        "#### Aggiungi un elemento e stampa nuovamente la lunghezza della lista (attenzione ad eseguire il comando una volta sola)"
      ],
      "metadata": {}
    },
    {
      "cell_type": "code",
      "source": [
        "elementi.append('M-Theory')\n",
        "print(len(elementi))"
      ],
      "outputs": [
        {
          "output_type": "stream",
          "name": "stdout",
          "text": [
            "5\n"
          ]
        }
      ],
      "execution_count": 11,
      "metadata": {}
    },
    {
      "cell_type": "code",
      "source": [],
      "outputs": [],
      "execution_count": null,
      "metadata": {
        "collapsed": true
      }
    },
    {
      "cell_type": "markdown",
      "source": [
        "## Condizioni e cicli"
      ],
      "metadata": {}
    },
    {
      "cell_type": "markdown",
      "source": [
        "#### Condizione if\n",
        "\n",
        "Dato `nome = 'Guido van Rossum'` \n",
        "Crea una condizione if tale che stampi:\n",
        "* 'Questa stringa non contiente spazi' se non ha spazi,\n",
        "* 'Questa stringa ha due parole' se ne ha due parole,\n",
        "* 'Questa stringa ha tre parole' se ne ha tre.\n",
        "* Se non rientra in nessuno dei casi precedenti contrario stampa 'Questa stringa ha molte parole'."
      ],
      "metadata": {}
    },
    {
      "cell_type": "code",
      "source": [
        "nome = 'Guido van Rossum'\n",
        "\n",
        "if len(nome.split(' ')) == 1:\n",
        "    print('Questa stringa non contiente spazi')\n",
        "elif len(nome.split(' ')) == 2:\n",
        "    print('Questa stringa ha due parole')\n",
        "elif len(nome.split(' ')) == 3:\n",
        "    print('Questa stringa ha tre parole')\n",
        "else:\n",
        "    print('Questa stringa ha molte parole')"
      ],
      "outputs": [
        {
          "output_type": "stream",
          "name": "stdout",
          "text": [
            "Questa stringa ha tre parole\n"
          ]
        }
      ],
      "execution_count": 12,
      "metadata": {}
    },
    {
      "cell_type": "markdown",
      "source": [
        "#### Ritesta per stringhe con una o più parole"
      ],
      "metadata": {}
    },
    {
      "cell_type": "code",
      "source": [
        "nome = 'Python is an interpreted high-level programming language for general-purpose programmin'\n",
        "\n",
        "if len(nome.split(' ')) == 1:\n",
        "    print('Questa stringa non contiente spazi')\n",
        "elif len(nome.split(' ')) == 2:\n",
        "    print('Questa stringa ha due parole')\n",
        "elif len(nome.split(' ')) == 3:\n",
        "    print('Questa stringa ha tre parole')\n",
        "else:\n",
        "    print('Questa stringa ha molte parole')"
      ],
      "outputs": [
        {
          "output_type": "stream",
          "name": "stdout",
          "text": [
            "Questa stringa ha molte parole\n"
          ]
        }
      ],
      "execution_count": 13,
      "metadata": {}
    },
    {
      "cell_type": "code",
      "source": [],
      "outputs": [],
      "execution_count": null,
      "metadata": {
        "collapsed": true
      }
    },
    {
      "cell_type": "markdown",
      "source": [
        "#### Creo un ciclo che mi stampi una stringa fra chiave e valore per ogni elemento del dizionario con la prima lettera maiuscola"
      ],
      "metadata": {}
    },
    {
      "cell_type": "code",
      "source": [
        "dict_alpha = {'A': 'aplha', 'B': 'bravo', 'C': 'charlie', 'D': 'delta', 'E': 'Echo'}"
      ],
      "outputs": [],
      "execution_count": 14,
      "metadata": {
        "collapsed": true
      }
    },
    {
      "cell_type": "code",
      "source": [
        "for key, value in dict_alpha.items():\n",
        "    print('%s sta per %s.' %(key, value.capitalize()))"
      ],
      "outputs": [
        {
          "output_type": "stream",
          "name": "stdout",
          "text": [
            "A sta per Aplha.\n",
            "B sta per Bravo.\n",
            "C sta per Charlie.\n",
            "D sta per Delta.\n",
            "E sta per Echo.\n"
          ]
        }
      ],
      "execution_count": 15,
      "metadata": {}
    },
    {
      "cell_type": "code",
      "source": [],
      "outputs": [],
      "execution_count": null,
      "metadata": {
        "collapsed": true
      }
    },
    {
      "cell_type": "markdown",
      "source": [
        "## List comprehention"
      ],
      "metadata": {}
    },
    {
      "cell_type": "code",
      "source": [
        "alpha = 'abcdfeghilmnopqrstuvz'"
      ],
      "outputs": [],
      "execution_count": 16,
      "metadata": {}
    },
    {
      "cell_type": "markdown",
      "source": [
        "#### Selezione e stampa il terzo, quarto e quinto carattere della stringa"
      ],
      "metadata": {}
    },
    {
      "cell_type": "code",
      "source": [
        "print(alpha[2:5])"
      ],
      "outputs": [
        {
          "output_type": "stream",
          "name": "stdout",
          "text": [
            "cdf\n"
          ]
        }
      ],
      "execution_count": 17,
      "metadata": {}
    },
    {
      "cell_type": "markdown",
      "source": [
        "#### Trasforma la stringa data in lista di lettere usando `in range()` e l'index. E stampa la lista"
      ],
      "metadata": {}
    },
    {
      "cell_type": "code",
      "source": [
        "alpha_car = [alpha[index] for index in range(len(alpha))]"
      ],
      "outputs": [],
      "execution_count": 18,
      "metadata": {}
    },
    {
      "cell_type": "code",
      "source": [
        "print(alpha_car)"
      ],
      "outputs": [
        {
          "output_type": "stream",
          "name": "stdout",
          "text": [
            "['a', 'b', 'c', 'd', 'f', 'e', 'g', 'h', 'i', 'l', 'm', 'n', 'o', 'p', 'q', 'r', 's', 't', 'u', 'v', 'z']\n"
          ]
        }
      ],
      "execution_count": 19,
      "metadata": {}
    },
    {
      "cell_type": "code",
      "source": [],
      "outputs": [],
      "execution_count": null,
      "metadata": {
        "collapsed": true
      }
    },
    {
      "cell_type": "markdown",
      "source": [
        "#### Dalla stringa precedente crea una lista delle sole lettere dispari"
      ],
      "metadata": {}
    },
    {
      "cell_type": "code",
      "source": [
        "alpha_odd = [alpha[odd] for odd in range(0, len(alpha), 2)]\n",
        "print(alpha_odd)"
      ],
      "outputs": [
        {
          "output_type": "stream",
          "name": "stdout",
          "text": [
            "['a', 'c', 'f', 'g', 'i', 'm', 'o', 'q', 's', 'u', 'z']\n"
          ]
        }
      ],
      "execution_count": 20,
      "metadata": {}
    },
    {
      "cell_type": "code",
      "source": [],
      "outputs": [],
      "execution_count": null,
      "metadata": {
        "collapsed": true
      }
    },
    {
      "cell_type": "markdown",
      "source": [
        "## Funzioni (20 punti)"
      ],
      "metadata": {}
    },
    {
      "cell_type": "markdown",
      "source": [
        "#### Cosa fa questa funzione?"
      ],
      "metadata": {}
    },
    {
      "cell_type": "code",
      "source": [
        "def conta(a, b): \n",
        "    pass"
      ],
      "outputs": [],
      "execution_count": 21,
      "metadata": {
        "collapsed": true
      }
    },
    {
      "cell_type": "code",
      "source": [
        "conta(5,4)"
      ],
      "outputs": [],
      "execution_count": 22,
      "metadata": {}
    },
    {
      "cell_type": "markdown",
      "source": [
        "Prende due valori ma non restituisce alcun valore"
      ],
      "metadata": {}
    },
    {
      "cell_type": "markdown",
      "source": [
        "#### Crea una funzione che mi restituisca il numero delle a (maiuscole o minuscole che siano, senza usare il modulo per stringhe `.count()`"
      ],
      "metadata": {}
    },
    {
      "cell_type": "code",
      "source": [
        "# Prima versione\n",
        "\n",
        "def count_a(name):\n",
        "    final_count = 0\n",
        "    for letter in name.lower():\n",
        "        if letter == 'a':\n",
        "            final_count +=1\n",
        "    return final_count "
      ],
      "outputs": [],
      "execution_count": 23,
      "metadata": {
        "collapsed": true
      }
    },
    {
      "cell_type": "markdown",
      "source": [
        "#### Stampa il risultato della funzione richiamata per 'Maria' e 'Alice'"
      ],
      "metadata": {}
    },
    {
      "cell_type": "code",
      "source": [
        "print(count_a('Maria'))"
      ],
      "outputs": [
        {
          "output_type": "stream",
          "name": "stdout",
          "text": [
            "2\n"
          ]
        }
      ],
      "execution_count": 24,
      "metadata": {}
    },
    {
      "cell_type": "code",
      "source": [
        "print(count_a('Alice'))"
      ],
      "outputs": [
        {
          "output_type": "stream",
          "name": "stdout",
          "text": [
            "1\n"
          ]
        }
      ],
      "execution_count": 25,
      "metadata": {}
    },
    {
      "cell_type": "code",
      "source": [],
      "outputs": [],
      "execution_count": null,
      "metadata": {
        "collapsed": true
      }
    },
    {
      "cell_type": "code",
      "source": [
        "# Seconda versione\n",
        "\n",
        "def count_a2(name):\n",
        "    list_a = []\n",
        "    for letter in name.lower():\n",
        "        if letter == 'a':\n",
        "            list_a.append(letter)\n",
        "            \n",
        "    return len(list_a)"
      ],
      "outputs": [],
      "execution_count": 26,
      "metadata": {
        "collapsed": true
      }
    },
    {
      "cell_type": "code",
      "source": [
        "print(count_a2('Alice'))"
      ],
      "outputs": [
        {
          "output_type": "stream",
          "name": "stdout",
          "text": [
            "1\n"
          ]
        }
      ],
      "execution_count": 27,
      "metadata": {}
    },
    {
      "cell_type": "code",
      "source": [
        "print(count_a2('Asasasasaaaa'))"
      ],
      "outputs": [
        {
          "output_type": "stream",
          "name": "stdout",
          "text": [
            "8\n"
          ]
        }
      ],
      "execution_count": 28,
      "metadata": {}
    },
    {
      "cell_type": "code",
      "source": [],
      "outputs": [],
      "execution_count": null,
      "metadata": {
        "collapsed": true
      }
    },
    {
      "cell_type": "markdown",
      "source": [
        "#### Crea una funzione che mi restituisca il numero delle a, usando una funzione `lambda ` e il modulo per stringhe `.count()`"
      ],
      "metadata": {}
    },
    {
      "cell_type": "code",
      "source": [
        "# Terza versione\n",
        "\ncount_a3 = lambda name : name.lower().count('a')"
      ],
      "outputs": [],
      "execution_count": 29,
      "metadata": {
        "collapsed": true
      }
    },
    {
      "cell_type": "code",
      "source": [
        "count_a3('Alice Aurora')"
      ],
      "outputs": [
        {
          "output_type": "execute_result",
          "execution_count": 30,
          "data": {
            "text/plain": [
              "3"
            ]
          },
          "metadata": {}
        }
      ],
      "execution_count": 30,
      "metadata": {}
    },
    {
      "cell_type": "code",
      "source": [],
      "outputs": [],
      "execution_count": null,
      "metadata": {
        "collapsed": true
      }
    },
    {
      "cell_type": "code",
      "source": [],
      "outputs": [],
      "execution_count": null,
      "metadata": {
        "collapsed": true
      }
    },
    {
      "cell_type": "code",
      "source": [],
      "outputs": [],
      "execution_count": null,
      "metadata": {
        "collapsed": true
      }
    }
  ],
  "metadata": {
    "kernelspec": {
      "name": "python3",
      "language": "python",
      "display_name": "Python 3"
    },
    "language_info": {
      "name": "python",
      "version": "3.6.3",
      "mimetype": "text/x-python",
      "codemirror_mode": {
        "name": "ipython",
        "version": 3
      },
      "pygments_lexer": "ipython3",
      "nbconvert_exporter": "python",
      "file_extension": ".py"
    },
    "kernel_info": {
      "name": "python3"
    },
    "nteract": {
      "version": "0.7.1"
    }
  },
  "nbformat": 4,
  "nbformat_minor": 2
}