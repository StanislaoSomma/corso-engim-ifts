{
 "cells": [
  {
   "cell_type": "markdown",
   "metadata": {},
   "source": [
    "# Esercitazione finale di Python"
   ]
  },
  {
   "cell_type": "markdown",
   "metadata": {},
   "source": [
    "## Domande generiche "
   ]
  },
  {
   "cell_type": "markdown",
   "metadata": {},
   "source": [
    "#### Quale comando uso per vedere tutti gli attributi e moduli richiamabili su un preciso oggetto?"
   ]
  },
  {
   "cell_type": "code",
   "execution_count": 1,
   "metadata": {},
   "outputs": [],
   "source": [
    "# dir(str)"
   ]
  },
  {
   "cell_type": "markdown",
   "metadata": {},
   "source": [
    "#### Quale comando uso per avere più informazione di un particolare modulo?"
   ]
  },
  {
   "cell_type": "code",
   "execution_count": 2,
   "metadata": {},
   "outputs": [
    {
     "name": "stdout",
     "output_type": "stream",
     "text": [
      "Help on method_descriptor:\n",
      "\n",
      "split(...)\n",
      "    S.split(sep=None, maxsplit=-1) -> list of strings\n",
      "    \n",
      "    Return a list of the words in S, using sep as the\n",
      "    delimiter string.  If maxsplit is given, at most maxsplit\n",
      "    splits are done. If sep is not specified or is None, any\n",
      "    whitespace string is a separator and empty strings are\n",
      "    removed from the result.\n",
      "\n"
     ]
    }
   ],
   "source": [
    "help(str.split)"
   ]
  },
  {
   "cell_type": "markdown",
   "metadata": {},
   "source": [
    "#### Elenca almeno tre caratteristiche fondamentali del linguaggio Python\n",
    "\n",
    "1. Interpretato\n",
    "2. Alto livello\n",
    "3. General purpose\n",
    "4. Multiparadigma (comprende programmazione ad oggetti)\n",
    "5. Open source"
   ]
  },
  {
   "cell_type": "markdown",
   "metadata": {},
   "source": [
    "#### Quali grandi organizzazioni. e aziente stanno usando Python in questo momento?\n",
    "NASA; CERN, Mozilla, Facebook, Google, Instagram...\n",
    "\n",
    "https://www.python.org/about/success"
   ]
  },
  {
   "cell_type": "markdown",
   "metadata": {},
   "source": [
    "#### Cosa significa PEP? Quale contiene le linee guida e convenzioni per scrivere in Python?\n",
    "Python Enhancement Proposal.\n",
    "\n",
    "PEP 8 https://www.python.org/dev/peps/pep-0008/\n",
    "\n"
   ]
  },
  {
   "cell_type": "code",
   "execution_count": null,
   "metadata": {
    "collapsed": true
   },
   "outputs": [],
   "source": []
  },
  {
   "cell_type": "markdown",
   "metadata": {},
   "source": [
    "## Tipi di variabili (20 punti)"
   ]
  },
  {
   "cell_type": "markdown",
   "metadata": {},
   "source": [
    "#### Elenca almeno tre tipi di oggetti immutabili, fai un esempio per ciascuno e stampa il loro tipo per conferma\n",
    "int, float, bool, str, tuple"
   ]
  },
  {
   "cell_type": "code",
   "execution_count": 3,
   "metadata": {},
   "outputs": [
    {
     "name": "stdout",
     "output_type": "stream",
     "text": [
      "<class 'int'> <class 'float'> <class 'bool'> <class 'tuple'>\n"
     ]
    }
   ],
   "source": [
    "intero = 5\n",
    "decimale = 4.5\n",
    "vero = True\n",
    "tupla = (2,8)\n",
    "\n",
    "print(type(intero), type(decimale), type(vero), type(tupla))"
   ]
  },
  {
   "cell_type": "markdown",
   "metadata": {},
   "source": [
    "#### Elenca tre tipi di oggetti mutabili, fai un esempio per ciascuno e stampa il loro tipo per conferma\n",
    "list, disctionary, set"
   ]
  },
  {
   "cell_type": "code",
   "execution_count": 4,
   "metadata": {},
   "outputs": [
    {
     "name": "stdout",
     "output_type": "stream",
     "text": [
      "<class 'list'> <class 'dict'> <class 'set'>\n"
     ]
    }
   ],
   "source": [
    "lista = [1,2,3]\n",
    "dizionario = {'1': 'uno', '2': 'due', '3':'tre'}\n",
    "insieme = {4,5,6,7,8}\n",
    "\n",
    "print(type(lista), type(dizionario), type(insieme))"
   ]
  },
  {
   "cell_type": "code",
   "execution_count": null,
   "metadata": {
    "collapsed": true
   },
   "outputs": [],
   "source": []
  },
  {
   "cell_type": "markdown",
   "metadata": {},
   "source": [
    "#### Stampa una stringa con un float a due decimali all'interno utilizzando %"
   ]
  },
  {
   "cell_type": "code",
   "execution_count": 5,
   "metadata": {},
   "outputs": [
    {
     "name": "stdout",
     "output_type": "stream",
     "text": [
      "Il valore di pi greco è 3.14 (approssimato).\n"
     ]
    }
   ],
   "source": [
    "pi = 3.1415\n",
    "val = 'valore'\n",
    "print(\"Il %s di pi greco è %.2f (approssimato).\" %(val, pi))"
   ]
  },
  {
   "cell_type": "code",
   "execution_count": null,
   "metadata": {
    "collapsed": true
   },
   "outputs": [],
   "source": []
  },
  {
   "cell_type": "markdown",
   "metadata": {},
   "source": [
    "## Metodi su variabili"
   ]
  },
  {
   "cell_type": "markdown",
   "metadata": {},
   "source": [
    "#### Trasforma una stringa in una lista dividendola ogni volta che compare una virgola e uno spazio"
   ]
  },
  {
   "cell_type": "code",
   "execution_count": 6,
   "metadata": {
    "collapsed": true
   },
   "outputs": [],
   "source": [
    "semi = \"Come, quando, fuori, piove\""
   ]
  },
  {
   "cell_type": "code",
   "execution_count": 7,
   "metadata": {},
   "outputs": [],
   "source": [
    "semi_list = semi.split(', ')"
   ]
  },
  {
   "cell_type": "code",
   "execution_count": 8,
   "metadata": {},
   "outputs": [
    {
     "name": "stdout",
     "output_type": "stream",
     "text": [
      "['Come', 'quando', 'fuori', 'piove']\n"
     ]
    }
   ],
   "source": [
    "print(semi_list)"
   ]
  },
  {
   "cell_type": "code",
   "execution_count": null,
   "metadata": {
    "collapsed": true
   },
   "outputs": [],
   "source": []
  },
  {
   "cell_type": "markdown",
   "metadata": {},
   "source": [
    "#### Crea una lista di 5 elementi e stampa la sua lunghezza"
   ]
  },
  {
   "cell_type": "code",
   "execution_count": 9,
   "metadata": {},
   "outputs": [
    {
     "name": "stdout",
     "output_type": "stream",
     "text": [
      "5\n"
     ]
    }
   ],
   "source": [
    "elementi = [5, 'nine', 'Big Bang', 3.14, True]\n",
    "print(len(elementi))"
   ]
  },
  {
   "cell_type": "markdown",
   "metadata": {},
   "source": [
    "#### Elimina l'ultimo elemento e stampa la lunghezza della lista (attenzione ad eseguire il comando una volta sola)"
   ]
  },
  {
   "cell_type": "code",
   "execution_count": 10,
   "metadata": {
    "scrolled": true
   },
   "outputs": [
    {
     "name": "stdout",
     "output_type": "stream",
     "text": [
      "4\n"
     ]
    }
   ],
   "source": [
    "elementi.pop()\n",
    "print(len(elementi))"
   ]
  },
  {
   "cell_type": "markdown",
   "metadata": {},
   "source": [
    "#### Aggiungi un elemento e stampa nuovamente la lunghezza della lista (attenzione ad eseguire il comando una volta sola)"
   ]
  },
  {
   "cell_type": "code",
   "execution_count": 11,
   "metadata": {},
   "outputs": [
    {
     "name": "stdout",
     "output_type": "stream",
     "text": [
      "5\n"
     ]
    }
   ],
   "source": [
    "elementi.append('M-Theory')\n",
    "print(len(elementi))"
   ]
  },
  {
   "cell_type": "code",
   "execution_count": null,
   "metadata": {
    "collapsed": true
   },
   "outputs": [],
   "source": []
  },
  {
   "cell_type": "markdown",
   "metadata": {},
   "source": [
    "## Condizioni e cicli"
   ]
  },
  {
   "cell_type": "markdown",
   "metadata": {},
   "source": [
    "#### Condizione if\n",
    "\n",
    "Dato `nome = 'Guido van Rossum'` \n",
    "Crea una condizione if tale che stampi:\n",
    "* 'Questa stringa non contiente spazi' se non ha spazi,\n",
    "* 'Questa stringa ha due parole' se ne ha due parole,\n",
    "* 'Questa stringa ha tre parole' se ne ha tre.\n",
    "* Se non rientra in nessuno dei casi precedenti contrario stampa 'Questa stringa ha molte parole'."
   ]
  },
  {
   "cell_type": "code",
   "execution_count": 12,
   "metadata": {},
   "outputs": [
    {
     "name": "stdout",
     "output_type": "stream",
     "text": [
      "Questa stringa ha tre parole\n"
     ]
    }
   ],
   "source": [
    "nome = 'Guido van Rossum'\n",
    "\n",
    "if len(nome.split(' ')) == 1:\n",
    "    print('Questa stringa non contiente spazi')\n",
    "elif len(nome.split(' ')) == 2:\n",
    "    print('Questa stringa ha due parole')\n",
    "elif len(nome.split(' ')) == 3:\n",
    "    print('Questa stringa ha tre parole')\n",
    "else:\n",
    "    print('Questa stringa ha molte parole')"
   ]
  },
  {
   "cell_type": "markdown",
   "metadata": {},
   "source": [
    "#### Ritesta per stringhe con una o più parole"
   ]
  },
  {
   "cell_type": "code",
   "execution_count": 13,
   "metadata": {},
   "outputs": [
    {
     "name": "stdout",
     "output_type": "stream",
     "text": [
      "Questa stringa ha molte parole\n"
     ]
    }
   ],
   "source": [
    "nome = 'Python is an interpreted high-level programming language for general-purpose programmin'\n",
    "\n",
    "if len(nome.split(' ')) == 1:\n",
    "    print('Questa stringa non contiente spazi')\n",
    "elif len(nome.split(' ')) == 2:\n",
    "    print('Questa stringa ha due parole')\n",
    "elif len(nome.split(' ')) == 3:\n",
    "    print('Questa stringa ha tre parole')\n",
    "else:\n",
    "    print('Questa stringa ha molte parole')"
   ]
  },
  {
   "cell_type": "code",
   "execution_count": null,
   "metadata": {
    "collapsed": true
   },
   "outputs": [],
   "source": []
  },
  {
   "cell_type": "markdown",
   "metadata": {},
   "source": [
    "#### Creo un ciclo che mi stampi una stringa fra chiave e valore per ogni elemento del dizionario con la prima lettera maiuscola"
   ]
  },
  {
   "cell_type": "code",
   "execution_count": 14,
   "metadata": {
    "collapsed": true
   },
   "outputs": [],
   "source": [
    "dict_alpha = {'A': 'aplha', 'B': 'bravo', 'C': 'charlie', 'D': 'delta', 'E': 'Echo'}"
   ]
  },
  {
   "cell_type": "code",
   "execution_count": 15,
   "metadata": {},
   "outputs": [
    {
     "name": "stdout",
     "output_type": "stream",
     "text": [
      "A sta per Aplha.\n",
      "B sta per Bravo.\n",
      "C sta per Charlie.\n",
      "D sta per Delta.\n",
      "E sta per Echo.\n"
     ]
    }
   ],
   "source": [
    "for key, value in dict_alpha.items():\n",
    "    print('%s sta per %s.' %(key, value.capitalize()))"
   ]
  },
  {
   "cell_type": "code",
   "execution_count": null,
   "metadata": {
    "collapsed": true
   },
   "outputs": [],
   "source": []
  },
  {
   "cell_type": "markdown",
   "metadata": {},
   "source": [
    "## List comprehention"
   ]
  },
  {
   "cell_type": "code",
   "execution_count": 16,
   "metadata": {},
   "outputs": [],
   "source": [
    "alpha = 'abcdfeghilmnopqrstuvz'"
   ]
  },
  {
   "cell_type": "markdown",
   "metadata": {},
   "source": [
    "#### Selezione e stampa il terzo, quarto e quinto carattere della stringa"
   ]
  },
  {
   "cell_type": "code",
   "execution_count": 17,
   "metadata": {},
   "outputs": [
    {
     "name": "stdout",
     "output_type": "stream",
     "text": [
      "cdf\n"
     ]
    }
   ],
   "source": [
    "print(alpha[2:5])"
   ]
  },
  {
   "cell_type": "markdown",
   "metadata": {},
   "source": [
    "#### Trasforma la stringa data in lista di lettere usando `in range()` e l'index. E stampa la lista"
   ]
  },
  {
   "cell_type": "code",
   "execution_count": 18,
   "metadata": {},
   "outputs": [],
   "source": [
    "alpha_car = [alpha[index] for index in range(len(alpha))]"
   ]
  },
  {
   "cell_type": "code",
   "execution_count": 19,
   "metadata": {},
   "outputs": [
    {
     "name": "stdout",
     "output_type": "stream",
     "text": [
      "['a', 'b', 'c', 'd', 'f', 'e', 'g', 'h', 'i', 'l', 'm', 'n', 'o', 'p', 'q', 'r', 's', 't', 'u', 'v', 'z']\n"
     ]
    }
   ],
   "source": [
    "print(alpha_car)"
   ]
  },
  {
   "cell_type": "code",
   "execution_count": null,
   "metadata": {
    "collapsed": true
   },
   "outputs": [],
   "source": []
  },
  {
   "cell_type": "markdown",
   "metadata": {},
   "source": [
    "#### Dalla stringa precedente crea una lista delle sole lettere dispari"
   ]
  },
  {
   "cell_type": "code",
   "execution_count": 20,
   "metadata": {},
   "outputs": [
    {
     "name": "stdout",
     "output_type": "stream",
     "text": [
      "['a', 'c', 'f', 'g', 'i', 'm', 'o', 'q', 's', 'u', 'z']\n"
     ]
    }
   ],
   "source": [
    "alpha_odd = [alpha[odd] for odd in range(0, len(alpha), 2)]\n",
    "print(alpha_odd)"
   ]
  },
  {
   "cell_type": "code",
   "execution_count": null,
   "metadata": {
    "collapsed": true
   },
   "outputs": [],
   "source": []
  },
  {
   "cell_type": "markdown",
   "metadata": {},
   "source": [
    "## Funzioni (20 punti)"
   ]
  },
  {
   "cell_type": "markdown",
   "metadata": {},
   "source": [
    "#### Cosa fa questa funzione?"
   ]
  },
  {
   "cell_type": "code",
   "execution_count": 21,
   "metadata": {
    "collapsed": true
   },
   "outputs": [],
   "source": [
    "def conta(a, b): \n",
    "    pass"
   ]
  },
  {
   "cell_type": "code",
   "execution_count": 22,
   "metadata": {},
   "outputs": [],
   "source": [
    "conta(5,4)"
   ]
  },
  {
   "cell_type": "markdown",
   "metadata": {},
   "source": [
    "Prende due valori ma non restituisce alcun valore"
   ]
  },
  {
   "cell_type": "markdown",
   "metadata": {},
   "source": [
    "#### Crea una funzione che mi restituisca il numero delle a (maiuscole o minuscole che siano, senza usare il modulo per stringhe `.count()`"
   ]
  },
  {
   "cell_type": "code",
   "execution_count": 23,
   "metadata": {
    "collapsed": true
   },
   "outputs": [],
   "source": [
    "# Prima versione\n",
    "\n",
    "def count_a(name):\n",
    "    final_count = 0\n",
    "    for letter in name.lower():\n",
    "        if letter == 'a':\n",
    "            final_count +=1\n",
    "    return final_count "
   ]
  },
  {
   "cell_type": "markdown",
   "metadata": {},
   "source": [
    "#### Stampa il risultato della funzione richiamata per 'Maria' e 'Alice'"
   ]
  },
  {
   "cell_type": "code",
   "execution_count": 24,
   "metadata": {},
   "outputs": [
    {
     "name": "stdout",
     "output_type": "stream",
     "text": [
      "2\n"
     ]
    }
   ],
   "source": [
    "print(count_a('Maria'))"
   ]
  },
  {
   "cell_type": "code",
   "execution_count": 25,
   "metadata": {},
   "outputs": [
    {
     "name": "stdout",
     "output_type": "stream",
     "text": [
      "1\n"
     ]
    }
   ],
   "source": [
    "print(count_a('Alice'))"
   ]
  },
  {
   "cell_type": "code",
   "execution_count": null,
   "metadata": {
    "collapsed": true
   },
   "outputs": [],
   "source": []
  },
  {
   "cell_type": "code",
   "execution_count": 26,
   "metadata": {
    "collapsed": true
   },
   "outputs": [],
   "source": [
    "# Seconda versione\n",
    "\n",
    "def count_a2(name):\n",
    "    list_a = []\n",
    "    for letter in name.lower():\n",
    "        if letter == 'a':\n",
    "            list_a.append(letter)\n",
    "            \n",
    "    return len(list_a)"
   ]
  },
  {
   "cell_type": "code",
   "execution_count": 27,
   "metadata": {},
   "outputs": [
    {
     "name": "stdout",
     "output_type": "stream",
     "text": [
      "1\n"
     ]
    }
   ],
   "source": [
    "print(count_a2('Alice'))"
   ]
  },
  {
   "cell_type": "code",
   "execution_count": 28,
   "metadata": {},
   "outputs": [
    {
     "name": "stdout",
     "output_type": "stream",
     "text": [
      "8\n"
     ]
    }
   ],
   "source": [
    "print(count_a2('Asasasasaaaa'))"
   ]
  },
  {
   "cell_type": "code",
   "execution_count": null,
   "metadata": {
    "collapsed": true
   },
   "outputs": [],
   "source": []
  },
  {
   "cell_type": "markdown",
   "metadata": {},
   "source": [
    "#### Crea una funzione che mi restituisca il numero delle a, usando una funzione `lambda ` e il modulo per stringhe `.count()`"
   ]
  },
  {
   "cell_type": "code",
   "execution_count": 29,
   "metadata": {
    "collapsed": true
   },
   "outputs": [],
   "source": [
    "# Terza versione\n",
    "\n",
    "count_a3 = lambda name : name.lower().count('a')"
   ]
  },
  {
   "cell_type": "code",
   "execution_count": 30,
   "metadata": {},
   "outputs": [
    {
     "data": {
      "text/plain": [
       "3"
      ]
     },
     "execution_count": 30,
     "metadata": {},
     "output_type": "execute_result"
    }
   ],
   "source": [
    "count_a3('Alice Aurora')"
   ]
  },
  {
   "cell_type": "code",
   "execution_count": null,
   "metadata": {
    "collapsed": true
   },
   "outputs": [],
   "source": []
  },
  {
   "cell_type": "code",
   "execution_count": null,
   "metadata": {
    "collapsed": true
   },
   "outputs": [],
   "source": []
  },
  {
   "cell_type": "code",
   "execution_count": null,
   "metadata": {
    "collapsed": true
   },
   "outputs": [],
   "source": []
  }
 ],
 "metadata": {
  "kernelspec": {
   "display_name": "Python 3",
   "language": "python",
   "name": "python3"
  },
  "language_info": {
   "codemirror_mode": {
    "name": "ipython",
    "version": 3
   },
   "file_extension": ".py",
   "mimetype": "text/x-python",
   "name": "python",
   "nbconvert_exporter": "python",
   "pygments_lexer": "ipython3",
   "version": "3.6.3"
  }
 },
 "nbformat": 4,
 "nbformat_minor": 2
}
