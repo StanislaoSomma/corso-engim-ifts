{
 "cells": [
  {
   "cell_type": "markdown",
   "metadata": {},
   "source": [
    "# Esercitazione 2 \n",
    "\n",
    "Esercitazione guidata usando l'help() ed esplorando le keywords in Python"
   ]
  },
  {
   "cell_type": "markdown",
   "metadata": {},
   "source": [
    "### Identifiers ben scritti\n",
    "\n",
    "Usiamo sempre identifiers (nomi associati alle variabili) ben scritti:\n",
    "1. Non usare keywords\n",
    "2. Non usare caratteri speciali \n",
    "3. Non iniziare con un numero\n",
    "4. Di norma usa le minuscole e \n",
    "https://www.programiz.com/python-programming/keywords-identifier"
   ]
  },
  {
   "cell_type": "markdown",
   "metadata": {},
   "source": [
    "### Quali sono tutte le keywords?"
   ]
  },
  {
   "cell_type": "code",
   "execution_count": 1,
   "metadata": {},
   "outputs": [
    {
     "name": "stdout",
     "output_type": "stream",
     "text": [
      "\n",
      "Welcome to Python 3.6's help utility!\n",
      "\n",
      "If this is your first time using Python, you should definitely check out\n",
      "the tutorial on the Internet at http://docs.python.org/3.6/tutorial/.\n",
      "\n",
      "Enter the name of any module, keyword, or topic to get help on writing\n",
      "Python programs and using Python modules.  To quit this help utility and\n",
      "return to the interpreter, just type \"quit\".\n",
      "\n",
      "To get a list of available modules, keywords, symbols, or topics, type\n",
      "\"modules\", \"keywords\", \"symbols\", or \"topics\".  Each module also comes\n",
      "with a one-line summary of what it does; to list the modules whose name\n",
      "or summary contain a given string such as \"spam\", type \"modules spam\".\n",
      "\n",
      "help> keywords\n",
      "\n",
      "Here is a list of the Python keywords.  Enter any keyword to get more help.\n",
      "\n",
      "False               def                 if                  raise\n",
      "None                del                 import              return\n",
      "True                elif                in                  try\n",
      "and                 else                is                  while\n",
      "as                  except              lambda              with\n",
      "assert              finally             nonlocal            yield\n",
      "break               for                 not                 \n",
      "class               from                or                  \n",
      "continue            global              pass                \n",
      "\n",
      "\n",
      "You are now leaving help and returning to the Python interpreter.\n",
      "If you want to ask for help on a particular object directly from the\n",
      "interpreter, you can type \"help(object)\".  Executing \"help('string')\"\n",
      "has the same effect as typing a particular string at the help> prompt.\n"
     ]
    }
   ],
   "source": [
    "help() "
   ]
  },
  {
   "cell_type": "code",
   "execution_count": 2,
   "metadata": {},
   "outputs": [
    {
     "data": {
      "text/plain": [
       "False"
      ]
     },
     "execution_count": 2,
     "metadata": {},
     "output_type": "execute_result"
    }
   ],
   "source": [
    "bool(None)"
   ]
  },
  {
   "cell_type": "code",
   "execution_count": 3,
   "metadata": {},
   "outputs": [
    {
     "name": "stdout",
     "output_type": "stream",
     "text": [
      "['False', 'None', 'True', 'and', 'as', 'assert', 'break', 'class', 'continue', 'def', 'del', 'elif', 'else', 'except', 'finally', 'for', 'from', 'global', 'if', 'import', 'in', 'is', 'lambda', 'nonlocal', 'not', 'or', 'pass', 'raise', 'return', 'try', 'while', 'with', 'yield']\n"
     ]
    }
   ],
   "source": [
    "import keyword\n",
    "python_keywords = keyword.kwlist\n",
    "print(python_keywords)"
   ]
  },
  {
   "cell_type": "code",
   "execution_count": 4,
   "metadata": {},
   "outputs": [
    {
     "data": {
      "text/plain": [
       "33"
      ]
     },
     "execution_count": 4,
     "metadata": {},
     "output_type": "execute_result"
    }
   ],
   "source": [
    "len(python_keywords)"
   ]
  },
  {
   "cell_type": "code",
   "execution_count": 5,
   "metadata": {},
   "outputs": [
    {
     "data": {
      "text/plain": [
       "12.0"
      ]
     },
     "execution_count": 5,
     "metadata": {},
     "output_type": "execute_result"
    }
   ],
   "source": [
    "from math import sqrt as radice_quadrata\n",
    "radice_quadrata(144)"
   ]
  },
  {
   "cell_type": "code",
   "execution_count": 6,
   "metadata": {},
   "outputs": [
    {
     "data": {
      "text/plain": [
       "True"
      ]
     },
     "execution_count": 6,
     "metadata": {},
     "output_type": "execute_result"
    }
   ],
   "source": [
    "True is False or 4 > 3"
   ]
  },
  {
   "cell_type": "code",
   "execution_count": 7,
   "metadata": {},
   "outputs": [
    {
     "name": "stdout",
     "output_type": "stream",
     "text": [
      "......................... 'False' is a short keyword, it has 5 letters!\n",
      "=========================  >>> Let's Python! \n",
      ".................... 'None' is a short keyword, it has 4 letters!\n",
      "====================  >>> Let's Python! \n",
      ".................... 'True' is a short keyword, it has 4 letters!\n",
      "====================  >>> Let's Python! \n",
      "............... 'and' is a short keyword, it has 3 letters!\n",
      "===============  >>> Let's Python! \n",
      ".......... 'as' is a short keyword, it has 2 letters!\n",
      "==========  >>> Let's Python! \n",
      ":::::::::::::::::::::::::::::: 'assert' is a long keyword, it has 6 letters!\n",
      "==============================  >>> Let's Python! \n",
      "......................... 'break' is a short keyword, it has 5 letters!\n",
      "=========================  >>> Let's Python! \n",
      "......................... 'class' is a short keyword, it has 5 letters!\n",
      "=========================  >>> Let's Python! \n",
      ":::::::::::::::::::::::::::::::::::::::: 'continue' is a long keyword, it has 8 letters!\n",
      "========================================  >>> Let's Python! \n",
      "............... 'def' is a short keyword, it has 3 letters!\n",
      "===============  >>> Let's Python! \n",
      "............... 'del' is a short keyword, it has 3 letters!\n",
      "===============  >>> Let's Python! \n",
      ".................... 'elif' is a short keyword, it has 4 letters!\n",
      "====================  >>> Let's Python! \n",
      ".................... 'else' is a short keyword, it has 4 letters!\n",
      "====================  >>> Let's Python! \n",
      ":::::::::::::::::::::::::::::: 'except' is a long keyword, it has 6 letters!\n",
      "==============================  >>> Let's Python! \n",
      "::::::::::::::::::::::::::::::::::: 'finally' is a long keyword, it has 7 letters!\n",
      "===================================  >>> Let's Python! \n",
      "............... 'for' is a short keyword, it has 3 letters!\n",
      "===============  >>> Let's Python! \n",
      ".................... 'from' is a short keyword, it has 4 letters!\n",
      "====================  >>> Let's Python! \n",
      ":::::::::::::::::::::::::::::: 'global' is a long keyword, it has 6 letters!\n",
      "==============================  >>> Let's Python! \n",
      ".......... 'if' is a short keyword, it has 2 letters!\n",
      "==========  >>> Let's Python! \n",
      ":::::::::::::::::::::::::::::: 'import' is a long keyword, it has 6 letters!\n",
      "==============================  >>> Let's Python! \n",
      ".......... 'in' is a short keyword, it has 2 letters!\n",
      "==========  >>> Let's Python! \n",
      ".......... 'is' is a short keyword, it has 2 letters!\n",
      "==========  >>> Let's Python! \n",
      ":::::::::::::::::::::::::::::: 'lambda' is a long keyword, it has 6 letters!\n",
      "==============================  >>> Let's Python! \n",
      ":::::::::::::::::::::::::::::::::::::::: 'nonlocal' is a long keyword, it has 8 letters!\n",
      "========================================  >>> Let's Python! \n",
      "............... 'not' is a short keyword, it has 3 letters!\n",
      "===============  >>> Let's Python! \n",
      ".......... 'or' is a short keyword, it has 2 letters!\n",
      "==========  >>> Let's Python! \n",
      ".................... 'pass' is a short keyword, it has 4 letters!\n",
      "====================  >>> Let's Python! \n",
      "......................... 'raise' is a short keyword, it has 5 letters!\n",
      "=========================  >>> Let's Python! \n",
      ":::::::::::::::::::::::::::::: 'return' is a long keyword, it has 6 letters!\n",
      "==============================  >>> Let's Python! \n",
      "............... 'try' is a short keyword, it has 3 letters!\n",
      "===============  >>> Let's Python! \n",
      "......................... 'while' is a short keyword, it has 5 letters!\n",
      "=========================  >>> Let's Python! \n",
      ".................... 'with' is a short keyword, it has 4 letters!\n",
      "====================  >>> Let's Python! \n",
      "......................... 'yield' is a short keyword, it has 5 letters!\n",
      "=========================  >>> Let's Python! \n"
     ]
    }
   ],
   "source": [
    "for keyword in python_keywords:\n",
    "    \n",
    "    code = \"=\"*5*len(keyword)\n",
    "    short = \".\"*5*len(keyword)\n",
    "    long = \":\"*5*len(keyword)\n",
    "    \n",
    "    try: \n",
    "        keyword[5] # if len(keyword) < 5 ==> IndexError: string index out of range\n",
    "    except:\n",
    "        print(short + \" '%s' is a short keyword, it has %d letters!\" %(keyword, len(keyword)))\n",
    "    else:\n",
    "        print(long + \" '%s' is a long keyword, it has %d letters!\" %(keyword, len(keyword)))\n",
    "    finally:\n",
    "        print(code + \"  >>> Let's Python! \")"
   ]
  },
  {
   "cell_type": "code",
   "execution_count": 8,
   "metadata": {},
   "outputs": [
    {
     "data": {
      "text/plain": [
       "['as', 'if', 'in', 'is', 'or']"
      ]
     },
     "execution_count": 8,
     "metadata": {},
     "output_type": "execute_result"
    }
   ],
   "source": [
    "two_letters = [keyword for keyword in python_keywords if len(keyword) == 2]\n",
    "two_letters"
   ]
  },
  {
   "cell_type": "code",
   "execution_count": 9,
   "metadata": {},
   "outputs": [
    {
     "data": {
      "text/plain": [
       "['and', 'def', 'del', 'for', 'not', 'try']"
      ]
     },
     "execution_count": 9,
     "metadata": {},
     "output_type": "execute_result"
    }
   ],
   "source": [
    "three_letters = [keyword for keyword in python_keywords if len(keyword) == 3]\n",
    "three_letters"
   ]
  },
  {
   "cell_type": "code",
   "execution_count": 10,
   "metadata": {},
   "outputs": [
    {
     "data": {
      "text/plain": [
       "['None', 'True', 'elif', 'else', 'from', 'pass', 'with']"
      ]
     },
     "execution_count": 10,
     "metadata": {},
     "output_type": "execute_result"
    }
   ],
   "source": [
    "four_letters = [keyword for keyword in python_keywords if len(keyword) == 4]\n",
    "four_letters"
   ]
  },
  {
   "cell_type": "code",
   "execution_count": 11,
   "metadata": {},
   "outputs": [
    {
     "data": {
      "text/plain": [
       "['False', 'break', 'class', 'raise', 'while', 'yield']"
      ]
     },
     "execution_count": 11,
     "metadata": {},
     "output_type": "execute_result"
    }
   ],
   "source": [
    "five_letters = [keyword for keyword in python_keywords if len(keyword) == 5]\n",
    "five_letters"
   ]
  },
  {
   "cell_type": "code",
   "execution_count": 12,
   "metadata": {},
   "outputs": [
    {
     "data": {
      "text/plain": [
       "['assert', 'except', 'global', 'import', 'lambda', 'return']"
      ]
     },
     "execution_count": 12,
     "metadata": {},
     "output_type": "execute_result"
    }
   ],
   "source": [
    "six_letters = [keyword for keyword in python_keywords if len(keyword) == 6]\n",
    "six_letters"
   ]
  },
  {
   "cell_type": "code",
   "execution_count": 13,
   "metadata": {},
   "outputs": [
    {
     "data": {
      "text/plain": [
       "['finally']"
      ]
     },
     "execution_count": 13,
     "metadata": {},
     "output_type": "execute_result"
    }
   ],
   "source": [
    "seven_letters = [keyword for keyword in python_keywords if len(keyword) == 7]\n",
    "seven_letters"
   ]
  },
  {
   "cell_type": "code",
   "execution_count": 14,
   "metadata": {},
   "outputs": [
    {
     "data": {
      "text/plain": [
       "['continue', 'nonlocal']"
      ]
     },
     "execution_count": 14,
     "metadata": {},
     "output_type": "execute_result"
    }
   ],
   "source": [
    "eight_letters = [keyword for keyword in python_keywords if len(keyword) == 8]\n",
    "eight_letters"
   ]
  },
  {
   "cell_type": "code",
   "execution_count": 15,
   "metadata": {},
   "outputs": [
    {
     "data": {
      "text/plain": [
       "['False', 'None', 'True']"
      ]
     },
     "execution_count": 15,
     "metadata": {},
     "output_type": "execute_result"
    }
   ],
   "source": [
    "capitals = [keyword for keyword in python_keywords if keyword[0] == keyword[0].capitalize()]\n",
    "capitals"
   ]
  },
  {
   "cell_type": "code",
   "execution_count": 16,
   "metadata": {},
   "outputs": [
    {
     "data": {
      "text/plain": [
       "{2: ['as', 'if', 'in', 'is', 'or'],\n",
       " 3: ['and', 'def', 'del', 'for', 'not', 'try'],\n",
       " 4: ['None', 'True', 'elif', 'else', 'from', 'pass', 'with'],\n",
       " 5: ['False', 'break', 'class', 'raise', 'while', 'yield'],\n",
       " 6: ['assert', 'except', 'global', 'import', 'lambda', 'return'],\n",
       " 7: ['finally'],\n",
       " 8: ['continue', 'nonlocal'],\n",
       " 'capitals': ['False', 'None', 'True']}"
      ]
     },
     "execution_count": 16,
     "metadata": {},
     "output_type": "execute_result"
    }
   ],
   "source": [
    "python_keywords_dict = {2: two_letters, \n",
    "                        3: three_letters, \n",
    "                        4: four_letters, \n",
    "                        5: five_letters, \n",
    "                        6: six_letters,\n",
    "                        7: seven_letters,\n",
    "                        8: eight_letters,\n",
    "                        'capitals': capitals}\n",
    "python_keywords_dict"
   ]
  },
  {
   "cell_type": "code",
   "execution_count": 17,
   "metadata": {},
   "outputs": [
    {
     "data": {
      "text/plain": [
       "['as', 'if', 'in', 'is', 'or']"
      ]
     },
     "execution_count": 17,
     "metadata": {},
     "output_type": "execute_result"
    }
   ],
   "source": [
    "python_keywords_dict[2]"
   ]
  },
  {
   "cell_type": "markdown",
   "metadata": {},
   "source": [
    "### Uso di help()\n",
    "Ricordiamo che per richiamare help su un modulo di un tipo di oggetto doppiamo richiare prima l'oggetto in questione"
   ]
  },
  {
   "cell_type": "code",
   "execution_count": 18,
   "metadata": {},
   "outputs": [
    {
     "name": "stdout",
     "output_type": "stream",
     "text": [
      "Help on method_descriptor:\n",
      "\n",
      "item(...)\n",
      "    a.item(*args)\n",
      "    \n",
      "    Copy an element of an array to a standard Python scalar and return it.\n",
      "    \n",
      "    Parameters\n",
      "    ----------\n",
      "    \\*args : Arguments (variable number and type)\n",
      "    \n",
      "        * none: in this case, the method only works for arrays\n",
      "          with one element (`a.size == 1`), which element is\n",
      "          copied into a standard Python scalar object and returned.\n",
      "    \n",
      "        * int_type: this argument is interpreted as a flat index into\n",
      "          the array, specifying which element to copy and return.\n",
      "    \n",
      "        * tuple of int_types: functions as does a single int_type argument,\n",
      "          except that the argument is interpreted as an nd-index into the\n",
      "          array.\n",
      "    \n",
      "    Returns\n",
      "    -------\n",
      "    z : Standard Python scalar object\n",
      "        A copy of the specified element of the array as a suitable\n",
      "        Python scalar\n",
      "    \n",
      "    Notes\n",
      "    -----\n",
      "    When the data type of `a` is longdouble or clongdouble, item() returns\n",
      "    a scalar array object because there is no available Python scalar that\n",
      "    would not lose information. Void arrays return a buffer object for item(),\n",
      "    unless fields are defined, in which case a tuple is returned.\n",
      "    \n",
      "    `item` is very similar to a[args], except, instead of an array scalar,\n",
      "    a standard Python scalar is returned. This can be useful for speeding up\n",
      "    access to elements of the array and doing arithmetic on elements of the\n",
      "    array using Python's optimized math.\n",
      "    \n",
      "    Examples\n",
      "    --------\n",
      "    >>> x = np.random.randint(9, size=(3, 3))\n",
      "    >>> x\n",
      "    array([[3, 1, 7],\n",
      "           [2, 8, 3],\n",
      "           [8, 5, 3]])\n",
      "    >>> x.item(3)\n",
      "    2\n",
      "    >>> x.item(7)\n",
      "    5\n",
      "    >>> x.item((0, 1))\n",
      "    1\n",
      "    >>> x.item((2, 2))\n",
      "    3\n",
      "\n"
     ]
    }
   ],
   "source": [
    "import numpy as np\n",
    "help(np.ndarray.item)"
   ]
  },
  {
   "cell_type": "code",
   "execution_count": null,
   "metadata": {
    "collapsed": true
   },
   "outputs": [],
   "source": []
  }
 ],
 "metadata": {
  "kernelspec": {
   "display_name": "Python 3",
   "language": "python",
   "name": "python3"
  },
  "language_info": {
   "codemirror_mode": {
    "name": "ipython",
    "version": 3
   },
   "file_extension": ".py",
   "mimetype": "text/x-python",
   "name": "python",
   "nbconvert_exporter": "python",
   "pygments_lexer": "ipython3",
   "version": "3.6.3"
  }
 },
 "nbformat": 4,
 "nbformat_minor": 2
}
