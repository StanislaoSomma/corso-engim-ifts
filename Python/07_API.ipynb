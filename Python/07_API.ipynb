{
 "cells": [
  {
   "cell_type": "markdown",
   "metadata": {},
   "source": [
    "# API, Application Programming Interface\n",
    "\n",
    "API sono protocolli utili per costruire una web app e condividere dati. Diversi siti web (compresi Twitter, Facebook, Spotify, wikipedia, Reddit, GitHub, ISS) mettono a disposizine API per offrire un punto d'accesso ai loro dati.  \n",
    "\n",
    "\n",
    "### Processo\n",
    "Dalla nostra parte possiamo usare le loro API per recuperare i loro dati e analizzarli.  \n",
    "Generalmente viene richiesta un'autentificazione al sito da cui potremo avere accesso ad un access token personalizzato che ci servirà per la richiesta dei dati, ad esempio per Twitter, in questo Jupyter Notebook utilizzeremo API che non richiedoono autentificazione.\n",
    "\n",
    "### Vantaggi\n",
    "I vantaggi di usare API invece di scaricare un dataset statico sono:\n",
    "* Accedere ad aggiornamenti più immediati\n",
    "* Richiedere solo parte di un grande dataset di dati\n",
    "* Disporre di dati già strutturati e classificati \n",
    "\n",
    "### ISS API\n",
    "Utilizzeremo \"API from space\" http://open-notify.org  \n",
    "\n",
    "Altre risorse:  \n",
    "http://open-notify.org/Open-Notify-API  \n",
    "ISS, International Space Station https://en.wikipedia.org/wiki/International_Space_Station  \n",
    "\n",
    "\n",
    "### Altre API senza autentificazione\n",
    "Potete poi esplorare direttamente altre API senza autorizzazioni:\n",
    "https://shkspr.mobi/blog/2016/05/easy-apis-without-authentication\n",
    "\n",
    "Ricordiamo che in ogni caso anche per API che richiedono un token autentificatico la procedura è solitamente abbastanza semplice e vi consiglio di esplorare API anche ti altri siti tipo Twitter.\n",
    "\n",
    "Concluderemo con alcuni cenni a come siti diversi forniscano modi diversi di accedere ai dati, esempio di Wikipedia, e a come richiamare alcuni dati da siti web.\n",
    "\n",
    "Come sempre ricordiamo che sfruttiamo la potenzialità di Jupyter Notebook nel comportarsi come interprete, nel caso di script .py ricordiamoci di utilizzare `print()` per gli output che vogliamo che l'utente finale visualizzi."
   ]
  },
  {
   "cell_type": "code",
   "execution_count": null,
   "metadata": {
    "collapsed": true
   },
   "outputs": [],
   "source": []
  },
  {
   "cell_type": "markdown",
   "metadata": {},
   "source": [
    "### Richiesta di API e libreria `requests`.\n",
    "\n",
    "Quando digitiamo un indirizzo web sul nostro programma di navigazione il computer richiede al server di tale sito per una pagina web che sarà visualizzata nel nostro browser.\n",
    "\n",
    "Le API funzionano in un modo simile, invece di chiedere per una pagina web richiede direttamente dei dati che solitamente arrivano in formato JSON (JavaScript Object Notation).\n",
    "\n",
    "Quindi per avere accesso a tali dati dobbiamo fare una richiesta al web server, in Python ci sono librerie standard apposite per fare questo tipo di richieste."
   ]
  },
  {
   "cell_type": "code",
   "execution_count": 1,
   "metadata": {
    "collapsed": true
   },
   "outputs": [],
   "source": [
    "import requests"
   ]
  },
  {
   "cell_type": "markdown",
   "metadata": {},
   "source": [
    "Iniziamo a verificare i codici di stato delle nostre richieste utilizzando `requests.get` sulle API di Open Notify.\n",
    "\n",
    "Elenco codici di stato e loro significato: https://it.wikipedia.org/wiki/Codici_di_stato_HTTP"
   ]
  },
  {
   "cell_type": "code",
   "execution_count": 2,
   "metadata": {},
   "outputs": [
    {
     "data": {
      "text/plain": [
       "200"
      ]
     },
     "execution_count": 2,
     "metadata": {},
     "output_type": "execute_result"
    }
   ],
   "source": [
    "response = requests.get(\"http://api.open-notify.org/iss-now.json\")\n",
    "\n",
    "response.status_code"
   ]
  },
  {
   "cell_type": "markdown",
   "metadata": {},
   "source": [
    "**Codice 200**: tutto bene"
   ]
  },
  {
   "cell_type": "code",
   "execution_count": null,
   "metadata": {
    "collapsed": true
   },
   "outputs": [],
   "source": []
  },
  {
   "cell_type": "code",
   "execution_count": 3,
   "metadata": {},
   "outputs": [
    {
     "data": {
      "text/plain": [
       "404"
      ]
     },
     "execution_count": 3,
     "metadata": {},
     "output_type": "execute_result"
    }
   ],
   "source": [
    "response = requests.get(\"http://api.open-notify.org/iss-pass\")\n",
    "\n",
    "response.status_code"
   ]
  },
  {
   "cell_type": "markdown",
   "metadata": {},
   "source": [
    "**Codice 404**: la risorsa che stiamo cercando non è stata trovata sul server"
   ]
  },
  {
   "cell_type": "code",
   "execution_count": null,
   "metadata": {
    "collapsed": true
   },
   "outputs": [],
   "source": []
  },
  {
   "cell_type": "code",
   "execution_count": 4,
   "metadata": {},
   "outputs": [
    {
     "data": {
      "text/plain": [
       "400"
      ]
     },
     "execution_count": 4,
     "metadata": {},
     "output_type": "execute_result"
    }
   ],
   "source": [
    "response = requests.get(\"http://api.open-notify.org/iss-pass.json\")\n",
    "\n",
    "response.status_code"
   ]
  },
  {
   "cell_type": "markdown",
   "metadata": {},
   "source": [
    "**Codice 400**: 'bad request' cattiva richiesta, la documentazione ci indica che sono necessari altri due paramentri (lat e lon)"
   ]
  },
  {
   "cell_type": "code",
   "execution_count": null,
   "metadata": {
    "collapsed": true
   },
   "outputs": [],
   "source": []
  },
  {
   "cell_type": "markdown",
   "metadata": {},
   "source": [
    "Possiamo verificare con **`dir`** quali altri metodi e attributi possiamo richiamare."
   ]
  },
  {
   "cell_type": "code",
   "execution_count": 5,
   "metadata": {},
   "outputs": [
    {
     "data": {
      "text/plain": [
       "['__attrs__',\n",
       " '__bool__',\n",
       " '__class__',\n",
       " '__delattr__',\n",
       " '__dict__',\n",
       " '__dir__',\n",
       " '__doc__',\n",
       " '__enter__',\n",
       " '__eq__',\n",
       " '__exit__',\n",
       " '__format__',\n",
       " '__ge__',\n",
       " '__getattribute__',\n",
       " '__getstate__',\n",
       " '__gt__',\n",
       " '__hash__',\n",
       " '__init__',\n",
       " '__init_subclass__',\n",
       " '__iter__',\n",
       " '__le__',\n",
       " '__lt__',\n",
       " '__module__',\n",
       " '__ne__',\n",
       " '__new__',\n",
       " '__nonzero__',\n",
       " '__reduce__',\n",
       " '__reduce_ex__',\n",
       " '__repr__',\n",
       " '__setattr__',\n",
       " '__setstate__',\n",
       " '__sizeof__',\n",
       " '__str__',\n",
       " '__subclasshook__',\n",
       " '__weakref__',\n",
       " '_content',\n",
       " '_content_consumed',\n",
       " '_next',\n",
       " 'apparent_encoding',\n",
       " 'close',\n",
       " 'connection',\n",
       " 'content',\n",
       " 'cookies',\n",
       " 'elapsed',\n",
       " 'encoding',\n",
       " 'headers',\n",
       " 'history',\n",
       " 'is_permanent_redirect',\n",
       " 'is_redirect',\n",
       " 'iter_content',\n",
       " 'iter_lines',\n",
       " 'json',\n",
       " 'links',\n",
       " 'next',\n",
       " 'ok',\n",
       " 'raise_for_status',\n",
       " 'raw',\n",
       " 'reason',\n",
       " 'request',\n",
       " 'status_code',\n",
       " 'text',\n",
       " 'url']"
      ]
     },
     "execution_count": 5,
     "metadata": {},
     "output_type": "execute_result"
    }
   ],
   "source": [
    "dir(response)"
   ]
  },
  {
   "cell_type": "markdown",
   "metadata": {},
   "source": [
    "## Richiesta a ISS usando le coordinate di Torino\n",
    "\n",
    "Stampiano la richiesta con i giusti parametri con `.content`."
   ]
  },
  {
   "cell_type": "code",
   "execution_count": 6,
   "metadata": {},
   "outputs": [
    {
     "data": {
      "text/plain": [
       "b'{\\n  \"message\": \"success\", \\n  \"request\": {\\n    \"altitude\": 100, \\n    \"datetime\": 1518172213, \\n    \"latitude\": 45.07, \\n    \"longitude\": 7.68, \\n    \"passes\": 5\\n  }, \\n  \"response\": [\\n    {\\n      \"duration\": 96, \\n      \"risetime\": 1518172489\\n    }, \\n    {\\n      \"duration\": 598, \\n      \"risetime\": 1518177967\\n    }, \\n    {\\n      \"duration\": 638, \\n      \"risetime\": 1518183724\\n    }, \\n    {\\n      \"duration\": 612, \\n      \"risetime\": 1518189553\\n    }, \\n    {\\n      \"duration\": 624, \\n      \"risetime\": 1518195372\\n    }\\n  ]\\n}\\n'"
      ]
     },
     "execution_count": 6,
     "metadata": {},
     "output_type": "execute_result"
    }
   ],
   "source": [
    "# Impostiamo i giusti parametri per fare la nostra richiesta\n",
    "parameters = {\"lat\": 45.07, \"lon\": 7.68}\n",
    "\n",
    "# Facciamo la nostra richiesta con i parametri impostati\n",
    "response = requests.get(\"http://api.open-notify.org/iss-pass.json\", params=parameters)\n",
    "\n",
    "response.content"
   ]
  },
  {
   "cell_type": "code",
   "execution_count": 7,
   "metadata": {},
   "outputs": [
    {
     "data": {
      "text/plain": [
       "b'{\\n  \"message\": \"success\", \\n  \"request\": {\\n    \"altitude\": 100, \\n    \"datetime\": 1518172273, \\n    \"latitude\": 45.071, \\n    \"longitude\": 7.68, \\n    \"passes\": 5\\n  }, \\n  \"response\": [\\n    {\\n      \"duration\": 96, \\n      \"risetime\": 1518172490\\n    }, \\n    {\\n      \"duration\": 598, \\n      \"risetime\": 1518177967\\n    }, \\n    {\\n      \"duration\": 638, \\n      \"risetime\": 1518183724\\n    }, \\n    {\\n      \"duration\": 612, \\n      \"risetime\": 1518189553\\n    }, \\n    {\\n      \"duration\": 624, \\n      \"risetime\": 1518195372\\n    }\\n  ]\\n}\\n'"
      ]
     },
     "execution_count": 7,
     "metadata": {},
     "output_type": "execute_result"
    }
   ],
   "source": [
    "# Possiamo usare i parametri direttaente nell'indirizzo della richiesta\n",
    "response = requests.get(\"http://api.open-notify.org/iss-pass.json?lat=45.071&lon=7.68\")\n",
    "response.content"
   ]
  },
  {
   "cell_type": "code",
   "execution_count": 8,
   "metadata": {},
   "outputs": [
    {
     "data": {
      "text/plain": [
       "requests.models.Response"
      ]
     },
     "execution_count": 8,
     "metadata": {},
     "output_type": "execute_result"
    }
   ],
   "source": [
    "# Notiamo che il risultato ha un suo formato specifico\n",
    "\n",
    "type(response)"
   ]
  },
  {
   "cell_type": "markdown",
   "metadata": {},
   "source": [
    "Convertiamo in contenuto della risposta in stringa con **`.decode`**."
   ]
  },
  {
   "cell_type": "code",
   "execution_count": 9,
   "metadata": {
    "collapsed": true
   },
   "outputs": [],
   "source": [
    "str_response = response.content.decode(\"utf-8\")"
   ]
  },
  {
   "cell_type": "code",
   "execution_count": 10,
   "metadata": {},
   "outputs": [
    {
     "data": {
      "text/plain": [
       "str"
      ]
     },
     "execution_count": 10,
     "metadata": {},
     "output_type": "execute_result"
    }
   ],
   "source": [
    "type(str_response)"
   ]
  },
  {
   "cell_type": "code",
   "execution_count": 11,
   "metadata": {},
   "outputs": [
    {
     "data": {
      "text/plain": [
       "'{\\n  \"message\": \"success\", \\n  \"request\": {\\n    \"altitude\": 100, \\n    \"datetime\": 1518172273, \\n    \"latitude\": 45.071, \\n    \"longitude\": 7.68, \\n    \"passes\": 5\\n  }, \\n  \"response\": [\\n    {\\n      \"duration\": 96, \\n      \"risetime\": 1518172490\\n    }, \\n    {\\n      \"duration\": 598, \\n      \"risetime\": 1518177967\\n    }, \\n    {\\n      \"duration\": 638, \\n      \"risetime\": 1518183724\\n    }, \\n    {\\n      \"duration\": 612, \\n      \"risetime\": 1518189553\\n    }, \\n    {\\n      \"duration\": 624, \\n      \"risetime\": 1518195372\\n    }\\n  ]\\n}\\n'"
      ]
     },
     "execution_count": 11,
     "metadata": {},
     "output_type": "execute_result"
    }
   ],
   "source": [
    "str_response"
   ]
  },
  {
   "cell_type": "markdown",
   "metadata": {},
   "source": [
    "Essendo una stringa possiamo anche maniporarla per renderla più leggibile, ricordiamo che i `\\n` sono simboli che indicano la fine di una riga che possono essere utili per la conversione in altri formati."
   ]
  },
  {
   "cell_type": "code",
   "execution_count": 12,
   "metadata": {},
   "outputs": [
    {
     "data": {
      "text/plain": [
       "'{\"message\": \"success\", \"request\": {\"altitude\": 100, \"datetime\": 1518172273, \"latitude\": 45.071, \"longitude\": 7.68, \"passes\": 5}, \"response\": [{\"duration\": 96, \"risetime\": 1518172490}, {\"duration\": 598, \"risetime\": 1518177967}, {\"duration\": 638, \"risetime\": 1518183724}, {\"duration\": 612, \"risetime\": 1518189553}, {\"duration\": 624, \"risetime\": 1518195372}]}'"
      ]
     },
     "execution_count": 12,
     "metadata": {},
     "output_type": "execute_result"
    }
   ],
   "source": [
    "str_response.replace(\"\\n\", \"\").replace(\"  \", \"\")"
   ]
  },
  {
   "cell_type": "code",
   "execution_count": null,
   "metadata": {
    "collapsed": true
   },
   "outputs": [],
   "source": []
  },
  {
   "cell_type": "markdown",
   "metadata": {
    "collapsed": true
   },
   "source": [
    "## JSON, JavaScript Object Notation\n",
    "Risorse http://json.org  \n",
    "\n",
    "JSON è un formato per strutturare i dati in modo che siano più gestibili e manipolabili.  \n",
    "\n",
    "**`json`** è anche il nome di una libreria standard in Python che ci permette fra le altre cose di: \n",
    "* converire stringhe in liste e dizionari con **`json.dumps()`**\n",
    "* convertire liste e dizionari in json file **`json.load()`**"
   ]
  },
  {
   "cell_type": "code",
   "execution_count": null,
   "metadata": {
    "collapsed": true
   },
   "outputs": [],
   "source": []
  },
  {
   "cell_type": "markdown",
   "metadata": {},
   "source": [
    "## Richiediamo JSON da API"
   ]
  },
  {
   "cell_type": "code",
   "execution_count": 13,
   "metadata": {},
   "outputs": [
    {
     "data": {
      "text/plain": [
       "dict"
      ]
     },
     "execution_count": 13,
     "metadata": {},
     "output_type": "execute_result"
    }
   ],
   "source": [
    "parameters = {\"lat\": 45.07, \"lon\": 7.68}\n",
    "response = requests.get(\"http://api.open-notify.org/iss-pass.json\", params=parameters)\n",
    "\n",
    "data = response.json()\n",
    "type(data)"
   ]
  },
  {
   "cell_type": "code",
   "execution_count": 14,
   "metadata": {},
   "outputs": [
    {
     "data": {
      "text/plain": [
       "{'message': 'success',\n",
       " 'request': {'altitude': 100,\n",
       "  'datetime': 1518172213,\n",
       "  'latitude': 45.07,\n",
       "  'longitude': 7.68,\n",
       "  'passes': 5},\n",
       " 'response': [{'duration': 96, 'risetime': 1518172489},\n",
       "  {'duration': 598, 'risetime': 1518177967},\n",
       "  {'duration': 638, 'risetime': 1518183724},\n",
       "  {'duration': 612, 'risetime': 1518189553},\n",
       "  {'duration': 624, 'risetime': 1518195372}]}"
      ]
     },
     "execution_count": 14,
     "metadata": {},
     "output_type": "execute_result"
    }
   ],
   "source": [
    "data"
   ]
  },
  {
   "cell_type": "code",
   "execution_count": 15,
   "metadata": {},
   "outputs": [
    {
     "data": {
      "text/plain": [
       "[{'duration': 96, 'risetime': 1518172489},\n",
       " {'duration': 598, 'risetime': 1518177967},\n",
       " {'duration': 638, 'risetime': 1518183724},\n",
       " {'duration': 612, 'risetime': 1518189553},\n",
       " {'duration': 624, 'risetime': 1518195372}]"
      ]
     },
     "execution_count": 15,
     "metadata": {},
     "output_type": "execute_result"
    }
   ],
   "source": [
    "data['response']"
   ]
  },
  {
   "cell_type": "markdown",
   "metadata": {},
   "source": [
    "Convertiamo il dizionario in un Pandas dataframe come già sappiano fare"
   ]
  },
  {
   "cell_type": "code",
   "execution_count": 16,
   "metadata": {
    "collapsed": true
   },
   "outputs": [],
   "source": [
    "import pandas as pd\n",
    "df_response = pd.DataFrame(data['response'])"
   ]
  },
  {
   "cell_type": "code",
   "execution_count": 17,
   "metadata": {},
   "outputs": [
    {
     "data": {
      "text/html": [
       "<div>\n",
       "<style>\n",
       "    .dataframe thead tr:only-child th {\n",
       "        text-align: right;\n",
       "    }\n",
       "\n",
       "    .dataframe thead th {\n",
       "        text-align: left;\n",
       "    }\n",
       "\n",
       "    .dataframe tbody tr th {\n",
       "        vertical-align: top;\n",
       "    }\n",
       "</style>\n",
       "<table border=\"1\" class=\"dataframe\">\n",
       "  <thead>\n",
       "    <tr style=\"text-align: right;\">\n",
       "      <th></th>\n",
       "      <th>duration</th>\n",
       "      <th>risetime</th>\n",
       "    </tr>\n",
       "  </thead>\n",
       "  <tbody>\n",
       "    <tr>\n",
       "      <th>0</th>\n",
       "      <td>96</td>\n",
       "      <td>1518172489</td>\n",
       "    </tr>\n",
       "    <tr>\n",
       "      <th>1</th>\n",
       "      <td>598</td>\n",
       "      <td>1518177967</td>\n",
       "    </tr>\n",
       "    <tr>\n",
       "      <th>2</th>\n",
       "      <td>638</td>\n",
       "      <td>1518183724</td>\n",
       "    </tr>\n",
       "    <tr>\n",
       "      <th>3</th>\n",
       "      <td>612</td>\n",
       "      <td>1518189553</td>\n",
       "    </tr>\n",
       "    <tr>\n",
       "      <th>4</th>\n",
       "      <td>624</td>\n",
       "      <td>1518195372</td>\n",
       "    </tr>\n",
       "  </tbody>\n",
       "</table>\n",
       "</div>"
      ],
      "text/plain": [
       "   duration    risetime\n",
       "0        96  1518172489\n",
       "1       598  1518177967\n",
       "2       638  1518183724\n",
       "3       612  1518189553\n",
       "4       624  1518195372"
      ]
     },
     "execution_count": 17,
     "metadata": {},
     "output_type": "execute_result"
    }
   ],
   "source": [
    "df_response"
   ]
  },
  {
   "cell_type": "code",
   "execution_count": null,
   "metadata": {
    "collapsed": true
   },
   "outputs": [],
   "source": []
  },
  {
   "cell_type": "markdown",
   "metadata": {},
   "source": [
    "## Headers e contenuto\n",
    "Usiamo `.headers` per vedere il contenuto dell'header, metadata all'inizio della nostra response."
   ]
  },
  {
   "cell_type": "code",
   "execution_count": 18,
   "metadata": {},
   "outputs": [
    {
     "data": {
      "text/plain": [
       "{'Server': 'nginx/1.10.3', 'Date': 'Fri, 09 Feb 2018 11:07:19 GMT', 'Content-Type': 'application/json', 'Content-Length': '517', 'Connection': 'keep-alive', 'Via': '1.1 vegur'}"
      ]
     },
     "execution_count": 18,
     "metadata": {},
     "output_type": "execute_result"
    }
   ],
   "source": [
    "response.headers"
   ]
  },
  {
   "cell_type": "code",
   "execution_count": 19,
   "metadata": {},
   "outputs": [
    {
     "data": {
      "text/plain": [
       "'application/json'"
      ]
     },
     "execution_count": 19,
     "metadata": {},
     "output_type": "execute_result"
    }
   ],
   "source": [
    "response.headers[\"content-type\"]"
   ]
  },
  {
   "cell_type": "markdown",
   "metadata": {},
   "source": [
    "## Astronauti sulla ISS ora"
   ]
  },
  {
   "cell_type": "code",
   "execution_count": 20,
   "metadata": {
    "collapsed": true
   },
   "outputs": [],
   "source": [
    "# Get the response from the API endpoint.\n",
    "response = requests.get(\"http://api.open-notify.org/astros.json\")\n",
    "data = response.json()"
   ]
  },
  {
   "cell_type": "code",
   "execution_count": 21,
   "metadata": {},
   "outputs": [
    {
     "data": {
      "text/plain": [
       "{'message': 'success',\n",
       " 'number': 6,\n",
       " 'people': [{'craft': 'ISS', 'name': 'Alexander Misurkin'},\n",
       "  {'craft': 'ISS', 'name': 'Mark Vande Hei'},\n",
       "  {'craft': 'ISS', 'name': 'Joe Acaba'},\n",
       "  {'craft': 'ISS', 'name': 'Anton Shkaplerov'},\n",
       "  {'craft': 'ISS', 'name': 'Scott Tingle'},\n",
       "  {'craft': 'ISS', 'name': 'Norishige Kanai'}]}"
      ]
     },
     "execution_count": 21,
     "metadata": {},
     "output_type": "execute_result"
    }
   ],
   "source": [
    "data"
   ]
  },
  {
   "cell_type": "code",
   "execution_count": 22,
   "metadata": {},
   "outputs": [
    {
     "data": {
      "text/plain": [
       "6"
      ]
     },
     "execution_count": 22,
     "metadata": {},
     "output_type": "execute_result"
    }
   ],
   "source": [
    "# Numero di umani presenti ora nello spazio\n",
    "data[\"number\"]"
   ]
  },
  {
   "cell_type": "code",
   "execution_count": 23,
   "metadata": {},
   "outputs": [
    {
     "data": {
      "text/plain": [
       "dict"
      ]
     },
     "execution_count": 23,
     "metadata": {},
     "output_type": "execute_result"
    }
   ],
   "source": [
    "type(data)"
   ]
  },
  {
   "cell_type": "code",
   "execution_count": 24,
   "metadata": {
    "collapsed": true
   },
   "outputs": [],
   "source": [
    "import pandas as pd\n",
    "df = pd.DataFrame(data)"
   ]
  },
  {
   "cell_type": "code",
   "execution_count": 25,
   "metadata": {},
   "outputs": [
    {
     "data": {
      "text/html": [
       "<div>\n",
       "<style>\n",
       "    .dataframe thead tr:only-child th {\n",
       "        text-align: right;\n",
       "    }\n",
       "\n",
       "    .dataframe thead th {\n",
       "        text-align: left;\n",
       "    }\n",
       "\n",
       "    .dataframe tbody tr th {\n",
       "        vertical-align: top;\n",
       "    }\n",
       "</style>\n",
       "<table border=\"1\" class=\"dataframe\">\n",
       "  <thead>\n",
       "    <tr style=\"text-align: right;\">\n",
       "      <th></th>\n",
       "      <th>message</th>\n",
       "      <th>number</th>\n",
       "      <th>people</th>\n",
       "    </tr>\n",
       "  </thead>\n",
       "  <tbody>\n",
       "    <tr>\n",
       "      <th>0</th>\n",
       "      <td>success</td>\n",
       "      <td>6</td>\n",
       "      <td>{'craft': 'ISS', 'name': 'Alexander Misurkin'}</td>\n",
       "    </tr>\n",
       "    <tr>\n",
       "      <th>1</th>\n",
       "      <td>success</td>\n",
       "      <td>6</td>\n",
       "      <td>{'craft': 'ISS', 'name': 'Mark Vande Hei'}</td>\n",
       "    </tr>\n",
       "    <tr>\n",
       "      <th>2</th>\n",
       "      <td>success</td>\n",
       "      <td>6</td>\n",
       "      <td>{'craft': 'ISS', 'name': 'Joe Acaba'}</td>\n",
       "    </tr>\n",
       "    <tr>\n",
       "      <th>3</th>\n",
       "      <td>success</td>\n",
       "      <td>6</td>\n",
       "      <td>{'craft': 'ISS', 'name': 'Anton Shkaplerov'}</td>\n",
       "    </tr>\n",
       "    <tr>\n",
       "      <th>4</th>\n",
       "      <td>success</td>\n",
       "      <td>6</td>\n",
       "      <td>{'craft': 'ISS', 'name': 'Scott Tingle'}</td>\n",
       "    </tr>\n",
       "    <tr>\n",
       "      <th>5</th>\n",
       "      <td>success</td>\n",
       "      <td>6</td>\n",
       "      <td>{'craft': 'ISS', 'name': 'Norishige Kanai'}</td>\n",
       "    </tr>\n",
       "  </tbody>\n",
       "</table>\n",
       "</div>"
      ],
      "text/plain": [
       "   message  number                                          people\n",
       "0  success       6  {'craft': 'ISS', 'name': 'Alexander Misurkin'}\n",
       "1  success       6      {'craft': 'ISS', 'name': 'Mark Vande Hei'}\n",
       "2  success       6           {'craft': 'ISS', 'name': 'Joe Acaba'}\n",
       "3  success       6    {'craft': 'ISS', 'name': 'Anton Shkaplerov'}\n",
       "4  success       6        {'craft': 'ISS', 'name': 'Scott Tingle'}\n",
       "5  success       6     {'craft': 'ISS', 'name': 'Norishige Kanai'}"
      ]
     },
     "execution_count": 25,
     "metadata": {},
     "output_type": "execute_result"
    }
   ],
   "source": [
    "df"
   ]
  },
  {
   "cell_type": "code",
   "execution_count": 26,
   "metadata": {
    "collapsed": true
   },
   "outputs": [],
   "source": [
    "astronauts = pd.DataFrame(data['people'])"
   ]
  },
  {
   "cell_type": "code",
   "execution_count": 27,
   "metadata": {},
   "outputs": [
    {
     "data": {
      "text/html": [
       "<div>\n",
       "<style>\n",
       "    .dataframe thead tr:only-child th {\n",
       "        text-align: right;\n",
       "    }\n",
       "\n",
       "    .dataframe thead th {\n",
       "        text-align: left;\n",
       "    }\n",
       "\n",
       "    .dataframe tbody tr th {\n",
       "        vertical-align: top;\n",
       "    }\n",
       "</style>\n",
       "<table border=\"1\" class=\"dataframe\">\n",
       "  <thead>\n",
       "    <tr style=\"text-align: right;\">\n",
       "      <th></th>\n",
       "      <th>craft</th>\n",
       "      <th>name</th>\n",
       "    </tr>\n",
       "  </thead>\n",
       "  <tbody>\n",
       "    <tr>\n",
       "      <th>0</th>\n",
       "      <td>ISS</td>\n",
       "      <td>Alexander Misurkin</td>\n",
       "    </tr>\n",
       "    <tr>\n",
       "      <th>1</th>\n",
       "      <td>ISS</td>\n",
       "      <td>Mark Vande Hei</td>\n",
       "    </tr>\n",
       "    <tr>\n",
       "      <th>2</th>\n",
       "      <td>ISS</td>\n",
       "      <td>Joe Acaba</td>\n",
       "    </tr>\n",
       "    <tr>\n",
       "      <th>3</th>\n",
       "      <td>ISS</td>\n",
       "      <td>Anton Shkaplerov</td>\n",
       "    </tr>\n",
       "    <tr>\n",
       "      <th>4</th>\n",
       "      <td>ISS</td>\n",
       "      <td>Scott Tingle</td>\n",
       "    </tr>\n",
       "    <tr>\n",
       "      <th>5</th>\n",
       "      <td>ISS</td>\n",
       "      <td>Norishige Kanai</td>\n",
       "    </tr>\n",
       "  </tbody>\n",
       "</table>\n",
       "</div>"
      ],
      "text/plain": [
       "  craft                name\n",
       "0   ISS  Alexander Misurkin\n",
       "1   ISS      Mark Vande Hei\n",
       "2   ISS           Joe Acaba\n",
       "3   ISS    Anton Shkaplerov\n",
       "4   ISS        Scott Tingle\n",
       "5   ISS     Norishige Kanai"
      ]
     },
     "execution_count": 27,
     "metadata": {},
     "output_type": "execute_result"
    }
   ],
   "source": [
    "astronauts"
   ]
  },
  {
   "cell_type": "code",
   "execution_count": 28,
   "metadata": {
    "collapsed": true
   },
   "outputs": [],
   "source": [
    "astronauts.index += 1 "
   ]
  },
  {
   "cell_type": "code",
   "execution_count": 29,
   "metadata": {},
   "outputs": [
    {
     "data": {
      "text/html": [
       "<div>\n",
       "<style>\n",
       "    .dataframe thead tr:only-child th {\n",
       "        text-align: right;\n",
       "    }\n",
       "\n",
       "    .dataframe thead th {\n",
       "        text-align: left;\n",
       "    }\n",
       "\n",
       "    .dataframe tbody tr th {\n",
       "        vertical-align: top;\n",
       "    }\n",
       "</style>\n",
       "<table border=\"1\" class=\"dataframe\">\n",
       "  <thead>\n",
       "    <tr style=\"text-align: right;\">\n",
       "      <th></th>\n",
       "      <th>craft</th>\n",
       "      <th>name</th>\n",
       "    </tr>\n",
       "  </thead>\n",
       "  <tbody>\n",
       "    <tr>\n",
       "      <th>1</th>\n",
       "      <td>ISS</td>\n",
       "      <td>Alexander Misurkin</td>\n",
       "    </tr>\n",
       "    <tr>\n",
       "      <th>2</th>\n",
       "      <td>ISS</td>\n",
       "      <td>Mark Vande Hei</td>\n",
       "    </tr>\n",
       "    <tr>\n",
       "      <th>3</th>\n",
       "      <td>ISS</td>\n",
       "      <td>Joe Acaba</td>\n",
       "    </tr>\n",
       "    <tr>\n",
       "      <th>4</th>\n",
       "      <td>ISS</td>\n",
       "      <td>Anton Shkaplerov</td>\n",
       "    </tr>\n",
       "    <tr>\n",
       "      <th>5</th>\n",
       "      <td>ISS</td>\n",
       "      <td>Scott Tingle</td>\n",
       "    </tr>\n",
       "    <tr>\n",
       "      <th>6</th>\n",
       "      <td>ISS</td>\n",
       "      <td>Norishige Kanai</td>\n",
       "    </tr>\n",
       "  </tbody>\n",
       "</table>\n",
       "</div>"
      ],
      "text/plain": [
       "  craft                name\n",
       "1   ISS  Alexander Misurkin\n",
       "2   ISS      Mark Vande Hei\n",
       "3   ISS           Joe Acaba\n",
       "4   ISS    Anton Shkaplerov\n",
       "5   ISS        Scott Tingle\n",
       "6   ISS     Norishige Kanai"
      ]
     },
     "execution_count": 29,
     "metadata": {},
     "output_type": "execute_result"
    }
   ],
   "source": [
    "astronauts"
   ]
  },
  {
   "cell_type": "code",
   "execution_count": null,
   "metadata": {
    "collapsed": true
   },
   "outputs": [],
   "source": []
  },
  {
   "cell_type": "markdown",
   "metadata": {},
   "source": [
    "## Wikipedia API\n",
    "\n",
    "Iniziamo col fare alcune richieste da API\n",
    "http://2015.compjour.org/tutorials/exploring-wikipedia-api-via-python/"
   ]
  },
  {
   "cell_type": "code",
   "execution_count": 30,
   "metadata": {},
   "outputs": [
    {
     "data": {
      "text/plain": [
       "200"
      ]
     },
     "execution_count": 30,
     "metadata": {},
     "output_type": "execute_result"
    }
   ],
   "source": [
    "resp = requests.get(\"http://en.wikipedia.org/w/api.php?action=query&prop=info&format=json&titles=Hello\")\n",
    "resp.status_code"
   ]
  },
  {
   "cell_type": "code",
   "execution_count": 31,
   "metadata": {},
   "outputs": [
    {
     "data": {
      "text/plain": [
       "{'batchcomplete': '',\n",
       " 'query': {'pages': {'6710844': {'contentmodel': 'wikitext',\n",
       "    'lastrevid': 820524053,\n",
       "    'length': 11891,\n",
       "    'ns': 0,\n",
       "    'pageid': 6710844,\n",
       "    'pagelanguage': 'en',\n",
       "    'pagelanguagedir': 'ltr',\n",
       "    'pagelanguagehtmlcode': 'en',\n",
       "    'title': 'Hello',\n",
       "    'touched': '2018-02-06T13:53:45Z'}}}}"
      ]
     },
     "execution_count": 31,
     "metadata": {},
     "output_type": "execute_result"
    }
   ],
   "source": [
    "resp.json()"
   ]
  },
  {
   "cell_type": "code",
   "execution_count": null,
   "metadata": {
    "collapsed": true
   },
   "outputs": [],
   "source": []
  },
  {
   "cell_type": "code",
   "execution_count": 32,
   "metadata": {
    "collapsed": true
   },
   "outputs": [],
   "source": [
    "url = 'http://en.wikipedia.org/w/api.php?action=query&prop=info&format=json&titles=Polytechnic%20University%20of%20Turin'\n",
    "resp = requests.get(url)\n",
    "data = resp.json()"
   ]
  },
  {
   "cell_type": "code",
   "execution_count": 33,
   "metadata": {},
   "outputs": [
    {
     "data": {
      "text/plain": [
       "{'batchcomplete': '',\n",
       " 'query': {'pages': {'911906': {'contentmodel': 'wikitext',\n",
       "    'lastrevid': 824642616,\n",
       "    'length': 13408,\n",
       "    'ns': 0,\n",
       "    'pageid': 911906,\n",
       "    'pagelanguage': 'en',\n",
       "    'pagelanguagedir': 'ltr',\n",
       "    'pagelanguagehtmlcode': 'en',\n",
       "    'title': 'Polytechnic University of Turin',\n",
       "    'touched': '2018-02-08T16:29:33Z'}}}}"
      ]
     },
     "execution_count": 33,
     "metadata": {},
     "output_type": "execute_result"
    }
   ],
   "source": [
    "data"
   ]
  },
  {
   "cell_type": "code",
   "execution_count": null,
   "metadata": {
    "collapsed": true
   },
   "outputs": [],
   "source": []
  },
  {
   "cell_type": "markdown",
   "metadata": {},
   "source": [
    "## Librerie Python per Wikipedia API\n",
    "https://en.wikipedia.org/w/api.php  \n",
    "https://www.mediawiki.org/wiki/API:Main_page\n",
    "\n",
    "\n",
    "Wikipedia ha anche una sua libreria Python apposita per lanciare i suoi comandi dobbiamo prima installarla.\n",
    "\n",
    "Libreria Python **`wikipedia`** https://pypi.python.org/pypi/wikipedia  \n",
    "Installabile da terminale con **`pip install wikipedia`**"
   ]
  },
  {
   "cell_type": "code",
   "execution_count": 34,
   "metadata": {},
   "outputs": [
    {
     "data": {
      "text/plain": [
       "'Wikipedia ( ( listen) WIK-i-PEE-dee-ə or  ( listen) WIK-ee-PEE-dee-ə) is a free online encyclopedia with the mission of allowing anyone to create or edit articles. Wikipedia is the largest and most popular general reference work on the Internet, and is ranked the fifth-most popular website. Wikipedia is a project owned by the nonprofit Wikimedia Foundation.\\nWikipedia was launched on January 15, 2001, by Jimmy Wales and Larry Sanger. Sanger coined its name, a portmanteau of wiki and encyclopedia. There was only the English-language version initially, but similar versions in other languages quickly developed, which differ in content and in editing practices. With 5,567,872 articles, the English Wikipedia is the largest of the more than 290 Wikipedia encyclopedias. Overall, Wikipedia comprises more than 40 million articles in 299 different languages and, as of February 2014, it had 18 billion page views and nearly 500 million unique visitors each month.\\nAs of March 2017, Wikipedia has about 40,000 high-quality articles, known as Featured Articles and Good Articles, that cover vital topics. In 2005, Nature published a peer review comparing 42 science articles from Encyclopædia Britannica and Wikipedia, and found that Wikipedia\\'s level of accuracy approached that of Encyclopædia Britannica. Time magazine stated that the remarkably open-door policy of allowing anyone to edit had made Wikipedia the biggest and possibly the best encyclopedia in the world and it was testament to the vision of Jimmy Wales.\\nWikipedia has been criticized for allegedly exhibiting systemic bias, presenting a mixture of \"truths, half truths, and some falsehoods\", and, in controversial topics, being subject to manipulation and spin.'"
      ]
     },
     "execution_count": 34,
     "metadata": {},
     "output_type": "execute_result"
    }
   ],
   "source": [
    "import wikipedia\n",
    "wikipedia.summary(\"Wikipedia\")"
   ]
  },
  {
   "cell_type": "code",
   "execution_count": 35,
   "metadata": {},
   "outputs": [
    {
     "data": {
      "text/plain": [
       "['Python',\n",
       " 'Python (programming language)',\n",
       " 'Monty Python',\n",
       " 'PYTHON',\n",
       " 'Ball python',\n",
       " 'Python molurus',\n",
       " 'Burmese python',\n",
       " 'African rock python',\n",
       " 'List of Python software',\n",
       " 'Python (missile)']"
      ]
     },
     "execution_count": 35,
     "metadata": {},
     "output_type": "execute_result"
    }
   ],
   "source": [
    "wikipedia.search(\"Python\")"
   ]
  },
  {
   "cell_type": "code",
   "execution_count": null,
   "metadata": {
    "collapsed": true
   },
   "outputs": [],
   "source": []
  },
  {
   "cell_type": "code",
   "execution_count": null,
   "metadata": {
    "collapsed": true
   },
   "outputs": [],
   "source": []
  },
  {
   "cell_type": "markdown",
   "metadata": {},
   "source": [
    "## Librerie standard per richiamare contenuti da URL\n",
    "\n",
    "Per completezza citiamo anche le libreria standard in Python per lavorare in generale con contenuti web.\n",
    "\n",
    "Nota: la libreria standard di Python 2 **`urllib2`**, in Python 3 è stata divisa nei moduli **`urllib.request`** e **`urllib.error`**.\n",
    "\n",
    "Risorse: https://docs.python.org/3.0/library/urllib.request.html"
   ]
  },
  {
   "cell_type": "code",
   "execution_count": 36,
   "metadata": {
    "collapsed": true
   },
   "outputs": [],
   "source": [
    "import urllib.request"
   ]
  },
  {
   "cell_type": "markdown",
   "metadata": {},
   "source": [
    "A fini dimostrativi guardiamo uno dei suoi metodi per catturare i contenuti web di una pagina"
   ]
  },
  {
   "cell_type": "code",
   "execution_count": 37,
   "metadata": {
    "collapsed": true
   },
   "outputs": [],
   "source": [
    "url = \"https://it.indeed.com/offerte-lavoro-Data-Scientist\"\n",
    "result = urllib.request.urlopen(url)"
   ]
  },
  {
   "cell_type": "code",
   "execution_count": 38,
   "metadata": {},
   "outputs": [
    {
     "data": {
      "text/plain": [
       "<http.client.HTTPResponse at 0x111e499b0>"
      ]
     },
     "execution_count": 38,
     "metadata": {},
     "output_type": "execute_result"
    }
   ],
   "source": [
    "result"
   ]
  },
  {
   "cell_type": "code",
   "execution_count": 39,
   "metadata": {},
   "outputs": [
    {
     "data": {
      "text/plain": [
       "'https://it.indeed.com/offerte-lavoro-Data-Scientist'"
      ]
     },
     "execution_count": 39,
     "metadata": {},
     "output_type": "execute_result"
    }
   ],
   "source": [
    "result.url"
   ]
  },
  {
   "cell_type": "code",
   "execution_count": 40,
   "metadata": {},
   "outputs": [
    {
     "data": {
      "text/plain": [
       "b'<!DOCTYPE html>\\n<html lang=\"it\">\\n<head>\\n<meta http-equiv=\"content-type\" content=\"text/html;charset=UTF-8\">\\n<script type=\"text/javascript\" src=\"/s/0920edb/it_IT.js\"></script>\\n<link href=\"/s/ecdfb5e/jobsearch_all.css\" rel=\"stylesheet\" type=\"text/css\">\\n<link rel=\"alternate\" type=\"application/rss+xml\" title=\"Lavoro - Data Scientist, Offerte lavoro\" href=\"http://it.indeed.com/rss?q=Data+Scientist\">\\n<link rel=\"alternate\" media=\"only screen and (max-width: 640px)\" href=\"/m/jobs?q=Data+Scientist\">\\n<link rel=\"alternate\" media=\"handheld\" href=\"/m/jobs?q=Data+Scientist\">\\n<script type=\"text/javascript\">\\n    \\n    if (typeof window[\\'closureReadyCallbacks\\'] == \\'undefined\\') {\\n        window[\\'closureReadyCallbacks\\'] = [];\\n    }\\n\\n    function call_when_jsall_loaded(cb) {\\n        if (window[\\'closureReady\\']) {\\n            cb();\\n        } else {\\n            window[\\'closureReadyCallbacks\\'].push(cb);\\n        }\\n    }\\n</script>\\n<meta name=\"ppstriptst\" content=\"1\">\\n\\n<script type=\"text/javascript\" src=\"/s/f043a0b/jobsearch-all-compiled_it.js\"></script>\\n            <script type=\"text/javascript\">\\n\\nvar searchUID = \\'1c5t3v64692hnbh0\\';\\nvar tk = \\'1c5t3v64692hnbh0\\';\\n\\nvar loggedIn = false;\\nvar dcmPayload = \\'jobse0;jobal0;viewj0;savej0;8232301\\';\\nvar myindeed = true;\\nvar userEmail = \\'\\';\\nvar tellFriendEmail = \\'\\';\\nvar globalLoginURL = \\'https:\\\\/\\\\/it.indeed.com\\\\/account\\\\/login?dest=%2Fofferte-lavoro-Data-Scientist\\';\\nvar globalRegisterURL = \\'https:\\\\/\\\\/it.indeed.com\\\\/account\\\\/register?dest=%2Fofferte-lavoro-Data-Scientist\\';\\nvar searchKey = \\'bebb41335ed80f2a\\';\\nvar searchState = \\'q=Data+Scientist&amp;\\';\\nvar searchQS = \\'q=Data+Scientist\\';\\nvar eventType = \\'jobsearch\\';\\nvar locale = \\'it_IT\\';\\nfunction clk(id) { var a = document.getElementById(id); var hr = a.href; var si = a.href.indexOf(\\'&jsa=\\'); if (si > 0) return; var jsh = hr + \\'&tk=1c5t3v64692hnbh0&jsa=3654\\'; a.href = jsh; }\\nfunction sjomd(id) { var a = document.getElementById(id); var hr = a.href; var ocs = hr.indexOf(\\'&oc=1\\'); if (ocs < 0) return; var oce = ocs + 5; a.href = hr.substring(0, ocs) + hr.substring(oce); }\\nfunction sjoc(id, sal) { var a = document.getElementById(id); a.href = a.href + \\'&oc=1&sal=\\'+sal; }\\nfunction ptk(st,p) {document.cookie = \\'PTK=\"tk=1c5t3v64692hnbh0&type=jobsearch&subtype=\\'+st+(p?\\'&\\'+p:\\'\\')+\\'\"; path=/\\';}\\nfunction rbptk(st, c, p) { ptk(st, \\'cat=\\'+c+(p?\\'&p=\\'+p:\\'\\'));}\\n</script>\\n<script type=\"text/javascript\">\\n\\tfunction loadJSAsync( ) {\\n\\t\\tfor ( var i = 0; i < arguments.length; i++ ) {\\n\\t\\t\\tvar url = arguments[i];\\n\\t\\t\\t(function() {\\n\\t\\t\\t\\tvar s = document.createElement(\"script\"), el = document.getElementsByTagName(\"script\")[0];\\n\\t\\t\\t\\ts.async = true;\\n\\t\\t\\t\\ts.src = url;\\n\\t\\t\\t\\tel.parentNode.insertBefore(s, el);\\n\\t\\t\\t})();\\n\\t\\t}\\n\\t}\\n</script>\\n<meta name=\"description\" content=\"134  lavori disponibili come Data Scientist su Indeed.com.  Una ricerca.  Tutti i lavori.\">\\n<meta name=\"keywords\" content=\"motore ricerca lavoro, Lavoro - Data Scientist, Offerte lavoro, lavoro, lavori, annunci lavoro, motore di ricerca lavoro, avvisi Job Alert, feed rss lavoro, impiego, professione, carriera, indeed, indeed.com, indeed italia\">\\n<meta name=\"referrer\" content=\"origin-when-cross-origin\">\\n\\n<link rel=\"canonical\" href=\"/offerte-lavoro-Data-Scientist\">\\n<link rel=\"next\" href=\"/offerte-lavoro?q=Data+Scientist&start=10\" /><script type=\"text/javascript\">\\n    var dcmPayload = \\'jobse0;jobal0;viewj0;savej0;8232301\\';\\n    var indeedCsrfToken = \\'UNDU5F65MUo7u2XW7G6pfgA3ojlL0ka1\\';\\n    var hashedCsrfToken = \\'014e9142c4b5f614cafaa616cf34cbdc\\';\\n</script>\\n\\n<style type=\"text/css\">\\n    .jasxcustomfonttst-useCustomHostedFontFullPage *{font-family:\"Open Sans\", sans-serif !important}.jasxcustomfonttst-useLato *{font-family:\"Lato\", sans-serif !important}.jasxcustomfonttst-useFira *{font-family:\"Fira Sans\", sans-serif !important}.jasxcustomfonttst-useGibson *{font-family:\"Gibson\", sans-serif !important}.jasxcustomfonttst-useAvenir *{font-family:\"Avenir Next\", sans-serif !important}#accessibilityBanner{position:absolute;left:-10000%;height:50px;width:100%;color:#000;font-size:13px;font-family:Arial;background-color:#F2F2F2;border-width:1px;border-color:#E6E6E6;line-height:50px}#accessibilityText{position:relative;left:12px;white-space:nowrap}#accessibilityClose{position:absolute;right:12px}.icl-Button{box-sizing:border-box;display:inline-block;vertical-align:middle;font-family:Avenir Next,Arial,Roboto,Noto,sans-serif;font-size:1.125rem;line-height:1.8rem;font-weight:700;text-decoration:none;text-overflow:ellipsis;white-space:nowrap;filter:progid:DXImageTransform.Microsoft.dropshadow(OffX=0,OffY=-1,Color=#e80f2299,Positive=true);-webkit-appearance:none;-moz-appearance:none;appearance:none;overflow:hidden;-webkit-user-select:none;-moz-user-select:none;-ms-user-select:none;user-select:none;-webkit-touch-callout:none;-webkit-highlight:none;-webkit-tap-highlight-color:transparent;color:#f8f8f9;filter:progid:DXImageTransform.Microsoft.gradient(startColorstr=\"#ff6598fe\",endColorstr=\"#ff3c69e0\",GradientType=0)}[dir] .icl-Button{padding:0.5rem 1.125rem;text-align:center;background-repeat:repeat-x;border:1px solid;border-radius:6px;box-shadow:0 1px 5px rgba(0,0,0,0.2);cursor:pointer;text-shadow:0 -1px #0f2299;background-color:#5585f2;background-image:linear-gradient(180deg, #6598ff, #2e5ad7);border-color:#1642bb;border-bottom-color:#1642bb}[dir=ltr] .icl-Button{margin:12px 12px 12px 0}[dir=rtl] .icl-Button{margin:12px 0 12px 12px}[dir] .icl-Button::-moz-focus-inner{border:0}[dir] .icl-Button:hover{background-image:none;box-shadow:0 1px 5px rgba(0,0,0,0.4)}.icl-Button:active{outline:none}[dir] .icl-Button:active{background-image:none;box-shadow:inset 0 2px 4px rgba(0,0,0,0.15),0 1px 2px rgba(0,0,0,0.05)}.icl-Button:disabled{opacity:.65}[dir] .icl-Button:disabled{background-image:none;box-shadow:none;cursor:default}[dir] .icl-Button:disabled:hover{box-shadow:none}.icl-Button:hover{text-decoration:none}[dir] .icl-Button:active,[dir] .icl-Button:disabled,[dir] .icl-Button:hover{background-color:#2e5ad7}.icl-Button--primary{display:inline-block;vertical-align:middle;font-family:Avenir Next,Arial,Roboto,Noto,sans-serif;font-size:1.125rem;line-height:1.8rem;font-weight:700;text-decoration:none;text-overflow:ellipsis;white-space:nowrap;filter:progid:DXImageTransform.Microsoft.dropshadow(OffX=0,OffY=-1,Color=#e80f2299,Positive=true);-webkit-appearance:none;-moz-appearance:none;appearance:none;overflow:hidden;-webkit-user-select:none;-moz-user-select:none;-ms-user-select:none;user-select:none;-webkit-touch-callout:none;-webkit-highlight:none;-webkit-tap-highlight-color:transparent;color:#f8f8f9;filter:progid:DXImageTransform.Microsoft.gradient(startColorstr=\"#ff6598fe\",endColorstr=\"#ff3c69e0\",GradientType=0)}[dir] .icl-Button--primary{padding:0.5rem 1.125rem;text-align:center;background-repeat:repeat-x;border:1px solid;border-radius:6px;box-shadow:0 1px 5px rgba(0,0,0,0.2);cursor:pointer;text-shadow:0 -1px #0f2299;background-color:#5585f2;background-image:linear-gradient(180deg, #6598ff, #2e5ad7);border-color:#1642bb;border-bottom-color:#1642bb}[dir=ltr] .icl-Button--primary{margin:12px 12px 12px 0}[dir=rtl] .icl-Button--primary{margin:12px 0 12px 12px}[dir] .icl-Button--primary::-moz-focus-inner{border:0}[dir] .icl-Button--primary:hover{background-image:none;box-shadow:0 1px 5px rgba(0,0,0,0.4)}.icl-Button--primary:active{outline:none}[dir] .icl-Button--primary:active{background-image:none;box-shadow:inset 0 2px 4px rgba(0,0,0,0.15),0 1px 2px rgba(0,0,0,0.05)}.icl-Button--primary:disabled{opacity:.65}[dir] .icl-Button--primary:disabled{background-image:none;box-shadow:none;cursor:default}[dir] .icl-Button--primary:disabled:hover{box-shadow:none}.icl-Button--primary:hover{text-decoration:none}[dir] .icl-Button--primary:active,[dir] .icl-Button--primary:disabled,[dir] .icl-Button--primary:hover{background-color:#2e5ad7}.icl-Button--secondary{display:inline-block;vertical-align:middle;font-family:Avenir Next,Arial,Roboto,Noto,sans-serif;font-size:1.125rem;line-height:1.8rem;font-weight:700;text-decoration:none;text-overflow:ellipsis;white-space:nowrap;filter:progid:DXImageTransform.Microsoft.dropshadow(OffX=0,OffY=-1,Color=#e80f2299,Positive=true);-webkit-appearance:none;-moz-appearance:none;appearance:none;overflow:hidden;-webkit-user-select:none;-moz-user-select:none;-ms-user-select:none;user-select:none;-webkit-touch-callout:none;-webkit-highlight:none;-webkit-tap-highlight-color:transparent;color:#333;filter:progid:DXImageTransform.Microsoft.gradient(startColorstr=\"#fff8f8f9\",endColorstr=\"#ffe6e6e6\",GradientType=0)}[dir] .icl-Button--secondary{padding:0.5rem 1.125rem;text-align:center;background-repeat:repeat-x;border:1px solid;border-radius:6px;box-shadow:0 1px 5px rgba(0,0,0,0.2);cursor:pointer;text-shadow:0 1px #fff;background-color:#d9d9e2;background-image:linear-gradient(180deg, #f8f8f9, #d9d9e2);border-color:#9a99ac;border-bottom-color:#a2a2a2}[dir=ltr] .icl-Button--secondary{margin:12px 12px 12px 0}[dir=rtl] .icl-Button--secondary{margin:12px 0 12px 12px}[dir] .icl-Button--secondary::-moz-focus-inner{border:0}[dir] .icl-Button--secondary:hover{background-image:none;box-shadow:0 1px 5px rgba(0,0,0,0.4)}.icl-Button--secondary:active{outline:none}[dir] .icl-Button--secondary:active{background-image:none;box-shadow:inset 0 2px 4px rgba(0,0,0,0.15),0 1px 2px rgba(0,0,0,0.05)}.icl-Button--secondary:disabled{opacity:.65}[dir] .icl-Button--secondary:disabled{background-image:none;box-shadow:none;cursor:default}[dir] .icl-Button--secondary:disabled:hover{box-shadow:none}.icl-Button--secondary:hover{text-decoration:none}[dir] .icl-Button--secondary:active,[dir] .icl-Button--secondary:disabled,[dir] .icl-Button--secondary:hover{background-color:#f8f8f9}.icl-Button--special{display:inline-block;vertical-align:middle;font-family:Avenir Next,Arial,Roboto,Noto,sans-serif;font-size:1.125rem;line-height:1.8rem;font-weight:700;text-decoration:none;text-overflow:ellipsis;white-space:nowrap;filter:progid:DXImageTransform.Microsoft.dropshadow(OffX=0,OffY=-1,Color=#e80f2299,Positive=true);-webkit-appearance:none;-moz-appearance:none;appearance:none;overflow:hidden;-webkit-user-select:none;-moz-user-select:none;-ms-user-select:none;user-select:none;-webkit-touch-callout:none;-webkit-highlight:none;-webkit-tap-highlight-color:transparent;color:#f8f8f9;filter:progid:DXImageTransform.Microsoft.gradient(startColorstr=\"#ff6598fe\",endColorstr=\"#ff3c69e0\",GradientType=0)}[dir] .icl-Button--special{padding:0.5rem 1.125rem;text-align:center;background-repeat:repeat-x;border:1px solid;border-radius:6px;box-shadow:0 1px 5px rgba(0,0,0,0.2);cursor:pointer;text-shadow:0 -1px #000;background-color:#f14200;background-image:linear-gradient(180deg, #f60, #f14200);border-color:#ba3200;border-bottom-color:#ba3200}[dir=ltr] .icl-Button--special{margin:12px 12px 12px 0}[dir=rtl] .icl-Button--special{margin:12px 0 12px 12px}[dir] .icl-Button--special::-moz-focus-inner{border:0}[dir] .icl-Button--special:hover{background-image:none;box-shadow:0 1px 5px rgba(0,0,0,0.4)}.icl-Button--special:active{outline:none}[dir] .icl-Button--special:active{background-image:none;box-shadow:inset 0 2px 4px rgba(0,0,0,0.15),0 1px 2px rgba(0,0,0,0.05)}.icl-Button--special:disabled{opacity:.65}[dir] .icl-Button--special:disabled{background-image:none;box-shadow:none;cursor:default}[dir] .icl-Button--special:disabled:hover{box-shadow:none}.icl-Button--special:hover{text-decoration:none}[dir] .icl-Button--special:active,[dir] .icl-Button--special:disabled,[dir] .icl-Button--special:hover{background-color:#f14200}.icl-Button--danger{display:inline-block;vertical-align:middle;font-family:Avenir Next,Arial,Roboto,Noto,sans-serif;font-size:1.125rem;line-height:1.8rem;font-weight:700;text-decoration:none;text-overflow:ellipsis;white-space:nowrap;filter:progid:DXImageTransform.Microsoft.dropshadow(OffX=0,OffY=-1,Color=#e80f2299,Positive=true);-webkit-appearance:none;-moz-appearance:none;appearance:none;overflow:hidden;-webkit-user-select:none;-moz-user-select:none;-ms-user-select:none;user-select:none;-webkit-touch-callout:none;-webkit-highlight:none;-webkit-tap-highlight-color:transparent;color:#f8f8f9;filter:progid:DXImageTransform.Microsoft.gradient(startColorstr=\"#ff6598fe\",endColorstr=\"#ff3c69e0\",GradientType=0)}[dir] .icl-Button--danger{padding:0.5rem 1.125rem;text-align:center;background-repeat:repeat-x;border:1px solid;border-radius:6px;box-shadow:0 1px 5px rgba(0,0,0,0.2);cursor:pointer;text-shadow:0 -1px #000;background-color:#b01825;background-image:linear-gradient(180deg, #d1787f, #b01825);border-color:#83121b;border-bottom-color:#83121b}[dir=ltr] .icl-Button--danger{margin:12px 12px 12px 0}[dir=rtl] .icl-Button--danger{margin:12px 0 12px 12px}[dir] .icl-Button--danger::-moz-focus-inner{border:0}[dir] .icl-Button--danger:hover{background-image:none;box-shadow:0 1px 5px rgba(0,0,0,0.4)}.icl-Button--danger:active{outline:none}[dir] .icl-Button--danger:active{background-image:none;box-shadow:inset 0 2px 4px rgba(0,0,0,0.15),0 1px 2px rgba(0,0,0,0.05)}.icl-Button--danger:disabled{opacity:.65}[dir] .icl-Button--danger:disabled{background-image:none;box-shadow:none;cursor:default}[dir] .icl-Button--danger:disabled:hover{box-shadow:none}.icl-Button--danger:hover{text-decoration:none}[dir] .icl-Button--danger:active,[dir] .icl-Button--danger:disabled,[dir] .icl-Button--danger:hover{background-color:#b01825}.icl-Button--working{display:inline-block;vertical-align:middle;font-family:Avenir Next,Arial,Roboto,Noto,sans-serif;font-size:1.125rem;line-height:1.8rem;font-weight:700;text-decoration:none;text-overflow:ellipsis;white-space:nowrap;filter:progid:DXImageTransform.Microsoft.dropshadow(OffX=0,OffY=-1,Color=#e80f2299,Positive=true);-webkit-appearance:none;-moz-appearance:none;appearance:none;overflow:hidden;-webkit-user-select:none;-moz-user-select:none;-ms-user-select:none;user-select:none;-webkit-touch-callout:none;-webkit-highlight:none;-webkit-tap-highlight-color:transparent}[dir] .icl-Button--working{padding:0.5rem 1.125rem;text-align:center;background-repeat:repeat-x;border:1px solid;border-radius:6px;box-shadow:0 1px 5px rgba(0,0,0,0.2);cursor:pointer;border-color:#9a99ac;border-bottom-color:#a2a2a2}[dir=ltr] .icl-Button--working{margin:12px 12px 12px 0}[dir=rtl] .icl-Button--working{margin:12px 0 12px 12px}[dir] .icl-Button--working::-moz-focus-inner{border:0}[dir] .icl-Button--working:hover{background-image:none;box-shadow:0 1px 5px rgba(0,0,0,0.4)}.icl-Button--working:active{outline:none}[dir] .icl-Button--working:active{background-image:none;box-shadow:inset 0 2px 4px rgba(0,0,0,0.15),0 1px 2px rgba(0,0,0,0.05)}.icl-Button--working:disabled{opacity:.65}[dir] .icl-Button--working:disabled{background-image:none;box-shadow:none;cursor:default}[dir] .icl-Button--working:disabled:hover{box-shadow:none}.icl-Button--working:hover{text-decoration:none}[dir] .icl-Button--working:disabled{background-color:#f8f8f9}.icl-Button--transparent{display:inline-block;vertical-align:middle;font-family:Avenir Next,Arial,Roboto,Noto,sans-serif;font-size:1.125rem;line-height:1.8rem;font-weight:700;text-decoration:none;text-overflow:ellipsis;white-space:nowrap;filter:progid:DXImageTransform.Microsoft.dropshadow(OffX=0,OffY=-1,Color=#e80f2299,Positive=true);-webkit-appearance:none;-moz-appearance:none;appearance:none;overflow:hidden;-webkit-user-select:none;-moz-user-select:none;-ms-user-select:none;user-select:none;-webkit-touch-callout:none;-webkit-highlight:none;-webkit-tap-highlight-color:transparent;color:#00c}[dir] .icl-Button--transparent{padding:0.5rem 1.125rem;text-align:center;background-repeat:repeat-x;border:1px solid;border-radius:6px;box-shadow:0 1px 5px rgba(0,0,0,0.2);cursor:pointer;text-shadow:none;background:transparent none;border:none;box-shadow:none}[dir=ltr] .icl-Button--transparent{margin:12px 12px 12px 0}[dir=rtl] .icl-Button--transparent{margin:12px 0 12px 12px}[dir] .icl-Button--transparent::-moz-focus-inner{border:0}[dir] .icl-Button--transparent:hover{background-image:none;box-shadow:0 1px 5px rgba(0,0,0,0.4)}.icl-Button--transparent:active{outline:none}[dir] .icl-Button--transparent:active{background-image:none;box-shadow:inset 0 2px 4px rgba(0,0,0,0.15),0 1px 2px rgba(0,0,0,0.05)}.icl-Button--transparent:disabled{opacity:.65}[dir] .icl-Button--transparent:disabled{background-image:none;box-shadow:none;cursor:default}[dir] .icl-Button--transparent:disabled:hover{box-shadow:none}.icl-Button--transparent:hover{color:#00c;text-decoration:underline}[dir] .icl-Button--transparent:active,[dir] .icl-Button--transparent:hover{box-shadow:0 0 0 transparent}.icl-Button--transparent:disabled:hover{color:#00c}.icl-Button--block{display:block;width:100%;max-width:351px}[dir] .icl-Button--block{margin:12px auto}.icl-Button--md{font-size:.9375rem;font-weight:600}[dir] .icl-Button--md{padding:0.5rem 1rem;border-radius:5px}.icl-Button--sm{font-size:.8125rem;font-weight:500}[dir] .icl-Button--sm{padding:0.325rem 0.8125rem;border-radius:4px}[dir] .icl-Button--group{border-radius:0;box-shadow:0 0 0 transparent}[dir=ltr] .icl-Button--group{float:left;margin:0 0 0 -1px}[dir=rtl] .icl-Button--group{float:right;margin:0 -1px 0 0}[dir] .icl-Button--group:hover{box-shadow:0 0 0 transparent}[dir=ltr] .icl-Button--group:first-child{margin-left:0;border-bottom-left-radius:6px;border-top-left-radius:6px}[dir=rtl] .icl-Button--group:first-child{margin-right:0}[dir=ltr] .icl-Button--group:last-child,[dir=rtl] .icl-Button--group:first-child{border-bottom-right-radius:6px;border-top-right-radius:6px}[dir=rtl] .icl-Button--group:last-child{border-bottom-left-radius:6px;border-top-left-radius:6px}[dir=ltr] .icl-Button--icon,[dir=rtl] .icl-Button--icon{padding-left:10px;padding-right:10px}.icl-Button--responsive{max-width:351px;width:100%}[dir] .icl-Button--responsive{margin:12px 0 0}[dir] .icl-Button--responsive:first-child{margin-top:0}@media only screen and (min-width: 768px){.icl-Button--responsive{width:auto}}\\n</style>\\n\\n<style type=\"text/css\">\\n    #resultsCol { padding-top: 0; }\\n    .searchCount { margin-top: 6px; }\\n    .showing { padding-top: 9px; padding-bottom: 9px; }\\n\\n    .brdr { height: 1px; overflow: hidden; background-color: #ccc; }\\n\\n    /* Tall window sizes */\\n    @media only screen and (min-height:780px){\\n        .showing { padding-bottom: 0; }\\n    }\\n\\n    /* Wide window sizes */\\n    @media only screen and (min-width:1125px){\\n        .brdr  { margin-left: 12px; margin-right: 12px; }\\n    }\\n\\n    a, a:link, .link, .btn, .btn:hover { text-decoration:none; }\\na:hover, .link:hover { text-decoration:underline; }\\n.dya-container a { text-decoration: underline!important; }</style>\\n\\n    <script>\\n        function onLoadHandler() {\\n            \\n                document.js.reset();\\n                jobSeenInit(\\'1c5t3v64692hnbh0\\', [{\\n                    \\'jobClassName\\': \\'result\\',\\n                    \\'scanIta\\': true,\\n                    \\'containsSponsored\\': true,\\n                    \\'context\\': \\'\\'\\n                }]);\\n            \\n            if ( document.radius_update ) { document.radius_update.reset(); }\\n            \\n        }\\n\\n        initLogInitialUserInteraction(\\'1c5t3v64692hnbh0\\', \\'serp\\');\\n\\n        window.onload = onLoadHandler;\\n    </script>\\n<link rel=\"alternate\" href=\"android-app://com.indeed.android.jobsearch/https/it.indeed.com/m/jobs?q=Data+Scientist\">\\n<title>Lavoro - Data Scientist, febbraio 2018 | Indeed.com</title>\\n<style type=\"text/css\">\\n    .btn,.sg-btn{display:inline-block;padding:9px 15px;border:1px solid #9a99ac;border-bottom-color:#a2a2a2;-webkit-border-radius:6px;-moz-border-radius:6px;-ms-border-radius:6px;-o-border-radius:6px;border-radius:6px;background-color:#D9D9E2;background-image:-moz-linear-gradient(top, #f8f8f9, #D9D9E2);background-image:-webkit-gradient(linear, 0 0, 0 100%, from(#f8f8f9), to(#D9D9E2));background-image:-webkit-linear-gradient(top, #f8f8f9, #D9D9E2);background-image:linear-gradient(to bottom, #f8f8f9, #D9D9E2);background-repeat:repeat-x;-webkit-box-shadow:0 1px 5px rgba(0,0,0,0.2);-moz-box-shadow:0 1px 5px rgba(0,0,0,0.2);-ms-box-shadow:0 1px 5px rgba(0,0,0,0.2);-o-box-shadow:0 1px 5px rgba(0,0,0,0.2);box-shadow:0 1px 5px rgba(0,0,0,0.2);color:#333;vertical-align:middle;text-align:center;text-decoration:none;text-shadow:0 1px #fff;font-weight:700;font-size:16px;font-family:\"Helvetica Neue\",Helvetica,Arial,\"Lucida Grande\",sans-serif;line-height:22px;filter:progid:DXImageTransform.Microsoft.gradient(startColorstr=\\'#fff8f8f9\\', endColorstr=\\'#ffe6e6e6\\', GradientType=0);cursor:pointer;-webkit-user-select:none;-moz-user-select:none;-ms-user-select:none;-o-user-select:none;user-select:none;-webkit-touch-callout:none;-webkit-highlight:none;-webkit-tap-highlight-color:transparent;text-overflow:ellipsis;white-space:nowrap;overflow:hidden}.btn.active,.btn.sg-active,.btn:active,.btn.disabled,.btn.sg-disabled,.btn[disabled],.sg-btn.active,.sg-btn.sg-active,.sg-btn:active,.sg-btn.disabled,.sg-btn.sg-disabled,.sg-btn[disabled]{outline:none;background-color:#f8f8f9;color:#333}.btn:focus,.sg-btn:focus{outline:0;box-shadow:0 0 1px 0 #1642bb;-webkit-transition:box-shadow 0.2s linear;-moz-transition:box-shadow 0.2s linear;transition:box-shadow 0.2s linear}.btn.active,.btn.sg-active,.btn:active,.sg-btn.active,.sg-btn.sg-active,.sg-btn:active{background-color:#f8f8f9;background-image:none;-webkit-box-shadow:inset 0 2px 4px rgba(0,0,0,0.15),0 1px 2px rgba(0,0,0,0.05);-moz-box-shadow:inset 0 2px 4px rgba(0,0,0,0.15),0 1px 2px rgba(0,0,0,0.05);box-shadow:inset 0 2px 4px rgba(0,0,0,0.15),0 1px 2px rgba(0,0,0,0.05)}.btn.disabled,.btn.sg-disabled,.btn[disabled],.sg-btn.disabled,.sg-btn.sg-disabled,.sg-btn[disabled]{background-color:#f8f8f9;background-image:none;-webkit-box-shadow:none;-moz-box-shadow:none;box-shadow:none;opacity:.65;filter:alpha(opacity=65);cursor:default}.btn-primary,.sg-btn-primary{border-color:#1642bb;background-color:#5585f2;background-image:-moz-linear-gradient(top, #6598ff, #2e5ad7);background-image:-webkit-gradient(linear, 0 0, 0 100%, from(#6598ff), to(#2e5ad7));background-image:-webkit-linear-gradient(top, #6598ff, #2e5ad7);background-image:linear-gradient(to bottom, #6598ff, #2e5ad7);background-repeat:repeat-x;color:#F8F8F9;text-shadow:0 -1px #0f2299;-ms-filter:progid:DXImageTransform.Microsoft.dropshadow(OffX=0, OffY=-1, Color=#e80f2299, Positive=true);filter:progid:DXImageTransform.Microsoft.dropshadow(OffX=0, OffY=-1, Color=#e80f2299, Positive=true);filter:progid:DXImageTransform.Microsoft.gradient(startColorstr=\\'#ff6598fe\\', endColorstr=\\'#ff3c69e0\\', GradientType=0);zoom:1}.btn-primary.active,.btn-primary.sg-active,.btn-primary:active,.btn-primary.disabled,.btn-primary.sg-disabled,.btn-primary[disabled],.sg-btn-primary.active,.sg-btn-primary.sg-active,.sg-btn-primary:active,.sg-btn-primary.disabled,.sg-btn-primary.sg-disabled,.sg-btn-primary[disabled]{background-color:#2e5ad7;color:#F8F8F9}.btn-primary:focus,.sg-btn-primary:focus{box-shadow:0 0 1px 0 #000}.btn-special,.sg-btn-special{border-color:#ba3200;background-color:#5585f2;background-image:-moz-linear-gradient(top, #f60, #f14200);background-image:-webkit-gradient(linear, 0 0, 0 100%, from(#f60), to(#f14200));background-image:-webkit-linear-gradient(top, #f60, #f14200);background-image:linear-gradient(to bottom, #f60, #f14200);background-repeat:repeat-x;color:#F8F8F9;text-shadow:0 -1px #000;-ms-filter:progid:DXImageTransform.Microsoft.dropshadow(OffX=0, OffY=-1, Color=#e80f2299, Positive=true);filter:progid:DXImageTransform.Microsoft.dropshadow(OffX=0, OffY=-1, Color=#e80f2299, Positive=true);filter:progid:DXImageTransform.Microsoft.gradient(startColorstr=\\'#ff6598fe\\', endColorstr=\\'#ff3c69e0\\', GradientType=0);zoom:1}.btn-special.active,.btn-special.sg-active,.btn-special:active,.btn-special.disabled,.btn-special.sg-disabled,.btn-special[disabled],.sg-btn-special.active,.sg-btn-special.sg-active,.sg-btn-special:active,.sg-btn-special.disabled,.sg-btn-special.sg-disabled,.sg-btn-special[disabled]{background-color:#f14200;color:#F8F8F9}.btn-special:focus,.sg-btn-special:focus{box-shadow:0 0 1px 0 #000}.btn-danger,.sg-btn-danger{border-color:#83121b;background-color:#5585f2;background-image:-moz-linear-gradient(top, #d1787f, #b01825);background-image:-webkit-gradient(linear, 0 0, 0 100%, from(#d1787f), to(#b01825));background-image:-webkit-linear-gradient(top, #d1787f, #b01825);background-image:linear-gradient(to bottom, #d1787f, #b01825);background-repeat:repeat-x;color:#F8F8F9;text-shadow:0 -1px #000;-ms-filter:progid:DXImageTransform.Microsoft.dropshadow(OffX=0, OffY=-1, Color=#e80f2299, Positive=true);filter:progid:DXImageTransform.Microsoft.dropshadow(OffX=0, OffY=-1, Color=#e80f2299, Positive=true);filter:progid:DXImageTransform.Microsoft.gradient(startColorstr=\\'#ff6598fe\\', endColorstr=\\'#ff3c69e0\\', GradientType=0);zoom:1}.btn-danger.active,.btn-danger.sg-active,.btn-danger:active,.btn-danger.disabled,.btn-danger.sg-disabled,.btn-danger[disabled],.sg-btn-danger.active,.sg-btn-danger.sg-active,.sg-btn-danger:active,.sg-btn-danger.disabled,.sg-btn-danger.sg-disabled,.sg-btn-danger[disabled]{background-color:#b01825;color:#F8F8F9}.btn-danger:focus,.sg-btn-danger:focus{box-shadow:0 0 1px 0 #000}input.btn,input.sg-btn{-webkit-appearance:none}button.btn::-moz-focus-inner,button.sg-btn::-moz-focus-inner{border:0}.btn-sm,.sg-btn-sm,.btn-xs,.sg-bt-xs{padding:6px 12px}.btn-xs,.sg-btn-xs{padding:3px 6px;line-height:15px}.btn-md,.sg-btn-md{padding:6px 6px}.btn-lg,.sg-btn-lg{padding:9px 18px;border-radius:6px;font-size:18px}.btn-block,.sg-btn-block{display:block;margin:9px auto;-webkit-box-sizing:border-box !important;-moz-box-sizing:border-box !important;box-sizing:border-box !important;max-width:352px}.btn-block-compact,.sg-btn-block-compact{margin:2px auto}input.btn-block,input.sg-btn-block,button.btn-block,button.sg-btn-block{width:100%;max-width:351px}.btn-block+.btn-block,.sg-btn-block+.sg-btn-block{margin-top:5px}#buttonContainer .btn,#buttonContainer .sg-btn{margin:0}.btn-icon .cssImage{margin-bottom:-40px;position:relative;top:-27px}.btn-pair{-webkit-box-sizing:border-box !important;-moz-box-sizing:border-box !important;box-sizing:border-box !important;width:49%}#refineresultscol{width:184px}#refineresults{width:180px}#branding-td{width:186px;text-align:center}.ltr #searchCount{margin-right:4px;margin-left:4px}.ltr #resultsCol .sorting{padding-right:4px}.ltr #resultsCol .showing{padding-left:4px}.ltr #jobsearch{padding-left:4px}.rtl #searchCount{margin-left:4px;margin-right:4px}.rtl #resultsCol .sorting{padding-left:4px}.rtl #resultsCol .showing{padding-right:4px}.rtl #jobsearch{padding-right:4px}.jaui,.hasu .gasc,.row,.message,.oocs{padding-left:4px;padding-right:4px}#resumePromo{padding-left:4px;padding-right:4px}#primePromo{padding-left:4px;padding-right:4px}@media only screen and (min-width: 1125px){.ltr #refineresults{padding-left:15px}.ltr #branding img{margin-left:16px;margin-right:28px}.rtl #refineresults{padding-right:15px}.rtl #branding img{margin-right:16px;margin-left:28px}.ltr #searchCount{margin-right:12px;margin-left:12px}.ltr #resultsCol .sorting{padding-right:12px}.ltr #resultsCol .showing{padding-left:12px}.ltr #jobsearch{padding-left:12px}.rtl #searchCount{margin-left:12px;margin-right:12px}.rtl #resultsCol .sorting{padding-left:12px}.rtl #resultsCol .showing{padding-right:12px}.rtl #jobsearch{padding-right:12px}.jaui,.hasu .gasc,.row,.message,.oocs{padding-left:12px;padding-right:12px}#resumePromo{padding-left:12px;padding-right:12px}#primePromo{padding-left:12px;padding-right:12px}#resultsBody{width:1125px}#refineresultscol,#branding-td{width:225px}#refineresults{width:210px}}@media only screen and (min-width: 1250px){#resultsBody{width:1250px}#auxCol{width:315px}#refineresultscol,#branding-td{width:275px}#refineresults{width:260px}.ltr #refineresults{padding-left:15px}.ltr #branding img{margin-left:16px;margin-right:28px}.rtl #refineresults{padding-right:15px}.rtl #branding img{margin-right:16px;margin-left:28px}.ltr #searchCount{margin-right:12px;margin-left:12px}.ltr #resultsCol .sorting{padding-right:12px}.ltr #resultsCol .showing{padding-left:12px}.ltr #jobsearch{padding-left:12px}.rtl #searchCount{margin-left:12px;margin-right:12px}.rtl #resultsCol .sorting{padding-left:12px}.rtl #resultsCol .showing{padding-right:12px}.rtl #jobsearch{padding-right:12px}.jaui,.hasu .gasc,.row,.message,.oocs{padding-left:12px;padding-right:12px}#resumePromo{padding-left:12px;padding-right:12px}#primePromo{padding-left:12px;padding-right:12px}}#branding-td{padding:5px 0 5px 0px}.resultsTop{padding-top:9px}\\n</style>\\n</head>\\n<body data-tn-originLogType=\"jobsearch\" data-tn-originLogId=\"1c5t3v64692hnbh0\" data-tn-olth=\"41be357fa1c7dc26c5ee98836f8950b3\" data-tn-application=\"jasx\" class=\"ltr jasxcustomfonttst-inactive \">\\n<div id=\\'accessibilityBanner\\'><span id=\\'accessibilityText\\'>Passa a <!-- This is translated before reaching this state --><a id=\"skipToJobs\" class=\\'accessibilityMenu\\' href=\\'#jobPostingsAnchor\\'>Offerte di lavoro</a>, <!-- This is translated before reaching this state --><a id=\"skipToSearch\" class=\\'accessibilityMenu\\' href=\\'#what\\'>Ricerca</a></span><a id=\\'accessibilityClose\\'>Chiudi</a></div><script type=\"text/javascript\">\\n     createTabBar(\\'1c5t3v64692hnbh0\\');\\n   </script>\\n<script type=\"text/javascript\">\\n  var vjsStable = false;\\n  var vjsExp = false;\\n  var viewJobOnSerp = new indeed.vjs(\\'1c5t3v64692hnbh0\\', vjsExp);\\n  var vjk = viewJobOnSerp.getVJK();\\n  var vjUrl = viewJobOnSerp.vjUrl(vjk);\\n  var showVjOnSerp = vjsStable || vjsExp;\\n  var zrp = false;\\n  if ((zrp || !showVjOnSerp || window.innerWidth < 1280) && vjUrl) {\\n    window.location.replace(vjUrl);\\n  } else if (showVjOnSerp) {\\n    var jobKeysWithInfo = {};\\n    \\n    if (vjk && !jobKeysWithInfo.hasOwnProperty(vjk)) {\\n      jobKeysWithInfo[vjk] = true;\\n    }\\n    viewJobOnSerp.preloadDescs(jobKeysWithInfo);\\n  }\\n</script>\\n\\n<style type=\"text/css\">\\n    body { margin-top: 0; margin-left: 0; margin-right: 0; padding-top: 0; padding-right: 0; padding-left: 0; }\\n\\n    #g_nav { border-bottom:1px solid #ccc; margin-bottom:9px; }\\n\\n    #g_nav a,\\n    #g_nav a:visited { color: #00c; }\\n\\n    .navBi { display: -moz-inline-box; display: inline-block; padding: 9px 12px; margin: 0; list-style-type: none; }\\n\\n    </style>\\n<div id=\"g_nav\" data-tn-section=\"globalNav\" role=\"navigation\" class=\"left\">\\n    <table width=\"100%\" cellpadding=\"0\" cellspacing=\"0\">\\n        <tr>\\n            <td nowrap><style type=\"text/css\">\\n#p_nav a.selected { font-weight: bold; text-decoration:none; color: #000 !important; }\\n</style>\\n\\n<div id=\"p_nav\"><span class=\"navBi\"><a href=\"/\" title=\"Lavori\" id=\"jobsLink\" class=\"selected\">Cerca Lavoro</a></span><span class=\"navBi\"><a href=\"http://www.indeed.com/resumes?co=IT&sp=0&isid=find-resumes-IT&ikw=SERPtop&hl=it\" rel=\"nofollow\" id=\"rezLink\" >Trova Curriculum</a></span><span class=\"navBi\"><a href=\"/recruiting?hl=it&cc=IT\" id=\"empLink\"onclick=\"if ( this.href.match(\\'&amp;isid=employerlink-IT-test&amp;ikw=SERPtop\\') == null ) { this.href += \\'&amp;isid=employerlink-IT-test&amp;ikw=SERPtop\\' };\" >Aziende / Pubblica offerte di lavoro</a></span></div>\\n</td>\\n            <td align=\"right\" nowrap><style type=\"text/css\">\\n    \\n\\n    #navpromo a,\\n    #navpromo a:visited {\\n        color: #f60;\\n    }\\n\\n    \\n    #u_nav .login_unconfirmed,\\n    #u_nav .login_unconfirmed a,\\n    #u_nav .login_unconfirmed a:visited {\\n        color: #c00\\n    }\\n\\n    #u_nav .resume_pending,\\n    #u_nav .resume_pending a,\\n    #u_nav .resume_pending a:visited {\\n        color: #c00\\n    }\\n\\n    #userOptionsLabel {\\n        position: relative;\\n        z-index: 5;\\n    }\\n\\n    #userOptionsLabel b {\\n        cursor: pointer;\\n        text-decoration: underline;\\n        position: relative;\\n        z-index: 5;\\n    }\\n\\n    #userOptionsLabel:active {\\n        outline: none;\\n    }\\n\\n    #userOptionsLabel.active {\\n        padding: 9px 11px;\\n        margin-bottom: -1px;\\n        _margin-bottom: 0px;\\n        border: 1px solid #ccc;\\n        border-top: 0;\\n    }\\n\\n    #userOptionsLabel.active .arrowStub {\\n        border-width: 0 3px 3px;\\n        _border-width: 0px 3px 4px;\\n        border-color: transparent;\\n        border-bottom-color: #666;\\n        top: -2px;\\n        border-style: dashed dashed solid;\\n    }\\n\\n    #userOptionsLabel.active .halfPxlFix {\\n        background: #fff;\\n        bottom: -3px;\\n        height: 6px;\\n        left: 0;\\n        position: absolute;\\n        right: 0;\\n        border: 1px solid #fff;\\n    }\\n\\n    .arrowStub {\\n        position: relative;\\n        border-style: solid dashed dashed;\\n        border-color: transparent;\\n        border-top-color: #666;\\n        display: -moz-inline-box;\\n        display: inline-block;\\n        font-size: 0;\\n        height: 0;\\n        line-height: 0;\\n        width: 0;\\n    left: 4px;\\n        border-top-width: 3px;\\n        border-bottom-width: 0;\\n        border-right-width: 3px;\\n        padding-top: 1px;\\n        top: -1px;\\n    }\\n\\n    #userOptions {\\n        z-index: 2;\\n        visibility: hidden;\\n        position: absolute;\\n    right: 0;\\n        x_right: -1px;\\n        top: 100%;\\n        padding: 9px 15px;\\n        border: 1px solid #ccc;\\n        background: #fff;\\n        min-width: 150px;\\n        _width: 150px;\\n        text-align: left;\\n    }\\n\\n    #userOptions.open {\\n        visibility: visible;\\n    }\\n\\n    .userOptionItem {\\n        margin: 6px 0;\\n    }\\n\\n    .userOptionItem a {\\n        white-space: nowrap;\\n    }\\n\\n    .userOptionGroup {\\n        border-top: 1px solid #e8e8e8;\\n        margin-top: 12px;\\n    }\\n\\n    .userNameRepeat {\\n        color: #a8a8a8;\\n        padding-right: 48px;\\n        font-weight: bold;\\n    }\\n\\n    .userOptionGroupHeader {\\n        font-weight: bold;\\n        margin: 6px 0;\\n    }\\n\\n    #g_nav {\\n    position: relative;\\n}\\n\\n#g_nav td {\\n    height: 58px;\\n    font-size:13px;\\n}\\n\\n.resumeCTAOrangeOutlineGreyBackgound {\\n    border: #f60 solid 1px;\\n    border-radius: 3px;\\n}\\n\\n.resumeCTAOrangeOutlineGreyBackgound:hover {\\n    background-color: #f7f7f7;\\n}\\n\\n.resumeCTAOrangeOutlineGreyBackgound span {\\n    margin-left: -13px;\\n    margin-right: -13px;\\n}\\n\\n.resumeCTAOrangeOutlineGreyBackgound span a {\\n    text-decoration: none;\\n    width: 100%;\\n    height: 100%;\\n    top: 0;\\n    left: 0;\\n    padding: 9px 12px;\\n}\\n\\n.resumeCTAOrangeOutlineGreyBackgound span a:hover {\\n    text-decoration: none;\\n}\\n\\n.resumeCTAOrangeOutlineOrangeBackgound {\\n    border: #f60 solid 1px;\\n    border-radius: 3px;\\n}\\n\\n.resumeCTAOrangeOutlineOrangeBackgound:hover {\\n    background-color: #fffaf7;\\n}\\n\\n.resumeCTAOrangeOutlineOrangeBackgound span {\\n    margin-left: -12px;\\n    margin-right: -12px;\\n}\\n\\n.resumeCTAOrangeOutlineOrangeBackgound span a {\\n    text-decoration: none;\\n    width: 100%;\\n    height: 100%;\\n    top: 0;\\n    left: 0;\\n    padding: 9px 12px;\\n}\\n\\n.resumeCTAOrangeOutlineOrangeBackgound span a:hover {\\n    text-decoration: none;\\n}\\n</style>\\n<div id=\"u_nav\">\\n    <script>\\n\\nfunction regExpEscape(s) {\\n    return String(s).replace(/([-()\\\\[\\\\]{}+?*.$\\\\^|,:#<!\\\\\\\\])/g, \\'\\\\\\\\$1\\').\\n            replace(/\\\\x08/g, \\'\\\\\\\\x08\\');\\n}\\n\\n\\nfunction appendParamsOnce(url, params) {\\n    var useParams = params.replace(/^(\\\\?|\\\\&)/, \\'\\');\\n    if (url.match(new RegExp(\\'[\\\\\\\\?|\\\\\\\\&]\\' + regExpEscape(useParams))) == null) {\\n        return url += (url.indexOf(\\'?\\') > 0 ? \\'&\\' : \\'?\\' ) + useParams;\\n    }\\n    return url;\\n}\\n\\n</script>\\n<div id=\"user_actions\">\\n        <span class=\"navBi resumeCTAWhiteOutline resumeCTAOrangeOutlineGreyBackgound\">\\n                                <span id=\"navpromo\" class=\"resume-promo\">\\n                <a href=\"/promo/resume\" onclick=\"window.location=this.href + \\'?from=nav&subfrom=rezprmstd&trk.origin=jobsearch&trk.variant=rezprmstd&trk.pos=nav&trk.tk=1c5t3v64692hnbh0\\'; return false;\">Inserisci il tuo curriculum</a>\\n            </span>\\n        </span>\\n                        <span class=\"navBi\"><a href=\"https://it.indeed.com/account/login?dest=%2Fofferte-lavoro%3Fq%3DData%2BScientist\" rel=\"nofollow\" id=\"userOptionsLabel\">Accedi</a></span>\\n        </div>\\n</div>\\n</td>\\n        </tr>\\n    </table>\\n    </div>\\n<style type=\"text/css\">\\n    .indeedLogo {\\n        margin: 8px 0 0 9px;\\n        border: 0;\\n        width: 166px;\\n        height: 64px;\\n    }\\n    \\n            .indeedLogo {\\n                background: url(\"data:image/svg+xml,%3Csvg xmlns=\\'http://www.w3.org/2000/svg\\' viewBox=\\'0 0 155 43\\'%3E%3Cstyle%3E.st0%7Bfill:%232164F3;%7D%3C/style%3E%3Cpath class=\\'st0\\' d=\\'M147.2 34.1c-.6 1.2-1.3 2.1-2.2 2.6-.9.6-2 .8-3.1.8s-2.2-.3-3.1-.9c-.9-.6-1.7-1.5-2.2-2.7-.5-1.2-.8-2.7-.8-4.4 0-1.6.3-3.1.8-4.3.5-1.2 1.2-2.2 2.2-2.8.9-.7 2-1 3.2-1h.1c1.1 0 2.1.3 3.1 1 .9.6 1.7 1.6 2.3 2.7.6 1.2.8 2.7.8 4.3-.3 2-.5 3.5-1.1 4.7m6.5-25.7c-.5-.6-1.3-.9-2.3-.9-1 0-1.7.3-2.3 1-.5.7-.8 1.6-.8 2.9v9.4c-1.2-1.3-2.5-2.3-3.7-2.9-.8-.4-1.7-.7-2.8-.8-.6-.1-1.2-.1-1.9-.1-3.2 0-5.8 1.1-7.8 3.3-2 2.2-3 5.3-3 9.2 0 1.9.3 3.6.8 5.2s1.2 3 2.2 4.2 2.1 2.1 3.4 2.7c1.3.6 2.7 1 4.3 1 .7 0 1.4-.1 2-.2l1.2-.3c1-.3 1.9-.8 2.7-1.4.8-.6 1.7-1.4 2.6-2.4v.6c0 1.2.3 2 .8 2.7.6.6 1.3.9 2.2.9s1.6-.3 2.2-.9c.6-.6.8-1.5.8-2.7V11.1c.2-1.2-.1-2.1-.6-2.7m-41.5 14.4c1-1.1 2.3-1.6 3.9-1.6 1.7 0 3 .5 4.1 1.6 1 1.1 1.6 2.6 1.8 4.8h-11.7c.2-2.1.8-3.7 1.9-4.8m15 11.6c-.4-.4-.9-.5-1.6-.5-.6 0-1.1.1-1.4.4-.8.7-1.5 1.3-2 1.8-.5.4-1.1.8-1.7 1.2-.6.4-1.2.7-1.8.8-.7.2-1.3.3-2.1.3h-.5c-1-.1-1.9-.3-2.7-.8-1-.5-1.7-1.4-2.3-2.4-.6-1.1-.8-2.5-.9-3.9h12.6c1.7 0 3-.1 3.9-.6.9-.5 1.4-1.5 1.4-3.1 0-1.7-.5-3.4-1.4-5.1-.9-1.6-2.2-3-4.1-4-1.8-1-3.9-1.6-6.5-1.6h-.2c-1.9 0-3.6.3-5.1.9-1.6.6-2.9 1.5-4 2.6-1.1 1.2-1.9 2.5-2.5 4.1-.6 1.6-.9 3.3-.9 5.2 0 4 1.2 7.1 3.5 9.4 2.2 2.2 5.2 3.3 9 3.5h.7c1.8 0 3.4-.2 4.8-.7 1.4-.5 2.6-1 3.5-1.7.9-.7 1.6-1.5 2.1-2.2.5-.8.7-1.4.7-2 .1-.8-.1-1.3-.5-1.6M86.3 22.8c1-1.1 2.3-1.6 3.9-1.6 1.7 0 3 .5 4.1 1.6 1 1.1 1.6 2.6 1.8 4.8H84.4c.3-2.1.9-3.7 1.9-4.8m13.5 11c-.6 0-1.1.1-1.4.4-.8.7-1.5 1.3-2 1.8-.5.4-1 .8-1.6 1.2-.6.4-1.2.7-1.9.8-.6.2-1.3.3-2.1.3h-.5c-1-.1-1.9-.3-2.7-.8-.9-.5-1.7-1.4-2.3-2.4-.6-1.1-.9-2.5-.9-3.9H97c1.7 0 3-.1 3.9-.6.9-.5 1.4-1.5 1.4-3.1 0-1.7-.4-3.4-1.3-5.1-.9-1.6-2.3-3-4.1-4-1.8-1-4-1.6-6.5-1.6h-.2c-1.9 0-3.5.3-5.1.9-1.6.6-2.9 1.5-4 2.6-1.1 1.2-1.9 2.5-2.5 4.1s-.9 3.3-.9 5.2c0 4 1.2 7.1 3.5 9.4 2.2 2.2 5.2 3.3 9 3.5h.7c1.8 0 3.4-.2 4.8-.7 1.4-.5 2.6-1 3.5-1.7.9-.7 1.6-1.5 2.1-2.2.5-.8.7-1.4.7-2 0-.6-.2-1.2-.6-1.5-.4-.4-1-.6-1.6-.6M14 38.3c0 1.4.3 2.4 1 3.1.7.7 1.5 1.1 2.5 1.1 1.1 0 1.9-.4 2.6-1 .7-.7 1-1.7 1-3.1V21.8c-1.7 1-3.6 1.5-5.7 1.5-.4 0-.9 0-1.3-.1L14 38.3m54.2-4.2c-.6 1.2-1.3 2.1-2.3 2.6-.9.6-2 .8-3.1.8s-2.2-.3-3.1-.9c-1-.6-1.7-1.5-2.2-2.7s-.8-2.7-.8-4.4c0-1.6.3-3.1.8-4.3.5-1.2 1.2-2.2 2.2-2.8.9-.7 2-1 3.1-1h.1c1.1 0 2.1.3 3.1 1 1 .6 1.7 1.6 2.3 2.7.5 1.2.8 2.7.8 4.3 0 2-.3 3.5-.9 4.7m6.5-25.7c-.5-.6-1.3-.9-2.2-.9-1 0-1.7.3-2.3 1-.5.7-.8 1.6-.8 2.9v9.3c-1.2-1.3-2.5-2.3-3.8-2.9-.8-.4-1.7-.7-2.8-.8-.6-.1-1.2-.1-1.9-.1-3.2 0-5.8 1.1-7.8 3.3-2 2.2-3 5.3-3 9.2 0 1.9.3 3.6.7 5.2.5 1.6 1.2 3 2.2 4.2 1 1.2 2.1 2.1 3.4 2.7 1.3.6 2.7 1 4.3 1 .7 0 1.4-.1 2-.2l1.2-.3c1-.3 1.9-.8 2.7-1.4.8-.6 1.7-1.4 2.6-2.4v.6c0 1.2.3 2 .9 2.7.6.6 1.3.9 2.2.9.8 0 1.6-.3 2.2-.9.6-.6.8-1.5.8-2.7V11.1c.2-1.2 0-2.1-.6-2.7M31.3 20.3c0-.7-.1-1.4-.4-1.9-.3-.5-.7-.9-1.1-1.2-.5-.3-1-.4-1.5-.4-.9 0-1.7.3-2.2.9-.5.6-.8 1.5-.8 2.7v18.2c0 1.2.3 2.2.8 2.8.6.7 1.4 1 2.3 1 1 0 1.7-.3 2.3-1 .6-.7.8-1.6.8-2.9v-7.9c0-2.6.2-4.3.5-5.3.4-1.2 1.2-2.1 2.1-2.8.9-.7 2-1 3.1-1 1.8 0 3 .6 3.5 1.6.6 1.1.8 2.7.8 4.8v10.5c0 1.2.4 2.2 1 2.8.6.7 1.4 1 2.3 1 .9 0 1.7-.3 2.3-1 .6-.6.9-1.6.9-2.9V26.9c0-1.4-.1-2.5-.2-3.4-.1-.9-.4-1.7-.8-2.5-.7-1.3-1.6-2.3-3-3.1s-2.9-1.1-4.6-1.1c-1.8 0-3.3.4-4.7 1-1.3.7-2.6 1.8-3.7 3.2M14 2.2c-6.3 2.6-10.7 8.2-12.7 15C1 18.5.7 19.7.5 21c0 0-.1 1.3.1 1 .2-.3.3-.8.4-1.1 1-3.2 2.1-6 3.9-8.8 4.3-6.2 11.2-10.2 18.6-8 1.3.5 2.5 1.2 3.8 1.9.2.2 1.9 1.5 1.6.3-.3-.9-1.1-1.7-1.8-2.4C23.3.8 18.3.7 14 2.2M19.6 19c2.6-1.3 3.7-4.4 2.3-7-1.3-2.6-4.5-3.6-7.1-2.3-2.6 1.3-3.6 4.4-2.3 7 1.3 2.6 4.5 3.6 7.1 2.3\\'/%3E%3C/svg%3E\") no-repeat;\\n                background-size: 155px 43px;\\n            }\\n        \\n#branding img { border: 0; }\\n#jobsearch { margin: 0 }\\n.inwrap { border-right: 1px solid #e8e8e8;border-bottom: 1px solid #e8e8e8;display:inline-block; }\\n.inwrap input { box-sizing: border-box; margin:0; height: 30px; font-family:Arial,sans-serif;border:1px solid #ccc; border-bottom-color:#aaa;border-right-color:#aaa; -webkit-border-radius: 0; -webkit-appearance: none; }\\n.inwrap .input_text { font-size:18px;padding:3px 6px;_margin: -1px 0; }\\n.inwrap .input_submit {color:#614041;font-size:15px;height:30px;background: #e8e8e8; padding:3px 9px;cursor:pointer;_padding:3px;}\\n.inwrap .input_submit:active { background: #ccc; }\\n.lnav  {width:100%;line-height:1;;font-size:10pt;}\\n.jsf .label {font-size:12px; line-height:1.2;padding-top:0;color:#aaa;font-weight:normal;white-space:nowrap;padding-right:1.5em}\\n.jsf .label label {font-weight:normal}\\n.jsf .sl { font-size: 11px; color: #77c; white-space: nowrap; }\\n.npb { padding-bottom: 0; color: #f60; text-transform: lowercase;font-weight:bold; }\\n.npl { padding-left: 0 }\\niframe { display:block; }\\n\\n.acd { border: 1px solid #333; background: #fff; position:absolute; width:100%; z-index: 1; }\\n.aci { font-size: 18px; padding:1px 6px; cursor:pointer; }\\n.acis { background:#36c; color:#fff; }\\n        \\n#jobalerts .ws_label,\\n#jobalerts .member { z-index: 1; }\\n#acr td { padding-top:0; padding-bottom:0; }\\n#acr td .h { display:none; }\\n\\n#what { width: 280px; }\\n#where { width: 260px; }\\n.inwrapBorder{border:1px solid #1C4ED9;border-top-color:#2F62F1;border-bottom-color:#133FBB;display:inline-block;width:auto;}\\n.inwrapBorderTop{border-top:1px solid #69F;display:inline-block;background-color:#3163F2;filter:progid:DXImageTransform.Microsoft.gradient(startColorstr=\\'#3163F2\\',endColorstr=\\'#2B57D5\\');background:-webkit-gradient(linear,left top,left bottom,from(#3163F2),to(#2B57D5));background:-moz-linear-gradient(top,#3163F2,#2B57D5);background:linear-gradient(top,#3163F2,#2B57D5);}\\n.inwrapBorder .input_submit{background: transparent;border:0;color:#fff;font-family:Arial;font-size:15px;margin:0;padding:4px 9px;cursor:pointer;_padding:3px;}\\n.inwrapBorder a.input_submit{text-decoration: none; display: block;}\\n\\n.inwrapBorder:hover{border-color:#235af6;border-top-color:#4072ff;border-bottom-color:#1e4fd9;}\\n.inwrapBorderTop:hover{border-top-color:#7ba7ff;background-color:#4273ff;filter:progid:DXImageTransform.Microsoft.gradient(startColorstr=\\'#4273ff\\',endColorstr=\\'#3364f1\\');background:-webkit-gradient(linear,left top,left bottom,from(#4273ff),to(#3364f1));background:-moz-linear-gradient(top,#4273ff,#3364f1);background:linear-gradient(top,#4273ff,#3364f1);}\\n\\n.inwrapBorder:active{border-color:#536db7;border-top-color:#4b69c1;border-bottom-color:#3753a6;}\\n.inwrapBorder:active .inwrapBorderTop{border-top-color:#6c82c1;background-color:#4b69c1;filter:progid:DXImageTransform.Microsoft.gradient(startColorstr=\\'#4b69c1\\',endColorstr=\\'#3753a6\\');background:-webkit-gradient(linear,left top,left bottom,from(#4b69c1),to(#3753a6));background:-moz-linear-gradient(top,#4b69c1,#3753a6);background:linear-gradient(top,#4b69c1,#3753a6);}\\n\\n.roundedCorner {\\n    display: inline-block;\\n    zoom: 1; /* zoom and *display = ie7 hack for display:inline-block */\\n    *display: inline;\\n    vertical-align: baseline;\\n    margin: 0 2px;\\n    outline: none;\\n    cursor: pointer;\\n    text-align: center;\\n    text-decoration: none;\\n    font: 15px/100% Arial, Helvetica, sans-serif;\\n    padding: .5em 2em .55em;\\n    text-shadow: 0 1px 1px rgba(0,0,0,.3);\\n    -webkit-border-radius: .5em;\\n    -moz-border-radius: .5em;\\n    border-radius: .5em;\\n    -webkit-box-shadow: 0 1px 2px rgba(0,0,0,.2);\\n    -moz-box-shadow: 0 1px 2px rgba(0,0,0,.2);\\n    box-shadow: 0 1px 2px rgba(0,0,0,.2);\\n}\\n.roundedCorner:hover {\\n    text-decoration: none;\\n}\\n.roundedCorner:active {\\n    position: relative;\\n    top: 1px;\\n}\\n\\n.bigrounded {\\n    -webkit-border-radius: 2em;\\n    -moz-border-radius: 2em;\\n    border-radius: 2em;\\n}\\n.medium {\\n    font-size: 12px;\\n    padding: .4em 1.5em .42em;\\n}\\n.small {\\n    font-size: 11px;\\n    padding: .2em 1em .275em;\\n}\\n\\n.indeedblue {\\n    color: #d9eef7;\\n    border: solid 1px #1C4ED9;\\n    background: #3163F2;\\n    background: -webkit-gradient(linear, left top, left bottom, from(#2F62F1), to(#133FBB));\\n    background: -moz-linear-gradient(top,  #2F62F1,  #133FBB);\\n    filter:  progid:DXImageTransform.Microsoft.gradient(startColorstr=\\'#2F62F1\\', endColorstr=\\'#133FBB\\');\\n}\\n.indeedblue:hover, .indeedblue:focus {\\n    background: #235af6;\\n    background: -webkit-gradient(linear, left top, left bottom, from(#4072ff), to(#1e4fd9));\\n    background: -moz-linear-gradient(top,  #4072ff,  #1e4fd9);\\n    filter:  progid:DXImageTransform.Microsoft.gradient(startColorstr=\\'#4072ff\\', endColorstr=\\'#1e4fd9\\');\\n}\\n.indeedblue:active {\\n    color: #d9eef7;\\n    background: -webkit-gradient(linear, left top, left bottom, from(#4b69c1), to(#3753a6));\\n    background: -moz-linear-gradient(top,  #4b69c1,  #3753a6);\\n    filter:  progid:DXImageTransform.Microsoft.gradient(startColorstr=\\'#4b69c1\\', endColorstr=\\'#3753a6\\');\\n}\\n</style>\\n<span id=\"hidden_colon\" style=\"display:none\">:</span>\\n<table role=\"banner\" cellpadding=0 cellspacing=0 border=0><tr><td width=1125><table class=lnav cellpadding=0 cellspacing=0>\\n\\t<tr>\\n\\t\\t<td id=\"branding-td\" style=\"vertical-align:top;\"><a id=branding href=\"/\" onmousedown=\"ptk(\\'logo\\');\"><img class=\"indeedLogo\" src=\"data:image/gif;base64,R0lGODlhAQABAJEAAAAAAP///////wAAACH5BAEHAAIALAAAAAABAAEAAAICVAEAOw==\" alt=\"una ricerca. tutti i lavori. Indeed\"title=\"una ricerca. tutti i lavori. Indeed\" style=\"margin-bottom:6px;display:block;\" /></a></td>\\n    <td valign=top style=\"padding-top:3px;\">\\n            <form class=\"jsf\" name=js id=jobsearch action=\"/offerte-lavoro\" method=get onsubmit=\"formptk(\\'topsearch\\',\\'where_ac\\',\\'\\',[\\'where_ac\\',\\'what_ac\\'], ptk);formptk(\\'topsearch\\',\\'what_ac\\',\\'w\\',[\\'where_ac\\',\\'what_ac\\'], ptk);\">\\n\\t\\t\\t\\t<table cellpadding=3 cellspacing=0 align=left>\\n                    <tr>\\n                        <td class=npb><label id=\"what_label_top\" for=\"what\">Cosa</label></td>\\n                        <td class=npb colspan=3><label id=\"where_label_top\" for=\"where\">Dove</label></td>\\n\\t\\t\\t\\t\\t</tr>\\n<tr role=\"search\">\\n                        <td class=\"npl epr\"><span class=inwrap><input name=q class=input_text size=31 maxlength=512 value=\"Data Scientist\" aria-labelledby=\"what_label_top hidden_colon what_label\" id=what></span><div style=\"width:250px\"><!-- --></div></td>\\n                        <td class=\"npl epr\"><span class=inwrap><input name=l class=input_text size=27 maxlength=45 value=\"\"  aria-labelledby=\"where_label_top hidden_colon where_label\" id=where></span><div style=\"width:200px\"><!-- --></div></td>\\n                        <td class=npl style=\"width:1px\"><span class=\"inwrapBorder\" style=\"width:auto;padding-right:0;\"><span class=\"inwrapBorderTop\"><input id=fj class=input_submit type=submit value=\"Cerca Lavoro\"></span></span></td>\\n                        <td class=\"npl advanced-search\" style=\"width:240px;\"><div style=\"margin-left:12px; display:flex;\"><a class=sl href=\"/advanced_search?q=Data+Scientist\">Ricerca Lavoro Avanzata</a></div></td>\\n                    </tr>\\n        <tr id=acr>\\n                        <td><span class=h>&nbsp;</span></td>\\n                        <td colspan=2 class=npl><div style=\"position:relative;z-index:2\"><div id=acdiv class=acd style=\"display:none;\"></div></div></td>\\n                        <td><span class=h>&nbsp;</span></td>\\n                    </tr>\\n        <tr id=acr>\\n                        <td colspan=3 class=npl><div style=\"position:relative;z-index:2\"><div id=what_acdiv class=acd style=\"display:none;\"></div></div></td>\\n                        <td><span class=h>&nbsp;</span></td>\\n                    </tr>\\n        <tr valign=baseline>\\n                        <td id=\"what_label_cell\" class=label>\\n                            <label for=\\'what\\' aria-hidden=\"true\" id=\"what_label\">professione, parole chiave o societ\\xc3\\xa0</label>\\n                            </td>\\n                        <td id=\"where_label_cell\" colspan=3 class=label>\\n                            <label for=\\'where\\' aria-hidden=\"true\" id=\"where_label\">citt\\xc3\\xa0, regione o codice postale</label>\\n                            </td>\\n                    </tr>\\n                    </table>\\n\\t\\t\\t\\t</form>\\n\\t\\t</td>\\n    </tr>\\n</table>\\n</td></tr></table>\\n\\n<script type=\"text/javascript\">\\n\\n        initAutocomplete(\\'where_ac\\', gbid(\\'where\\'), gbid(\\'acdiv\\'), \\'/rpc/suggest?from=serp&tk=1c5t3v64692hnbh0\\', function() { formptk(\\'topsearch\\',\\'where_ac\\', \\'\\', [\\'where_ac\\',\\'what_ac\\'], ptk); }, gbid(\\'where\\'));\\n        \\n        initAutocomplete(\\'what_ac\\', gbid(\\'what\\'), gbid(\\'what_acdiv\\'), \\'/rpc/suggest?what=true&tk=1c5t3v64692hnbh0\\', function () {formptk(\\'topsearch\\', \\'what_ac\\', \\'w\\', [\\'where_ac\\',\\'what_ac\\'], ptk);}, gbid(\\'what\\'));\\n        </script>\\n<script type=\"text/javascript\">\\nfunction rclk(el,jobdata,oc,sal) { var ocstr = oc ? \\'&onclick=1\\' : \\'\\'; document.cookie=\\'RCLK=\"jk=\\'+jobdata.jk+\\'&tk=1c5t3v64692hnbh0&from=web&rd=\\'+jobdata.rd+\\'&qd=7tdTJLF8oc4dPpT7T_zGvGA3XpPBAN42oEhBbwa0-XN8CSKpDiPdMeRVDU0iYXywo5j803zLVphibt2YLl_P1gT5sh1S2iIVW7kD_JVMcaU_SGsCPBqHsIvOCBm8AOiL&ts=1518174443654&sal=\\'+sal+ocstr+\\'\"; path=/\\'; return true;}\\n\\nfunction vjrclk(jk, qd, rd, oc, vjk, vjtk) {\\n  var ocstr = oc ? \\'&onclick=1\\' : \\'\\';\\n  document.cookie = \\'RCLK=\"jk=\\' + jk + \\'&vjtk=\\' + vjtk + \\'&rd=\\' + rd + \\'&qd=\\' + qd + \\'&ts=\\' + new Date().getTime() + ocstr + \\'\"; path=/\\';\\n  return true;\\n}\\nfunction zrprclk(el,jobdata,oc) { var ocstr = oc ? \\'&onclick=1\\' : \\'\\'; document.cookie=\\'RCLK=\"jk=\\'+jobdata.jk+\\'&tk=1c5t3v64692hnbh0&from=reconzrp&rd=\\'+jobdata.rd+\\'&qd=7tdTJLF8oc4dPpT7T_zGvGA3XpPBAN42oEhBbwa0-XN8CSKpDiPdMeRVDU0iYXywo5j803zLVphibt2YLl_P1gT5sh1S2iIVW7kD_JVMcaU_SGsCPBqHsIvOCBm8AOiL&ts=1518174443654\\'+ocstr+\\'\"; path=/\\'; return true;}\\nfunction prjbottomclk(el,jobdata,oc) { var ocstr = oc ? \\'&onclick=1\\' : \\'\\'; document.cookie=\\'RCLK=\"jk=\\'+jobdata.jk+\\'&tk=1c5t3v64692hnbh0&from=reconserp&rd=\\'+jobdata.rd+\\'&qd=7tdTJLF8oc4dPpT7T_zGvGA3XpPBAN42oEhBbwa0-XN8CSKpDiPdMeRVDU0iYXywo5j803zLVphibt2YLl_P1gT5sh1S2iIVW7kD_JVMcaU_SGsCPBqHsIvOCBm8AOiL&ts=1518174443654\\'+ocstr+\\'\"; path=/\\'; return true;}\\n\\n\\nvar jobmap = {};\\n\\njobmap[0]= {jk:\\'d9db53bb72ba6a6d\\',efccid: \\'3961bc360b1c9aa2\\',srcid:\\'428780f02803501c\\',cmpid:\\'001c941b4bd131d5\\',num:\\'0\\',srcname:\\'Groupama\\',cmp:\\'Groupama\\',cmpesc:\\'Groupama\\',cmplnk:\\'/offerte-lavoro-Groupama\\',loc:\\'Roma, Lazio\\',country:\\'IT\\',zip:\\'\\',city:\\'Roma\\',title:\\'Data Analyst\\\\/Data Scientist\\',locid:\\'8393d3ca406a9117\\',rd:\\'ifLLha17ynEBlt7hho3JcfEjTYFBCydOHIJo0jSLt2s6Y-yqBPyGuGJJ2wHIo2IB\\'};\\n\\njobmap[1]= {jk:\\'762ddb260323b512\\',efccid: \\'14acac18cc667b09\\',srcid:\\'0f50339cf678b3be\\',cmpid:\\'75ffe83eff87f970\\',num:\\'1\\',srcname:\\'Indeed\\',cmp:\\'Crea Mc Srl\\',cmpesc:\\'Crea Mc Srl\\',cmplnk:\\'/offerte-lavoro-Crea-Mc-Srl\\',loc:\\'Milano Centro, Lombardia\\',country:\\'IT\\',zip:\\'\\',city:\\'Milano Centro\\',title:\\'Data Scientist\\',locid:\\'56a7356e3ef08b4b\\',rd:\\'LdTfyXn3BJUQ3DP1gWsaHwfmkRX_hXv5vdGF0Dj9Cb8\\'};\\n\\njobmap[2]= {jk:\\'26c65dc8b29e191c\\',efccid: \\'65f1d28627a6576c\\',srcid:\\'dbcaddf0dca8d6ca\\',cmpid:\\'6913ca6a567d63c6\\',num:\\'2\\',srcname:\\'Coesia Group\\',cmp:\\'Coesia Group\\',cmpesc:\\'Coesia Group\\',cmplnk:\\'/offerte-lavoro-Coesia-Group\\',loc:\\'Italia\\',country:\\'IT\\',zip:\\'\\',city:\\'\\',title:\\'Junior Data Scientist\\',locid:\\'8a594aad07f09abb\\',rd:\\'0nbXxlm8yujnNeH6qUX3_PEjTYFBCydOHIJo0jSLt2v643S2KwFAze-YU5kL_RQ0\\'};\\n\\njobmap[3]= {jk:\\'4f4cb8ce8b61e2bf\\',efccid: \\'4c2ccfcefeedd205\\',srcid:\\'3ce2e61e52cfa346\\',cmpid:\\'19fa68d4e4058be5\\',num:\\'3\\',srcname:\\'Indeed\\',cmp:\\'TECH ENGINES SRL\\',cmpesc:\\'TECH ENGINES SRL\\',cmplnk:\\'/offerte-lavoro-TECH-ENGINES-SRL\\',loc:\\'Firenze, Toscana\\',country:\\'IT\\',zip:\\'\\',city:\\'Firenze\\',title:\\'InsureTech Junior Data Scientist\\',locid:\\'77bc52f55c91cc4d\\',rd:\\'b51lnbclQQLZ1hYs6VDb6gfmkRX_hXv5vdGF0Dj9Cb8\\'};\\n\\njobmap[4]= {jk:\\'73f8cb698f891f19\\',efccid: \\'1f86d6a36f21c9c0\\',srcid:\\'cca5109485db0dc2\\',cmpid:\\'d9f004d4f60c4e1d\\',num:\\'4\\',srcname:\\'Cegeka\\',cmp:\\'CEGEKA Spa\\',cmpesc:\\'CEGEKA Spa\\',cmplnk:\\'/offerte-lavoro-CEGEKA-Spa\\',loc:\\'Milano, Lombardia\\',country:\\'IT\\',zip:\\'\\',city:\\'Milano\\',title:\\'DATA SCIENTIST BIG DATA SPECIALIST (rif. BIG.DS)\\',locid:\\'10bcb04247b81c6e\\',rd:\\'vV1ywF_BeuSvqZv0gbug_vEjTYFBCydOHIJo0jSLt2vhZQCZZPRCz0hxOGFCekI-\\'};\\n\\njobmap[5]= {jk:\\'863a399d61e34094\\',efccid: \\'cde389aec0f5d3bb\\',srcid:\\'dd517718ae8193ea\\',cmpid:\\'0f5477dfb7d07060\\',num:\\'5\\',srcname:\\'Artefact\\',cmp:\\'Artefact\\',cmpesc:\\'Artefact\\',cmplnk:\\'/offerte-lavoro-Artefact\\',loc:\\'Italia\\',country:\\'IT\\',zip:\\'\\',city:\\'\\',title:\\'Data Scientist\\',locid:\\'8a594aad07f09abb\\',rd:\\'ypQSWt1Kpk7SEQoWpXENyvEjTYFBCydOHIJo0jSLt2vhZQCZZPRCz0hxOGFCekI-\\'};\\n\\njobmap[6]= {jk:\\'073256ecfb301f0a\\',efccid: \\'9af36d010c2baf0b\\',srcid:\\'079daa8159375ead\\',cmpid:\\'b25f2e655c9c9f9c\\',num:\\'6\\',srcname:\\'Gruppo Mutui Online\\',cmp:\\'Gruppo Mutui Online\\',cmpesc:\\'Gruppo Mutui Online\\',cmplnk:\\'/offerte-lavoro-Gruppo-Mutui-Online\\',loc:\\'Italia\\',country:\\'IT\\',zip:\\'\\',city:\\'\\',title:\\'Data Scientist Junior\\',locid:\\'8a594aad07f09abb\\',rd:\\'A1kmjcdO9UbIpSbViw6K6gfmkRX_hXv5vdGF0Dj9Cb8\\'};\\n\\njobmap[7]= {jk:\\'05f853eb773ea4ef\\',efccid: \\'68dba1647c671de6\\',srcid:\\'e736247e796b2109\\',cmpid:\\'bd410b30af2f117c\\',num:\\'7\\',srcname:\\'BNP Paribas Personal Finance\\',cmp:\\'BNP Paribas Personal Finance\\',cmpesc:\\'BNP Paribas Personal Finance\\',cmplnk:\\'/offerte-lavoro-BNP-Paribas-Personal-Finance\\',loc:\\'Firenze, Toscana\\',country:\\'IT\\',zip:\\'\\',city:\\'Firenze\\',title:\\'VIE Data Scientist - Florence H\\\\/F\\',locid:\\'77bc52f55c91cc4d\\',rd:\\'gIBhyxjX88CBheNzlvzgWPEjTYFBCydOHIJo0jSLt2vwg1xS4oCr2jewzrnaucZm\\'};\\n\\njobmap[8]= {jk:\\'af9df2e1ea0c7ac4\\',efccid: \\'f844fef1f0b4c37a\\',srcid:\\'74091f58f8d55e76\\',cmpid:\\'09b59d7b95a60821\\',num:\\'8\\',srcname:\\'Pirelli\\',cmp:\\'Pirelli\\',cmpesc:\\'Pirelli\\',cmplnk:\\'/offerte-lavoro-Pirelli\\',loc:\\'Italia\\',country:\\'IT\\',zip:\\'\\',city:\\'\\',title:\\'Data Scientist - Machine Learning Engineer\\',locid:\\'8a594aad07f09abb\\',rd:\\'id9YYX5O4_uiUP8-vquUm_EjTYFBCydOHIJo0jSLt2vnsWMusEadUYGbhcoa7LdW\\'};\\n\\njobmap[9]= {jk:\\'ba4d524f1f120f59\\',efccid: \\'4b8859d52f0e8a4d\\',srcid:\\'d6cee40e497b68e6\\',cmpid:\\'bad1807d29a9f53f\\',num:\\'9\\',srcname:\\'Reale Mutua Assicurazioni\\',cmp:\\'Reale Mutua Assicurazioni\\',cmpesc:\\'Reale Mutua Assicurazioni\\',cmplnk:\\'/offerte-lavoro-Reale-Mutua-Assicurazioni\\',loc:\\'Torino, Piemonte\\',country:\\'IT\\',zip:\\'\\',city:\\'Torino\\',title:\\'Data Scientist\\',locid:\\'c6d8ee4802bac0d5\\',rd:\\'HgqJEbKk5cQW1h3qe3-fi_EjTYFBCydOHIJo0jSLt2vwg1xS4oCr2jewzrnaucZm\\'};\\n</script>\\n\\n<style type=\"text/css\">\\n            .jobtitle {\\n                font-weight: bold;\\n            }\\n            td.snip b, span.company b, #femp_list .jobtitle, #cmpinfo_list .jobtitle, .jobtitle .new {\\n                font-weight: normal;\\n            }\\n            div.result-link-bar b {\\n                font-weight: bold;\\n            }\\n        </style>\\n    <style type=\"text/css\">\\n    div.row table tr td.snip { line-height: 1.4; }\\n</style>\\n\\n<table role=\"main\" cellpadding=\"0\" cellspacing=\"0\" border=\"0\" id=\"resultsBody\"><tr><td>\\n<script type=\"text/javascript\">\\n    window[\\'ree\\'] = \"pdsssps\";\\n    window[\\'jas\\'] = \"lrSTHQWPB\";\\n</script>\\n\\n<style type=\"text/css\">\\n    /* Promos Generic Styling */\\n\\n/* Single Link with text */\\n.basePromo {\\n    margin-top: 8px; margin-bottom: 13px; padding-left: 12px; padding-right: 12px;\\n}\\n\\n.redText {\\n    color: #FF0000;\\n}\\n\\n.bold {\\n    font-weight: bold;\\n}\\n\\n.basePromo.resume {\\n    font-size: 14px;\\n    margin-top: 5px;\\n}\\n\\n.basePromo.resume > img {\\n    height: 20px;\\n    margin-right: 5px;\\n    margin-bottom: 3px;\\n    width: 16px;\\n}</style>\\n\\n<table cellspacing=0 cellpadding=0 width=\"100%\" border=0 id=\"pageContent\">\\n  <tr valign=top>\\n\\n<td id=\"refineresultscol\" data-tn-section=\"refineBy\">\\n        <div id=refineresults class=\"show-overflow-items\">\\n\\n    <h1><font size=\"+1\">lavoro - Data Scientist</font></h1>\\n\\n    <span role=\"heading\" aria-level=\"2\" style=\"height: 0; overflow: hidden; position: absolute;\">Filter results by:</span>\\n<div style=\"margin-left: 6px; margin-bottom: 1em;\">Ordina&nbsp;per: <span class=\"no-wrap\"><b>pertinenza</b> -\\n            <a href=\"/offerte-lavoro?q=Data+Scientist&amp;sort=date\" rel=nofollow>data</a></span></div>\\n<div id=\"rb_Job Type\" class=\"rbSection rbOpen\">\\n            <div class=rbHeader>\\n                <span role=\"heading\" aria-level=\"3\" class=\"ws_bold\">\\n                    Tipo contratto</span>\\n            </div>\\n            <div id=\"JOB_TYPE_rbo\" class=\"rbsrbo\">\\n                <ul class=\"rbList filter-items-nowrap\">\\n<li onmousedown=\"rbptk(\\'rb\\', \\'jobtype\\', \\'1\\');\">\\n    <a rel=nofollow href=\"/offerte-lavoro?q=Data+Scientist&jt=fulltime\" title=\"Tempo pieno (29)\">Tempo pieno</a> (29)</li>\\n<li onmousedown=\"rbptk(\\'rb\\', \\'jobtype\\', \\'2\\');\">\\n    <a rel=nofollow href=\"/offerte-lavoro?q=Data+Scientist&jt=recruiter\" title=\"Agenzia di reclutamento (26)\">Agenzia di reclutamento</a> (26)</li>\\n<li onmousedown=\"rbptk(\\'rb\\', \\'jobtype\\', \\'3\\');\">\\n    <a rel=nofollow href=\"/offerte-lavoro?q=Data+Scientist&jt=permanent\" title=\"Tempo indeterminato (22)\">Tempo indeterminato</a> (22)</li>\\n<li onmousedown=\"rbptk(\\'rb\\', \\'jobtype\\', \\'4\\');\">\\n    <a rel=nofollow href=\"/offerte-lavoro?q=Data+Scientist&jt=internship\" title=\"Stage (13)\">Stage</a> (13)</li>\\n<li onmousedown=\"rbptk(\\'rb\\', \\'jobtype\\', \\'5\\');\">\\n    <a rel=nofollow href=\"/offerte-lavoro?q=Data+Scientist&jt=contract\" title=\"Lavoro a progetto (2)\">Lavoro a progetto</a> (2)</li>\\n<li onmousedown=\"rbptk(\\'rb\\', \\'jobtype\\', \\'6\\');\">\\n    <a rel=nofollow href=\"/offerte-lavoro?q=Data+Scientist&jt=temporary\" title=\"Tempo determinato (1)\">Tempo determinato</a> (1)</li>\\n</ul>\\n</div>\\n        </div>\\n    <div id=\"rb_Location\" class=\"rbSection rbOpen\">\\n            <div class=rbHeader>\\n                <span role=\"heading\" aria-level=\"3\" class=\"ws_bold\">\\n                    Localit\\xc3\\xa0</span>\\n            </div>\\n            <div id=\"LOCATION_rbo\" class=\"rbsrbo\">\\n                <ul class=\"rbList filter-items-nowrap\">\\n<li onmousedown=\"rbptk(\\'rb\\', \\'loc\\', \\'1\\');\">\\n    <a  href=\"/Milano,-Lombardia-offerte-lavoro-Data-Scientist\" title=\"Milano, Lombardia (48)\">Milano, Lombardia</a> (48)</li>\\n<li onmousedown=\"rbptk(\\'rb\\', \\'loc\\', \\'2\\');\">\\n    <a  href=\"/Roma,-Lazio-offerte-lavoro-Data-Scientist\" title=\"Roma, Lazio (16)\">Roma, Lazio</a> (16)</li>\\n</ul>\\n</div>\\n        </div>\\n    <div id=\"rb_Company\" class=\"rbSection rbOpen\">\\n            <div class=rbHeader>\\n                <span role=\"heading\" aria-level=\"3\" class=\"ws_bold\">\\n                    Societ\\xc3\\xa0</span>\\n            </div>\\n            <div id=\"COMPANY_rbo\" class=\"rbsrbo\">\\n                <ul class=\"rbList filter-items-nowrap\">\\n<li onmousedown=\"rbptk(\\'rb\\', \\'cmp\\', \\'1\\');\">\\n    <a  href=\"/offerte-lavoro-Open-Search-Network-Ltd\" title=\"Open Search Network Ltd (13)\">Open Search Network Ltd</a> (13)</li>\\n</ul>\\n</div>\\n        </div>\\n    <div id=\"rb_MoreOptions\" class=\"rbSection rbOpen\"><div class=\"rbHeader\"><span role=\"heading\" aria-level=\"3\" class=\"ws_bold\">Altre opzioni</span></div><div id=\"MOREOPTIONS_rbo\" class=\"rbsrbo\"><ul class=\"rbList filter-items-nowrap\"><li id=\"disabilityFilter\"><a id=\"disability-link\" rel=\"nofollow\" href=\"/jobs?q=disabilitiesfriendly&amp;l=&amp;from=disabilityfilter\">Categorie Protette</a><div class=\"disability-tooltip\"><span id=\"disability-tooltiptext\">Queste offerte di lavoro provengono da un sito, un\\' azienda o un servizio che identifica ruoli che possono essere svolti da persone con un certo tipo di disabilit\\xc3\\xa0. In nessuno modo sta ad indicare che le offerte di lavoro escluse da questo filtro non sono adatte a persone con disabilit\\xc3\\xa0.</span></div></li></ul></div></div></div>\\n</td>\\n<td id=\"resultsCol\">\\n        <div class=\"messageContainer\">\\n\\n<script type=\"text/javascript\">\\n    function setRefineByCookie(refineByTypes) {\\n        var expires = new Date();\\n        expires.setTime(expires.getTime() + (10 * 1000));\\n        for (var i = 0; i < refineByTypes.length; i++) {\\n            setCookie(refineByTypes[i], \"1\", expires);\\n        }\\n    }\\n</script>\\n\\n<p class=message>Suggerimento: Inserisci una localit\\xc3\\xa0 nella casella \"dove\" per vedere risultati per quella zona.</p>\\n</div>\\n\\n<style type=\"text/css\">\\n    #increased_radius_result {\\n        font-size: 16px;\\n        font-style: italic;\\n    }\\n    #original_radius_result{\\n        font-size: 13px;\\n        font-style: italic;\\n        color: #666666;\\n    }\\n</style>\\n<div class=\"resultsTop\"><div id=\"searchCount\">\\n        1 - 10 di 134 offerte di lavoro</div>\\n<div id=\"resumePromo\" data-tn-section=\"resumePromo\">\\n                <a tabindex=\"-1\" aria-hidden=\"true\" href=\"/promo/resume\" onclick=\"this.href = appendParamsOnce( this.href, \\'?from=serptop3&subfrom=resprmrtop&trk.origin=jobsearch&trk.variant=resprmrtop&trk.tk=1c5t3v64692hnbh0\\')\"><span aria-label=\"Crea e pubblica il tuo CV\" role=\"img\" class=\"new-ico\"></span></a> <a href=\"/promo/resume\" onclick=\"this.href = appendParamsOnce( this.href, \\'?from=serptop3&subfrom=resprmrtop&trk.origin=jobsearch&trk.variant=resprmrtop&trk.tk=1c5t3v64692hnbh0\\')\" class=\"resume-promo-link\"><b>Pubblica il tuo Curriculum</b></a> per essere contattato da aziende e datori di lavoro</div></div>\\n\\n<script type=\"text/javascript\">\\n            window[\\'sjl\\'] = \"ILhXpkyLjr\";\\n        </script>\\n\\t<style type=\"text/css\">\\n\\t\\t.ILhXpkyLjr { margin: 0 0 6px 0; padding: 0; _zoom:100%; border: 0; background-color: #fff; }\\n\\t\\t.ILhXpkyLjr .jobtitle { white-space: nowrap; float:left; _float: none; }\\n        .ILhXpkyLjr .sdn { color: #CD29C0; }\\n\\t\\t.PiZTMNZWv .brdr { margin-top: 12px; }\\n\\t\\t.Re9tt1oi0zV .brdr { margin-bottom: 12px; }\\n\\t\\t@media only screen and (min-height:780px) {\\n            .PiZTMNZWv { margin-bottom: 9px; }\\n\\t\\t\\t.Re9tt1oi0zV .brdr,\\n            .tv77h3drMgs,\\n\\t\\t\\t.PiZTMNZWv .brdr { margin-bottom: 9px; margin-top: 9px; }\\n\\t\\t}\\n\\t</style>\\n    <style type=\"text/css\">\\n            .result-tab:empty {margin-top: 0;}\\n            .PiZTMNZWv {\\n                margin-bottom: 0;\\n            }\\n            @media only screen and (min-height:780px) {\\n                .PiZTMNZWv {\\n                    margin-bottom: 0;\\n                }\\n            }\\n        </style>\\n    <div></div>\\n<a id=\"jobPostingsAnchor\" tabindex=\"-1\"></a>\\n\\n<div class=\"ILhXpkyLjr PiZTMNZWv\">\\n        <div class=\"row  result\" id=\"pj_fdf9a9d0b846b357\" data-jk=\"fdf9a9d0b846b357\" data-advn=\"4335224551469435\" data-tu=\"\" >\\n            <a target=\"_blank\" id=\"sja1\" data-tn-element=\"jobTitle\" class=\"jobtitle turnstileLink\" href=\"/pagead/clk?mo=r&ad=-6NYlbfkN0CRV9PvmGGjOT0xwsPF1L9hb6fangVrSfm3OX8eO_Z6ZTXsI9t5ZURIu01v2-mJaJDnfNLGdaK-KoUDrGSWIwoZ0O3Gla18enVMPY7VKEUas_EDGD4XWaYm_OSWL28dbXvEmlX57D_IV2_52z6UvXeIQPO17UQ2TJGgP7MYhbL1sRikKDfyzB_PxBhs-OfNuLaF-nZs2EZc3esRk8XdFYQ57tqkVpQ2eP12wX9PFopLwzWxNvIPQ2bEncgZu4BllwiYWNSrYZow0m0npw_gc_tB18-jIQeXvAGwsOq5Xx3xJpJgM6ka40UMFmgmDR2F1wH0zrV0KbwLSVmNlbgi_9aJl1C1M_qzDnaGrfMpxCxfPukbDc0MdcC6rdXxAwkvF4z75Za4QP-kgDYcSMpXbB2mejWMomjfr01qsO4VD-hQsDYgDeZbbJGB1NBHO3SjnKn04LzNLJZTm8kBrH1MCdfbv3z-4QTnN0g7O3aiYNfqbg7yQlk13026lMK0_R2sQgI5rSAugIpZgTIjzv9FH1uuPMfXOQ3XiwbH9mgaXXS4EJR2GkmRjpPeF13S9ltseg3C3oer_F7pwUTEWrbisns57Y5fcfMunuKVH-VTJljX2pmhVU4PQzVShbQ5xQxquw2mfDz-6uRBz-INsJrFK9pBprMz00xZMHHjXKAOTkybIak3bQXja620YXCFi14jthAw3aak8nrspZXVqE79LyonPFrCo0aqfrGPlIaoM3SP-YCQyOoz4PLMK401CSJk-5MPlNLDOM5ug90ruALS8cGXAyYKArZE4tCW68mV4BesXhCHnU8Oerkv706yK-4qxvK7ChBON8r92S-a_zFzrz-H3Tj8RzpN4sEETogy90aJSA==&p=1&sk=&fvj=0\" title=\"Data Scientist\" rel=\"noopener nofollow\" onmousedown=\"sjomd(\\'sja1\\'); clk(\\'sja1\\');\" onclick=\"setRefineByCookie([]); sjoc(\\'sja1\\',0); convCtr(\\'SJ\\')\"><b>Data</b> <b>Scientist</b></a>\\n\\n            <br>\\n            <div class=\"sjcl\">\\n            <span class=\"company\">\\n    Unipol Gruppo Finanziario S.p.A.</span>\\n\\n - <span class=location>Bologna, Emilia-Romagna</span>\\n            </div>\\n            <div class=\"\">\\n                <table cellpadding=0 cellspacing=0 border=0><tr><td class=snip>\\n                        <span class=summary>\\n                            Leith\\xc3\\xa0, societ\\xc3\\xa0 del Gruppo Unipol finalizzata alla sperimentazione di nuove tecnologie ed allo sviluppo di soluzioni innovative di prodotto, processo e servizio...</span>\\n                    </td></tr></table>\\n                </div>\\n\\n                <div class=\"sjCapt\">\\n                    <div class=\"result-link-bar-container\">\\n                            <div class=\"result-link-bar\"><span class=\" sponsoredGray \">Sponsorizzata</span> - <span class=\"date\">15 ore fa</span> <span id=\"tt_set_10\" class=\"tt_set\">  -  <a id=\"sj_fdf9a9d0b846b357\" href=\"#\" class=\"sl resultLink save-job-link \" onclick=\"changeJobState(\\'fdf9a9d0b846b357\\', \\'save\\', \\'linkbar\\', true, \\'\\'); return false;\" title=\"Salva questa offerta di lavoro su mio.indeed\">salva offerta</a></span><div id=\"editsaved2_fdf9a9d0b846b357\" class=\"edit_note_content\" style=\"display:none;\"></div><script>if (!window[\\'sj_result_fdf9a9d0b846b357\\']) {window[\\'sj_result_fdf9a9d0b846b357\\'] = {};}window[\\'sj_result_fdf9a9d0b846b357\\'][\\'showSource\\'] = false; window[\\'sj_result_fdf9a9d0b846b357\\'][\\'source\\'] = \"Unipol Gruppo Finanziario S.p.A.\"; window[\\'sj_result_fdf9a9d0b846b357\\'][\\'loggedIn\\'] = false; window[\\'sj_result_fdf9a9d0b846b357\\'][\\'showMyJobsLinks\\'] = false;window[\\'sj_result_fdf9a9d0b846b357\\'][\\'undoAction\\'] = \"unsave\";window[\\'sj_result_fdf9a9d0b846b357\\'][\\'relativeJobAge\\'] = \"15 ore fa\";window[\\'sj_result_fdf9a9d0b846b357\\'][\\'jobKey\\'] = \"fdf9a9d0b846b357\"; window[\\'sj_result_fdf9a9d0b846b357\\'][\\'myIndeedAvailable\\'] = true; window[\\'sj_result_fdf9a9d0b846b357\\'][\\'showMoreActionsLink\\'] = window[\\'sj_result_fdf9a9d0b846b357\\'][\\'showMoreActionsLink\\'] || false; window[\\'sj_result_fdf9a9d0b846b357\\'][\\'resultNumber\\'] = 10; window[\\'sj_result_fdf9a9d0b846b357\\'][\\'jobStateChangedToSaved\\'] = false; window[\\'sj_result_fdf9a9d0b846b357\\'][\\'searchState\\'] = \"q=Data Scientist&amp;\"; window[\\'sj_result_fdf9a9d0b846b357\\'][\\'basicPermaLink\\'] = \"https://it.indeed.com\"; window[\\'sj_result_fdf9a9d0b846b357\\'][\\'saveJobFailed\\'] = false; window[\\'sj_result_fdf9a9d0b846b357\\'][\\'removeJobFailed\\'] = false; window[\\'sj_result_fdf9a9d0b846b357\\'][\\'requestPending\\'] = false; window[\\'sj_result_fdf9a9d0b846b357\\'][\\'notesEnabled\\'] = false; window[\\'sj_result_fdf9a9d0b846b357\\'][\\'currentPage\\'] = \"serp\"; window[\\'sj_result_fdf9a9d0b846b357\\'][\\'sponsored\\'] = true;window[\\'sj_result_fdf9a9d0b846b357\\'][\\'showSponsor\\'] = true;window[\\'sj_result_fdf9a9d0b846b357\\'][\\'reportJobButtonEnabled\\'] = false; window[\\'sj_result_fdf9a9d0b846b357\\'][\\'showMyJobsHired\\'] = false; window[\\'sj_result_fdf9a9d0b846b357\\'][\\'showSaveForSponsored\\'] = true; window[\\'sj_result_fdf9a9d0b846b357\\'][\\'showJobAge\\'] = true;</script></div></div>\\n                        <div class=\"tab-container\">\\n                            <div class=\"sign-in-container result-tab\"></div>\\n                            <div class=\"tellafriend-container result-tab email_job_content\"></div>\\n                        </div>\\n                    </div>\\n            </div>\\n        <div class=\"row  result\" id=\"pj_154b1e50ebea0cec\" data-jk=\"154b1e50ebea0cec\" data-advn=\"1905239545198078\" data-tu=\"\" >\\n            <a target=\"_blank\" id=\"sja2\" data-tn-element=\"jobTitle\" class=\"jobtitle turnstileLink\" href=\"/pagead/clk?mo=r&ad=-6NYlbfkN0BokKRYNMOHdG3xHeNPGVPbGYc95s5SN-RcJXVt0hajVObQiq4gffOycghc1wVWRpQSUAWILWq30iZAs4Ty8ATkM_0DNwtldm4Dw9IG3upCwwzfD9yMTRbiMFHRsPA-uTI07RW4PKNM5VN-ZmIG8DfD2AE6FYDt-aVv3kq4bRg0Vf07zz3Hh5dIUkaLMwt0ampBoRdzK3UZVOv-80PCXSkARgoe4an18J67UjVh3vs2l-M8gMM28elA9vFm8qsVVNFxojIgkm-kk09i3gIof3u_-3wYjz_X1xj81NDxtQfTMk6DIrb5Gi5qyjtXv1MQ5KG7BfveV1SZSMWXRQMJKTdmdM_aq60HU9DS1pXQ-D2_3cC-vvwDw2IbWb2OTzHBYDJ-vl-l9pEomwuiWc_9Sn0KHrlfigFlWHJ5wM4h4AQROa6ctpP0BY7X565fjXMCpBNSoyrMhPiBJ3qQHmYubbDMQBIxawxg2EXyyb_-QrLhG4C9C8ME957lIMjOXUPi8f6v-oACsmGE6hnhY78avs-DfJfpI9mY1bRsmIz6miT_BpytM3mACkkmCkSA9C0w5tFfKEWNQQaLCHTEKoDvrpEM04o4aOuAFeI=&p=2&sk=&fvj=0\" title=\"Big Data - Data Scientist\" rel=\"noopener nofollow\" onmousedown=\"sjomd(\\'sja2\\'); clk(\\'sja2\\');\" onclick=\"setRefineByCookie([]); sjoc(\\'sja2\\',0); convCtr(\\'SJ\\')\">Big <b>Data</b> - <b>Data</b> <b>Scientist</b></a>\\n\\n            <br>\\n            <div class=\"sjcl\">\\n            <span class=\"company\">\\n    PEOPLE LAB S.R.L.</span>\\n\\n - <span class=location>Milano, Lombardia</span>\\n            </div>\\n            <div class=\"\">\\n                <table cellpadding=0 cellspacing=0 border=0><tr><td class=snip>\\n                        <span class=summary>\\n                            Big <b>Data</b> - <b>Data</b> <b>Scientist</b>. Costituir\\xc3\\xa0 requisito preferenziale la competenza su &quot;R&quot; e di Analisi su Sistemi di Big <b>Data</b>....</span>\\n                    </td></tr></table>\\n                </div>\\n\\n                <div class=\"sjCapt\">\\n                    <div class=\"result-link-bar-container\">\\n                            <div class=\"result-link-bar\"><span class=\" sponsoredGray \">Sponsorizzata da <b>IProgrammatori.it</b></span> - <span class=\"date\">3 giorni fa</span> <span id=\"tt_set_11\" class=\"tt_set\">  -  <a id=\"sj_154b1e50ebea0cec\" href=\"#\" class=\"sl resultLink save-job-link \" onclick=\"changeJobState(\\'154b1e50ebea0cec\\', \\'save\\', \\'linkbar\\', true, \\'\\'); return false;\" title=\"Salva questa offerta di lavoro su mio.indeed\">salva offerta</a></span><div id=\"editsaved2_154b1e50ebea0cec\" class=\"edit_note_content\" style=\"display:none;\"></div><script>if (!window[\\'sj_result_154b1e50ebea0cec\\']) {window[\\'sj_result_154b1e50ebea0cec\\'] = {};}window[\\'sj_result_154b1e50ebea0cec\\'][\\'showSource\\'] = false; window[\\'sj_result_154b1e50ebea0cec\\'][\\'source\\'] = \"IProgrammatori.it\"; window[\\'sj_result_154b1e50ebea0cec\\'][\\'loggedIn\\'] = false; window[\\'sj_result_154b1e50ebea0cec\\'][\\'showMyJobsLinks\\'] = false;window[\\'sj_result_154b1e50ebea0cec\\'][\\'undoAction\\'] = \"unsave\";window[\\'sj_result_154b1e50ebea0cec\\'][\\'relativeJobAge\\'] = \"3 giorni fa\";window[\\'sj_result_154b1e50ebea0cec\\'][\\'jobKey\\'] = \"154b1e50ebea0cec\"; window[\\'sj_result_154b1e50ebea0cec\\'][\\'myIndeedAvailable\\'] = true; window[\\'sj_result_154b1e50ebea0cec\\'][\\'showMoreActionsLink\\'] = window[\\'sj_result_154b1e50ebea0cec\\'][\\'showMoreActionsLink\\'] || false; window[\\'sj_result_154b1e50ebea0cec\\'][\\'resultNumber\\'] = 11; window[\\'sj_result_154b1e50ebea0cec\\'][\\'jobStateChangedToSaved\\'] = false; window[\\'sj_result_154b1e50ebea0cec\\'][\\'searchState\\'] = \"q=Data Scientist&amp;\"; window[\\'sj_result_154b1e50ebea0cec\\'][\\'basicPermaLink\\'] = \"https://it.indeed.com\"; window[\\'sj_result_154b1e50ebea0cec\\'][\\'saveJobFailed\\'] = false; window[\\'sj_result_154b1e50ebea0cec\\'][\\'removeJobFailed\\'] = false; window[\\'sj_result_154b1e50ebea0cec\\'][\\'requestPending\\'] = false; window[\\'sj_result_154b1e50ebea0cec\\'][\\'notesEnabled\\'] = false; window[\\'sj_result_154b1e50ebea0cec\\'][\\'currentPage\\'] = \"serp\"; window[\\'sj_result_154b1e50ebea0cec\\'][\\'sponsored\\'] = true;window[\\'sj_result_154b1e50ebea0cec\\'][\\'showSponsor\\'] = true;window[\\'sj_result_154b1e50ebea0cec\\'][\\'sponsorName\\'] = \"IProgrammatori.it\";window[\\'sj_result_154b1e50ebea0cec\\'][\\'reportJobButtonEnabled\\'] = false; window[\\'sj_result_154b1e50ebea0cec\\'][\\'showMyJobsHired\\'] = false; window[\\'sj_result_154b1e50ebea0cec\\'][\\'showSaveForSponsored\\'] = true; window[\\'sj_result_154b1e50ebea0cec\\'][\\'showJobAge\\'] = true;</script></div></div>\\n                        <div class=\"tab-container\">\\n                            <div class=\"sign-in-container result-tab\"></div>\\n                            <div class=\"tellafriend-container result-tab email_job_content\"></div>\\n                        </div>\\n                    </div>\\n            </div>\\n        <div class=\"row sjlast result\" id=\"pj_32cf109d9bda9d7e\" data-jk=\"32cf109d9bda9d7e\" data-advn=\"3553342760907425\" data-tu=\"\" >\\n            <a target=\"_blank\" id=\"sja3\" data-tn-element=\"jobTitle\" class=\"jobtitle turnstileLink\" href=\"/pagead/clk?mo=r&ad=-6NYlbfkN0BzXSAMrERGB2VLU_0Amw16LrV5wGbQQwicEwsyp-whzeidBKUvA6824A18Mh7zuPL6HLeEfpR3PhiXc5WgbJpWCkYuIlN-cbusBbtwTCQd-tHABVjIhVHrYuNGxHUWKeaYngJanaOEBVMOIQlhYXH4IyeRBReJuo_e5DleyW6aAcGLcc7mMHT-MfjUtww4APUr3uq8LXvvWOVIyLaDIRwzStjq4tnDhrLZCkvRLM3oa9aAoJAq4oifWIPa_1voXDNR649jX65UcCkghrkSJeRjdlTW3txEJIU561TKOGE1x9rpxnql5QpSal3LdS7Z7PSRT5Q37nb8ACI5l3iazIVawpED_TFLd1gGLb2CdUaO8VFX6DRHt4HZTxxqlBTbuqGdnTX6_rMzpik58OhLyvR-oHLlMeTdjyqOlxqJ06Z49pdvQtO2uCPeEoHiXdXWK5gtwbYbTMUJZGYe0yGx5oP7zLqa1X_wN5vHLozXj4mu322ujXYAiqJ2Kl1GY12WgwhvWc0RzD2VBR7527XFiDPUJkLRbiO2DXY2MQDs29brTMO7t4m1LZLfiHsOB9TqyfU=&p=3&sk=&fvj=0\" title=\"Data Scientist\" rel=\"noopener nofollow\" onmousedown=\"sjomd(\\'sja3\\'); clk(\\'sja3\\');\" onclick=\"setRefineByCookie([]); sjoc(\\'sja3\\',0); convCtr(\\'SJ\\')\"><b>Data</b> <b>Scientist</b></a>\\n\\n            <br>\\n            <div class=\"sjcl\">\\n            <span class=\"company\">\\n    Philmark Informatica Spa</span>\\n\\n - <span class=location>Lombardia</span>\\n            </div>\\n            <div class=\"\">\\n                <table cellpadding=0 cellspacing=0 border=0><tr><td class=snip>\\n                        <span class=summary>\\n                            Philmark Informatica ricerca per importante progetto un <b>Data</b> <b>Scientist</b> . La risorsa dovr\\xc3\\xa0 guidare il gruppo di lavoro e relazionarsi....</span>\\n                    </td></tr></table>\\n                </div>\\n\\n                <div class=\"sjCapt\">\\n                    <div class=\"result-link-bar-container\">\\n                            <div class=\"result-link-bar\"><span class=\" sponsoredGray \">Sponsorizzata da <b>TrovoLavoro.it</b></span> - <span id=\"tt_set_12\" class=\"tt_set\"><a id=\"sj_32cf109d9bda9d7e\" href=\"#\" class=\"sl resultLink save-job-link \" onclick=\"changeJobState(\\'32cf109d9bda9d7e\\', \\'save\\', \\'linkbar\\', true, \\'\\'); return false;\" title=\"Salva questa offerta di lavoro su mio.indeed\">salva offerta</a></span><div id=\"editsaved2_32cf109d9bda9d7e\" class=\"edit_note_content\" style=\"display:none;\"></div><script>if (!window[\\'sj_result_32cf109d9bda9d7e\\']) {window[\\'sj_result_32cf109d9bda9d7e\\'] = {};}window[\\'sj_result_32cf109d9bda9d7e\\'][\\'showSource\\'] = false; window[\\'sj_result_32cf109d9bda9d7e\\'][\\'source\\'] = \"TrovoLavoro.it\"; window[\\'sj_result_32cf109d9bda9d7e\\'][\\'loggedIn\\'] = false; window[\\'sj_result_32cf109d9bda9d7e\\'][\\'showMyJobsLinks\\'] = false;window[\\'sj_result_32cf109d9bda9d7e\\'][\\'undoAction\\'] = \"unsave\";window[\\'sj_result_32cf109d9bda9d7e\\'][\\'jobKey\\'] = \"32cf109d9bda9d7e\"; window[\\'sj_result_32cf109d9bda9d7e\\'][\\'myIndeedAvailable\\'] = true; window[\\'sj_result_32cf109d9bda9d7e\\'][\\'showMoreActionsLink\\'] = window[\\'sj_result_32cf109d9bda9d7e\\'][\\'showMoreActionsLink\\'] || false; window[\\'sj_result_32cf109d9bda9d7e\\'][\\'resultNumber\\'] = 12; window[\\'sj_result_32cf109d9bda9d7e\\'][\\'jobStateChangedToSaved\\'] = false; window[\\'sj_result_32cf109d9bda9d7e\\'][\\'searchState\\'] = \"q=Data Scientist&amp;\"; window[\\'sj_result_32cf109d9bda9d7e\\'][\\'basicPermaLink\\'] = \"https://it.indeed.com\"; window[\\'sj_result_32cf109d9bda9d7e\\'][\\'saveJobFailed\\'] = false; window[\\'sj_result_32cf109d9bda9d7e\\'][\\'removeJobFailed\\'] = false; window[\\'sj_result_32cf109d9bda9d7e\\'][\\'requestPending\\'] = false; window[\\'sj_result_32cf109d9bda9d7e\\'][\\'notesEnabled\\'] = false; window[\\'sj_result_32cf109d9bda9d7e\\'][\\'currentPage\\'] = \"serp\"; window[\\'sj_result_32cf109d9bda9d7e\\'][\\'sponsored\\'] = true;window[\\'sj_result_32cf109d9bda9d7e\\'][\\'showSponsor\\'] = true;window[\\'sj_result_32cf109d9bda9d7e\\'][\\'sponsorName\\'] = \"TrovoLavoro.it\";window[\\'sj_result_32cf109d9bda9d7e\\'][\\'reportJobButtonEnabled\\'] = false; window[\\'sj_result_32cf109d9bda9d7e\\'][\\'showMyJobsHired\\'] = false; window[\\'sj_result_32cf109d9bda9d7e\\'][\\'showSaveForSponsored\\'] = true; window[\\'sj_result_32cf109d9bda9d7e\\'][\\'showJobAge\\'] = true;</script></div></div>\\n                        <div class=\"tab-container\">\\n                            <div class=\"sign-in-container result-tab\"></div>\\n                            <div class=\"tellafriend-container result-tab email_job_content\"></div>\\n                        </div>\\n                    </div>\\n            </div>\\n        <div class=\"brdr\"><!-- --></div></div>\\n<div class=\"  row  result\" id=\"p_d9db53bb72ba6a6d\" data-jk=\"d9db53bb72ba6a6d\" data-tn-component=\"organicJob\"\\n    \\n     data-tu=\"\"\\n>\\n<h2 id=jl_d9db53bb72ba6a6d class=\"jobtitle\">\\n    <a\\n                                               href=\"/rc/clk?jk=d9db53bb72ba6a6d&fccid=001c941b4bd131d5\" target=\"_blank\" rel=\"noopener nofollow\"\\n                                               onmousedown=\"return rclk(this,jobmap[0],0);\"\\n                                               onclick=\"setRefineByCookie([]); return rclk(this,jobmap[0],true,0);\"\\n                                               title=\"Data Analyst/Data Scientist\"\\n                                               class=\"turnstileLink\"\\n                                               data-tn-element=\"jobTitle\"><b>Data</b> Analyst/<b>Data</b> <b>Scientist</b></a>\\n    </h2>\\n<span class=\"company\">\\n    <a\\n                href=\"/cmp/Groupama\" target=\"_blank\"\\n                onmousedown=\"this.href = appendParamsOnce(this.href, \\'from=SERP&campaignid=serp-linkcompanyname&fromjk=d9db53bb72ba6a6d&jcid=001c941b4bd131d5\\')\"\\n                rel=\"noopener\"\\n        >\\n    Groupama</a></span>\\n\\n - <a data-tn-element=\"reviewStars\" data-tn-variant=\"cmplinktst2\" class=\"turnstileLink slNoUnderline \" href=\"/cmp/Groupama/reviews\" title=\"Recensioni Groupama\" class=\"ratingsLabel\" onmousedown=\"this.href = appendParamsOnce(this.href, \\'?campaignid=cmplinktst2&from=SERP&jt=Data+Analyst%5C%2FData+Scientist&fromjk=d9db53bb72ba6a6d&jcid=001c941b4bd131d5\\');\" target=\"_blank\"\\n         rel=\"noopener\">\\n    <span class=\"ratings\"><span class=\"rating\" style=\"width:43.8px\"><!-- --></span></span>\\n<span class=\"slNoUnderline\">111 recensioni</span></a>\\n - <span class=\"location\">Roma, Lazio</span>\\n    <table cellpadding=0 cellspacing=0 border=0>\\n<tr>\\n<td class=snip>\\n<div class=\"\">\\n    <span class=summary>\\n            Percorsi specialistici in <b>Data</b> Science, Big <b>Data</b>, <b>Data</b> Mining, IOT; Le risorse, si occuperanno delle seguenti attivit\\xc3\\xa0:....</span>\\n    </div>\\n\\n\\n<div class=\"result-link-bar-container\">\\n    <div class=\"result-link-bar\"><span class=\"date\">10 giorni fa</span> <span id=\"tt_set_0\" class=\"tt_set\">  -  <a id=\"sj_d9db53bb72ba6a6d\" href=\"#\" class=\"sl resultLink save-job-link \" onclick=\"changeJobState(\\'d9db53bb72ba6a6d\\', \\'save\\', \\'linkbar\\', false, \\'\\'); return false;\" title=\"Salva questa offerta di lavoro su mio.indeed\">salva offerta</a> - <a href=\"#\" id=\"tog_0\" class=\"sl resultLink more-link \" onclick=\"toggleMoreLinks(\\'d9db53bb72ba6a6d\\'); return false;\">altro...</a></span><div id=\"editsaved2_d9db53bb72ba6a6d\" class=\"edit_note_content\" style=\"display:none;\"></div><script>if (!window[\\'result_d9db53bb72ba6a6d\\']) {window[\\'result_d9db53bb72ba6a6d\\'] = {};}window[\\'result_d9db53bb72ba6a6d\\'][\\'showSource\\'] = false; window[\\'result_d9db53bb72ba6a6d\\'][\\'source\\'] = \"Groupama\"; window[\\'result_d9db53bb72ba6a6d\\'][\\'loggedIn\\'] = false; window[\\'result_d9db53bb72ba6a6d\\'][\\'showMyJobsLinks\\'] = false;window[\\'result_d9db53bb72ba6a6d\\'][\\'undoAction\\'] = \"unsave\";window[\\'result_d9db53bb72ba6a6d\\'][\\'relativeJobAge\\'] = \"10 giorni fa\";window[\\'result_d9db53bb72ba6a6d\\'][\\'jobKey\\'] = \"d9db53bb72ba6a6d\"; window[\\'result_d9db53bb72ba6a6d\\'][\\'myIndeedAvailable\\'] = true; window[\\'result_d9db53bb72ba6a6d\\'][\\'showMoreActionsLink\\'] = window[\\'result_d9db53bb72ba6a6d\\'][\\'showMoreActionsLink\\'] || true; window[\\'result_d9db53bb72ba6a6d\\'][\\'resultNumber\\'] = 0; window[\\'result_d9db53bb72ba6a6d\\'][\\'jobStateChangedToSaved\\'] = false; window[\\'result_d9db53bb72ba6a6d\\'][\\'searchState\\'] = \"q=Data Scientist&amp;\"; window[\\'result_d9db53bb72ba6a6d\\'][\\'basicPermaLink\\'] = \"https://it.indeed.com\"; window[\\'result_d9db53bb72ba6a6d\\'][\\'saveJobFailed\\'] = false; window[\\'result_d9db53bb72ba6a6d\\'][\\'removeJobFailed\\'] = false; window[\\'result_d9db53bb72ba6a6d\\'][\\'requestPending\\'] = false; window[\\'result_d9db53bb72ba6a6d\\'][\\'notesEnabled\\'] = true; window[\\'result_d9db53bb72ba6a6d\\'][\\'currentPage\\'] = \"serp\"; window[\\'result_d9db53bb72ba6a6d\\'][\\'sponsored\\'] = false;window[\\'result_d9db53bb72ba6a6d\\'][\\'reportJobButtonEnabled\\'] = false; window[\\'result_d9db53bb72ba6a6d\\'][\\'showMyJobsHired\\'] = false; window[\\'result_d9db53bb72ba6a6d\\'][\\'showSaveForSponsored\\'] = false; window[\\'result_d9db53bb72ba6a6d\\'][\\'showJobAge\\'] = true;</script></div></div>\\n\\n<div class=\"tab-container\">\\n    <div id=\"tt_display_0\" class=\"more-links-container result-tab\" style=\"display:none;\"><a class=\"close-link closeLink\" title=\"Close\" href=\"#\" onclick=\"toggleMoreLinks(\\'d9db53bb72ba6a6d\\'); return false;\"></a><div id=\"more_0\" class=\"more_actions\"><ul><li><span class=\"mat\">Visualizza tutte le Offerte di <a href=\"/offerte-lavoro-Groupama\" rel=\"nofollow\">lavoro - Groupama</a> - <a href=\"/Roma,-Lazio-offerte-lavoro\">lavoro - Roma</a></span></li><li><span class=\"mat\">Per saperne di pi\\xc3\\xb9 sul lavoro presso <a href=\"/cmp/Groupama\" onmousedown=\"this.href = appendParamsOnce(this.href, \\'?fromjk=d9db53bb72ba6a6d&amp;from=serp-more&amp;campaignid=serp-more&amp;jcid=001c941b4bd131d5\\');\" >Groupama</a></span></li></ul></div></div><div class=\"dya-container result-tab\"></div>\\n    <div class=\"tellafriend-container result-tab email_job_content\"></div>\\n    <div class=\"sign-in-container result-tab\"></div>\\n    <div class=\"notes-container result-tab\"></div>\\n</div>\\n\\n</td>\\n</tr>\\n</table>\\n</div>\\n\\n<div class=\"  row  result\" id=\"p_762ddb260323b512\" data-jk=\"762ddb260323b512\" data-tn-component=\"organicJob\"\\n    \\n     data-tu=\"\"\\n>\\n<h2 id=jl_762ddb260323b512 class=\"jobtitle\">\\n    <a\\n                                               href=\"/company/Crea-Mc-Srl/jobs/Data-Scientist-762ddb260323b512?fccid=4ad1b2385dfd3b31\" target=\"_blank\" rel=\"noopener\"\\n                                               onmousedown=\"return rclk(this,jobmap[1],1);\"\\n                                               onclick=\"setRefineByCookie([]); return rclk(this,jobmap[1],true,1);\"\\n                                               title=\"Data Scientist\"\\n                                               class=\"turnstileLink\"\\n                                               data-tn-element=\"jobTitle\"><b>Data</b> <b>Scientist</b></a>\\n    </h2>\\n<span class=\"company\">\\n    Crea Mc Srl</span>\\n\\n - <span class=\"location\">Milano Centro, Lombardia</span>\\n    <table cellpadding=0 cellspacing=0 border=0>\\n<tr>\\n<td class=snip>\\n<div>\\n        <span class=\"no-wrap\">\\n                \\xe2\\x82\\xac1.100 - \\xe2\\x82\\xac1.300 al mese</span>\\n        </div>\\n<div class=\"\">\\n    <span class=summary>\\n            Conoscenza delle tecniche di <b>Data</b> Mining. Il candidato ideale, appassionato di Big <b>Data</b> e Statistica, verr\\xc3\\xa0 inserito nel nostro Team di Analisi specializzato...</span>\\n    </div>\\n\\n\\n<div class=\"iaP\">\\n    <span class=\"iaLabel\"> Invia la candidatura per questa posizione attraverso Indeed</span>\\n</div>\\n<div class=\"result-link-bar-container\">\\n    <div class=\"result-link-bar\"><span class=\"date\">22 giorni fa</span> <span id=\"tt_set_1\" class=\"tt_set\">  -  <a id=\"sj_762ddb260323b512\" href=\"#\" class=\"sl resultLink save-job-link \" onclick=\"changeJobState(\\'762ddb260323b512\\', \\'save\\', \\'linkbar\\', false, \\'\\'); return false;\" title=\"Salva questa offerta di lavoro su mio.indeed\">salva offerta</a> - <a href=\"#\" id=\"tog_1\" class=\"sl resultLink more-link \" onclick=\"toggleMoreLinks(\\'762ddb260323b512\\'); return false;\">altro...</a></span><div id=\"editsaved2_762ddb260323b512\" class=\"edit_note_content\" style=\"display:none;\"></div><script>if (!window[\\'result_762ddb260323b512\\']) {window[\\'result_762ddb260323b512\\'] = {};}window[\\'result_762ddb260323b512\\'][\\'showSource\\'] = false; window[\\'result_762ddb260323b512\\'][\\'source\\'] = \"Indeed\"; window[\\'result_762ddb260323b512\\'][\\'loggedIn\\'] = false; window[\\'result_762ddb260323b512\\'][\\'showMyJobsLinks\\'] = false;window[\\'result_762ddb260323b512\\'][\\'undoAction\\'] = \"unsave\";window[\\'result_762ddb260323b512\\'][\\'relativeJobAge\\'] = \"22 giorni fa\";window[\\'result_762ddb260323b512\\'][\\'jobKey\\'] = \"762ddb260323b512\"; window[\\'result_762ddb260323b512\\'][\\'myIndeedAvailable\\'] = true; window[\\'result_762ddb260323b512\\'][\\'showMoreActionsLink\\'] = window[\\'result_762ddb260323b512\\'][\\'showMoreActionsLink\\'] || true; window[\\'result_762ddb260323b512\\'][\\'resultNumber\\'] = 1; window[\\'result_762ddb260323b512\\'][\\'jobStateChangedToSaved\\'] = false; window[\\'result_762ddb260323b512\\'][\\'searchState\\'] = \"q=Data Scientist&amp;\"; window[\\'result_762ddb260323b512\\'][\\'basicPermaLink\\'] = \"https://it.indeed.com\"; window[\\'result_762ddb260323b512\\'][\\'saveJobFailed\\'] = false; window[\\'result_762ddb260323b512\\'][\\'removeJobFailed\\'] = false; window[\\'result_762ddb260323b512\\'][\\'requestPending\\'] = false; window[\\'result_762ddb260323b512\\'][\\'notesEnabled\\'] = true; window[\\'result_762ddb260323b512\\'][\\'currentPage\\'] = \"serp\"; window[\\'result_762ddb260323b512\\'][\\'sponsored\\'] = false;window[\\'result_762ddb260323b512\\'][\\'reportJobButtonEnabled\\'] = false; window[\\'result_762ddb260323b512\\'][\\'showMyJobsHired\\'] = false; window[\\'result_762ddb260323b512\\'][\\'showSaveForSponsored\\'] = false; window[\\'result_762ddb260323b512\\'][\\'showJobAge\\'] = true;</script></div></div>\\n\\n<div class=\"tab-container\">\\n    <div id=\"tt_display_1\" class=\"more-links-container result-tab\" style=\"display:none;\"><a class=\"close-link closeLink\" title=\"Close\" href=\"#\" onclick=\"toggleMoreLinks(\\'762ddb260323b512\\'); return false;\"></a><div id=\"more_1\" class=\"more_actions\"><ul><li><span class=\"mat\">Visualizza tutte le Offerte di <a href=\"/offerte-lavoro-Crea-Mc-Srl\" rel=\"nofollow\">lavoro - Crea Mc Srl</a> - <a href=\"/Milano-Centro,-Lombardia-offerte-lavoro\">lavoro - Milano Centro</a></span></li></ul></div></div><div class=\"dya-container result-tab\"></div>\\n    <div class=\"tellafriend-container result-tab email_job_content\"></div>\\n    <div class=\"sign-in-container result-tab\"></div>\\n    <div class=\"notes-container result-tab\"></div>\\n</div>\\n\\n</td>\\n</tr>\\n</table>\\n</div>\\n\\n<div class=\"  row  result\" id=\"p_26c65dc8b29e191c\" data-jk=\"26c65dc8b29e191c\" data-tn-component=\"organicJob\"\\n    \\n     data-tu=\"\"\\n>\\n<h2 id=jl_26c65dc8b29e191c class=\"jobtitle\">\\n    <a\\n                                               href=\"/rc/clk?jk=26c65dc8b29e191c&fccid=6913ca6a567d63c6\" target=\"_blank\" rel=\"noopener nofollow\"\\n                                               onmousedown=\"return rclk(this,jobmap[2],0);\"\\n                                               onclick=\"setRefineByCookie([]); return rclk(this,jobmap[2],true,0);\"\\n                                               title=\"Junior Data Scientist\"\\n                                               class=\"turnstileLink\"\\n                                               data-tn-element=\"jobTitle\">Junior <b>Data</b> <b>Scientist</b></a>\\n    </h2>\\n<span class=\"company\">\\n    Coesia Group</span>\\n\\n - <span class=\"location\">Italia</span>\\n    <table cellpadding=0 cellspacing=0 border=0>\\n<tr>\\n<td class=snip>\\n<div class=\"\">\\n    <span class=summary>\\n            Main Responsibilities / Activities We\\xe2\\x80\\x99re looking for a Junior <b>Data</b> <b>Scientist</b> who will be part of the headquarter-based Coesia Engineering Center \\xe2\\x80\\x93 Applied...</span>\\n    </div>\\n\\n\\n<div class=\"result-link-bar-container\">\\n    <div class=\"result-link-bar\"><span class=\"date\">30+ giorni fa</span> <span id=\"tt_set_2\" class=\"tt_set\">  -  <a id=\"sj_26c65dc8b29e191c\" href=\"#\" class=\"sl resultLink save-job-link \" onclick=\"changeJobState(\\'26c65dc8b29e191c\\', \\'save\\', \\'linkbar\\', false, \\'\\'); return false;\" title=\"Salva questa offerta di lavoro su mio.indeed\">salva offerta</a> - <a href=\"#\" id=\"tog_2\" class=\"sl resultLink more-link \" onclick=\"toggleMoreLinks(\\'26c65dc8b29e191c\\'); return false;\">altro...</a></span><div id=\"editsaved2_26c65dc8b29e191c\" class=\"edit_note_content\" style=\"display:none;\"></div><script>if (!window[\\'result_26c65dc8b29e191c\\']) {window[\\'result_26c65dc8b29e191c\\'] = {};}window[\\'result_26c65dc8b29e191c\\'][\\'showSource\\'] = false; window[\\'result_26c65dc8b29e191c\\'][\\'source\\'] = \"Coesia Group\"; window[\\'result_26c65dc8b29e191c\\'][\\'loggedIn\\'] = false; window[\\'result_26c65dc8b29e191c\\'][\\'showMyJobsLinks\\'] = false;window[\\'result_26c65dc8b29e191c\\'][\\'undoAction\\'] = \"unsave\";window[\\'result_26c65dc8b29e191c\\'][\\'relativeJobAge\\'] = \"30+ giorni fa\";window[\\'result_26c65dc8b29e191c\\'][\\'jobKey\\'] = \"26c65dc8b29e191c\"; window[\\'result_26c65dc8b29e191c\\'][\\'myIndeedAvailable\\'] = true; window[\\'result_26c65dc8b29e191c\\'][\\'showMoreActionsLink\\'] = window[\\'result_26c65dc8b29e191c\\'][\\'showMoreActionsLink\\'] || true; window[\\'result_26c65dc8b29e191c\\'][\\'resultNumber\\'] = 2; window[\\'result_26c65dc8b29e191c\\'][\\'jobStateChangedToSaved\\'] = false; window[\\'result_26c65dc8b29e191c\\'][\\'searchState\\'] = \"q=Data Scientist&amp;\"; window[\\'result_26c65dc8b29e191c\\'][\\'basicPermaLink\\'] = \"https://it.indeed.com\"; window[\\'result_26c65dc8b29e191c\\'][\\'saveJobFailed\\'] = false; window[\\'result_26c65dc8b29e191c\\'][\\'removeJobFailed\\'] = false; window[\\'result_26c65dc8b29e191c\\'][\\'requestPending\\'] = false; window[\\'result_26c65dc8b29e191c\\'][\\'notesEnabled\\'] = true; window[\\'result_26c65dc8b29e191c\\'][\\'currentPage\\'] = \"serp\"; window[\\'result_26c65dc8b29e191c\\'][\\'sponsored\\'] = false;window[\\'result_26c65dc8b29e191c\\'][\\'reportJobButtonEnabled\\'] = false; window[\\'result_26c65dc8b29e191c\\'][\\'showMyJobsHired\\'] = false; window[\\'result_26c65dc8b29e191c\\'][\\'showSaveForSponsored\\'] = false; window[\\'result_26c65dc8b29e191c\\'][\\'showJobAge\\'] = true;</script></div></div>\\n\\n<div class=\"tab-container\">\\n    <div id=\"tt_display_2\" class=\"more-links-container result-tab\" style=\"display:none;\"><a class=\"close-link closeLink\" title=\"Close\" href=\"#\" onclick=\"toggleMoreLinks(\\'26c65dc8b29e191c\\'); return false;\"></a><div id=\"more_2\" class=\"more_actions\"><ul><li><span class=\"mat\">Visualizza tutte le Offerte di <a href=\"/offerte-lavoro-Coesia-Group\" rel=\"nofollow\">lavoro - Coesia Group</a> - <a href=\"/Italia-offerte-lavoro\">lavoro - Italia</a></span></li><li><span class=\"mat\">Per saperne di pi\\xc3\\xb9 sul lavoro presso <a href=\"/cmp/Coesia-Group\" onmousedown=\"this.href = appendParamsOnce(this.href, \\'?fromjk=26c65dc8b29e191c&amp;from=serp-more&amp;campaignid=serp-more&amp;jcid=6913ca6a567d63c6\\');\" >Coesia Group</a></span></li></ul></div></div><div class=\"dya-container result-tab\"></div>\\n    <div class=\"tellafriend-container result-tab email_job_content\"></div>\\n    <div class=\"sign-in-container result-tab\"></div>\\n    <div class=\"notes-container result-tab\"></div>\\n</div>\\n\\n</td>\\n</tr>\\n</table>\\n</div>\\n\\n<div class=\"  row  result\" id=\"p_4f4cb8ce8b61e2bf\" data-jk=\"4f4cb8ce8b61e2bf\" data-tn-component=\"organicJob\"\\n    \\n     data-tu=\"\"\\n>\\n<h2 id=jl_4f4cb8ce8b61e2bf class=\"jobtitle\">\\n    <a\\n                                               href=\"/company/TECH-ENGINES-SRL/jobs/Insuretech-Junior-Data-Scientist-4f4cb8ce8b61e2bf?fccid=5462a820ef70f54a\" target=\"_blank\" rel=\"noopener\"\\n                                               onmousedown=\"return rclk(this,jobmap[3],1);\"\\n                                               onclick=\"setRefineByCookie([]); return rclk(this,jobmap[3],true,1);\"\\n                                               title=\"InsureTech Junior Data Scientist\"\\n                                               class=\"turnstileLink\"\\n                                               data-tn-element=\"jobTitle\">InsureTech Junior <b>Data</b> <b>Scientist</b></a>\\n    </h2>\\n<span class=\"company\">\\n    TECH ENGINES SRL</span>\\n\\n - <span class=\"location\">Firenze, Toscana</span>\\n    <table cellpadding=0 cellspacing=0 border=0>\\n<tr>\\n<td class=snip>\\n<div>\\n        <span class=\"no-wrap\">\\n                \\xe2\\x82\\xac1.500 - \\xe2\\x82\\xac2.000 al mese</span>\\n        </div>\\n<div class=\"\">\\n    <span class=summary>\\n            Interessati a crescere come *<b>Data</b> <b>Scientist</b>*. Tech Engines, ambiziosa start-up operante in ambito InsureTech e InsureIntelligence (A.I....</span>\\n    </div>\\n\\n\\n<div class=\"iaP\">\\n    <span class=\"iaLabel\"> Invia la candidatura per questa posizione attraverso Indeed</span>\\n</div>\\n<div class=\"result-link-bar-container\">\\n    <div class=\"result-link-bar\"><span class=\"date\">30+ giorni fa</span> <span id=\"tt_set_3\" class=\"tt_set\">  -  <a id=\"sj_4f4cb8ce8b61e2bf\" href=\"#\" class=\"sl resultLink save-job-link \" onclick=\"changeJobState(\\'4f4cb8ce8b61e2bf\\', \\'save\\', \\'linkbar\\', false, \\'\\'); return false;\" title=\"Salva questa offerta di lavoro su mio.indeed\">salva offerta</a> - <a href=\"#\" id=\"tog_3\" class=\"sl resultLink more-link \" onclick=\"toggleMoreLinks(\\'4f4cb8ce8b61e2bf\\'); return false;\">altro...</a></span><div id=\"editsaved2_4f4cb8ce8b61e2bf\" class=\"edit_note_content\" style=\"display:none;\"></div><script>if (!window[\\'result_4f4cb8ce8b61e2bf\\']) {window[\\'result_4f4cb8ce8b61e2bf\\'] = {};}window[\\'result_4f4cb8ce8b61e2bf\\'][\\'showSource\\'] = false; window[\\'result_4f4cb8ce8b61e2bf\\'][\\'source\\'] = \"Indeed\"; window[\\'result_4f4cb8ce8b61e2bf\\'][\\'loggedIn\\'] = false; window[\\'result_4f4cb8ce8b61e2bf\\'][\\'showMyJobsLinks\\'] = false;window[\\'result_4f4cb8ce8b61e2bf\\'][\\'undoAction\\'] = \"unsave\";window[\\'result_4f4cb8ce8b61e2bf\\'][\\'relativeJobAge\\'] = \"30+ giorni fa\";window[\\'result_4f4cb8ce8b61e2bf\\'][\\'jobKey\\'] = \"4f4cb8ce8b61e2bf\"; window[\\'result_4f4cb8ce8b61e2bf\\'][\\'myIndeedAvailable\\'] = true; window[\\'result_4f4cb8ce8b61e2bf\\'][\\'showMoreActionsLink\\'] = window[\\'result_4f4cb8ce8b61e2bf\\'][\\'showMoreActionsLink\\'] || true; window[\\'result_4f4cb8ce8b61e2bf\\'][\\'resultNumber\\'] = 3; window[\\'result_4f4cb8ce8b61e2bf\\'][\\'jobStateChangedToSaved\\'] = false; window[\\'result_4f4cb8ce8b61e2bf\\'][\\'searchState\\'] = \"q=Data Scientist&amp;\"; window[\\'result_4f4cb8ce8b61e2bf\\'][\\'basicPermaLink\\'] = \"https://it.indeed.com\"; window[\\'result_4f4cb8ce8b61e2bf\\'][\\'saveJobFailed\\'] = false; window[\\'result_4f4cb8ce8b61e2bf\\'][\\'removeJobFailed\\'] = false; window[\\'result_4f4cb8ce8b61e2bf\\'][\\'requestPending\\'] = false; window[\\'result_4f4cb8ce8b61e2bf\\'][\\'notesEnabled\\'] = true; window[\\'result_4f4cb8ce8b61e2bf\\'][\\'currentPage\\'] = \"serp\"; window[\\'result_4f4cb8ce8b61e2bf\\'][\\'sponsored\\'] = false;window[\\'result_4f4cb8ce8b61e2bf\\'][\\'reportJobButtonEnabled\\'] = false; window[\\'result_4f4cb8ce8b61e2bf\\'][\\'showMyJobsHired\\'] = false; window[\\'result_4f4cb8ce8b61e2bf\\'][\\'showSaveForSponsored\\'] = false; window[\\'result_4f4cb8ce8b61e2bf\\'][\\'showJobAge\\'] = true;</script></div></div>\\n\\n<div class=\"tab-container\">\\n    <div id=\"tt_display_3\" class=\"more-links-container result-tab\" style=\"display:none;\"><a class=\"close-link closeLink\" title=\"Close\" href=\"#\" onclick=\"toggleMoreLinks(\\'4f4cb8ce8b61e2bf\\'); return false;\"></a><div id=\"more_3\" class=\"more_actions\"><ul><li><span class=\"mat\">Visualizza tutte le Offerte di <a href=\"/offerte-lavoro-Tech-Engines-Srl\" rel=\"nofollow\">lavoro - TECH ENGINES SRL</a> - <a href=\"/Firenze,-Toscana-offerte-lavoro\">lavoro - Firenze</a></span></li></ul></div></div><div class=\"dya-container result-tab\"></div>\\n    <div class=\"tellafriend-container result-tab email_job_content\"></div>\\n    <div class=\"sign-in-container result-tab\"></div>\\n    <div class=\"notes-container result-tab\"></div>\\n</div>\\n\\n</td>\\n</tr>\\n</table>\\n</div>\\n\\n<div class=\"  row  result\" id=\"p_73f8cb698f891f19\" data-jk=\"73f8cb698f891f19\" data-tn-component=\"organicJob\"\\n    \\n     data-tu=\"\"\\n>\\n<h2 id=jl_73f8cb698f891f19 class=\"jobtitle\">\\n    <a\\n                                               href=\"/rc/clk?jk=73f8cb698f891f19&fccid=2dc25678455f234f\" target=\"_blank\" rel=\"noopener nofollow\"\\n                                               onmousedown=\"return rclk(this,jobmap[4],0);\"\\n                                               onclick=\"setRefineByCookie([]); return rclk(this,jobmap[4],true,0);\"\\n                                               title=\"DATA SCIENTIST BIG DATA SPECIALIST (rif. BIG.DS)\"\\n                                               class=\"turnstileLink\"\\n                                               data-tn-element=\"jobTitle\"><b>DATA</b> <b>SCIENTIST</b> BIG <b>DATA</b> SPECIALIST (rif. BIG.DS)</a>\\n    </h2>\\n<span class=\"company\">\\n    CEGEKA Spa</span>\\n\\n - <span class=\"location\">Milano, Lombardia</span>\\n    <table cellpadding=0 cellspacing=0 border=0>\\n<tr>\\n<td class=snip>\\n<div class=\"\">\\n    <span class=summary>\\n            <b>DATA</b> <b>SCIENTIST</b> BIG <b>DATA</b> SPECIALIST (rif. Per attivit\\xc3\\xa0 di sviluppo Big <b>Data</b> e <b>Data</b> Analysis, cerchiamo <b>Data</b> <b>Scientist</b> - Big <b>Data</b> Specialist con competenze su...</span>\\n    </div>\\n\\n\\n<div class=\"iaP\">\\n    <span class=\"iaLabel\"> Invia la candidatura per questa posizione attraverso Indeed</span>\\n</div>\\n<div class=\"result-link-bar-container\">\\n    <div class=\"result-link-bar\"><span class=\"date\">10 giorni fa</span> <span id=\"tt_set_4\" class=\"tt_set\">  -  <a id=\"sj_73f8cb698f891f19\" href=\"#\" class=\"sl resultLink save-job-link \" onclick=\"changeJobState(\\'73f8cb698f891f19\\', \\'save\\', \\'linkbar\\', false, \\'\\'); return false;\" title=\"Salva questa offerta di lavoro su mio.indeed\">salva offerta</a> - <a href=\"#\" id=\"tog_4\" class=\"sl resultLink more-link \" onclick=\"toggleMoreLinks(\\'73f8cb698f891f19\\'); return false;\">altro...</a></span><div id=\"editsaved2_73f8cb698f891f19\" class=\"edit_note_content\" style=\"display:none;\"></div><script>if (!window[\\'result_73f8cb698f891f19\\']) {window[\\'result_73f8cb698f891f19\\'] = {};}window[\\'result_73f8cb698f891f19\\'][\\'showSource\\'] = false; window[\\'result_73f8cb698f891f19\\'][\\'source\\'] = \"Cegeka\"; window[\\'result_73f8cb698f891f19\\'][\\'loggedIn\\'] = false; window[\\'result_73f8cb698f891f19\\'][\\'showMyJobsLinks\\'] = false;window[\\'result_73f8cb698f891f19\\'][\\'undoAction\\'] = \"unsave\";window[\\'result_73f8cb698f891f19\\'][\\'relativeJobAge\\'] = \"10 giorni fa\";window[\\'result_73f8cb698f891f19\\'][\\'jobKey\\'] = \"73f8cb698f891f19\"; window[\\'result_73f8cb698f891f19\\'][\\'myIndeedAvailable\\'] = true; window[\\'result_73f8cb698f891f19\\'][\\'showMoreActionsLink\\'] = window[\\'result_73f8cb698f891f19\\'][\\'showMoreActionsLink\\'] || true; window[\\'result_73f8cb698f891f19\\'][\\'resultNumber\\'] = 4; window[\\'result_73f8cb698f891f19\\'][\\'jobStateChangedToSaved\\'] = false; window[\\'result_73f8cb698f891f19\\'][\\'searchState\\'] = \"q=Data Scientist&amp;\"; window[\\'result_73f8cb698f891f19\\'][\\'basicPermaLink\\'] = \"https://it.indeed.com\"; window[\\'result_73f8cb698f891f19\\'][\\'saveJobFailed\\'] = false; window[\\'result_73f8cb698f891f19\\'][\\'removeJobFailed\\'] = false; window[\\'result_73f8cb698f891f19\\'][\\'requestPending\\'] = false; window[\\'result_73f8cb698f891f19\\'][\\'notesEnabled\\'] = true; window[\\'result_73f8cb698f891f19\\'][\\'currentPage\\'] = \"serp\"; window[\\'result_73f8cb698f891f19\\'][\\'sponsored\\'] = false;window[\\'result_73f8cb698f891f19\\'][\\'reportJobButtonEnabled\\'] = false; window[\\'result_73f8cb698f891f19\\'][\\'showMyJobsHired\\'] = false; window[\\'result_73f8cb698f891f19\\'][\\'showSaveForSponsored\\'] = false; window[\\'result_73f8cb698f891f19\\'][\\'showJobAge\\'] = true;</script></div></div>\\n\\n<div class=\"tab-container\">\\n    <div id=\"tt_display_4\" class=\"more-links-container result-tab\" style=\"display:none;\"><a class=\"close-link closeLink\" title=\"Close\" href=\"#\" onclick=\"toggleMoreLinks(\\'73f8cb698f891f19\\'); return false;\"></a><div id=\"more_4\" class=\"more_actions\"><ul><li><span class=\"mat\">Visualizza tutte le Offerte di <a href=\"/offerte-lavoro-Cegeka-Spa\" rel=\"nofollow\">lavoro - CEGEKA Spa</a> - <a href=\"/Milano,-Lombardia-offerte-lavoro\">lavoro - Milano</a></span></li><li><span class=\"mat\">Per saperne di pi\\xc3\\xb9 sul lavoro presso <a href=\"/cmp/Cegeka-Spa\" onmousedown=\"this.href = appendParamsOnce(this.href, \\'?fromjk=73f8cb698f891f19&amp;from=serp-more&amp;campaignid=serp-more&amp;jcid=d9f004d4f60c4e1d\\');\" >Cegeka Spa</a></span></li></ul></div></div><div class=\"dya-container result-tab\"></div>\\n    <div class=\"tellafriend-container result-tab email_job_content\"></div>\\n    <div class=\"sign-in-container result-tab\"></div>\\n    <div class=\"notes-container result-tab\"></div>\\n</div>\\n\\n</td>\\n</tr>\\n</table>\\n</div>\\n\\n<div class=\"  row  result\" id=\"p_863a399d61e34094\" data-jk=\"863a399d61e34094\" data-tn-component=\"organicJob\"\\n    \\n     data-tu=\"\"\\n>\\n<h2 id=jl_863a399d61e34094 class=\"jobtitle\">\\n    <a\\n                                               href=\"/rc/clk?jk=863a399d61e34094&fccid=0f5477dfb7d07060\" target=\"_blank\" rel=\"noopener nofollow\"\\n                                               onmousedown=\"return rclk(this,jobmap[5],0);\"\\n                                               onclick=\"setRefineByCookie([]); return rclk(this,jobmap[5],true,0);\"\\n                                               title=\"Data Scientist\"\\n                                               class=\"turnstileLink\"\\n                                               data-tn-element=\"jobTitle\"><b>Data</b> <b>Scientist</b></a>\\n    </h2>\\n<span class=\"company\">\\n    Artefact</span>\\n\\n - <span class=\"location\">Italia</span>\\n    <table cellpadding=0 cellspacing=0 border=0>\\n<tr>\\n<td class=snip>\\n<div class=\"\">\\n    <span class=summary>\\n            Hai un\\'ottima esperienza scientifica e analitica e le tue abilit\\xc3\\xa0 in linguaggi statistici come R e Python sono forti? Conosci gli strumenti per raccogliere e...</span>\\n    </div>\\n\\n\\n<div class=\"result-link-bar-container\">\\n    <div class=\"result-link-bar\"><span class=\"date\">3 giorni fa</span> <span id=\"tt_set_5\" class=\"tt_set\">  -  <a id=\"sj_863a399d61e34094\" href=\"#\" class=\"sl resultLink save-job-link \" onclick=\"changeJobState(\\'863a399d61e34094\\', \\'save\\', \\'linkbar\\', false, \\'\\'); return false;\" title=\"Salva questa offerta di lavoro su mio.indeed\">salva offerta</a> - <a href=\"#\" id=\"tog_5\" class=\"sl resultLink more-link \" onclick=\"toggleMoreLinks(\\'863a399d61e34094\\'); return false;\">altro...</a></span><div id=\"editsaved2_863a399d61e34094\" class=\"edit_note_content\" style=\"display:none;\"></div><script>if (!window[\\'result_863a399d61e34094\\']) {window[\\'result_863a399d61e34094\\'] = {};}window[\\'result_863a399d61e34094\\'][\\'showSource\\'] = false; window[\\'result_863a399d61e34094\\'][\\'source\\'] = \"Artefact\"; window[\\'result_863a399d61e34094\\'][\\'loggedIn\\'] = false; window[\\'result_863a399d61e34094\\'][\\'showMyJobsLinks\\'] = false;window[\\'result_863a399d61e34094\\'][\\'undoAction\\'] = \"unsave\";window[\\'result_863a399d61e34094\\'][\\'relativeJobAge\\'] = \"3 giorni fa\";window[\\'result_863a399d61e34094\\'][\\'jobKey\\'] = \"863a399d61e34094\"; window[\\'result_863a399d61e34094\\'][\\'myIndeedAvailable\\'] = true; window[\\'result_863a399d61e34094\\'][\\'showMoreActionsLink\\'] = window[\\'result_863a399d61e34094\\'][\\'showMoreActionsLink\\'] || true; window[\\'result_863a399d61e34094\\'][\\'resultNumber\\'] = 5; window[\\'result_863a399d61e34094\\'][\\'jobStateChangedToSaved\\'] = false; window[\\'result_863a399d61e34094\\'][\\'searchState\\'] = \"q=Data Scientist&amp;\"; window[\\'result_863a399d61e34094\\'][\\'basicPermaLink\\'] = \"https://it.indeed.com\"; window[\\'result_863a399d61e34094\\'][\\'saveJobFailed\\'] = false; window[\\'result_863a399d61e34094\\'][\\'removeJobFailed\\'] = false; window[\\'result_863a399d61e34094\\'][\\'requestPending\\'] = false; window[\\'result_863a399d61e34094\\'][\\'notesEnabled\\'] = true; window[\\'result_863a399d61e34094\\'][\\'currentPage\\'] = \"serp\"; window[\\'result_863a399d61e34094\\'][\\'sponsored\\'] = false;window[\\'result_863a399d61e34094\\'][\\'reportJobButtonEnabled\\'] = false; window[\\'result_863a399d61e34094\\'][\\'showMyJobsHired\\'] = false; window[\\'result_863a399d61e34094\\'][\\'showSaveForSponsored\\'] = false; window[\\'result_863a399d61e34094\\'][\\'showJobAge\\'] = true;</script></div></div>\\n\\n<div class=\"tab-container\">\\n    <div id=\"tt_display_5\" class=\"more-links-container result-tab\" style=\"display:none;\"><a class=\"close-link closeLink\" title=\"Close\" href=\"#\" onclick=\"toggleMoreLinks(\\'863a399d61e34094\\'); return false;\"></a><div id=\"more_5\" class=\"more_actions\"><ul><li><span class=\"mat\">Visualizza tutte le Offerte di <a href=\"/offerte-lavoro-Artefact\" rel=\"nofollow\">lavoro - Artefact</a> - <a href=\"/Italia-offerte-lavoro\">lavoro - Italia</a></span></li></ul></div></div><div class=\"dya-container result-tab\"></div>\\n    <div class=\"tellafriend-container result-tab email_job_content\"></div>\\n    <div class=\"sign-in-container result-tab\"></div>\\n    <div class=\"notes-container result-tab\"></div>\\n</div>\\n\\n</td>\\n</tr>\\n</table>\\n</div>\\n\\n<div class=\"  row  result\" id=\"p_073256ecfb301f0a\" data-jk=\"073256ecfb301f0a\" data-tn-component=\"organicJob\"\\n    \\n     data-tu=\"\"\\n>\\n<h2 id=jl_073256ecfb301f0a class=\"jobtitle\">\\n    <a\\n                                               href=\"/rc/clk?jk=073256ecfb301f0a&fccid=dda560cd8c6e77ff\" target=\"_blank\" rel=\"noopener nofollow\"\\n                                               onmousedown=\"return rclk(this,jobmap[6],0);\"\\n                                               onclick=\"setRefineByCookie([]); return rclk(this,jobmap[6],true,0);\"\\n                                               title=\"Data Scientist Junior\"\\n                                               class=\"turnstileLink\"\\n                                               data-tn-element=\"jobTitle\"><b>Data</b> <b>Scientist</b> Junior</a>\\n    </h2>\\n<span class=\"company\">\\n    Gruppo Mutui Online</span>\\n\\n - <span class=\"location\">Italia</span>\\n    <table cellpadding=0 cellspacing=0 border=0>\\n<tr>\\n<td class=snip>\\n<div class=\"\">\\n    <span class=summary>\\n            Societ\\xc3\\xa0 facente parte di Gruppo MutuiOnline e interamente controllata, ricerca un <b>Data</b> <b>Scientist</b> Junior per un importante progetto finalizzato alla...</span>\\n    </div>\\n\\n\\n<div class=\"result-link-bar-container\">\\n    <div class=\"result-link-bar\"><span class=\"date\">30+ giorni fa</span> <span id=\"tt_set_6\" class=\"tt_set\">  -  <a id=\"sj_073256ecfb301f0a\" href=\"#\" class=\"sl resultLink save-job-link \" onclick=\"changeJobState(\\'073256ecfb301f0a\\', \\'save\\', \\'linkbar\\', false, \\'\\'); return false;\" title=\"Salva questa offerta di lavoro su mio.indeed\">salva offerta</a> - <a href=\"#\" id=\"tog_6\" class=\"sl resultLink more-link \" onclick=\"toggleMoreLinks(\\'073256ecfb301f0a\\'); return false;\">altro...</a></span><div id=\"editsaved2_073256ecfb301f0a\" class=\"edit_note_content\" style=\"display:none;\"></div><script>if (!window[\\'result_073256ecfb301f0a\\']) {window[\\'result_073256ecfb301f0a\\'] = {};}window[\\'result_073256ecfb301f0a\\'][\\'showSource\\'] = false; window[\\'result_073256ecfb301f0a\\'][\\'source\\'] = \"Gruppo Mutui Online\"; window[\\'result_073256ecfb301f0a\\'][\\'loggedIn\\'] = false; window[\\'result_073256ecfb301f0a\\'][\\'showMyJobsLinks\\'] = false;window[\\'result_073256ecfb301f0a\\'][\\'undoAction\\'] = \"unsave\";window[\\'result_073256ecfb301f0a\\'][\\'relativeJobAge\\'] = \"30+ giorni fa\";window[\\'result_073256ecfb301f0a\\'][\\'jobKey\\'] = \"073256ecfb301f0a\"; window[\\'result_073256ecfb301f0a\\'][\\'myIndeedAvailable\\'] = true; window[\\'result_073256ecfb301f0a\\'][\\'showMoreActionsLink\\'] = window[\\'result_073256ecfb301f0a\\'][\\'showMoreActionsLink\\'] || true; window[\\'result_073256ecfb301f0a\\'][\\'resultNumber\\'] = 6; window[\\'result_073256ecfb301f0a\\'][\\'jobStateChangedToSaved\\'] = false; window[\\'result_073256ecfb301f0a\\'][\\'searchState\\'] = \"q=Data Scientist&amp;\"; window[\\'result_073256ecfb301f0a\\'][\\'basicPermaLink\\'] = \"https://it.indeed.com\"; window[\\'result_073256ecfb301f0a\\'][\\'saveJobFailed\\'] = false; window[\\'result_073256ecfb301f0a\\'][\\'removeJobFailed\\'] = false; window[\\'result_073256ecfb301f0a\\'][\\'requestPending\\'] = false; window[\\'result_073256ecfb301f0a\\'][\\'notesEnabled\\'] = true; window[\\'result_073256ecfb301f0a\\'][\\'currentPage\\'] = \"serp\"; window[\\'result_073256ecfb301f0a\\'][\\'sponsored\\'] = false;window[\\'result_073256ecfb301f0a\\'][\\'reportJobButtonEnabled\\'] = false; window[\\'result_073256ecfb301f0a\\'][\\'showMyJobsHired\\'] = false; window[\\'result_073256ecfb301f0a\\'][\\'showSaveForSponsored\\'] = false; window[\\'result_073256ecfb301f0a\\'][\\'showJobAge\\'] = true;</script></div></div>\\n\\n<div class=\"tab-container\">\\n    <div id=\"tt_display_6\" class=\"more-links-container result-tab\" style=\"display:none;\"><a class=\"close-link closeLink\" title=\"Close\" href=\"#\" onclick=\"toggleMoreLinks(\\'073256ecfb301f0a\\'); return false;\"></a><div id=\"more_6\" class=\"more_actions\"><ul><li><span class=\"mat\">Visualizza tutte le Offerte di <a href=\"/offerte-lavoro-Gruppo-Mutui-Online\" rel=\"nofollow\">lavoro - Gruppo Mutui Online</a> - <a href=\"/Italia-offerte-lavoro\">lavoro - Italia</a></span></li></ul></div></div><div class=\"dya-container result-tab\"></div>\\n    <div class=\"tellafriend-container result-tab email_job_content\"></div>\\n    <div class=\"sign-in-container result-tab\"></div>\\n    <div class=\"notes-container result-tab\"></div>\\n</div>\\n\\n</td>\\n</tr>\\n</table>\\n</div>\\n\\n<div class=\"  row  result\" id=\"p_05f853eb773ea4ef\" data-jk=\"05f853eb773ea4ef\" data-tn-component=\"organicJob\"\\n    \\n     data-tu=\"\"\\n>\\n<h2 id=jl_05f853eb773ea4ef class=\"jobtitle\">\\n    <a\\n                                               href=\"/rc/clk?jk=05f853eb773ea4ef&fccid=bd410b30af2f117c\" target=\"_blank\" rel=\"noopener nofollow\"\\n                                               onmousedown=\"return rclk(this,jobmap[7],0);\"\\n                                               onclick=\"setRefineByCookie([]); return rclk(this,jobmap[7],true,0);\"\\n                                               title=\"VIE Data Scientist - Florence H/F\"\\n                                               class=\"turnstileLink\"\\n                                               data-tn-element=\"jobTitle\">VIE <b>Data</b> <b>Scientist</b> - Florence H/F</a>\\n    </h2>\\n<span class=\"company\">\\n    BNP Paribas Personal Finance</span>\\n\\n - <span class=\"location\">Firenze, Toscana</span>\\n    <table cellpadding=0 cellspacing=0 border=0>\\n<tr>\\n<td class=snip>\\n<div class=\"\">\\n    <span class=summary>\\n            <b>Data</b> <b>Scientist</b> H/F. Etes-vous notre prochain <b>Data</b> <b>Scientist</b>? Le <b>Data</b> <b>Scientist</b> est responsable de l\\xe2\\x80\\x99analyse des donn\\xc3\\xa9es et des impl\\xc3\\xa9mentations de mod\\xc3\\xa8les...</span>\\n    </div>\\n\\n\\n<div class=\"result-link-bar-container\">\\n    <div class=\"result-link-bar\"><span class=\"date\">30+ giorni fa</span> <span id=\"tt_set_7\" class=\"tt_set\">  -  <a id=\"sj_05f853eb773ea4ef\" href=\"#\" class=\"sl resultLink save-job-link \" onclick=\"changeJobState(\\'05f853eb773ea4ef\\', \\'save\\', \\'linkbar\\', false, \\'\\'); return false;\" title=\"Salva questa offerta di lavoro su mio.indeed\">salva offerta</a> - <a href=\"#\" id=\"tog_7\" class=\"sl resultLink more-link \" onclick=\"toggleMoreLinks(\\'05f853eb773ea4ef\\'); return false;\">altro...</a></span><div id=\"editsaved2_05f853eb773ea4ef\" class=\"edit_note_content\" style=\"display:none;\"></div><script>if (!window[\\'result_05f853eb773ea4ef\\']) {window[\\'result_05f853eb773ea4ef\\'] = {};}window[\\'result_05f853eb773ea4ef\\'][\\'showSource\\'] = false; window[\\'result_05f853eb773ea4ef\\'][\\'source\\'] = \"BNP Paribas Personal Finance\"; window[\\'result_05f853eb773ea4ef\\'][\\'loggedIn\\'] = false; window[\\'result_05f853eb773ea4ef\\'][\\'showMyJobsLinks\\'] = false;window[\\'result_05f853eb773ea4ef\\'][\\'undoAction\\'] = \"unsave\";window[\\'result_05f853eb773ea4ef\\'][\\'relativeJobAge\\'] = \"30+ giorni fa\";window[\\'result_05f853eb773ea4ef\\'][\\'jobKey\\'] = \"05f853eb773ea4ef\"; window[\\'result_05f853eb773ea4ef\\'][\\'myIndeedAvailable\\'] = true; window[\\'result_05f853eb773ea4ef\\'][\\'showMoreActionsLink\\'] = window[\\'result_05f853eb773ea4ef\\'][\\'showMoreActionsLink\\'] || true; window[\\'result_05f853eb773ea4ef\\'][\\'resultNumber\\'] = 7; window[\\'result_05f853eb773ea4ef\\'][\\'jobStateChangedToSaved\\'] = false; window[\\'result_05f853eb773ea4ef\\'][\\'searchState\\'] = \"q=Data Scientist&amp;\"; window[\\'result_05f853eb773ea4ef\\'][\\'basicPermaLink\\'] = \"https://it.indeed.com\"; window[\\'result_05f853eb773ea4ef\\'][\\'saveJobFailed\\'] = false; window[\\'result_05f853eb773ea4ef\\'][\\'removeJobFailed\\'] = false; window[\\'result_05f853eb773ea4ef\\'][\\'requestPending\\'] = false; window[\\'result_05f853eb773ea4ef\\'][\\'notesEnabled\\'] = true; window[\\'result_05f853eb773ea4ef\\'][\\'currentPage\\'] = \"serp\"; window[\\'result_05f853eb773ea4ef\\'][\\'sponsored\\'] = false;window[\\'result_05f853eb773ea4ef\\'][\\'reportJobButtonEnabled\\'] = false; window[\\'result_05f853eb773ea4ef\\'][\\'showMyJobsHired\\'] = false; window[\\'result_05f853eb773ea4ef\\'][\\'showSaveForSponsored\\'] = false; window[\\'result_05f853eb773ea4ef\\'][\\'showJobAge\\'] = true;</script></div></div>\\n\\n<div class=\"tab-container\">\\n    <div id=\"tt_display_7\" class=\"more-links-container result-tab\" style=\"display:none;\"><a class=\"close-link closeLink\" title=\"Close\" href=\"#\" onclick=\"toggleMoreLinks(\\'05f853eb773ea4ef\\'); return false;\"></a><div id=\"more_7\" class=\"more_actions\"><ul><li><span class=\"mat\">Visualizza tutte le Offerte di <a href=\"/offerte-lavoro-Bnp-Paribas-Personal-Finance\" rel=\"nofollow\">lavoro - BNP Paribas Personal Finance</a> - <a href=\"/Firenze,-Toscana-offerte-lavoro\">lavoro - Firenze</a></span></li></ul></div></div><div class=\"dya-container result-tab\"></div>\\n    <div class=\"tellafriend-container result-tab email_job_content\"></div>\\n    <div class=\"sign-in-container result-tab\"></div>\\n    <div class=\"notes-container result-tab\"></div>\\n</div>\\n\\n</td>\\n</tr>\\n</table>\\n</div>\\n\\n<div class=\"  row  result\" id=\"p_af9df2e1ea0c7ac4\" data-jk=\"af9df2e1ea0c7ac4\" data-tn-component=\"organicJob\"\\n    \\n     data-tu=\"\"\\n>\\n<h2 id=jl_af9df2e1ea0c7ac4 class=\"jobtitle\">\\n    <a\\n                                               href=\"/rc/clk?jk=af9df2e1ea0c7ac4&fccid=09b59d7b95a60821\" target=\"_blank\" rel=\"noopener nofollow\"\\n                                               onmousedown=\"return rclk(this,jobmap[8],0);\"\\n                                               onclick=\"setRefineByCookie([]); return rclk(this,jobmap[8],true,0);\"\\n                                               title=\"Data Scientist - Machine Learning Engineer\"\\n                                               class=\"turnstileLink\"\\n                                               data-tn-element=\"jobTitle\"><b>Data</b> <b>Scientist</b> - Machine Learning Engineer</a>\\n    </h2>\\n<span class=\"company\">\\n    <a\\n                href=\"/cmp/Pirelli\" target=\"_blank\"\\n                onmousedown=\"this.href = appendParamsOnce(this.href, \\'from=SERP&campaignid=serp-linkcompanyname&fromjk=af9df2e1ea0c7ac4&jcid=09b59d7b95a60821\\')\"\\n                rel=\"noopener\"\\n        >\\n    Pirelli</a></span>\\n\\n - <a data-tn-element=\"reviewStars\" data-tn-variant=\"cmplinktst2\" class=\"turnstileLink slNoUnderline \" href=\"/cmp/Pirelli/reviews\" title=\"Recensioni Pirelli\" class=\"ratingsLabel\" onmousedown=\"this.href = appendParamsOnce(this.href, \\'?campaignid=cmplinktst2&from=SERP&jt=Data+Scientist+-+Machine+Learning+Engineer&fromjk=af9df2e1ea0c7ac4&jcid=09b59d7b95a60821\\');\" target=\"_blank\"\\n         rel=\"noopener\">\\n    <span class=\"ratings\"><span class=\"rating\" style=\"width:52.8px\"><!-- --></span></span>\\n<span class=\"slNoUnderline\">461 recensioni</span></a>\\n - <span class=\"location\">Italia</span>\\n    <table cellpadding=0 cellspacing=0 border=0>\\n<tr>\\n<td class=snip>\\n<div class=\"\">\\n    <span class=summary>\\n            Implement required <b>data</b> pipelines supporting <b>data</b> products requirements. At least 2 years of experience in a <b>data</b> science / <b>data</b> analysis positions....</span>\\n    </div>\\n\\n\\n<div class=\"result-link-bar-container\">\\n    <div class=\"result-link-bar\"><span class=\"date\">30+ giorni fa</span> <span id=\"tt_set_8\" class=\"tt_set\">  -  <a id=\"sj_af9df2e1ea0c7ac4\" href=\"#\" class=\"sl resultLink save-job-link \" onclick=\"changeJobState(\\'af9df2e1ea0c7ac4\\', \\'save\\', \\'linkbar\\', false, \\'\\'); return false;\" title=\"Salva questa offerta di lavoro su mio.indeed\">salva offerta</a> - <a href=\"#\" id=\"tog_8\" class=\"sl resultLink more-link \" onclick=\"toggleMoreLinks(\\'af9df2e1ea0c7ac4\\'); return false;\">altro...</a></span><div id=\"editsaved2_af9df2e1ea0c7ac4\" class=\"edit_note_content\" style=\"display:none;\"></div><script>if (!window[\\'result_af9df2e1ea0c7ac4\\']) {window[\\'result_af9df2e1ea0c7ac4\\'] = {};}window[\\'result_af9df2e1ea0c7ac4\\'][\\'showSource\\'] = false; window[\\'result_af9df2e1ea0c7ac4\\'][\\'source\\'] = \"Pirelli\"; window[\\'result_af9df2e1ea0c7ac4\\'][\\'loggedIn\\'] = false; window[\\'result_af9df2e1ea0c7ac4\\'][\\'showMyJobsLinks\\'] = false;window[\\'result_af9df2e1ea0c7ac4\\'][\\'undoAction\\'] = \"unsave\";window[\\'result_af9df2e1ea0c7ac4\\'][\\'relativeJobAge\\'] = \"30+ giorni fa\";window[\\'result_af9df2e1ea0c7ac4\\'][\\'jobKey\\'] = \"af9df2e1ea0c7ac4\"; window[\\'result_af9df2e1ea0c7ac4\\'][\\'myIndeedAvailable\\'] = true; window[\\'result_af9df2e1ea0c7ac4\\'][\\'showMoreActionsLink\\'] = window[\\'result_af9df2e1ea0c7ac4\\'][\\'showMoreActionsLink\\'] || true; window[\\'result_af9df2e1ea0c7ac4\\'][\\'resultNumber\\'] = 8; window[\\'result_af9df2e1ea0c7ac4\\'][\\'jobStateChangedToSaved\\'] = false; window[\\'result_af9df2e1ea0c7ac4\\'][\\'searchState\\'] = \"q=Data Scientist&amp;\"; window[\\'result_af9df2e1ea0c7ac4\\'][\\'basicPermaLink\\'] = \"https://it.indeed.com\"; window[\\'result_af9df2e1ea0c7ac4\\'][\\'saveJobFailed\\'] = false; window[\\'result_af9df2e1ea0c7ac4\\'][\\'removeJobFailed\\'] = false; window[\\'result_af9df2e1ea0c7ac4\\'][\\'requestPending\\'] = false; window[\\'result_af9df2e1ea0c7ac4\\'][\\'notesEnabled\\'] = true; window[\\'result_af9df2e1ea0c7ac4\\'][\\'currentPage\\'] = \"serp\"; window[\\'result_af9df2e1ea0c7ac4\\'][\\'sponsored\\'] = false;window[\\'result_af9df2e1ea0c7ac4\\'][\\'reportJobButtonEnabled\\'] = false; window[\\'result_af9df2e1ea0c7ac4\\'][\\'showMyJobsHired\\'] = false; window[\\'result_af9df2e1ea0c7ac4\\'][\\'showSaveForSponsored\\'] = false; window[\\'result_af9df2e1ea0c7ac4\\'][\\'showJobAge\\'] = true;</script></div></div>\\n\\n<div class=\"tab-container\">\\n    <div id=\"tt_display_8\" class=\"more-links-container result-tab\" style=\"display:none;\"><a class=\"close-link closeLink\" title=\"Close\" href=\"#\" onclick=\"toggleMoreLinks(\\'af9df2e1ea0c7ac4\\'); return false;\"></a><div id=\"more_8\" class=\"more_actions\"><ul><li><span class=\"mat\">Visualizza tutte le Offerte di <a href=\"/offerte-lavoro-Pirelli\" rel=\"nofollow\">lavoro - Pirelli</a> - <a href=\"/Italia-offerte-lavoro\">lavoro - Italia</a></span></li><li><span class=\"mat\">Per saperne di pi\\xc3\\xb9 sul lavoro presso <a href=\"/cmp/Pirelli\" onmousedown=\"this.href = appendParamsOnce(this.href, \\'?fromjk=af9df2e1ea0c7ac4&amp;from=serp-more&amp;campaignid=serp-more&amp;jcid=09b59d7b95a60821\\');\" >Pirelli</a></span></li></ul></div></div><div class=\"dya-container result-tab\"></div>\\n    <div class=\"tellafriend-container result-tab email_job_content\"></div>\\n    <div class=\"sign-in-container result-tab\"></div>\\n    <div class=\"notes-container result-tab\"></div>\\n</div>\\n\\n</td>\\n</tr>\\n</table>\\n</div>\\n\\n<div class=\"lastRow  row  result\" id=\"p_ba4d524f1f120f59\" data-jk=\"ba4d524f1f120f59\" data-tn-component=\"organicJob\"\\n    \\n     data-tu=\"\"\\n>\\n<h2 id=jl_ba4d524f1f120f59 class=\"jobtitle\">\\n    <a\\n                                               href=\"/rc/clk?jk=ba4d524f1f120f59&fccid=bad1807d29a9f53f\" target=\"_blank\" rel=\"noopener nofollow\"\\n                                               onmousedown=\"return rclk(this,jobmap[9],0);\"\\n                                               onclick=\"setRefineByCookie([]); return rclk(this,jobmap[9],true,0);\"\\n                                               title=\"Data Scientist\"\\n                                               class=\"turnstileLink\"\\n                                               data-tn-element=\"jobTitle\"><b>Data</b> <b>Scientist</b></a>\\n    </h2>\\n<span class=\"company\">\\n    <a\\n                href=\"/cmp/Reale-Mutua-Assicurazioni\" target=\"_blank\"\\n                onmousedown=\"this.href = appendParamsOnce(this.href, \\'from=SERP&campaignid=serp-linkcompanyname&fromjk=ba4d524f1f120f59&jcid=bad1807d29a9f53f\\')\"\\n                rel=\"noopener\"\\n        >\\n    Reale Mutua Assicurazioni</a></span>\\n\\n - <a data-tn-element=\"reviewStars\" data-tn-variant=\"cmplinktst2\" class=\"turnstileLink slNoUnderline \" href=\"/cmp/Reale-Mutua-Assicurazioni/reviews\" title=\"Recensioni Reale Mutua Assicurazioni\" class=\"ratingsLabel\" onmousedown=\"this.href = appendParamsOnce(this.href, \\'?campaignid=cmplinktst2&from=SERP&jt=Data+Scientist&fromjk=ba4d524f1f120f59&jcid=bad1807d29a9f53f\\');\" target=\"_blank\"\\n         rel=\"noopener\">\\n    <span class=\"ratings\"><span class=\"rating\" style=\"width:51.6px\"><!-- --></span></span>\\n<span class=\"slNoUnderline\">20 recensioni</span></a>\\n - <span class=\"location\">Torino, Piemonte</span>\\n    <table cellpadding=0 cellspacing=0 border=0>\\n<tr>\\n<td class=snip>\\n<div class=\"\">\\n    <span class=summary>\\n            Conoscenza di tecniche di Machine e Deep Learning, Big <b>Data</b> Analytics, <b>Data</b> Modelling ed Advanced Simulation. Esperienze in go-live di <b>data</b> products....</span>\\n    </div>\\n\\n\\n<div class=\"result-link-bar-container\">\\n    <div class=\"result-link-bar\"><span class=\"date\">14 giorni fa</span> <span id=\"tt_set_9\" class=\"tt_set\">  -  <a id=\"sj_ba4d524f1f120f59\" href=\"#\" class=\"sl resultLink save-job-link \" onclick=\"changeJobState(\\'ba4d524f1f120f59\\', \\'save\\', \\'linkbar\\', false, \\'\\'); return false;\" title=\"Salva questa offerta di lavoro su mio.indeed\">salva offerta</a> - <a href=\"#\" id=\"tog_9\" class=\"sl resultLink more-link \" onclick=\"toggleMoreLinks(\\'ba4d524f1f120f59\\'); return false;\">altro...</a></span><div id=\"editsaved2_ba4d524f1f120f59\" class=\"edit_note_content\" style=\"display:none;\"></div><script>if (!window[\\'result_ba4d524f1f120f59\\']) {window[\\'result_ba4d524f1f120f59\\'] = {};}window[\\'result_ba4d524f1f120f59\\'][\\'showSource\\'] = false; window[\\'result_ba4d524f1f120f59\\'][\\'source\\'] = \"Reale Mutua Assicurazioni\"; window[\\'result_ba4d524f1f120f59\\'][\\'loggedIn\\'] = false; window[\\'result_ba4d524f1f120f59\\'][\\'showMyJobsLinks\\'] = false;window[\\'result_ba4d524f1f120f59\\'][\\'undoAction\\'] = \"unsave\";window[\\'result_ba4d524f1f120f59\\'][\\'relativeJobAge\\'] = \"14 giorni fa\";window[\\'result_ba4d524f1f120f59\\'][\\'jobKey\\'] = \"ba4d524f1f120f59\"; window[\\'result_ba4d524f1f120f59\\'][\\'myIndeedAvailable\\'] = true; window[\\'result_ba4d524f1f120f59\\'][\\'showMoreActionsLink\\'] = window[\\'result_ba4d524f1f120f59\\'][\\'showMoreActionsLink\\'] || true; window[\\'result_ba4d524f1f120f59\\'][\\'resultNumber\\'] = 9; window[\\'result_ba4d524f1f120f59\\'][\\'jobStateChangedToSaved\\'] = false; window[\\'result_ba4d524f1f120f59\\'][\\'searchState\\'] = \"q=Data Scientist&amp;\"; window[\\'result_ba4d524f1f120f59\\'][\\'basicPermaLink\\'] = \"https://it.indeed.com\"; window[\\'result_ba4d524f1f120f59\\'][\\'saveJobFailed\\'] = false; window[\\'result_ba4d524f1f120f59\\'][\\'removeJobFailed\\'] = false; window[\\'result_ba4d524f1f120f59\\'][\\'requestPending\\'] = false; window[\\'result_ba4d524f1f120f59\\'][\\'notesEnabled\\'] = true; window[\\'result_ba4d524f1f120f59\\'][\\'currentPage\\'] = \"serp\"; window[\\'result_ba4d524f1f120f59\\'][\\'sponsored\\'] = false;window[\\'result_ba4d524f1f120f59\\'][\\'reportJobButtonEnabled\\'] = false; window[\\'result_ba4d524f1f120f59\\'][\\'showMyJobsHired\\'] = false; window[\\'result_ba4d524f1f120f59\\'][\\'showSaveForSponsored\\'] = false; window[\\'result_ba4d524f1f120f59\\'][\\'showJobAge\\'] = true;</script></div></div>\\n\\n<div class=\"tab-container\">\\n    <div id=\"tt_display_9\" class=\"more-links-container result-tab\" style=\"display:none;\"><a class=\"close-link closeLink\" title=\"Close\" href=\"#\" onclick=\"toggleMoreLinks(\\'ba4d524f1f120f59\\'); return false;\"></a><div id=\"more_9\" class=\"more_actions\"><ul><li><span class=\"mat\">Visualizza tutte le Offerte di <a href=\"/offerte-lavoro-Reale-Mutua-Assicurazioni\" rel=\"nofollow\">lavoro - Reale Mutua Assicurazioni</a> - <a href=\"/Torino,-Piemonte-offerte-lavoro\">lavoro - Torino</a></span></li><li><span class=\"mat\">Per saperne di pi\\xc3\\xb9 sul lavoro presso <a href=\"/cmp/Reale-Mutua-Assicurazioni\" onmousedown=\"this.href = appendParamsOnce(this.href, \\'?fromjk=ba4d524f1f120f59&amp;from=serp-more&amp;campaignid=serp-more&amp;jcid=bad1807d29a9f53f\\');\" >Reale Mutua Assicurazioni</a></span></li></ul></div></div><div class=\"dya-container result-tab\"></div>\\n    <div class=\"tellafriend-container result-tab email_job_content\"></div>\\n    <div class=\"sign-in-container result-tab\"></div>\\n    <div class=\"notes-container result-tab\"></div>\\n</div>\\n\\n</td>\\n</tr>\\n</table>\\n</div>\\n\\n<div></div>\\n        <div class=\"ILhXpkyLjr Re9tt1oi0zV\">\\n        <div class=\"brdr\"><!-- --></div><div class=\"row sjlast result\" id=\"pj_5b33fd8602ed7e69\" data-jk=\"5b33fd8602ed7e69\" data-advn=\"3553342760907425\" data-tu=\"\" >\\n            <a target=\"_blank\" id=\"sja4\" data-tn-element=\"jobTitle\" class=\"jobtitle turnstileLink\" href=\"/pagead/clk?mo=r&ad=-6NYlbfkN0BzXSAMrERGB2VLU_0Amw16LrV5wGbQQwicEwsyp-whzeidBKUvA6824A18Mh7zuPIu-XoKXt5ol6wJzqe1iQKhamLQQ5zju3TlBct7ZWxpTk6fI2jy1MB8X7URf3FycV2bl2n_RIpClz2cHA4I7dbgo2Qti_rhZR2nOn6qEXTPf5Z0XU-85YPLWdLDDhfVaNQ9FEDtF___ZGKZf2dLQn5uXUzE7p-LDd6022p4pBmjn8Nllple7KdSYr6kWZXn7Fal-gWZSgWJXNWV6t6sslgD0qzaFTdbwhaz-aBOAZUQW8JH_-FXDiXgwoIstFOCL448__Xk2YRmE-AeLaFVfXvRZ7Cx_2DSFe5v4uDXgUpNcqgY_W-Pqz7AVw5bgjYf2eySRZDmvDv6UZAPxGZ1ah0_fhINeIEgNLt4iiesDoSRwyUagxRU_IyJTKSoze4W1mFucdRmlXBuLYefhfsFBDTawxG6sio95PNNyRaiGUbsAd1oU8JqCn05X0STgL8twNw0L0goY4hHSGUb8RPEUH2BQyP_vr5L9eTe033BSSgcAf1rVnuM_uhEXN8O6kWrOxHqTr_uAxoaQoQi820bSXPX2-AGEeDS81eXP4kV73CAiQ==&p=4&sk=&fvj=0\" title=\"Neolaureati Scienze Statiche - Data Scientist\" rel=\"noopener nofollow\" onmousedown=\"sjomd(\\'sja4\\'); clk(\\'sja4\\');\" onclick=\"setRefineByCookie([]); sjoc(\\'sja4\\',0); convCtr(\\'SJ\\')\">Neolaureati Scienze Statiche - <b>Data</b> <b>Scientist</b></a>\\n\\n            <br>\\n            <div class=\"sjcl\">\\n            <span class=\"company\">\\n    Philmark Informatica Spa</span>\\n\\n - <span class=location>Lazio</span>\\n            </div>\\n            <div class=\"\">\\n                <table cellpadding=0 cellspacing=0 border=0><tr><td class=snip>\\n                        <span class=summary>\\n                            Philmark Informatica ricerca su Roma Neolaureati in discipline statistiche per attivit\\xc3\\xa0 di <b>Data</b> <b>Scientist</b>. Sede di lavoro:....</span>\\n                    </td></tr></table>\\n                </div>\\n\\n                <div class=\"sjCapt\">\\n                    <div class=\"result-link-bar-container\">\\n                            <div class=\"result-link-bar\"><span class=\" sponsoredGray \">Sponsorizzata da <b>TrovoLavoro.it</b></span> - <span id=\"tt_set_13\" class=\"tt_set\"><a id=\"sj_5b33fd8602ed7e69\" href=\"#\" class=\"sl resultLink save-job-link \" onclick=\"changeJobState(\\'5b33fd8602ed7e69\\', \\'save\\', \\'linkbar\\', true, \\'\\'); return false;\" title=\"Salva questa offerta di lavoro su mio.indeed\">salva offerta</a></span><div id=\"editsaved2_5b33fd8602ed7e69\" class=\"edit_note_content\" style=\"display:none;\"></div><script>if (!window[\\'sj_result_5b33fd8602ed7e69\\']) {window[\\'sj_result_5b33fd8602ed7e69\\'] = {};}window[\\'sj_result_5b33fd8602ed7e69\\'][\\'showSource\\'] = false; window[\\'sj_result_5b33fd8602ed7e69\\'][\\'source\\'] = \"TrovoLavoro.it\"; window[\\'sj_result_5b33fd8602ed7e69\\'][\\'loggedIn\\'] = false; window[\\'sj_result_5b33fd8602ed7e69\\'][\\'showMyJobsLinks\\'] = false;window[\\'sj_result_5b33fd8602ed7e69\\'][\\'undoAction\\'] = \"unsave\";window[\\'sj_result_5b33fd8602ed7e69\\'][\\'jobKey\\'] = \"5b33fd8602ed7e69\"; window[\\'sj_result_5b33fd8602ed7e69\\'][\\'myIndeedAvailable\\'] = true; window[\\'sj_result_5b33fd8602ed7e69\\'][\\'showMoreActionsLink\\'] = window[\\'sj_result_5b33fd8602ed7e69\\'][\\'showMoreActionsLink\\'] || false; window[\\'sj_result_5b33fd8602ed7e69\\'][\\'resultNumber\\'] = 13; window[\\'sj_result_5b33fd8602ed7e69\\'][\\'jobStateChangedToSaved\\'] = false; window[\\'sj_result_5b33fd8602ed7e69\\'][\\'searchState\\'] = \"q=Data Scientist&amp;\"; window[\\'sj_result_5b33fd8602ed7e69\\'][\\'basicPermaLink\\'] = \"https://it.indeed.com\"; window[\\'sj_result_5b33fd8602ed7e69\\'][\\'saveJobFailed\\'] = false; window[\\'sj_result_5b33fd8602ed7e69\\'][\\'removeJobFailed\\'] = false; window[\\'sj_result_5b33fd8602ed7e69\\'][\\'requestPending\\'] = false; window[\\'sj_result_5b33fd8602ed7e69\\'][\\'notesEnabled\\'] = false; window[\\'sj_result_5b33fd8602ed7e69\\'][\\'currentPage\\'] = \"serp\"; window[\\'sj_result_5b33fd8602ed7e69\\'][\\'sponsored\\'] = true;window[\\'sj_result_5b33fd8602ed7e69\\'][\\'showSponsor\\'] = true;window[\\'sj_result_5b33fd8602ed7e69\\'][\\'sponsorName\\'] = \"TrovoLavoro.it\";window[\\'sj_result_5b33fd8602ed7e69\\'][\\'reportJobButtonEnabled\\'] = false; window[\\'sj_result_5b33fd8602ed7e69\\'][\\'showMyJobsHired\\'] = false; window[\\'sj_result_5b33fd8602ed7e69\\'][\\'showSaveForSponsored\\'] = true; window[\\'sj_result_5b33fd8602ed7e69\\'][\\'showJobAge\\'] = true;</script></div></div>\\n                        <div class=\"tab-container\">\\n                            <div class=\"sign-in-container result-tab\"></div>\\n                            <div class=\"tellafriend-container result-tab email_job_content\"></div>\\n                        </div>\\n                    </div>\\n            </div>\\n        </div><script type=\"text/javascript\">\\nfunction ptk(st,p) {\\n  document.cookie = \\'PTK=\"tk=&type=jobsearch&subtype=\\' + st + (p ? \\'&\\' + p : \\'\\')\\n     + (st == \\'pagination\\' ? \\'&fp=1\\' : \\'\\')\\n    +\\'\"; path=/\\';\\n}\\n</script>\\n<script type=\"text/javascript\">\\nfunction pclk(event) {\\n  var evt = event || window.event;\\n  var target = evt.target || evt.srcElement;\\n  var el = target.nodeType == 1 ? target : target.parentNode;\\n  var tag = el.tagName.toLowerCase();\\n  if (tag == \\'span\\' || tag == \\'a\\') {\\n    ptk(\\'pagination\\');\\n  }\\n  return true;\\n}\\nfunction addPPUrlParam(obj) {\\n  var pp = obj.getAttribute(\\'data-pp\\');\\n  var href = obj.getAttribute(\\'href\\');\\n  if (pp && href) {\\n    obj.setAttribute(\\'href\\', href + \\'&pp=\\' + pp);\\n  }\\n}\\n</script>\\n<div class=pagination onmousedown=\"pclk(event);\">Pagina&nbsp;Risultati:&nbsp;&nbsp;<b>1</b>&nbsp;&nbsp;<a href=\"/offerte-lavoro?q=Data+Scientist&start=10\" data-pp=\"AAoAAAAAAAAAAAAAAAEubkhQAQAJmweXxjmiLoy_jxU85A\" onmousedown=\"addPPUrlParam && addPPUrlParam(this);\"><span class=pn>2</span></a>&nbsp;&nbsp;<a href=\"/offerte-lavoro?q=Data+Scientist&start=20\" data-pp=\"ABQAAAAAAAAAAAAAAAEubkhQAQAGj9hqIvbWlC2zh0FGWbmQel1BJIPADJ1T7A\" onmousedown=\"addPPUrlParam && addPPUrlParam(this);\"><span class=pn>3</span></a>&nbsp;&nbsp;<a href=\"/offerte-lavoro?q=Data+Scientist&start=30\" data-pp=\"AB4AAAAAAAAAAAAAAAEubkhQAQIBBhIHATDoJ2iO7u4DcVrjPU7-me0RpBS-5f2qQqvddQ\" onmousedown=\"addPPUrlParam && addPPUrlParam(this);\"><span class=pn>4</span></a>&nbsp;&nbsp;<a href=\"/offerte-lavoro?q=Data+Scientist&start=40\" data-pp=\"ACgAAAAAAAAAAAAAAAEubkhQAQEBDQx8enWyytcgywRs7xsMwlfCG3Ovf6wEdYP3oyffzRV6CIwJQw\" onmousedown=\"addPPUrlParam && addPPUrlParam(this);\"><span class=pn>5</span></a>&nbsp;&nbsp; <a href=\"/offerte-lavoro?q=Data+Scientist&start=10\" data-pp=\"AAoAAAAAAAAAAAAAAAEubkhQAQAJmweXxjmiLoy_jxU85A\" onmousedown=\"addPPUrlParam && addPPUrlParam(this);\"><span class=pn><span class=np>Prossima&nbsp;&raquo;</span></span></a></div>\\n</td>\\n<td role=\"complementary\" id=auxCol>\\n<div id=\"jobalertswrapper\">\\n\\t<div id=\"jobalerts\" class=\"open  jaui \">\\n\\t<div class=\"jobalertlabel\">\\n\\t\\t\\t\\t\\t\\t<span id=\"jobalertlabel\" class=jobalerts_title><span aria-label=\"Crea un avviso email per offerte di lavoro\" role=\"img\" class=ico></span>Ricevi nuove offerte di lavoro corrispondenti a questa ricerca per email</span>\\n\\t\\t\\t\\t\\t\\t\\t</div>\\n\\t\\t\\t\\t\\t<div id=\"jobalertform\" class=\"jaform\">\\n\\t\\t\\t\\t\\t\\t<span id=\"jobalerttext\" class=\"\"></span><span id=\"jobalertsending\"></span>\\n\\t\\t\\t\\t\\t\\t<div id=\"jobalertmessage\">\\n\\t\\t\\t\\t\\t\\t\\t<form action=\"/alert\" method=POST onsubmit=\"return addAlertFormSubmit()\">\\n\\t\\t\\t\\t\\t\\t\\t\\t<input type=hidden name=a value=\"add\">\\n\\t\\t\\t\\t\\t\\t\\t\\t<input type=hidden name=q value=\"Data Scientist\">\\n\\t\\t\\t\\t\\t\\t\\t\\t<input type=hidden name=l value=\"\">\\n\\t\\t\\t\\t\\t\\t\\t\\t<input type=hidden name=radius value=\"25\">\\n\\t\\t\\t\\t\\t\\t\\t\\t<input type=hidden name=noscript value=\"1\">\\n\\t\\t\\t\\t\\t\\t\\t\\t<input type=hidden name=tk value=\"1c5t3v64692hnbh0\">\\n\\t\\t\\t\\t\\t\\t\\t\\t<input id=\"alertverified\" type=hidden name=verified value=\"0\">\\n\\t\\t\\t\\t\\t\\t\\t\\t<input type=hidden name=alertparams value=\"\">\\n\\t\\t\\t\\t\\t\\t\\t\\t<label for=\"alertemail\">La mia email:</label> <input type=text id=\"alertemail\" name=email value=\"\" size=25 maxlength=100>\\n\\t\\t\\t\\t\\t\\t\\t\\t<label for=\"recjobalert\" id=\"recjobalertlabel\">\\n\\t\\t\\t\\t\\t\\t\\t\\t\\t\\t<input id=\"recjobalert\" name=\"recjobalert\" type=\"checkbox\" checked>\\n\\t\\t\\t\\t\\t\\t\\t\\t\\t\\t<span>Ricevi anche email contenenti offerte consigliate solo per te</span>\\n\\t\\t\\t\\t\\t\\t\\t\\t\\t</label>\\n\\t\\t\\t\\t\\t\\t\\t\\t<span class=\"indeed-serp-button\"><span class=\"indeed-serp-button-inner\"><input id=\"alertsubmit\" type=submit value=\"Attiva\" class=\"indeed-serp-button-label\"></span></span>\\n<style type=\"text/css\">\\n    .indeed-serp-button { cursor : pointer !important; display : inline-block !important; padding : 1px !important; height : 31px !important; -moz-border-radius : 7px !important; border-radius : 7px !important; position : relative !important; text-decoration : none !important;background-color:#79788B; filter:progid:DXImageTransform.Microsoft.gradient(startColorstr=\\'#BCBBCD\\', endColorstr=\\'#79788B\\', GradientType=0);background-image: -webkit-gradient(linear, center top, center bottom, from(#BCBBCD), to(#79788B)) !important;background-image: -webkit-linear-gradient(top, #BCBBCD, #79788B) !important;background-image: -moz-linear-gradient(top, #BCBBCD, #79788B) !important;background-image: -o-linear-gradient(top, #BCBBCD, #79788B) !important;background-image: -ms-linear-gradient(top, #BCBBCD, #79788B) !important;background-image: linear-gradient(top, #BCBBCD, #79788B) !important;-webkit-box-shadow: 0 1px 2px rgba(0,0,0,0.2) !important;-moz-box-shadow: 0 1px 2px rgba(0,0,0,0.2) !important;box-shadow: 0 1px 2px rgba(0,0,0,0.2) !important; } #indeed-ia-1329175190441-0:link, #indeed-ia-1329175190441-0:visited, #indeed-ia-1329175190441-0:hover, #indeed-ia-1329175190441-0:active { border : 0 !important; text-decoration : none !important; }\\n\\n    .indeed-serp-button:hover { filter:progid:DXImageTransform.Microsoft.gradient(startColorstr=\\'#6D99F6\\', endColorstr=\\'#1B45A3\\', GradientType=0);background-image: -webkit-gradient(linear, center top, center bottom, from(#6D99F6), to(#1B45A3)) !important;background-image: -webkit-linear-gradient(top, #6D99F6, #1B45A3) !important;background-image: -moz-linear-gradient(top, #6D99F6, #1B45A3) !important;background-image: -o-linear-gradient(top, #6D99F6, #1B45A3) !important;background-image: -ms-linear-gradient(top, #6D99F6, #1B45A3) !important;background-image: linear-gradient(top, #6D99F6, #1B45A3) !important; }\\n\\n    .indeed-apply-state-clicked .indeed-serp-button,\\n    .indeed-serp-button:active { filter:progid:DXImageTransform.Microsoft.gradient(startColorstr=\\'#B3BACA\\', endColorstr=\\'#7C8493\\', GradientType=0);background-image: -webkit-gradient(linear, center top, center bottom, from(#B3BACA), to(#7C8493)) !important;background-image: -webkit-linear-gradient(top, #B3BACA, #7C8493) !important;background-image: -moz-linear-gradient(top, #B3BACA, #7C8493) !important;background-image: -o-linear-gradient(top, #B3BACA, #7C8493) !important;background-image: -ms-linear-gradient(top, #B3BACA, #7C8493) !important;background-image: linear-gradient(top, #B3BACA, #7C8493) !important;-webkit-box-shadow: none !important;-moz-box-shadow: none !important;box-shadow: none !important; }\\n\\n    .indeed-serp-button-inner { display : inline-block !important; height : 31px !important; -moz-border-radius : 6px !important; border-radius : 6px !important; font : 18px \\'Helvetica Neue\\',\\'Helvetica\\',Arial !important; font-weight : 200 !important; text-decoration : none !important; text-shadow : 0px 1px #F1F1F4 !important;background-color:#D9D9E2;  color: #FF6703;filter:progid:DXImageTransform.Microsoft.gradient(startColorstr=\\'#FAFAFB\\', endColorstr=\\'#D9D9E2\\', GradientType=0);background-image: -webkit-gradient(linear, center top, center bottom, from(#FAFAFB), to(#D9D9E2)) !important;background-image: -webkit-linear-gradient(top, #FAFAFB, #D9D9E2) !important;background-image: -moz-linear-gradient(top, #FAFAFB, #D9D9E2) !important;background-image: -o-linear-gradient(top, #FAFAFB, #D9D9E2) !important;background-image: -ms-linear-gradient(top, #FAFAFB, #D9D9E2) !important;background-image: linear-gradient(top, #FAFAFB, #D9D9E2) !important; }\\n\\n    .indeed-serp-button:active .indeed-serp-button-inner { filter:progid:DXImageTransform.Microsoft.gradient(startColorstr=\\'#E8E8E9\\', endColorstr=\\'#CBCBD3\\', GradientType=0);background-image: -webkit-gradient(linear, center top, center bottom, from(#E8E8E9), to(#CBCBD3)) !important;background-image: -webkit-linear-gradient(top, #E8E8E9, #CBCBD3) !important;background-image: -moz-linear-gradient(top, #E8E8E9, #CBCBD3) !important;background-image: -o-linear-gradient(top, #E8E8E9, #CBCBD3) !important;background-image: -ms-linear-gradient(top, #E8E8E9, #CBCBD3) !important;background-image: linear-gradient(top, #E8E8E9, #CBCBD3) !important; }\\n\\n    .indeed-serp-button-label {cursor: pointer; text-align : center !important; border:0; background: transparent;font-size: 12px; font-family: Arial, sans-serif; padding:3px 14px 2px 12px; margin:0; line-height: 26px; }\\n\\n    .indeed-serp-button:active .indeed-serp-button-label,\\n    .indeed-apply-state-clicked .indeed-serp-button-label { -ms-filter: \"progid:DXImageTransform.Microsoft.Alpha(Opacity=0.75)\" !important;filter: alpha(opacity=75) !important;-moz-opacity: 0.75 !important;-khtml-opacity: 0.75 !important;opacity: 0.75 !important; }\\n\\n    #alertemail {  height: 27px; line-height: 24px; padding-left: 6px; padding-right: 6px; font-size: 14px; font-family: Arial, sans-serif; }\\n\\n    .jobalertform-terms-outer-wrapper label {  position: fixed;  font-size: 1px;  transform: scale(0.3);  }\\n\\n    .jobalertform-terms-inner-wrapper {  position: relative;  z-index: 20;  width: 50%;  background: #ebebeb;  height: 12px;  }\\n</style>\\n</form>\\n\\t\\t\\t\\t\\t\\t\\t</div>\\n\\t\\t\\t\\t\\t</div>\\n\\t\\t</div>\\n</div>\\n\\n<script type=\"text/javascript\">\\n\\tvar addAlertFormSubmit = function() {\\n\\t\\tvar email = document.getElementById(\\'alertemail\\').value;\\n\\t\\tvar verified = document.getElementById(\\'alertverified\\').value;\\n\\t\\tvar recJACheckbox = document.getElementById(\\'recjobalert\\');\\n\\t\\tvar tacCheckbox = document.getElementById(\\'termsandconditionscheckbox\\');\\n\\t\\tvar recjobalertchecked = recJACheckbox ? recJACheckbox.checked : false;\\n\\t\\tvar termsandconditionschecked = tacCheckbox ? tacCheckbox.checked : false;\\n\\n\\t\\treturn addalertdelegate(\\n\\t\\t\\t\\'Data+Scientist\\',\\n\\t\\t\\t\\'\\',\\n\\t\\t\\t\\'\\',\\n\\t\\t\\temail,\\n\\t\\t\\t\\'1c5t3v64692hnbh0\\',\\n\\t\\t\\tverified,\\n\\t\\t\\ttrue,\\n\\t\\t\\t\\'\\',\\n\\t\\t\\t\\'IT\\',\\n\\t\\t\\t\\'014e9142c4b5f614cafaa616cf34cbdc\\',\\n\\t\\t\\trecjobalertchecked,\\n\\t\\t\\tfalse,\\n\\t\\t\\ttermsandconditionschecked,\\n\\t\\t\\ttrue\\n\\t\\t);\\n\\t}\\n</script><div id=\"femp_list\">\\n        <div class=\"femp_header\">Offerte di lavoro pubblicate da Data Scientist</div>\\n        <div class=\"femp_item\">\\n    <div class=\"femp_logo\">\\n        <a\\n                href=\"/cmp/Unipol-Gruppo-Finanziario-S.p.a.-1\" target=\"_blank\" rel=\"noopener\"\\n                onmousedown=\"this.href = appendParamsOnce(this.href, \\'tk=1c5t3v64692hnbh0&campaignid=femp&from=femp\\');\"\\n        >\\n            <img src=\"https://d2q79iu7y748jz.cloudfront.net/s/_logo/75192cbaddb1f991f3408d6dbbf564f8\" width=120 alt=\"Unipol Gruppo Finanziario S.p.A.\"/>\\n        </a>\\n    </div>\\n    <div class=\"femp_cmp\">\\n        <a\\n                class=\"femp_cmp_link\" href=\"/cmp/Unipol-Gruppo-Finanziario-S.p.a.-1\" target=\"_blank\" rel=\"noopener\"\\n                onmousedown=\"this.href = appendParamsOnce(this.href, \\'tk=1c5t3v64692hnbh0&campaignid=femp&from=femp\\');\"\\n        >\\n            Unipol Gruppo Finanziario S.p.A.</a>\\n    </div>\\n    <div class=\"femp_desc\">Il Gruppo Unipol &egrave; il secondo gruppo assicurativo nel mercato italiano, il primo nel ramo Danni</div>\\n\\n    <div id=\\'featemp_sj\\' class=\"featemp_sjl\" style=\\'display: none\\'>\\n        <div id=\"indJobContent\"></div>\\n    </div>\\n\\n    <script type=\\'text/javascript\\'>\\n        var ind_nr = true;\\n        var ind_pub = \\'8772657697788355\\';\\n        var ind_el = \\'indJobContent\\';\\n        var ind_pf = \\'\\';\\n        var ind_q = \\'\\';\\n        var ind_fcckey = \\'9315a834a956cffd\\';\\n        var ind_l = \\'\\';\\n        var ind_chnl = \\'Unipol Gruppo Finanziario S.p.A.\\';\\n        var ind_n = 3;\\n        var ind_d = \\'\\';\\n        var ind_t = 60;\\n        var ind_c = 30;\\n        var ind_rq = \\'Data Scientist\\';\\n    </script>\\n    <script type=\\'text/javascript\\' src=\\'/jobroll-widget-v3-fc2.js\\' async></script>\\n    <div class=\"femp_links\">\\n        <div class=\"jobs\"><a href=\"/jobs?q=company%3A%22Unipol+Gruppo+Finanziario+S.p.A.%22&l=\" onmousedown=\"this.href = appendParamsOnce(this.href, \\'&from=femp\\');\">Offerte di lavoro</a></div>\\n        </div>\\n</div>\\n</div>\\n        <script id = \"jaFloatScript\" type=\"text/javascript\">\\n        floatJobAlert();\\n    </script>\\n</td></tr>\\n</table>\\n\\n<script>\\nvar focusHandlers = [];\\nvar linkHighlighter = new LinkHighlighter();\\nfocusHandlers.push(googBind(linkHighlighter.fadeToOriginalColor, linkHighlighter));\\nvar lostFocusHandlers = [];\\nlostFocusHandlers.push(googBind(linkHighlighter.clickedAway, linkHighlighter, \"#551a8b\"));\\n\\nif (!showVjOnSerp) {\\n    var didYouApplyPrompt = new DidYouApplyPrompt(\\'1c5t3v64692hnbh0\\', 60, \\'serp\\',\\n        false);\\n    focusHandlers.push(googBind(didYouApplyPrompt.returnedToPage, didYouApplyPrompt));\\n    lostFocusHandlers.push(googBind(didYouApplyPrompt.leftPage, didYouApplyPrompt));\\n    didYouApplyPrompt.dyaChangeFromCookie();\\n}\\nvar clickTime = new ClickTime(window.tk, \\'serp\\', \\'jobtitle\\', focusHandlers, lostFocusHandlers);\\n</script>\\n\\n<style type=\"text/css\">\\n    .row.result {\\n        margin-bottom: 4px;\\n    }\\n\\n    .clickcard:hover {\\n        border: 1px solid #d8d8d8 !important;\\n        cursor: pointer !important;\\n    }\\n\\n    #jobalertswrapper,\\n    #femp_list,\\n    #picard-profile-completeness-widget,\\n    #univsrch-salary-v3,\\n    .rightRailAd {\\n        margin-left: 12px;\\n    }\\n\\n    .ltr #serpRecommendations .row, .ltr .row.result {\\n        margin-right: -24px;\\n    }\\n\\n    .ltr #serpRecommendations .row, .ltr .row.result.vjs-highlight {\\n        margin-right: -29px;\\n    }\\n</style>\\n\\n<script type=\"text/javascript\">\\n    formatDisabilityFilter();\\n</script>\\n<style type=\"text/css\">\\n    #secondary_nav a,\\n#secondary_nav a:link,\\n#secondary_nav a:visited { color: #77c; text-decoration: none; }\\n#secondary_nav a:hover { text-decoration: underline;  }</style>\\n<!-- jobs -->\\n<div role=\"contentinfo\" id=\"footerWrapper\" style=\"text-align:center;\">\\n\\n    <div id=\"footer\" style=\"text-align:left;\">\\n\\n<div class=\"separator_bottom\"></div>\\n<div id=\"secondary_nav\">\\n\\n            <a href=\"/\" title=\"Lavori\" id=\"jobs_product_link\">Lavori</a> - <script type=\"text/javascript\">\\n                    var jobsProductLink = document.getElementById(\\'jobs_product_link\\');\\n                    </script>\\n\\n                <a href=\"/browsejobs\">Sfoglia Lavori</a> - <a href=\"/publisher\">API</a> - <a href=\"/intl/it/about.html\"><span style=\"white-space: nowrap;\">Tutto su Indeed</span></a> - <a href=\"https://indeed.zendesk.com/hc/it\">FAQ / Aiuto</a>\\n            <style type=\"text/css\">\\n    #cookie-alert {\\n        background: #e5f2ff;\\n        font-size: 13px;\\n    }\\n    #cookie-alert-ok,#cookie-alert .cookie-alert-link {\\n        text-decoration: underline !important;\\n    }\\n    #cookie-alert-ok:visited,#cookie-alert .cookie-alert-link {\\n        color: #00c !important;\\n    }\\n\\n</style>\\n\\n<style type=\"text/css\">\\n    #cookie-alert-container {\\n        width: 100%;\\n        text-align: center;\\n    }\\n\\n    #cookie-alert {\\n        display: inline-block;\\n        padding: 10px 10px 10px 10px;\\n        margin: 10px auto 0px;\\n        text-align: center;\\n        white-space: normal;\\n        line-height: 20px;\\n        max-width: 550px;\\n    }\\n    #cookie-alert #cookie-alert-ok,\\n    #cookie-alert #cookie-alert-ok:visited {\\n        text-decoration: underline;\\n        color: #00c;\\n    }\\n\\n</style>\\n\\n<div id=\"cookie-alert-container\">\\n    <div id=\"cookie-alert\">\\n        I cookie ci aiutano a fornire i nostri servizi.<br>Le nostre <a href=\"/legal?hl=it#cookies\">norme sui cookie</a> descrivono come utilizzare i cookie e come disattivarli.<br>\\n        <a href=\"/legal?hl=it#cookies\" target=\"_blank\" rel=\"noopener\" class=\"cookie-alert-link\">Maggiori infomazioni</a>&nbsp;&middot;&nbsp;<a id=\"cookie-alert-ok\" class=\"cookie-alert-link\" href=\"/offerte-lavoro-Data-Scientist\" onmousedown=\"this.href = appendParamsOnce(this.href, \\'?calert=1\\');\">OK</a>\\n    </div>\\n</div>\\n<style type=\"text/css\">\\n                #footer-legal {\\n                    margin-top: 10px;\\n                    font-size: 9pt;\\n                }\\n            </style>\\n            <div id=\"footer-legal\">\\n                <div class=\"legal-footer\">&copy;2018 Indeed - <a href=\"/legal\">Norme sui cookie, Norme sulla privacy e Termini di servizio</a></div></div>\\n        </div>\\n    </div>\\n\\n    </div>\\n</td></tr></table>\\n\\n<script type=\"text/javascript\">\\n        function sm_cv_tag(activityId) {\\n            var ebRand = Math.random()+\\'\\';\\n            ebRand = ebRand * 1000000;\\n\\n            var tagContainer = document.body.appendChild(document.createElement(\"div\"));\\n            tagContainer.style.position=\"absolute\";\\n            tagContainer.style.top=\"0\";\\n            tagContainer.style.left=\"0\";\\n            tagContainer.style.width=\"1px\";\\n            tagContainer.style.height=\"1px\";\\n            tagContainer.style.display=\"none\";\\n\\n            var jsTag = document.createElement(\\'script\\');\\n            jsTag.src = \\'//bs.serving-sys.com/Serving/ActivityServer.bs?cn=as&ActivityID=\\' + activityId + \\'&rnd=\\' + ebRand;\\n            jsTag.setAttribute(\\'crossorigin\\', \\'anonymous\\');\\n            jsTag.style.width=\"1px\";\\n            jsTag.style.height=\"1px\";\\n            jsTag.style.border=\"0\";\\n            jsTag.async = 1;\\n\\n            var noScript = document.createElement(\"noscript\");\\n            var noScriptText = \\'<img width=\"1\" height=\"1\" style=\"border:0\" src=\"//bs.serving-sys.com/Serving/ActivityServer.bs?cn=as&ActivityID=\\' + activityId + \\'&ns=1\"/>\\';\\n\\n            // IE less than 9 and RCs do not support innerHTML on some DOM elements, but supports .text for it\\n            if (((typeof noScript.canHaveHTML) === \"boolean\") && (noScript.canHaveHTML === false)) { // canHaveHTML only exists for IE\\n                noScript.text = noScriptText;\\n            } else {\\n                noScript.innerHTML = noScriptText;\\n            }\\n\\n            tagContainer.appendChild(jsTag);\\n            tagContainer.appendChild(noScript);\\n        }\\n    </script>\\n<script type=\"text/javascript\">\\n<!--\\n(function ( tk ) { if ( tk && document.images ) { var s=\"/\", q=\"?\", a=\"&\", e=\"=\"; rpc(s+\"rpc\"+s+\"log\"+q+\"a\"+e+\"jsv\"+a+\"tk\"+e+tk); } })(\\'1c5t3v64692hnbh0\\');\\nfunction jsall_loaded() {\\n    \\n\\n    initProcessLeftoverDwellEntries();\\n    \\n    detectBrowserState(\\'jobsearch\\', \\'1c5t3v64692hnbh0\\');\\n\\n    attachSjBlock(\\'\\');\\n    attachJaBlock(\\'\\');\\n}\\nif (window[\\'closureReady\\'] === true) {\\n    jsall_loaded();\\n}\\n//-->\\n</script>\\n<script type=\"text/javascript\">\\nPENDING_ANALYTICS_VARS = window.PENDING_ANALYTICS_VARS || [];\\nPENDING_ANALYTICS_VARS[PENDING_ANALYTICS_VARS.length] = [\\'_setCustomVar\\', 5, \\'loggedIn\\', \\'false\\', 3];\\n</script>\\n<script type=\"text/javascript\">\\n        var ga_domains = [];\\n        ga_domains.push(\\'indeed.co.in\\');ga_domains.push(\\'indeed.lu\\');ga_domains.push(\\'indeed.fr\\');ga_domains.push(\\'indeed.de\\');ga_domains.push(\\'indeed.com.br\\');ga_domains.push(\\'indeed.co.uk\\');ga_domains.push(\\'indeed.hk\\');ga_domains.push(\\'indeed.fi\\');ga_domains.push(\\'indeed.pt\\');ga_domains.push(\\'indeed.jp\\');ga_domains.push(\\'indeed.com\\');ga_domains.push(\\'indeed.com.sg\\');ga_domains.push(\\'indeed.nl\\');ga_domains.push(\\'indeed.com.pk\\');ga_domains.push(\\'indeed.cl\\');ga_domains.push(\\'indeed.es\\');ga_domains.push(\\'indeed.co.ve\\');ga_domains.push(\\'indeed.ae\\');ga_domains.push(\\'indeed.com.mx\\');ga_domains.push(\\'indeed.com.my\\');ga_domains.push(\\'indeed.ch\\');ga_domains.push(\\'indeed.com.co\\');ga_domains.push(\\'indeed.com.ph\\');ga_domains.push(\\'indeed.co.za\\');ga_domains.push(\\'indeed.ie\\');ga_domains.push(\\'indeed.com.au\\');ga_domains.push(\\'indeed.ca\\');ga_domains.push(\\'indeed.com.pe\\');\\n\\n        (function (i, s, o, g, r, a, m) {\\n            i[\\'GoogleAnalyticsObject\\'] = r;\\n            i[r] = i[r] || function () {\\n                (i[r].q = i[r].q || []).push(arguments)\\n            }, i[r].l = 1 * new Date();\\n            a = s.createElement(o),\\n                    m = s.getElementsByTagName(o)[0];\\n            a.async = 1;\\n            a.src = g;\\n            m.parentNode.insertBefore(a, m)\\n        })(window, document, \\'script\\', \\'//www.google-analytics.com/analytics.js\\', \\'ga\\');\\n\\n        var ga = ga || [];\\n        ga(\\'create\\', \\'UA-90780-1\\', \\'auto\\', {\\n            \\'allowLinker\\': true\\n        });\\n        ga(\\'require\\', \\'linkid\\');\\n        ga(\\'require\\', \\'linker\\');\\n        ga(\\'linker:autoLink\\', ga_domains, false, true);\\n        ga(\\'require\\', \\'displayfeatures\\');\\n        ga(\\'send\\', \\'pageview\\');\\n\\n        \\n        (function () {\\n            if (window.PENDING_ANALYTICS_VARS && window.PENDING_ANALYTICS_VARS.length > 0) {\\n                for (var i in PENDING_ANALYTICS_VARS) {\\n                    ga(\\'set\\', PENDING_ANALYTICS_VARS[i][2], PENDING_ANALYTICS_VARS[i][3]);\\n                }\\n            }\\n        })();\\n    </script>\\n<script>\\n    !function(f,b,e,v,n,t,s){if(f.fbq)return;n=f.fbq=function(){n.callMethod?\\n            n.callMethod.apply(n,arguments):n.queue.push(arguments)};if(!f._fbq)f._fbq=n;\\n        n.push=n;n.loaded=!0;n.version=\\'2.0\\';n.queue=[];t=b.createElement(e);t.async=!0;\\n        t.src=v;s=b.getElementsByTagName(e)[0];s.parentNode.insertBefore(t,s)}(window,\\n            document,\\'script\\',\\'https://connect.facebook.net/en_US/fbevents.js\\');\\n\\n    fbq(\\'init\\', \\'579216298929618\\');\\n    fbq(\\'track\\', \"PageView\");</script>\\n<noscript><img height=\"1\" width=\"1\" style=\"display:none\"\\n               src=\"https://www.facebook.com/tr?id=579216298929618&ev=PageView&noscript=1\"\\n/></noscript>\\n<script>\\nvar _comscore = _comscore || [];\\n_comscore.push({ c1: \"2\", c2: \"6486505\", c4:\"it.indeed.com/offerte-lavoro-Data-Scientist\", c15:\"1c5t3v63v92hne4m\"});\\n(function() { var s = document.createElement(\"script\"), el = document.getElementsByTagName(\"script\")[0]; s.async = true; s.src = (document.location.protocol == \"https:\" ? \"https://sb\" : \"http://b\") + \".scorecardresearch.com/beacon.js\"; el.parentNode.insertBefore(s, el); })();\\n</script>\\n<noscript>\\n<img src=\"http://b.scorecardresearch.com/p?c1=2&c2=6486505&c4=it.indeed.com%2Fofferte-lavoro-Data-Scientist&c15=1c5t3v63v92hne4m&cv=2.0&cj=1\" style=\"display:none\" width=\"0\" height=\"0\" alt=\"\"/>\\n</noscript>\\n</body>\\n</html>\\n'"
      ]
     },
     "execution_count": 40,
     "metadata": {},
     "output_type": "execute_result"
    }
   ],
   "source": [
    "result.read()"
   ]
  },
  {
   "cell_type": "code",
   "execution_count": 41,
   "metadata": {},
   "outputs": [
    {
     "data": {
      "text/plain": [
       "['__abstractmethods__',\n",
       " '__class__',\n",
       " '__del__',\n",
       " '__delattr__',\n",
       " '__dict__',\n",
       " '__dir__',\n",
       " '__doc__',\n",
       " '__enter__',\n",
       " '__eq__',\n",
       " '__exit__',\n",
       " '__format__',\n",
       " '__ge__',\n",
       " '__getattribute__',\n",
       " '__gt__',\n",
       " '__hash__',\n",
       " '__init__',\n",
       " '__init_subclass__',\n",
       " '__iter__',\n",
       " '__le__',\n",
       " '__lt__',\n",
       " '__module__',\n",
       " '__ne__',\n",
       " '__new__',\n",
       " '__next__',\n",
       " '__reduce__',\n",
       " '__reduce_ex__',\n",
       " '__repr__',\n",
       " '__setattr__',\n",
       " '__sizeof__',\n",
       " '__str__',\n",
       " '__subclasshook__',\n",
       " '_abc_cache',\n",
       " '_abc_negative_cache',\n",
       " '_abc_negative_cache_version',\n",
       " '_abc_registry',\n",
       " '_checkClosed',\n",
       " '_checkReadable',\n",
       " '_checkSeekable',\n",
       " '_checkWritable',\n",
       " '_check_close',\n",
       " '_close_conn',\n",
       " '_get_chunk_left',\n",
       " '_method',\n",
       " '_peek_chunked',\n",
       " '_read1_chunked',\n",
       " '_read_and_discard_trailer',\n",
       " '_read_next_chunk_size',\n",
       " '_read_status',\n",
       " '_readall_chunked',\n",
       " '_readinto_chunked',\n",
       " '_safe_read',\n",
       " '_safe_readinto',\n",
       " 'begin',\n",
       " 'chunk_left',\n",
       " 'chunked',\n",
       " 'close',\n",
       " 'closed',\n",
       " 'code',\n",
       " 'debuglevel',\n",
       " 'detach',\n",
       " 'fileno',\n",
       " 'flush',\n",
       " 'fp',\n",
       " 'getcode',\n",
       " 'getheader',\n",
       " 'getheaders',\n",
       " 'geturl',\n",
       " 'headers',\n",
       " 'info',\n",
       " 'isatty',\n",
       " 'isclosed',\n",
       " 'length',\n",
       " 'msg',\n",
       " 'peek',\n",
       " 'read',\n",
       " 'read1',\n",
       " 'readable',\n",
       " 'readinto',\n",
       " 'readinto1',\n",
       " 'readline',\n",
       " 'readlines',\n",
       " 'reason',\n",
       " 'seek',\n",
       " 'seekable',\n",
       " 'status',\n",
       " 'tell',\n",
       " 'truncate',\n",
       " 'url',\n",
       " 'version',\n",
       " 'will_close',\n",
       " 'writable',\n",
       " 'write',\n",
       " 'writelines']"
      ]
     },
     "execution_count": 41,
     "metadata": {},
     "output_type": "execute_result"
    }
   ],
   "source": [
    "dir(result)"
   ]
  },
  {
   "cell_type": "code",
   "execution_count": null,
   "metadata": {
    "collapsed": true
   },
   "outputs": [],
   "source": []
  },
  {
   "cell_type": "markdown",
   "metadata": {},
   "source": [
    "## Let's play!"
   ]
  },
  {
   "cell_type": "markdown",
   "metadata": {},
   "source": [
    "Per approndire puoi leggere la documentazione delle librerie citate ed esplorare altre API con autentificazione come quella di Twitter citata.\n",
    "\n",
    "Risorsa https://developer.twitter.com/en/docs"
   ]
  },
  {
   "cell_type": "code",
   "execution_count": null,
   "metadata": {
    "collapsed": true
   },
   "outputs": [],
   "source": []
  },
  {
   "cell_type": "code",
   "execution_count": null,
   "metadata": {
    "collapsed": true
   },
   "outputs": [],
   "source": []
  },
  {
   "cell_type": "code",
   "execution_count": null,
   "metadata": {
    "collapsed": true
   },
   "outputs": [],
   "source": []
  }
 ],
 "metadata": {
  "kernelspec": {
   "display_name": "Python 3",
   "language": "python",
   "name": "python3"
  },
  "language_info": {
   "codemirror_mode": {
    "name": "ipython",
    "version": 3
   },
   "file_extension": ".py",
   "mimetype": "text/x-python",
   "name": "python",
   "nbconvert_exporter": "python",
   "pygments_lexer": "ipython3",
   "version": "3.6.3"
  }
 },
 "nbformat": 4,
 "nbformat_minor": 2
}
